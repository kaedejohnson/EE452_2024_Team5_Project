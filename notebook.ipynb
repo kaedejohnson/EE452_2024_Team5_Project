{
 "cells": [
  {
   "cell_type": "code",
   "execution_count": 1,
   "metadata": {},
   "outputs": [],
   "source": [
    "import pandas as pd\n",
    "import numpy as np\n",
    "import networkx as nx\n",
    "import matplotlib.pyplot as plt\n",
    "from tqdm import tqdm"
   ]
  },
  {
   "cell_type": "markdown",
   "metadata": {},
   "source": [
    "# 1 Data Exploration"
   ]
  },
  {
   "cell_type": "code",
   "execution_count": 2,
   "metadata": {},
   "outputs": [],
   "source": [
    "raw_data_folder = 'data/raw/'\n",
    "books = pd.read_csv(raw_data_folder + 'books.csv')\n",
    "tags = pd.read_csv(raw_data_folder + 'tags.csv')\n",
    "tags = tags.merge(pd.read_csv(raw_data_folder + 'book_tags.csv'), how='inner', on='tag_id')\n",
    "ratings = pd.read_csv(raw_data_folder + 'ratings.csv')"
   ]
  },
  {
   "cell_type": "code",
   "execution_count": 3,
   "metadata": {},
   "outputs": [
    {
     "data": {
      "text/html": [
       "<div>\n",
       "<style scoped>\n",
       "    .dataframe tbody tr th:only-of-type {\n",
       "        vertical-align: middle;\n",
       "    }\n",
       "\n",
       "    .dataframe tbody tr th {\n",
       "        vertical-align: top;\n",
       "    }\n",
       "\n",
       "    .dataframe thead th {\n",
       "        text-align: right;\n",
       "    }\n",
       "</style>\n",
       "<table border=\"1\" class=\"dataframe\">\n",
       "  <thead>\n",
       "    <tr style=\"text-align: right;\">\n",
       "      <th></th>\n",
       "      <th>book_id</th>\n",
       "      <th>goodreads_book_id</th>\n",
       "      <th>authors</th>\n",
       "      <th>original_publication_year</th>\n",
       "      <th>title</th>\n",
       "      <th>language_code</th>\n",
       "      <th>average_rating</th>\n",
       "      <th>ratings_count</th>\n",
       "      <th>node_id</th>\n",
       "    </tr>\n",
       "  </thead>\n",
       "  <tbody>\n",
       "    <tr>\n",
       "      <th>2619</th>\n",
       "      <td>2620</td>\n",
       "      <td>6667</td>\n",
       "      <td>Roald Dahl, Quentin Blake</td>\n",
       "      <td>1984.0</td>\n",
       "      <td>Boy: Tales of Childhood</td>\n",
       "      <td>en</td>\n",
       "      <td>4.09</td>\n",
       "      <td>38240</td>\n",
       "      <td>b_2620</td>\n",
       "    </tr>\n",
       "    <tr>\n",
       "      <th>9627</th>\n",
       "      <td>9628</td>\n",
       "      <td>78972</td>\n",
       "      <td>Jeffrey Archer</td>\n",
       "      <td>1996.0</td>\n",
       "      <td>The Fourth Estate</td>\n",
       "      <td>en</td>\n",
       "      <td>3.72</td>\n",
       "      <td>8829</td>\n",
       "      <td>b_9628</td>\n",
       "    </tr>\n",
       "    <tr>\n",
       "      <th>6815</th>\n",
       "      <td>6816</td>\n",
       "      <td>148809</td>\n",
       "      <td>Jasper Fforde</td>\n",
       "      <td>2006.0</td>\n",
       "      <td>The Fourth Bear (Nursery Crime, #2)</td>\n",
       "      <td>en</td>\n",
       "      <td>4.07</td>\n",
       "      <td>16851</td>\n",
       "      <td>b_6816</td>\n",
       "    </tr>\n",
       "    <tr>\n",
       "      <th>36</th>\n",
       "      <td>37</td>\n",
       "      <td>100915</td>\n",
       "      <td>C.S. Lewis</td>\n",
       "      <td>1950.0</td>\n",
       "      <td>The Lion, the Witch, and the Wardrobe (Chronic...</td>\n",
       "      <td>en</td>\n",
       "      <td>4.19</td>\n",
       "      <td>1531800</td>\n",
       "      <td>b_37</td>\n",
       "    </tr>\n",
       "    <tr>\n",
       "      <th>4580</th>\n",
       "      <td>4581</td>\n",
       "      <td>4932435</td>\n",
       "      <td>Melina Marchetta</td>\n",
       "      <td>2008.0</td>\n",
       "      <td>Finnikin of the Rock (Lumatere Chronicles, #1)</td>\n",
       "      <td>en</td>\n",
       "      <td>3.93</td>\n",
       "      <td>29401</td>\n",
       "      <td>b_4581</td>\n",
       "    </tr>\n",
       "  </tbody>\n",
       "</table>\n",
       "</div>"
      ],
      "text/plain": [
       "      book_id  goodreads_book_id                    authors  \\\n",
       "2619     2620               6667  Roald Dahl, Quentin Blake   \n",
       "9627     9628              78972             Jeffrey Archer   \n",
       "6815     6816             148809              Jasper Fforde   \n",
       "36         37             100915                 C.S. Lewis   \n",
       "4580     4581            4932435           Melina Marchetta   \n",
       "\n",
       "      original_publication_year  \\\n",
       "2619                     1984.0   \n",
       "9627                     1996.0   \n",
       "6815                     2006.0   \n",
       "36                       1950.0   \n",
       "4580                     2008.0   \n",
       "\n",
       "                                                  title language_code  \\\n",
       "2619                            Boy: Tales of Childhood            en   \n",
       "9627                                  The Fourth Estate            en   \n",
       "6815                The Fourth Bear (Nursery Crime, #2)            en   \n",
       "36    The Lion, the Witch, and the Wardrobe (Chronic...            en   \n",
       "4580     Finnikin of the Rock (Lumatere Chronicles, #1)            en   \n",
       "\n",
       "      average_rating  ratings_count node_id  \n",
       "2619            4.09          38240  b_2620  \n",
       "9627            3.72           8829  b_9628  \n",
       "6815            4.07          16851  b_6816  \n",
       "36              4.19        1531800    b_37  \n",
       "4580            3.93          29401  b_4581  "
      ]
     },
     "execution_count": 3,
     "metadata": {},
     "output_type": "execute_result"
    }
   ],
   "source": [
    "nodes_books = books[['book_id', 'goodreads_book_id', 'authors', 'original_publication_year', 'title', 'language_code', 'average_rating', 'ratings_count']].copy()\n",
    "english_variants = [x for x in nodes_books.language_code.unique() if pd.notnull(x) and x.find('en') != -1]\n",
    "nodes_books['language_code'] = nodes_books.language_code.apply(lambda x: x if x not in english_variants else 'en')\n",
    "nodes_books['node_id'] = 'b_' + nodes_books['book_id'].astype(str)\n",
    "nodes_books.sample(5)"
   ]
  },
  {
   "cell_type": "code",
   "execution_count": 4,
   "metadata": {},
   "outputs": [
    {
     "data": {
      "text/html": [
       "<div>\n",
       "<style scoped>\n",
       "    .dataframe tbody tr th:only-of-type {\n",
       "        vertical-align: middle;\n",
       "    }\n",
       "\n",
       "    .dataframe tbody tr th {\n",
       "        vertical-align: top;\n",
       "    }\n",
       "\n",
       "    .dataframe thead th {\n",
       "        text-align: right;\n",
       "    }\n",
       "</style>\n",
       "<table border=\"1\" class=\"dataframe\">\n",
       "  <thead>\n",
       "    <tr style=\"text-align: right;\">\n",
       "      <th></th>\n",
       "      <th>user_id</th>\n",
       "      <th>ratings</th>\n",
       "      <th>average_rating</th>\n",
       "      <th>rating_1</th>\n",
       "      <th>rating_2</th>\n",
       "      <th>rating_3</th>\n",
       "      <th>rating_4</th>\n",
       "      <th>rating_5</th>\n",
       "      <th>node_id</th>\n",
       "    </tr>\n",
       "  </thead>\n",
       "  <tbody>\n",
       "    <tr>\n",
       "      <th>4311</th>\n",
       "      <td>4312</td>\n",
       "      <td>119</td>\n",
       "      <td>3.369748</td>\n",
       "      <td>4</td>\n",
       "      <td>23</td>\n",
       "      <td>41</td>\n",
       "      <td>27</td>\n",
       "      <td>24</td>\n",
       "      <td>u_4312</td>\n",
       "    </tr>\n",
       "    <tr>\n",
       "      <th>31978</th>\n",
       "      <td>31979</td>\n",
       "      <td>85</td>\n",
       "      <td>3.752941</td>\n",
       "      <td>5</td>\n",
       "      <td>5</td>\n",
       "      <td>11</td>\n",
       "      <td>49</td>\n",
       "      <td>15</td>\n",
       "      <td>u_31979</td>\n",
       "    </tr>\n",
       "    <tr>\n",
       "      <th>19052</th>\n",
       "      <td>19053</td>\n",
       "      <td>79</td>\n",
       "      <td>4.759494</td>\n",
       "      <td>0</td>\n",
       "      <td>0</td>\n",
       "      <td>1</td>\n",
       "      <td>17</td>\n",
       "      <td>61</td>\n",
       "      <td>u_19053</td>\n",
       "    </tr>\n",
       "    <tr>\n",
       "      <th>2122</th>\n",
       "      <td>2123</td>\n",
       "      <td>98</td>\n",
       "      <td>4.030612</td>\n",
       "      <td>0</td>\n",
       "      <td>4</td>\n",
       "      <td>16</td>\n",
       "      <td>51</td>\n",
       "      <td>27</td>\n",
       "      <td>u_2123</td>\n",
       "    </tr>\n",
       "    <tr>\n",
       "      <th>16129</th>\n",
       "      <td>16130</td>\n",
       "      <td>148</td>\n",
       "      <td>4.121622</td>\n",
       "      <td>0</td>\n",
       "      <td>0</td>\n",
       "      <td>28</td>\n",
       "      <td>74</td>\n",
       "      <td>46</td>\n",
       "      <td>u_16130</td>\n",
       "    </tr>\n",
       "  </tbody>\n",
       "</table>\n",
       "</div>"
      ],
      "text/plain": [
       "       user_id  ratings  average_rating  rating_1  rating_2  rating_3  \\\n",
       "4311      4312      119        3.369748         4        23        41   \n",
       "31978    31979       85        3.752941         5         5        11   \n",
       "19052    19053       79        4.759494         0         0         1   \n",
       "2122      2123       98        4.030612         0         4        16   \n",
       "16129    16130      148        4.121622         0         0        28   \n",
       "\n",
       "       rating_4  rating_5  node_id  \n",
       "4311         27        24   u_4312  \n",
       "31978        49        15  u_31979  \n",
       "19052        17        61  u_19053  \n",
       "2122         51        27   u_2123  \n",
       "16129        74        46  u_16130  "
      ]
     },
     "execution_count": 4,
     "metadata": {},
     "output_type": "execute_result"
    }
   ],
   "source": [
    "'''\n",
    "Step 1: Crosstab to get counts of each rating per user\n",
    "Step 2: Compute total ratings count and average rating per user\n",
    "Step 3: Merge the crosstab result with the user stats\n",
    "Step 4: Rename the rating columns\n",
    "Step 5: Fill NaN values with 0 for users who have no ratings in some categories\n",
    "'''\n",
    "\n",
    "rating_counts = pd.crosstab(ratings['user_id'], ratings['rating'])\n",
    "user_stats = ratings.groupby('user_id').agg(ratings=('book_id', 'count'),\n",
    "                                            average_rating=('rating', 'mean'))\n",
    "\n",
    "nodes_users = user_stats.merge(rating_counts, left_index=True, right_index=True, how='left')\n",
    "nodes_users.columns = ['ratings', 'average_rating', 'rating_1', 'rating_2', 'rating_3', 'rating_4', 'rating_5']\n",
    "nodes_users = nodes_users.fillna(0).reset_index()\n",
    "nodes_users['node_id'] = 'u_' + nodes_users['user_id'].astype(str)\n",
    "nodes_users.sample(5)\n"
   ]
  },
  {
   "cell_type": "code",
   "execution_count": 5,
   "metadata": {},
   "outputs": [
    {
     "name": "stdout",
     "output_type": "stream",
     "text": [
      "nodes_books.columns: Index(['book_id', 'goodreads_book_id', 'authors', 'original_publication_year',\n",
      "       'title', 'language_code', 'average_rating', 'ratings_count', 'node_id'],\n",
      "      dtype='object')\n",
      "nodes_users.columns: Index(['user_id', 'ratings', 'average_rating', 'rating_1', 'rating_2',\n",
      "       'rating_3', 'rating_4', 'rating_5', 'node_id'],\n",
      "      dtype='object')\n",
      "ratings.columns: Index(['user_id', 'book_id', 'rating'], dtype='object')\n"
     ]
    }
   ],
   "source": [
    "print('nodes_books.columns:', nodes_books.columns)\n",
    "print('nodes_users.columns:', nodes_users.columns)\n",
    "print('ratings.columns:', ratings.columns)"
   ]
  },
  {
   "cell_type": "markdown",
   "metadata": {},
   "source": [
    "# 2 Graph\n",
    "\n",
    "Using the ratings dataset of the Goodreads-10k dataset, we want to create a directed bipartite graph with two types of nodes: users and books. The edge between a user and a book represents a rating."
   ]
  },
  {
   "cell_type": "markdown",
   "metadata": {},
   "source": [
    "### 2.1 Construct the Graph"
   ]
  },
  {
   "cell_type": "markdown",
   "metadata": {},
   "source": [
    "Sample the dataset to work with a smaller graph:"
   ]
  },
  {
   "cell_type": "code",
   "execution_count": 6,
   "metadata": {},
   "outputs": [],
   "source": [
    "sample_nodes_books = nodes_books.sample(500)\n",
    "sample_nodes_users = nodes_users.sample(1000)\n",
    "sample_edges_ratings = ratings[(ratings.book_id.isin(sample_nodes_books.book_id)) & (ratings.user_id.isin(sample_nodes_users.user_id))]"
   ]
  },
  {
   "cell_type": "markdown",
   "metadata": {},
   "source": [
    "Construct a networkx graph:"
   ]
  },
  {
   "cell_type": "code",
   "execution_count": 7,
   "metadata": {},
   "outputs": [
    {
     "name": "stderr",
     "output_type": "stream",
     "text": [
      "Add book-nodes: 500it [00:00, 14903.54it/s]\n",
      "Add user-nodes: 1000it [00:00, 16533.51it/s]\n",
      "Add rating-edges: 5470it [00:00, 18870.20it/s]"
     ]
    },
    {
     "name": "stdout",
     "output_type": "stream",
     "text": [
      "Graph has 1500 nodes and 5470 edges.\n"
     ]
    },
    {
     "name": "stderr",
     "output_type": "stream",
     "text": [
      "\n"
     ]
    }
   ],
   "source": [
    "G = nx.DiGraph()\n",
    "\n",
    "# Add book nodes\n",
    "for _, row in tqdm(sample_nodes_books.iterrows(), desc='Add book-nodes'):\n",
    "    G.add_node(row['node_id'],\n",
    "               node_type='book')\n",
    "\n",
    "# Add user nodes\n",
    "for _, row in tqdm(sample_nodes_users.iterrows(), desc='Add user-nodes'):\n",
    "    G.add_node(row['node_id'], \n",
    "               node_type='user')\n",
    "    \n",
    "# Add edges (ratings)\n",
    "for _, row in tqdm(sample_edges_ratings.iterrows(), desc='Add rating-edges'):\n",
    "    G.add_edge(f\"u_{row['user_id']}\", f\"b_{row['book_id']}\", rating=row['rating'])\n",
    "\n",
    "# Add edges (to reads)\n",
    "#to_reads_df = pd.read_csv(raw_data_folder + 'to_read.csv')\n",
    "#sample_edges_to_reads = to_reads_df[(to_reads_df.book_id.isin(sample_nodes_books.book_id)) & (to_reads_df.user_id.isin(sample_nodes_users.user_id))]\n",
    "#for _, row in tqdm(sample_edges_to_reads.iterrows(), desc='Add to-read-edges'):\n",
    "#    G.add_edge(f\"u_{row['user_id']}\", f\"b_{row['book_id']}\", rating=-1)\n",
    "\n",
    "print(f\"Graph has {G.number_of_nodes()} nodes and {G.number_of_edges()} edges.\")"
   ]
  },
  {
   "cell_type": "markdown",
   "metadata": {},
   "source": [
    "Remove isolated nodes:"
   ]
  },
  {
   "cell_type": "code",
   "execution_count": 8,
   "metadata": {},
   "outputs": [
    {
     "name": "stdout",
     "output_type": "stream",
     "text": [
      "Removed 25 isolated nodes.\n"
     ]
    }
   ],
   "source": [
    "isolated_nodes = list(nx.isolates(G))\n",
    "G.remove_nodes_from(isolated_nodes)\n",
    "print(f\"Removed {len(isolated_nodes)} isolated nodes.\")"
   ]
  },
  {
   "cell_type": "markdown",
   "metadata": {},
   "source": [
    "Verify that it is bipartite:"
   ]
  },
  {
   "cell_type": "code",
   "execution_count": 9,
   "metadata": {},
   "outputs": [
    {
     "name": "stdout",
     "output_type": "stream",
     "text": [
      "Graph is bipartite: True\n"
     ]
    }
   ],
   "source": [
    "from networkx.algorithms import bipartite\n",
    "is_bipartite = bipartite.is_bipartite(G)\n",
    "print(f\"Graph is bipartite: {is_bipartite}\")"
   ]
  },
  {
   "cell_type": "code",
   "execution_count": 10,
   "metadata": {},
   "outputs": [],
   "source": [
    "nx.write_graphml(G, \"data/bipartite_sample_w_to_reads.graphml\")"
   ]
  },
  {
   "cell_type": "markdown",
   "metadata": {},
   "source": [
    "Create and save graph with to_read edges"
   ]
  },
  {
   "cell_type": "markdown",
   "metadata": {},
   "source": [
    "### 2.2 Convert Graph to Torch Geometric"
   ]
  },
  {
   "cell_type": "code",
   "execution_count": 11,
   "metadata": {},
   "outputs": [],
   "source": [
    "from torch_geometric.utils import from_networkx\n",
    "\n",
    "data = from_networkx(G)"
   ]
  },
  {
   "cell_type": "markdown",
   "metadata": {},
   "source": [
    "# 3 Pipeline"
   ]
  },
  {
   "cell_type": "markdown",
   "metadata": {},
   "source": [
    "### 3.2 Off-limits Link Prediction (Neural Graph Collaborative Filtering)"
   ]
  },
  {
   "cell_type": "code",
   "execution_count": 12,
   "metadata": {},
   "outputs": [],
   "source": [
    "ngcf_link_predictor_folder = \"data/ngcf_link_predictor/\""
   ]
  },
  {
   "cell_type": "code",
   "execution_count": 13,
   "metadata": {},
   "outputs": [],
   "source": [
    "from src.ngcf import NGCF\n",
    "import pandas as pd\n",
    "import torch\n",
    "import networkx as nx\n",
    "from sklearn.model_selection import train_test_split\n",
    "\n",
    "import os\n",
    "from time import time\n",
    "from datetime import datetime\n",
    "\n",
    "from src.ngcf_utils.load_data import Data\n",
    "from src.ngcf_utils.parser import parse_args\n",
    "from src.ngcf_utils.helper_functions import early_stopping,\\\n",
    "                                   train,\\\n",
    "                                   split_matrix,\\\n",
    "                                   compute_ndcg_k,\\\n",
    "                                   eval_model,\\\n",
    "                                   probability_matrix\n",
    "from src.ngcf import NGCF\n",
    "\n",
    "use_cuda = torch.cuda.is_available()\n",
    "device = torch.device(\"cuda\" if torch.cuda.is_available() else \"cpu\")"
   ]
  },
  {
   "cell_type": "code",
   "execution_count": 14,
   "metadata": {},
   "outputs": [
    {
     "name": "stderr",
     "output_type": "stream",
     "text": [
      "Failed to detect the name of this notebook, you can set it manually with the WANDB_NOTEBOOK_NAME environment variable to enable code saving.\n",
      "\u001b[34m\u001b[1mwandb\u001b[0m: Currently logged in as: \u001b[33mkaede-johnson\u001b[0m (\u001b[33mhans-kvaerum\u001b[0m). Use \u001b[1m`wandb login --relogin`\u001b[0m to force relogin\n"
     ]
    },
    {
     "data": {
      "text/plain": [
       "True"
      ]
     },
     "execution_count": 14,
     "metadata": {},
     "output_type": "execute_result"
    }
   ],
   "source": [
    "import wandb\n",
    "\n",
    "try:\n",
    "    wandb.finish()\n",
    "except:\n",
    "    pass\n",
    "\n",
    "wandb.login()\n"
   ]
  },
  {
   "cell_type": "code",
   "execution_count": 15,
   "metadata": {},
   "outputs": [],
   "source": [
    "# load in sample of book dataset\n",
    "G = nx.read_graphml(\"data/bipartite_sample_w_to_reads.graphml\")\n",
    "\n",
    "# create node name to index mapping\n",
    "## based on codebase for NGCF, indices for both sets start at 0!\n",
    "user_nodes = {node for node, node_type in G.nodes(data=True) if node_type['node_type'] == 'user'}\n",
    "book_nodes = {book for book, node_type in G.nodes(data=True) if node_type['node_type'] == 'book'}\n",
    "book_to_idx_map = {node: i for i, node in enumerate(book_nodes)}\n",
    "user_to_idx_map = {node: i for i, node in enumerate(user_nodes)}\n",
    "\n",
    "# this is a link predictor. link = desire for interaction. this includes ratings and to_reads\n",
    "# split into train and test\n",
    "edges = list(G.edges())\n",
    "train_edges, test_edges = train_test_split(edges, test_size=0.2, random_state=5)\n",
    "train_graph = G.edge_subgraph(train_edges)\n",
    "test_graph = G.edge_subgraph(test_edges)\n",
    "\n",
    "# save train and test in format suited for NGCF codebase\n",
    "def save_graph_edges_to_txt(G, filename):\n",
    "    with open(filename, 'w') as file:\n",
    "        for node, data in G.nodes(data=True):\n",
    "            if data['node_type'] == 'user':\n",
    "                user_node = node # just to make following commands clearer\n",
    "                neighbors = list(G.neighbors(user_node))\n",
    "                user_node_remapped = user_to_idx_map[user_node]\n",
    "                line = f\"{user_node_remapped} \" + \" \".join(map(str, [book_to_idx_map[neighbor] for neighbor in neighbors]))\n",
    "                file.write(line + '\\n')\n",
    "save_graph_edges_to_txt(train_graph, ngcf_link_predictor_folder + \"ngcf_train.txt\")\n",
    "save_graph_edges_to_txt(test_graph, ngcf_link_predictor_folder + \"ngcf_test.txt\")"
   ]
  },
  {
   "cell_type": "code",
   "execution_count": 16,
   "metadata": {},
   "outputs": [
    {
     "data": {
      "text/html": [
       "Tracking run with wandb version 0.17.1"
      ],
      "text/plain": [
       "<IPython.core.display.HTML object>"
      ]
     },
     "metadata": {},
     "output_type": "display_data"
    },
    {
     "data": {
      "text/html": [
       "Run data is saved locally in <code>c:\\Users\\HP\\Documents\\GitHub\\EE452_2024_Team5_Project\\wandb\\run-20240609_021709-ljb0f9si</code>"
      ],
      "text/plain": [
       "<IPython.core.display.HTML object>"
      ]
     },
     "metadata": {},
     "output_type": "display_data"
    },
    {
     "data": {
      "text/html": [
       "Syncing run <strong><a href='https://wandb.ai/hans-kvaerum/nml_project/runs/ljb0f9si' target=\"_blank\">NGCF_ntr_bceloss_cutoff0.9__bs_16_nemb_52_layers_[16, 32]_nodedr_0.01_messdr_0.01_reg_0.005_lr_0.015_bcount_481_ucount_994_posweight_20</a></strong> to <a href='https://wandb.ai/hans-kvaerum/nml_project' target=\"_blank\">Weights & Biases</a> (<a href='https://wandb.me/run' target=\"_blank\">docs</a>)<br/>"
      ],
      "text/plain": [
       "<IPython.core.display.HTML object>"
      ]
     },
     "metadata": {},
     "output_type": "display_data"
    },
    {
     "data": {
      "text/html": [
       " View project at <a href='https://wandb.ai/hans-kvaerum/nml_project' target=\"_blank\">https://wandb.ai/hans-kvaerum/nml_project</a>"
      ],
      "text/plain": [
       "<IPython.core.display.HTML object>"
      ]
     },
     "metadata": {},
     "output_type": "display_data"
    },
    {
     "data": {
      "text/html": [
       " View run at <a href='https://wandb.ai/hans-kvaerum/nml_project/runs/ljb0f9si' target=\"_blank\">https://wandb.ai/hans-kvaerum/nml_project/runs/ljb0f9si</a>"
      ],
      "text/plain": [
       "<IPython.core.display.HTML object>"
      ]
     },
     "metadata": {},
     "output_type": "display_data"
    },
    {
     "data": {
      "text/html": [
       "<button onClick=\"this.nextSibling.style.display='block';this.style.display='none';\">Display W&B run</button><iframe src='https://wandb.ai/hans-kvaerum/nml_project/runs/ljb0f9si?jupyter=true' style='border:none;width:100%;height:420px;display:none;'></iframe>"
      ],
      "text/plain": [
       "<wandb.sdk.wandb_run.Run at 0x1c8add50c70>"
      ]
     },
     "execution_count": 16,
     "metadata": {},
     "output_type": "execute_result"
    }
   ],
   "source": [
    "# set hyperparameters\n",
    "batch_size = 16\n",
    "layers = [16, 32]\n",
    "emb_dim = 52\n",
    "lr = 0.015\n",
    "reg = 0.005\n",
    "mess_dropout = 0.01\n",
    "node_dropout = 0.01\n",
    "k = 20\n",
    "n_epochs = 50\n",
    "user_count = len(user_to_idx_map.keys())\n",
    "book_count = len(book_to_idx_map.keys())\n",
    "save_results = True\n",
    "eval_N = 4 # how often to print eval results\n",
    "pos_weight = '20'\n",
    "\n",
    "# create model name\n",
    "modelname =  \"NGCF_ntr_bceloss_cutoff0.9_\" + \\\n",
    "    \"_bs_\" + str(batch_size) + \\\n",
    "    \"_nemb_\" + str(emb_dim) + \\\n",
    "    \"_layers_\" + str(layers) + \\\n",
    "    \"_nodedr_\" + str(node_dropout) + \\\n",
    "    \"_messdr_\" + str(mess_dropout) + \\\n",
    "    \"_reg_\" + str(reg) + \\\n",
    "    \"_lr_\"  + str(lr) + \\\n",
    "    \"_bcount_\" + str(book_count) + \\\n",
    "    \"_ucount_\" + str(user_count) + \\\n",
    "    \"_posweight_\" + str(pos_weight)\n",
    "\n",
    "# set wandb init\n",
    "wandb.init(\n",
    "    \n",
    "    # set the wandb project where this run will be logged\n",
    "    project=\"nml_project\",\n",
    "\n",
    "    # name run\n",
    "    name=modelname,\n",
    "    \n",
    "    # track hyperparameters and run metadata\n",
    "    config={\n",
    "    \"architecture\": \"NGCF\",\n",
    "    \"batch_size\": batch_size,\n",
    "    \"layers\": layers,\n",
    "    \"emb_dim\": emb_dim,\n",
    "    \"lr\": lr,\n",
    "    \"reg\": reg,\n",
    "    \"mess_dropout\": mess_dropout,\n",
    "    \"node_dropout\": node_dropout,\n",
    "    \"k\": k,\n",
    "    \"epochs\": n_epochs,\n",
    "    \"user_count\": user_count,\n",
    "    \"book_count\": book_count,\n",
    "    }\n",
    ")"
   ]
  },
  {
   "cell_type": "code",
   "execution_count": 17,
   "metadata": {},
   "outputs": [
    {
     "name": "stdout",
     "output_type": "stream",
     "text": [
      "n_users=994, n_items=481\n",
      "n_interactions=5470\n",
      "n_train=4376, n_test=1094, sparsity=0.01144\n",
      "Creating interaction matrices R_train and R_test...\n",
      "Complete. Interaction matrices R_train and R_test created in 0.0703573226928711 sec\n",
      "Creating adjacency-matrix...\n",
      "Complete. Adjacency-matrix created in (1475, 1475) 0.054048776626586914 sec.\n",
      "Transforming adjacency-matrix to NGCF-adjacency matrix...\n",
      "Complete. Transformed adjacency-matrix to NGCF-adjacency matrix in 0.020021677017211914 sec.\n",
      "Initializing weights...\n",
      "Weights initialized.\n"
     ]
    },
    {
     "name": "stderr",
     "output_type": "stream",
     "text": [
      "c:\\Users\\HP\\Documents\\GitHub\\EE452_2024_Team5_Project\\src\\ngcf_utils\\load_data.py:131: RuntimeWarning: divide by zero encountered in power\n",
      "  d_inv = np.power(rowsum, -.5).flatten()\n"
     ]
    },
    {
     "name": "stdout",
     "output_type": "stream",
     "text": [
      "Epoch: 0, Training time: 9.83s, Loss: 178.9050\n",
      "Epoch: 1, Training time: 10.20s, Loss: 151.1603\n",
      "Epoch: 2, Training time: 9.94s, Loss: 119.5487\n",
      "Epoch: 3, Training time: 9.76s, Loss: 104.7804\n",
      "Counter({1.0: 1094})\n",
      "13322 232 1094 (994, 481) torch.Size([994, 100]) torch.Size([481, 100]) (994, 481)\n",
      "Epoch: 4, Training time: 11.66s, Loss: 93.1198\n",
      "Epoch: 5, Training time: 12.10s, Loss: 84.1515\n",
      "Epoch: 6, Training time: 11.29s, Loss: 75.7213\n",
      "Epoch: 7, Training time: 11.19s, Loss: 74.5298\n",
      "Counter({1.0: 1094})\n",
      "8202 232 1094 (994, 481) torch.Size([994, 100]) torch.Size([481, 100]) (994, 481)\n",
      "Epoch: 8, Training time: 11.04s, Loss: 71.5043\n",
      "Epoch: 9, Training time: 11.17s, Loss: 69.2395\n",
      "Epoch: 10, Training time: 11.28s, Loss: 68.5942\n",
      "Epoch: 11, Training time: 11.41s, Loss: 67.5908\n",
      "Counter({1.0: 1094})\n",
      "6348 199 1094 (994, 481) torch.Size([994, 100]) torch.Size([481, 100]) (994, 481)\n",
      "Epoch: 12, Training time: 10.98s, Loss: 67.7819\n",
      "Epoch: 13, Training time: 11.22s, Loss: 68.2404\n",
      "Epoch: 14, Training time: 11.32s, Loss: 69.8140\n",
      "Epoch: 15, Training time: 11.22s, Loss: 67.5769\n",
      "Counter({1.0: 1094})\n",
      "5746 181 1094 (994, 481) torch.Size([994, 100]) torch.Size([481, 100]) (994, 481)\n",
      "Epoch: 16, Training time: 11.04s, Loss: 67.6627\n",
      "Epoch: 17, Training time: 11.21s, Loss: 64.9124\n",
      "Epoch: 18, Training time: 11.61s, Loss: 68.1104\n",
      "Epoch: 19, Training time: 11.66s, Loss: 66.2776\n",
      "Counter({1.0: 1094})\n",
      "5508 191 1094 (994, 481) torch.Size([994, 100]) torch.Size([481, 100]) (994, 481)\n",
      "Epoch: 20, Training time: 11.64s, Loss: 66.5198\n",
      "Epoch: 21, Training time: 12.43s, Loss: 66.2683\n",
      "Epoch: 22, Training time: 12.20s, Loss: 68.5958\n",
      "Epoch: 23, Training time: 11.43s, Loss: 65.7865\n",
      "Counter({1.0: 1094})\n",
      "5245 155 1094 (994, 481) torch.Size([994, 100]) torch.Size([481, 100]) (994, 481)\n",
      "Epoch: 24, Training time: 11.44s, Loss: 67.5285\n",
      "Epoch: 25, Training time: 11.21s, Loss: 66.3121\n",
      "Epoch: 26, Training time: 11.95s, Loss: 66.2467\n",
      "Epoch: 27, Training time: 11.83s, Loss: 66.6172\n",
      "Counter({1.0: 1094})\n",
      "4681 139 1094 (994, 481) torch.Size([994, 100]) torch.Size([481, 100]) (994, 481)\n",
      "Epoch: 28, Training time: 11.56s, Loss: 67.2647\n",
      "Epoch: 29, Training time: 11.29s, Loss: 68.6382\n",
      "Epoch: 30, Training time: 11.77s, Loss: 68.1476\n",
      "Epoch: 31, Training time: 12.03s, Loss: 67.7650\n",
      "Early stopping at step: 5 log:0.20573441684246063\n",
      "Counter({1.0: 1094})\n",
      "4697 128 1094 (994, 481) torch.Size([994, 100]) torch.Size([481, 100]) (994, 481)\n"
     ]
    },
    {
     "data": {
      "text/html": [
       "<style>\n",
       "    table.wandb td:nth-child(1) { padding: 0 10px; text-align: left ; width: auto;} td:nth-child(2) {text-align: left ; width: 100%}\n",
       "    .wandb-row { display: flex; flex-direction: row; flex-wrap: wrap; justify-content: flex-start; width: 100% }\n",
       "    .wandb-col { display: flex; flex-direction: column; flex-basis: 100%; flex: 1; padding: 10px; }\n",
       "    </style>\n",
       "<div class=\"wandb-row\"><div class=\"wandb-col\"><h3>Run history:</h3><br/><table class=\"wandb\"><tr><td>ndcg_20</td><td>▁▇█▇▇▄▅▅</td></tr><tr><td>rec_20</td><td>▁▇█▇▇▄▃▄</td></tr><tr><td>test_f1_score</td><td>▁▆▇▇█▆▅▄</td></tr><tr><td>test_precision</td><td>▁▅▇▇█▆▆▅</td></tr><tr><td>test_recall</td><td>██▆▅▅▃▂▁</td></tr><tr><td>training_loss</td><td>█▆▄▃▃▂▂▂▁▁▁▁▁▁▁▁▁▁▁▁▁▁▁▁▁▁▁▁▁▁▁▁</td></tr></table><br/></div><div class=\"wandb-col\"><h3>Run summary:</h3><br/><table class=\"wandb\"><tr><td>ndcg_20</td><td>0.13407</td></tr><tr><td>rec_20</td><td>0.20573</td></tr><tr><td>test_f1_score</td><td>0.04421</td></tr><tr><td>test_precision</td><td>0.02725</td></tr><tr><td>test_recall</td><td>0.117</td></tr><tr><td>training_loss</td><td>67.76501</td></tr></table><br/></div></div>"
      ],
      "text/plain": [
       "<IPython.core.display.HTML object>"
      ]
     },
     "metadata": {},
     "output_type": "display_data"
    },
    {
     "data": {
      "text/html": [
       " View run <strong style=\"color:#cdcd00\">NGCF_ntr_bceloss_cutoff0.9__bs_16_nemb_52_layers_[16, 32]_nodedr_0.01_messdr_0.01_reg_0.005_lr_0.015_bcount_481_ucount_994_posweight_20</strong> at: <a href='https://wandb.ai/hans-kvaerum/nml_project/runs/ljb0f9si' target=\"_blank\">https://wandb.ai/hans-kvaerum/nml_project/runs/ljb0f9si</a><br/> View project at: <a href='https://wandb.ai/hans-kvaerum/nml_project' target=\"_blank\">https://wandb.ai/hans-kvaerum/nml_project</a><br/>Synced 5 W&B file(s), 0 media file(s), 0 artifact file(s) and 0 other file(s)"
      ],
      "text/plain": [
       "<IPython.core.display.HTML object>"
      ]
     },
     "metadata": {},
     "output_type": "display_data"
    },
    {
     "data": {
      "text/html": [
       "Find logs at: <code>.\\wandb\\run-20240609_021709-ljb0f9si\\logs</code>"
      ],
      "text/plain": [
       "<IPython.core.display.HTML object>"
      ]
     },
     "metadata": {},
     "output_type": "display_data"
    },
    {
     "data": {
      "image/png": "[encoded data removed]",
      "text/plain": [
       "<Figure size 1200x800 with 1 Axes>"
      ]
     },
     "metadata": {},
     "output_type": "display_data"
    }
   ],
   "source": [
    "import matplotlib.pyplot as plt\n",
    "\n",
    "# generate the NGCF-adjacency matrix\n",
    "data_generator = Data(path=ngcf_link_predictor_folder, batch_size=batch_size)\n",
    "adj_mtx = data_generator.get_adj_mat()\n",
    "\n",
    "# using bce loss w weight rebalancing due to sparsity of matrix\n",
    "pos_weight = 1 / (adj_mtx.nnz / (user_count * book_count))\n",
    "pos_weight = 20\n",
    "\n",
    "# create NGCF model\n",
    "model = NGCF(user_count, \n",
    "                 book_count,\n",
    "                 emb_dim,\n",
    "                 layers,\n",
    "                 reg,\n",
    "                 node_dropout,\n",
    "                 mess_dropout,\n",
    "                 adj_mtx,\n",
    "                 pos_weight)\n",
    "if use_cuda:\n",
    "    model = model.cuda()\n",
    "\n",
    "# current best metric\n",
    "cur_best_metric = 0\n",
    "\n",
    "# Adam optimizer\n",
    "optimizer = torch.optim.Adam(model.parameters(), lr=lr)\n",
    "\n",
    "# Set values for early stopping\n",
    "cur_best_loss, stopping_step, should_stop = 1e3, 0, False\n",
    "today = datetime.now()\n",
    "\n",
    "results = {\"Epoch\": [],\n",
    "            \"Loss\": [],\n",
    "            \"Recall\": [],\n",
    "            \"NDCG\": [],\n",
    "            \"Training Time\": []}\n",
    "\n",
    "for epoch in range(n_epochs):\n",
    "\n",
    "    t1 = time()\n",
    "    loss = train(model, data_generator, optimizer)\n",
    "    training_time = time()-t1\n",
    "    print(\"Epoch: {}, Training time: {:.2f}s, Loss: {:.4f}\".\n",
    "        format(epoch, training_time, loss))\n",
    "\n",
    "    wandb.log({\"training_loss\": loss})\n",
    "    \n",
    "    # print test evaluation metrics every N epochs (provided by eval_N)\n",
    "    if epoch % eval_N  == (eval_N - 1):\n",
    "        with torch.no_grad():\n",
    "            t2 = time()\n",
    "            recall, ndcg = eval_model(model.u_g_embeddings.detach().to(device),\n",
    "                                        model.i_g_embeddings.detach().to(device),\n",
    "                                        data_generator.R_train,\n",
    "                                        data_generator.R_test,\n",
    "                                        k,\n",
    "                                        device)\n",
    "        #print(\n",
    "        #    \"Evaluate current model:\\n\",\n",
    "        #    \"Epoch: {}, Validation time: {:.2f}s\".format(epoch, time()-t2),\"\\n\",\n",
    "        #    \"Loss: {:.4f}:\".format(loss), \"\\n\",\n",
    "        #    \"Recall@{}: {:.4f}\".format(k, recall), \"\\n\",\n",
    "        #    \"NDCG@{}: {:.4f}\".format(k, ndcg)\n",
    "        #    )\n",
    "\n",
    "        cur_best_metric, stopping_step, should_stop = \\\n",
    "        early_stopping(recall, cur_best_metric, stopping_step, flag_step=5)\n",
    "\n",
    "        # save results in dict\n",
    "        results['Epoch'].append(epoch)\n",
    "        results['Loss'].append(loss)\n",
    "        results['Recall'].append(recall.item())\n",
    "        results['NDCG'].append(ndcg.item())\n",
    "        results['Training Time'].append(training_time)\n",
    "\n",
    "        p_mat, test_recall, test_precision, test_f1_score = probability_matrix(model.u_g_embeddings.detach().to(device),\n",
    "                                        model.i_g_embeddings.detach().to(device),\n",
    "                                        data_generator.R_train,\n",
    "                                        data_generator.R_test,\n",
    "                                        device)\n",
    "        \n",
    "        wandb.log({f\"test_recall\": test_recall, f\"test_precision\": test_precision, f\"test_f1_score\": test_f1_score, f\"rec_{k}\": recall.item(), f\"ndcg_{k}\": ndcg.item()})       \n",
    "\n",
    "    else:\n",
    "        # save results in dict\n",
    "        results['Epoch'].append(epoch)\n",
    "        results['Loss'].append(loss)\n",
    "        results['Recall'].append(None)\n",
    "        results['NDCG'].append(None)\n",
    "        results['Training Time'].append(training_time)\n",
    "\n",
    "    if should_stop == True: break\n",
    "\n",
    "wandb.finish()\n",
    "\n",
    "# save\n",
    "if save_results:\n",
    "    date = today.strftime(\"%d%m%Y_%H%M\")\n",
    "\n",
    "    # save model as .pt file\n",
    "    if os.path.isdir(ngcf_link_predictor_folder + \"/models\"):\n",
    "        torch.save(model.state_dict(), ngcf_link_predictor_folder + \"/models\" + str(date) + \"_\" + modelname + \".pt\")\n",
    "    else:\n",
    "        os.mkdir(ngcf_link_predictor_folder + \"/models\")\n",
    "        torch.save(model.state_dict(), ngcf_link_predictor_folder + \"/models\" + str(date) + \"_\" + modelname + \".pt\")\n",
    "\n",
    "    # save results as pandas dataframe\n",
    "    results_df = pd.DataFrame(results)\n",
    "    results_df.set_index('Epoch', inplace=True)\n",
    "    if os.path.isdir(ngcf_link_predictor_folder + \"/results\"):\n",
    "        results_df.to_csv(ngcf_link_predictor_folder + \"/results\" + str(date) + \"_\" + modelname + \".csv\")\n",
    "    else:\n",
    "        os.mkdir(ngcf_link_predictor_folder + \"/results\")\n",
    "        results_df.to_csv(ngcf_link_predictor_folder + \"/results\" + str(date) + \"_\" + modelname + \".csv\")\n",
    "    # plot loss\n",
    "    results_df['Loss'].plot(figsize=(12,8), title='Loss')"
   ]
  },
  {
   "cell_type": "markdown",
   "metadata": {},
   "source": [
    "---"
   ]
  },
  {
   "cell_type": "markdown",
   "metadata": {},
   "source": [
    "old below..."
   ]
  },
  {
   "cell_type": "markdown",
   "metadata": {},
   "source": [
    "# 3 Recommender System Architectures\n",
    "\n",
    "In this section, we will implement and apply different recommender system architectures to the Goodreads-10k dataset. \n",
    "\n",
    "The architectures we want to test are:\n",
    "1. Graph Convolutional Network (GCN)\n",
    "2. Graph Attention Network (GATv2)\n",
    "\n",
    "\n",
    "### Perplexity Recommedations:\n",
    "\n",
    "1. **Graph Convolutional Networks (GCNs):** are a type of GNN that operate directly on the graph structure, allowing information to propagate between nodes along the edges of the graph. They can effectively capture high-order relationships between users and items by aggregating information from neighbors. GCNs have been widely used in recommender systems to learn latent representations of users and items from the user-item interaction graph.\n",
    "2. **GraphSAGE (Graph Sample and AggregatE):** is a highly scalable GNN architecture that can generate node embeddings by sampling and aggregating features from a node's neighborhood. It uses an inductive learning approach, allowing it to generalize to unseen nodes, making it suitable for dynamic recommendation scenarios. GraphSAGE's sampling technique and aggregation function flexibility make it a popular choice for large-scale recommender systems.\n",
    "3. **Knowledge Graph Attention Network (KGAT):** is a GNN-based model that incorporates knowledge graphs to enhance item representations. It constructs a heterogeneous graph consisting of users, items, and item attributes as nodes. KGAT recursively propagates and aggregates embeddings from neighboring nodes using an attention mechanism, capturing the importance of different neighbors. This approach leverages both user-item interactions and item knowledge for improved recommendations.\n",
    "4. **Edge-Enhanced Graph Neural Networks (EGNNs):** also known as Edge GraphSAGE or Enhanced Graph Neural Networks, extend the GraphSAGE model by incorporating edge features in addition to node features. In recommender systems, EGNNs can capture the type and strength of connections between users and items, leading to more accurate and personalized recommendations by modeling both node-level and edge-level interactions."
   ]
  },
  {
   "cell_type": "code",
   "execution_count": 11,
   "metadata": {},
   "outputs": [],
   "source": [
    "import torch\n",
    "import torch.nn as nn\n",
    "import torch.optim as optim\n",
    "from torch_geometric.data import Data\n",
    "from torch_geometric.nn import GCNConv\n",
    "\n",
    "class BaseRecommender(nn.Module):\n",
    "    def __init__(self):\n",
    "        super(BaseRecommender, self).__init__()\n",
    "\n",
    "    def forward(self, data):\n",
    "        raise NotImplementedError(\"This method needs to be implemented by subclasses.\")\n",
    "\n",
    "    def train_model(self, data, epochs, lr):\n",
    "        optimizer = optim.Adam(self.parameters(), lr=lr)\n",
    "        criterion = nn.MSELoss()\n",
    "        \n",
    "        for epoch in range(epochs):\n",
    "            self.train()\n",
    "            optimizer.zero_grad()\n",
    "            output = self(data)\n",
    "            loss = criterion(output[data.train_mask], data.y[data.train_mask])\n",
    "            loss.backward()\n",
    "            optimizer.step()\n",
    "            \n",
    "            print(f\"Epoch {epoch+1}/{epochs}, Loss: {loss.item()}\")\n",
    "\n",
    "    def evaluate(self, data):\n",
    "        self.eval()\n",
    "        with torch.no_grad():\n",
    "            output = self(data)\n",
    "            mse = ((output[data.test_mask] - data.y[data.test_mask]) ** 2).mean().item()\n",
    "        return mse\n",
    "\n"
   ]
  },
  {
   "cell_type": "markdown",
   "metadata": {},
   "source": [
    "## 3.1 Graph Convolutional Networks (GCN)"
   ]
  },
  {
   "cell_type": "markdown",
   "metadata": {},
   "source": [
    "# LightGCN"
   ]
  },
  {
   "cell_type": "code",
   "execution_count": 14,
   "metadata": {},
   "outputs": [],
   "source": [
    "%%capture\n",
    "#!pip install torch-scatter -f https://data.pyg.org/whl/torch-1.10.0+cu111.html\n",
    "#!pip install torch-sparse -f https://data.pyg.org/whl/torch-1.10.0+cu111.html\n",
    "#!pip install torch-geometric\n",
    "#!pip install -q git+https://github.com/snap-stanford/deepsnap.git\n",
    "#!pip install -U -q PyDrive"
   ]
  },
  {
   "cell_type": "code",
   "execution_count": 15,
   "metadata": {},
   "outputs": [],
   "source": [
    "# import required modules\n",
    "import random\n",
    "from tqdm import tqdm\n",
    "import pandas as pd\n",
    "import numpy as np\n",
    "import matplotlib.pyplot as plt\n",
    "from sklearn.model_selection import train_test_split\n",
    "\n",
    "import torch\n",
    "from torch import nn, optim, Tensor\n",
    "\n",
    "from torch_sparse import SparseTensor, matmul\n",
    "\n",
    "from torch_geometric.utils import structured_negative_sampling\n",
    "from torch_geometric.data import download_url, extract_zip\n",
    "from torch_geometric.nn.conv.gcn_conv import gcn_norm\n",
    "from torch_geometric.nn.conv import MessagePassing\n",
    "from torch_geometric.typing import Adj"
   ]
  },
  {
   "cell_type": "code",
   "execution_count": 16,
   "metadata": {},
   "outputs": [
    {
     "name": "stderr",
     "output_type": "stream",
     "text": [
      "C:\\Users\\HP\\AppData\\Local\\Temp\\ipykernel_25328\\2714468263.py:3: SettingWithCopyWarning: \n",
      "A value is trying to be set on a copy of a slice from a DataFrame.\n",
      "Try using .loc[row_indexer,col_indexer] = value instead\n",
      "\n",
      "See the caveats in the documentation: https://pandas.pydata.org/pandas-docs/stable/user_guide/indexing.html#returning-a-view-versus-a-copy\n",
      "  sample_edges_ratings.loc[:, 'user_id_new'] = sample_edges_ratings['user_id'].rank(method='dense').astype(int) - 1\n",
      "C:\\Users\\HP\\AppData\\Local\\Temp\\ipykernel_25328\\2714468263.py:4: SettingWithCopyWarning: \n",
      "A value is trying to be set on a copy of a slice from a DataFrame.\n",
      "Try using .loc[row_indexer,col_indexer] = value instead\n",
      "\n",
      "See the caveats in the documentation: https://pandas.pydata.org/pandas-docs/stable/user_guide/indexing.html#returning-a-view-versus-a-copy\n",
      "  sample_edges_ratings.loc[:, 'book_id_new'] = sample_edges_ratings['book_id'].rank(method='dense').astype(int) - 1\n"
     ]
    }
   ],
   "source": [
    "# create edge_index\n",
    "CUTOFF = 4 # rating needs to be higher than this for edge to exist\n",
    "sample_edges_ratings.loc[:, 'user_id_new'] = sample_edges_ratings['user_id'].rank(method='dense').astype(int) - 1\n",
    "sample_edges_ratings.loc[:, 'book_id_new'] = sample_edges_ratings['book_id'].rank(method='dense').astype(int) - 1\n",
    "edge_index = torch.tensor(sample_edges_ratings[sample_edges_ratings['rating'] > CUTOFF][['user_id_new', 'book_id_new']].values.T, dtype=torch.long)"
   ]
  },
  {
   "cell_type": "code",
   "execution_count": 17,
   "metadata": {},
   "outputs": [],
   "source": [
    "# split the edges of the graph using a 80/10/10 train/validation/test split\n",
    "num_users, num_books = max(sample_edges_ratings['user_id_new']), max(sample_edges_ratings['book_id'])\n",
    "num_interactions = edge_index.shape[1]\n",
    "all_indices = [i for i in range(num_interactions)]\n",
    "\n",
    "train_indices, test_indices = train_test_split(\n",
    "    all_indices, test_size=0.2, random_state=1)\n",
    "val_indices, test_indices = train_test_split(\n",
    "    test_indices, test_size=0.5, random_state=1)\n",
    "\n",
    "train_edge_index = edge_index[:, train_indices]\n",
    "val_edge_index = edge_index[:, val_indices]\n",
    "test_edge_index = edge_index[:, test_indices]"
   ]
  },
  {
   "cell_type": "code",
   "execution_count": 18,
   "metadata": {},
   "outputs": [],
   "source": [
    "# convert edge indices into Sparse Tensors: https://pytorch-geometric.readthedocs.io/en/latest/notes/sparse_tensor.html\n",
    "train_sparse_edge_index = SparseTensor(row=train_edge_index[0], col=train_edge_index[1], sparse_sizes=(\n",
    "    num_users + num_books, num_users + num_books))\n",
    "val_sparse_edge_index = SparseTensor(row=val_edge_index[0], col=val_edge_index[1], sparse_sizes=(\n",
    "    num_users + num_books, num_users + num_books))\n",
    "test_sparse_edge_index = SparseTensor(row=test_edge_index[0], col=test_edge_index[1], sparse_sizes=(\n",
    "    num_users + num_books, num_users + num_books))"
   ]
  },
  {
   "cell_type": "code",
   "execution_count": 19,
   "metadata": {},
   "outputs": [],
   "source": [
    "# function which random samples a mini-batch of positive and negative samples\n",
    "def sample_mini_batch(batch_size, edge_index):\n",
    "    \"\"\"Randomly samples indices of a minibatch given an adjacency matrix\n",
    "\n",
    "    Args:\n",
    "        batch_size (int): minibatch size\n",
    "        edge_index (torch.Tensor): 2 by N list of edges\n",
    "\n",
    "    Returns:\n",
    "        tuple: user indices, positive item indices, negative item indices\n",
    "    \"\"\"\n",
    "    edges = structured_negative_sampling(edge_index)\n",
    "    edges = torch.stack(edges, dim=0)\n",
    "    indices = random.choices(\n",
    "        [i for i in range(edges[0].shape[0])], k=batch_size)\n",
    "    batch = edges[:, indices]\n",
    "    user_indices, pos_item_indices, neg_item_indices = batch[0], batch[1], batch[2]\n",
    "    return user_indices, pos_item_indices, neg_item_indices"
   ]
  },
  {
   "cell_type": "code",
   "execution_count": 20,
   "metadata": {},
   "outputs": [],
   "source": [
    "# defines LightGCN model\n",
    "class LightGCN(MessagePassing):\n",
    "    \"\"\"LightGCN Model as proposed in https://arxiv.org/abs/2002.02126\n",
    "    \"\"\"\n",
    "\n",
    "    def __init__(self, num_users, num_items, embedding_dim=64, K=3, add_self_loops=False):\n",
    "        \"\"\"Initializes LightGCN Model\n",
    "\n",
    "        Args:\n",
    "            num_users (int): Number of users\n",
    "            num_items (int): Number of items\n",
    "            embedding_dim (int, optional): Dimensionality of embeddings. Defaults to 8.\n",
    "            K (int, optional): Number of message passing layers. Defaults to 3.\n",
    "            add_self_loops (bool, optional): Whether to add self loops for message passing. Defaults to False.\n",
    "        \"\"\"\n",
    "        super().__init__()\n",
    "        self.num_users, self.num_items = num_users, num_items\n",
    "        self.embedding_dim, self.K = embedding_dim, K\n",
    "        self.add_self_loops = add_self_loops\n",
    "\n",
    "        self.users_emb = nn.Embedding(\n",
    "            num_embeddings=self.num_users, embedding_dim=self.embedding_dim) # e_u^0\n",
    "        self.items_emb = nn.Embedding(\n",
    "            num_embeddings=self.num_items, embedding_dim=self.embedding_dim) # e_i^0\n",
    "\n",
    "        nn.init.normal_(self.users_emb.weight, std=0.1)\n",
    "        nn.init.normal_(self.items_emb.weight, std=0.1)\n",
    "\n",
    "    def forward(self, edge_index: SparseTensor):\n",
    "        \"\"\"Forward propagation of LightGCN Model.\n",
    "\n",
    "        Args:\n",
    "            edge_index (SparseTensor): adjacency matrix\n",
    "\n",
    "        Returns:\n",
    "            tuple (Tensor): e_u_k, e_u_0, e_i_k, e_i_0\n",
    "        \"\"\"\n",
    "        # compute \\tilde{A}: symmetrically normalized adjacency matrix\n",
    "        edge_index_norm = gcn_norm(\n",
    "            edge_index, add_self_loops=self.add_self_loops)\n",
    "\n",
    "        emb_0 = torch.cat([self.users_emb.weight, self.items_emb.weight]) # E^0\n",
    "        embs = [emb_0]\n",
    "        emb_k = emb_0\n",
    "\n",
    "        # multi-scale diffusion\n",
    "        for i in range(self.K):\n",
    "            emb_k = self.propagate(edge_index_norm, x=emb_k)\n",
    "            embs.append(emb_k)\n",
    "\n",
    "        embs = torch.stack(embs, dim=1)\n",
    "        emb_final = torch.mean(embs, dim=1) # E^K\n",
    "\n",
    "        users_emb_final, items_emb_final = torch.split(\n",
    "            emb_final, [self.num_users, self.num_items]) # splits into e_u^K and e_i^K\n",
    "\n",
    "        # returns e_u^K, e_u^0, e_i^K, e_i^0\n",
    "        return users_emb_final, self.users_emb.weight, items_emb_final, self.items_emb.weight\n",
    "\n",
    "    def message(self, x_j: Tensor) -> Tensor:\n",
    "        return x_j\n",
    "\n",
    "    def message_and_aggregate(self, adj_t: SparseTensor, x: Tensor) -> Tensor:\n",
    "        # computes \\tilde{A} @ x\n",
    "        return matmul(adj_t, x)\n",
    "\n",
    "model = LightGCN(num_users, num_books)"
   ]
  },
  {
   "cell_type": "code",
   "execution_count": 21,
   "metadata": {},
   "outputs": [],
   "source": [
    "def bpr_loss(users_emb_final, users_emb_0, pos_items_emb_final, pos_items_emb_0, neg_items_emb_final, neg_items_emb_0, lambda_val):\n",
    "    \"\"\"Bayesian Personalized Ranking Loss as described in https://arxiv.org/abs/1205.2618\n",
    "\n",
    "    Args:\n",
    "        users_emb_final (torch.Tensor): e_u_k\n",
    "        users_emb_0 (torch.Tensor): e_u_0\n",
    "        pos_items_emb_final (torch.Tensor): positive e_i_k\n",
    "        pos_items_emb_0 (torch.Tensor): positive e_i_0\n",
    "        neg_items_emb_final (torch.Tensor): negative e_i_k\n",
    "        neg_items_emb_0 (torch.Tensor): negative e_i_0\n",
    "        lambda_val (float): lambda value for regularization loss term\n",
    "\n",
    "    Returns:\n",
    "        torch.Tensor: scalar bpr loss value\n",
    "    \"\"\"\n",
    "    reg_loss = lambda_val * (users_emb_0.norm(2).pow(2) +\n",
    "                             pos_items_emb_0.norm(2).pow(2) +\n",
    "                             neg_items_emb_0.norm(2).pow(2)) # L2 loss\n",
    "\n",
    "    pos_scores = torch.mul(users_emb_final, pos_items_emb_final)\n",
    "    pos_scores = torch.sum(pos_scores, dim=-1) # predicted scores of positive samples\n",
    "    neg_scores = torch.mul(users_emb_final, neg_items_emb_final)\n",
    "    neg_scores = torch.sum(neg_scores, dim=-1) # predicted scores of negative samples\n",
    "\n",
    "    loss = -torch.mean(torch.nn.functional.softplus(pos_scores - neg_scores)) + reg_loss\n",
    "\n",
    "    return loss"
   ]
  },
  {
   "cell_type": "code",
   "execution_count": 22,
   "metadata": {},
   "outputs": [],
   "source": [
    "# helper function to get N_u\n",
    "def get_user_positive_items(edge_index):\n",
    "    \"\"\"Generates dictionary of positive items for each user\n",
    "\n",
    "    Args:\n",
    "        edge_index (torch.Tensor): 2 by N list of edges\n",
    "\n",
    "    Returns:\n",
    "        dict: dictionary of positive items for each user\n",
    "    \"\"\"\n",
    "    user_pos_items = {}\n",
    "    for i in range(edge_index.shape[1]):\n",
    "        user = edge_index[0][i].item()\n",
    "        item = edge_index[1][i].item()\n",
    "        if user not in user_pos_items:\n",
    "            user_pos_items[user] = []\n",
    "        user_pos_items[user].append(item)\n",
    "    return user_pos_items"
   ]
  },
  {
   "cell_type": "code",
   "execution_count": 23,
   "metadata": {},
   "outputs": [],
   "source": [
    "# computes recall@K and precision@K\n",
    "def RecallPrecision_ATk(groundTruth, r, k):\n",
    "    \"\"\"Computers recall @ k and precision @ k\n",
    "\n",
    "    Args:\n",
    "        groundTruth (list): list of lists containing highly rated items of each user\n",
    "        r (list): list of lists indicating whether each top k item recommended to each user\n",
    "            is a top k ground truth item or not\n",
    "        k (intg): determines the top k items to compute precision and recall on\n",
    "\n",
    "    Returns:\n",
    "        tuple: recall @ k, precision @ k\n",
    "    \"\"\"\n",
    "    num_correct_pred = torch.sum(r, dim=-1)  # number of correctly predicted items per user\n",
    "    # number of items liked by each user in the test set\n",
    "    user_num_liked = torch.Tensor([len(groundTruth[i])\n",
    "                                  for i in range(len(groundTruth))])\n",
    "    recall = torch.mean(num_correct_pred / user_num_liked)\n",
    "    precision = torch.mean(num_correct_pred) / k\n",
    "    return recall.item(), precision.item()"
   ]
  },
  {
   "cell_type": "code",
   "execution_count": 24,
   "metadata": {},
   "outputs": [],
   "source": [
    "# computes NDCG@K\n",
    "def NDCGatK_r(groundTruth, r, k):\n",
    "    \"\"\"Computes Normalized Discounted Cumulative Gain (NDCG) @ k\n",
    "\n",
    "    Args:\n",
    "        groundTruth (list): list of lists containing highly rated items of each user\n",
    "        r (list): list of lists indicating whether each top k item recommended to each user\n",
    "            is a top k ground truth item or not\n",
    "        k (int): determines the top k items to compute ndcg on\n",
    "\n",
    "    Returns:\n",
    "        float: ndcg @ k\n",
    "    \"\"\"\n",
    "    assert len(r) == len(groundTruth)\n",
    "\n",
    "    test_matrix = torch.zeros((len(r), k))\n",
    "\n",
    "    for i, items in enumerate(groundTruth):\n",
    "        length = min(len(items), k)\n",
    "        test_matrix[i, :length] = 1\n",
    "    max_r = test_matrix\n",
    "    idcg = torch.sum(max_r * 1. / torch.log2(torch.arange(2, k + 2)), axis=1)\n",
    "    dcg = r * (1. / torch.log2(torch.arange(2, k + 2)))\n",
    "    dcg = torch.sum(dcg, axis=1)\n",
    "    idcg[idcg == 0.] = 1.\n",
    "    ndcg = dcg / idcg\n",
    "    ndcg[torch.isnan(ndcg)] = 0.\n",
    "    return torch.mean(ndcg).item()"
   ]
  },
  {
   "cell_type": "code",
   "execution_count": 25,
   "metadata": {},
   "outputs": [],
   "source": [
    "# wrapper function to get evaluation metrics\n",
    "def get_metrics(model, edge_index, exclude_edge_indices, k):\n",
    "    \"\"\"Computes the evaluation metrics: recall, precision, and ndcg @ k\n",
    "\n",
    "    Args:\n",
    "        model (LighGCN): lightgcn model\n",
    "        edge_index (torch.Tensor): 2 by N list of edges for split to evaluate\n",
    "        exclude_edge_indices ([type]): 2 by N list of edges for split to discount from evaluation\n",
    "        k (int): determines the top k items to compute metrics on\n",
    "\n",
    "    Returns:\n",
    "        tuple: recall @ k, precision @ k, ndcg @ k\n",
    "    \"\"\"\n",
    "    user_embedding = model.users_emb.weight\n",
    "    item_embedding = model.items_emb.weight\n",
    "\n",
    "    # get ratings between every user and item - shape is num users x num movies\n",
    "    rating = torch.matmul(user_embedding, item_embedding.T)\n",
    "\n",
    "    for exclude_edge_index in exclude_edge_indices:\n",
    "        # gets all the positive items for each user from the edge index\n",
    "        user_pos_items = get_user_positive_items(exclude_edge_index)\n",
    "        # get coordinates of all edges to exclude\n",
    "        exclude_users = []\n",
    "        exclude_items = []\n",
    "        for user, items in user_pos_items.items():\n",
    "            exclude_users.extend([user] * len(items))\n",
    "            exclude_items.extend(items)\n",
    "\n",
    "        # set ratings of excluded edges to large negative value\n",
    "        rating[exclude_users, exclude_items] = -(1 << 10)\n",
    "\n",
    "    # get the top k recommended items for each user\n",
    "    _, top_K_items = torch.topk(rating, k=k)\n",
    "\n",
    "    # get all unique users in evaluated split\n",
    "    users = edge_index[0].unique()\n",
    "\n",
    "    test_user_pos_items = get_user_positive_items(edge_index)\n",
    "\n",
    "    # convert test user pos items dictionary into a list\n",
    "    test_user_pos_items_list = [\n",
    "        test_user_pos_items[user.item()] for user in users]\n",
    "\n",
    "    # determine the correctness of topk predictions\n",
    "    r = []\n",
    "    for user in users:\n",
    "        ground_truth_items = test_user_pos_items[user.item()]\n",
    "        label = list(map(lambda x: x in ground_truth_items, top_K_items[user]))\n",
    "        r.append(label)\n",
    "    r = torch.Tensor(np.array(r).astype('float'))\n",
    "\n",
    "    recall, precision = RecallPrecision_ATk(test_user_pos_items_list, r, k)\n",
    "    ndcg = NDCGatK_r(test_user_pos_items_list, r, k)\n",
    "\n",
    "    return recall, precision, ndcg"
   ]
  },
  {
   "cell_type": "code",
   "execution_count": 26,
   "metadata": {},
   "outputs": [],
   "source": [
    "# wrapper function to evaluate model\n",
    "def evaluation(model, edge_index, sparse_edge_index, exclude_edge_indices, k, lambda_val):\n",
    "    \"\"\"Evaluates model loss and metrics including recall, precision, ndcg @ k\n",
    "\n",
    "    Args:\n",
    "        model (LighGCN): lightgcn model\n",
    "        edge_index (torch.Tensor): 2 by N list of edges for split to evaluate\n",
    "        sparse_edge_index (sparseTensor): sparse adjacency matrix for split to evaluate\n",
    "        exclude_edge_indices ([type]): 2 by N list of edges for split to discount from evaluation\n",
    "        k (int): determines the top k items to compute metrics on\n",
    "        lambda_val (float): determines lambda for bpr loss\n",
    "\n",
    "    Returns:\n",
    "        tuple: bpr loss, recall @ k, precision @ k, ndcg @ k\n",
    "    \"\"\"\n",
    "    # get embeddings\n",
    "    users_emb_final, users_emb_0, items_emb_final, items_emb_0 = model.forward(\n",
    "        sparse_edge_index)\n",
    "    edges = structured_negative_sampling(\n",
    "        edge_index, contains_neg_self_loops=False)\n",
    "    user_indices, pos_item_indices, neg_item_indices = edges[0], edges[1], edges[2]\n",
    "    users_emb_final, users_emb_0 = users_emb_final[user_indices], users_emb_0[user_indices]\n",
    "    pos_items_emb_final, pos_items_emb_0 = items_emb_final[\n",
    "        pos_item_indices], items_emb_0[pos_item_indices]\n",
    "    neg_items_emb_final, neg_items_emb_0 = items_emb_final[\n",
    "        neg_item_indices], items_emb_0[neg_item_indices]\n",
    "\n",
    "    loss = bpr_loss(users_emb_final, users_emb_0, pos_items_emb_final, pos_items_emb_0,\n",
    "                    neg_items_emb_final, neg_items_emb_0, lambda_val).item()\n",
    "\n",
    "    recall, precision, ndcg = get_metrics(\n",
    "        model, edge_index, exclude_edge_indices, k)\n",
    "\n",
    "    return loss, recall, precision, ndcg"
   ]
  },
  {
   "cell_type": "code",
   "execution_count": 27,
   "metadata": {},
   "outputs": [],
   "source": [
    "# define contants\n",
    "ITERATIONS = 10000\n",
    "BATCH_SIZE = 1024\n",
    "LR = 1e-3\n",
    "ITERS_PER_EVAL = 200\n",
    "ITERS_PER_LR_DECAY = 200\n",
    "K = 20\n",
    "LAMBDA = 1e-6"
   ]
  },
  {
   "cell_type": "code",
   "execution_count": 28,
   "metadata": {},
   "outputs": [
    {
     "name": "stdout",
     "output_type": "stream",
     "text": [
      "Using device cpu.\n"
     ]
    }
   ],
   "source": [
    "# setup\n",
    "device = torch.device('cuda' if torch.cuda.is_available() else 'cpu')\n",
    "print(f\"Using device {device}.\")\n",
    "\n",
    "\n",
    "model = model.to(device)\n",
    "model.train()\n",
    "\n",
    "optimizer = optim.Adam(model.parameters(), lr=LR)\n",
    "scheduler = optim.lr_scheduler.ExponentialLR(optimizer, gamma=0.95)\n",
    "\n",
    "edge_index = edge_index.to(device)\n",
    "train_edge_index = train_edge_index.to(device)\n",
    "train_sparse_edge_index = train_sparse_edge_index.to(device)\n",
    "\n",
    "val_edge_index = val_edge_index.to(device)\n",
    "val_sparse_edge_index = val_sparse_edge_index.to(device)"
   ]
  },
  {
   "cell_type": "code",
   "execution_count": 29,
   "metadata": {},
   "outputs": [
    {
     "ename": "IndexError",
     "evalue": "index 989 is out of bounds for dimension 0 with size 989",
     "output_type": "error",
     "traceback": [
      "\u001b[1;31m---------------------------------------------------------------------------\u001b[0m",
      "\u001b[1;31mIndexError\u001b[0m                                Traceback (most recent call last)",
      "Cell \u001b[1;32mIn[29], line 15\u001b[0m\n\u001b[0;32m     11\u001b[0m user_indices, pos_item_indices, neg_item_indices \u001b[38;5;241m=\u001b[39m sample_mini_batch(\n\u001b[0;32m     12\u001b[0m     BATCH_SIZE, train_edge_index)\n\u001b[0;32m     13\u001b[0m user_indices, pos_item_indices, neg_item_indices \u001b[38;5;241m=\u001b[39m user_indices\u001b[38;5;241m.\u001b[39mto(\n\u001b[0;32m     14\u001b[0m     device), pos_item_indices\u001b[38;5;241m.\u001b[39mto(device), neg_item_indices\u001b[38;5;241m.\u001b[39mto(device)\n\u001b[1;32m---> 15\u001b[0m users_emb_final, users_emb_0 \u001b[38;5;241m=\u001b[39m \u001b[43musers_emb_final\u001b[49m\u001b[43m[\u001b[49m\u001b[43muser_indices\u001b[49m\u001b[43m]\u001b[49m, users_emb_0[user_indices]\n\u001b[0;32m     16\u001b[0m pos_items_emb_final, pos_items_emb_0 \u001b[38;5;241m=\u001b[39m items_emb_final[\n\u001b[0;32m     17\u001b[0m     pos_item_indices], items_emb_0[pos_item_indices]\n\u001b[0;32m     18\u001b[0m neg_items_emb_final, neg_items_emb_0 \u001b[38;5;241m=\u001b[39m items_emb_final[\n\u001b[0;32m     19\u001b[0m     neg_item_indices], items_emb_0[neg_item_indices]\n",
      "\u001b[1;31mIndexError\u001b[0m: index 989 is out of bounds for dimension 0 with size 989"
     ]
    }
   ],
   "source": [
    "# training loop\n",
    "train_losses = []\n",
    "val_losses = []\n",
    "\n",
    "for iter in range(ITERATIONS):\n",
    "    # forward propagation\n",
    "    users_emb_final, users_emb_0, items_emb_final, items_emb_0 = model.forward(\n",
    "        train_sparse_edge_index)\n",
    "\n",
    "    # mini batching\n",
    "    user_indices, pos_item_indices, neg_item_indices = sample_mini_batch(\n",
    "        BATCH_SIZE, train_edge_index)\n",
    "    user_indices, pos_item_indices, neg_item_indices = user_indices.to(\n",
    "        device), pos_item_indices.to(device), neg_item_indices.to(device)\n",
    "    users_emb_final, users_emb_0 = users_emb_final[user_indices], users_emb_0[user_indices]\n",
    "    pos_items_emb_final, pos_items_emb_0 = items_emb_final[\n",
    "        pos_item_indices], items_emb_0[pos_item_indices]\n",
    "    neg_items_emb_final, neg_items_emb_0 = items_emb_final[\n",
    "        neg_item_indices], items_emb_0[neg_item_indices]\n",
    "\n",
    "    # loss computation\n",
    "    train_loss = bpr_loss(users_emb_final, users_emb_0, pos_items_emb_final,\n",
    "                          pos_items_emb_0, neg_items_emb_final, neg_items_emb_0, LAMBDA)\n",
    "\n",
    "    optimizer.zero_grad()\n",
    "    train_loss.backward()\n",
    "    optimizer.step()\n",
    "\n",
    "    if iter % ITERS_PER_EVAL == 0:\n",
    "        model.eval()\n",
    "        val_loss, recall, precision, ndcg = evaluation(\n",
    "            model, val_edge_index, val_sparse_edge_index, [train_edge_index], K, LAMBDA)\n",
    "        print(f\"[Iteration {iter}/{ITERATIONS}] train_loss: {round(train_loss.item(), 5)}, val_loss: {round(val_loss, 5)}, val_recall@{K}: {round(recall, 5)}, val_precision@{K}: {round(precision, 5)}, val_ndcg@{K}: {round(ndcg, 5)}\")\n",
    "        train_losses.append(train_loss.item())\n",
    "        val_losses.append(val_loss)\n",
    "        model.train()\n",
    "\n",
    "    if iter % ITERS_PER_LR_DECAY == 0 and iter != 0:\n",
    "        scheduler.step()"
   ]
  },
  {
   "cell_type": "code",
   "execution_count": 23,
   "metadata": {},
   "outputs": [
    {
     "data": {
      "image/png": "[encoded data removed]",
      "text/plain": [
       "<Figure size 640x480 with 1 Axes>"
      ]
     },
     "metadata": {},
     "output_type": "display_data"
    }
   ],
   "source": [
    "iters = [iter * ITERS_PER_EVAL for iter in range(len(train_losses))]\n",
    "plt.plot(iters, train_losses, label='train')\n",
    "plt.plot(iters, val_losses, label='validation')\n",
    "plt.xlabel('iteration')\n",
    "plt.ylabel('loss')\n",
    "plt.title('training and validation loss curves')\n",
    "plt.legend()\n",
    "plt.show()"
   ]
  },
  {
   "cell_type": "code",
   "execution_count": 24,
   "metadata": {},
   "outputs": [
    {
     "name": "stdout",
     "output_type": "stream",
     "text": [
      "[test_loss: -33.90347, test_recall@20: 0.29701, test_precision@20: 0.01731, test_ndcg@20: 0.14167\n"
     ]
    }
   ],
   "source": [
    "# evaluate on test set\n",
    "model.eval()\n",
    "test_edge_index = test_edge_index.to(device)\n",
    "test_sparse_edge_index = test_sparse_edge_index.to(device)\n",
    "\n",
    "test_loss, test_recall, test_precision, test_ndcg = evaluation(\n",
    "            model, test_edge_index, test_sparse_edge_index, [train_edge_index, val_edge_index], K, LAMBDA)\n",
    "\n",
    "print(f\"[test_loss: {round(test_loss, 5)}, test_recall@{K}: {round(test_recall, 5)}, test_precision@{K}: {round(test_precision, 5)}, test_ndcg@{K}: {round(test_ndcg, 5)}\")"
   ]
  },
  {
   "cell_type": "code",
   "execution_count": null,
   "metadata": {},
   "outputs": [],
   "source": [
    "# to be implemented..."
   ]
  },
  {
   "cell_type": "code",
   "execution_count": 25,
   "metadata": {},
   "outputs": [],
   "source": [
    "user_pos_items = get_user_positive_items(edge_index)\n",
    "\n",
    "def make_predictions(user_id, num_recs):\n",
    "    user = user_mapping[user_id]\n",
    "    e_u = model.users_emb.weight[user]\n",
    "    scores = model.items_emb.weight @ e_u\n",
    "\n",
    "    values, indices = torch.topk(scores, k=len(user_pos_items[user]) + num_recs)\n",
    "\n",
    "    movies = [index.cpu().item() for index in indices if index in user_pos_items[user]][:num_recs]\n",
    "    movie_ids = [list(movie_mapping.keys())[list(movie_mapping.values()).index(movie)] for movie in movies]\n",
    "    titles = [movieid_title[id] for id in movie_ids]\n",
    "    genres = [movieid_genres[id] for id in movie_ids]\n",
    "\n",
    "    print(f\"Here are some movies that user {user_id} rated highly\")\n",
    "    for i in range(num_recs):\n",
    "        print(f\"title: {titles[i]}, genres: {genres[i]} \")\n",
    "\n",
    "    print()\n",
    "\n",
    "    movies = [index.cpu().item() for index in indices if index not in user_pos_items[user]][:num_recs]\n",
    "    movie_ids = [list(movie_mapping.keys())[list(movie_mapping.values()).index(movie)] for movie in movies]\n",
    "    titles = [movieid_title[id] for id in movie_ids]\n",
    "    genres = [movieid_genres[id] for id in movie_ids]\n",
    "\n",
    "    print(f\"Here are some suggested movies for user {user_id}\")\n",
    "    for i in range(num_recs):\n",
    "        print(f\"title: {titles[i]}, genres: {genres[i]} \")\n",
    "\n",
    "USER_ID = 1\n",
    "NUM_RECS = 10\n",
    "\n",
    "make_predictions(USER_ID, NUM_RECS)"
   ]
  },
  {
   "cell_type": "markdown",
   "metadata": {},
   "source": [
    "notes:\n",
    "\n",
    "lack of rating may not be as bad as not giving a rating \n",
    "make sure you're sampling in a logical way - verify that you're keeping the pertinent properties of your graph\n",
    "networkx is pretty general - look into packages that are specifically catered toward individual methods, as they'll be faster\n",
    "pytorch geometric can be used to handle big graphs. sample true and SGD on stuff.\n",
    "just look at the literature for evaluating recommender systems, as well as how expected. netflix challenge could be a good place for benchmark.\n",
    "\n"
   ]
  }
 ],
 "metadata": {
  "kernelspec": {
   "display_name": "networkml",
   "language": "python",
   "name": "python3"
  },
  "language_info": {
   "codemirror_mode": {
    "name": "ipython",
    "version": 3
   },
   "file_extension": ".py",
   "mimetype": "text/x-python",
   "name": "python",
   "nbconvert_exporter": "python",
   "pygments_lexer": "ipython3",
   "version": "3.9.19"
  }
 },
 "nbformat": 4,
 "nbformat_minor": 2
}
