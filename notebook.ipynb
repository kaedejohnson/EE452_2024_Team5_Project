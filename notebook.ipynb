{
 "cells": [
  {
   "cell_type": "code",
   "execution_count": 2,
   "metadata": {},
   "outputs": [],
   "source": [
    "import pandas as pd\n",
    "import numpy as np\n",
    "import networkx as nx\n",
    "import matplotlib.pyplot as plt\n",
    "from tqdm import tqdm"
   ]
  },
  {
   "cell_type": "markdown",
   "metadata": {},
   "source": [
    "# 1 Data Exploration"
   ]
  },
  {
   "cell_type": "code",
   "execution_count": 10,
   "metadata": {},
   "outputs": [],
   "source": [
    "books = pd.read_csv('books.csv')\n",
    "tags = pd.read_csv('tags.csv')\n",
    "tags = tags.merge(pd.read_csv('book_tags.csv'), how='inner', on='tag_id')\n",
    "ratings = pd.read_csv('ratings.csv')"
   ]
  },
  {
   "cell_type": "code",
   "execution_count": 51,
   "metadata": {},
   "outputs": [
    {
     "data": {
      "text/html": [
       "<div>\n",
       "<style scoped>\n",
       "    .dataframe tbody tr th:only-of-type {\n",
       "        vertical-align: middle;\n",
       "    }\n",
       "\n",
       "    .dataframe tbody tr th {\n",
       "        vertical-align: top;\n",
       "    }\n",
       "\n",
       "    .dataframe thead th {\n",
       "        text-align: right;\n",
       "    }\n",
       "</style>\n",
       "<table border=\"1\" class=\"dataframe\">\n",
       "  <thead>\n",
       "    <tr style=\"text-align: right;\">\n",
       "      <th></th>\n",
       "      <th>book_id</th>\n",
       "      <th>goodreads_book_id</th>\n",
       "      <th>authors</th>\n",
       "      <th>original_publication_year</th>\n",
       "      <th>title</th>\n",
       "      <th>language_code</th>\n",
       "      <th>average_rating</th>\n",
       "      <th>ratings_count</th>\n",
       "      <th>node_id</th>\n",
       "    </tr>\n",
       "  </thead>\n",
       "  <tbody>\n",
       "    <tr>\n",
       "      <th>2214</th>\n",
       "      <td>2215</td>\n",
       "      <td>80674</td>\n",
       "      <td>Judy Blume</td>\n",
       "      <td>1980.0</td>\n",
       "      <td>Superfudge (Fudge, #3)</td>\n",
       "      <td>en</td>\n",
       "      <td>3.98</td>\n",
       "      <td>50917</td>\n",
       "      <td>b_2215</td>\n",
       "    </tr>\n",
       "    <tr>\n",
       "      <th>7486</th>\n",
       "      <td>7487</td>\n",
       "      <td>28374062</td>\n",
       "      <td>Karin Slaughter</td>\n",
       "      <td>2016.0</td>\n",
       "      <td>The Kept Woman (Will Trent, #8)</td>\n",
       "      <td>en</td>\n",
       "      <td>4.10</td>\n",
       "      <td>8175</td>\n",
       "      <td>b_7487</td>\n",
       "    </tr>\n",
       "    <tr>\n",
       "      <th>920</th>\n",
       "      <td>921</td>\n",
       "      <td>18460392</td>\n",
       "      <td>Jennifer Niven, فرانک معنوی</td>\n",
       "      <td>2015.0</td>\n",
       "      <td>All the Bright Places</td>\n",
       "      <td>en</td>\n",
       "      <td>4.19</td>\n",
       "      <td>132087</td>\n",
       "      <td>b_921</td>\n",
       "    </tr>\n",
       "    <tr>\n",
       "      <th>3995</th>\n",
       "      <td>3996</td>\n",
       "      <td>68458</td>\n",
       "      <td>Andrzej Sapkowski</td>\n",
       "      <td>1994.0</td>\n",
       "      <td>Krew elfów (Saga o Wiedźminie, #3)</td>\n",
       "      <td>pol</td>\n",
       "      <td>4.23</td>\n",
       "      <td>11981</td>\n",
       "      <td>b_3996</td>\n",
       "    </tr>\n",
       "    <tr>\n",
       "      <th>1731</th>\n",
       "      <td>1732</td>\n",
       "      <td>209194</td>\n",
       "      <td>Agatha Christie</td>\n",
       "      <td>1924.0</td>\n",
       "      <td>The Man in the Brown Suit</td>\n",
       "      <td>en</td>\n",
       "      <td>3.97</td>\n",
       "      <td>56053</td>\n",
       "      <td>b_1732</td>\n",
       "    </tr>\n",
       "  </tbody>\n",
       "</table>\n",
       "</div>"
      ],
      "text/plain": [
       "      book_id  goodreads_book_id                      authors  \\\n",
       "2214     2215              80674                   Judy Blume   \n",
       "7486     7487           28374062              Karin Slaughter   \n",
       "920       921           18460392  Jennifer Niven, فرانک معنوی   \n",
       "3995     3996              68458            Andrzej Sapkowski   \n",
       "1731     1732             209194              Agatha Christie   \n",
       "\n",
       "      original_publication_year                               title  \\\n",
       "2214                     1980.0              Superfudge (Fudge, #3)   \n",
       "7486                     2016.0     The Kept Woman (Will Trent, #8)   \n",
       "920                      2015.0               All the Bright Places   \n",
       "3995                     1994.0  Krew elfów (Saga o Wiedźminie, #3)   \n",
       "1731                     1924.0           The Man in the Brown Suit   \n",
       "\n",
       "     language_code  average_rating  ratings_count node_id  \n",
       "2214            en            3.98          50917  b_2215  \n",
       "7486            en            4.10           8175  b_7487  \n",
       "920             en            4.19         132087   b_921  \n",
       "3995           pol            4.23          11981  b_3996  \n",
       "1731            en            3.97          56053  b_1732  "
      ]
     },
     "execution_count": 51,
     "metadata": {},
     "output_type": "execute_result"
    }
   ],
   "source": [
    "nodes_books = books[['book_id', 'goodreads_book_id', 'authors', 'original_publication_year', 'title', 'language_code', 'average_rating', 'ratings_count']].copy()\n",
    "english_variants = [x for x in nodes_books.language_code.unique() if pd.notnull(x) and x.find('en') != -1]\n",
    "nodes_books['language_code'] = nodes_books.language_code.apply(lambda x: x if x not in english_variants else 'en')\n",
    "nodes_books['node_id'] = 'b_' + nodes_books['book_id'].astype(str)\n",
    "nodes_books.sample(5)\n"
   ]
  },
  {
   "cell_type": "code",
   "execution_count": 46,
   "metadata": {},
   "outputs": [
    {
     "data": {
      "text/html": [
       "<div>\n",
       "<style scoped>\n",
       "    .dataframe tbody tr th:only-of-type {\n",
       "        vertical-align: middle;\n",
       "    }\n",
       "\n",
       "    .dataframe tbody tr th {\n",
       "        vertical-align: top;\n",
       "    }\n",
       "\n",
       "    .dataframe thead th {\n",
       "        text-align: right;\n",
       "    }\n",
       "</style>\n",
       "<table border=\"1\" class=\"dataframe\">\n",
       "  <thead>\n",
       "    <tr style=\"text-align: right;\">\n",
       "      <th></th>\n",
       "      <th>user_id</th>\n",
       "      <th>ratings</th>\n",
       "      <th>average_rating</th>\n",
       "      <th>rating_1</th>\n",
       "      <th>rating_2</th>\n",
       "      <th>rating_3</th>\n",
       "      <th>rating_4</th>\n",
       "      <th>rating_5</th>\n",
       "      <th>node_id</th>\n",
       "    </tr>\n",
       "  </thead>\n",
       "  <tbody>\n",
       "    <tr>\n",
       "      <th>19798</th>\n",
       "      <td>19799</td>\n",
       "      <td>76</td>\n",
       "      <td>4.842105</td>\n",
       "      <td>1</td>\n",
       "      <td>2</td>\n",
       "      <td>1</td>\n",
       "      <td>0</td>\n",
       "      <td>72</td>\n",
       "      <td>u_19799</td>\n",
       "    </tr>\n",
       "    <tr>\n",
       "      <th>19999</th>\n",
       "      <td>20000</td>\n",
       "      <td>114</td>\n",
       "      <td>3.842105</td>\n",
       "      <td>2</td>\n",
       "      <td>11</td>\n",
       "      <td>26</td>\n",
       "      <td>39</td>\n",
       "      <td>36</td>\n",
       "      <td>u_20000</td>\n",
       "    </tr>\n",
       "    <tr>\n",
       "      <th>20261</th>\n",
       "      <td>20262</td>\n",
       "      <td>109</td>\n",
       "      <td>4.247706</td>\n",
       "      <td>2</td>\n",
       "      <td>2</td>\n",
       "      <td>9</td>\n",
       "      <td>50</td>\n",
       "      <td>46</td>\n",
       "      <td>u_20262</td>\n",
       "    </tr>\n",
       "    <tr>\n",
       "      <th>17242</th>\n",
       "      <td>17243</td>\n",
       "      <td>149</td>\n",
       "      <td>3.966443</td>\n",
       "      <td>4</td>\n",
       "      <td>5</td>\n",
       "      <td>23</td>\n",
       "      <td>77</td>\n",
       "      <td>40</td>\n",
       "      <td>u_17243</td>\n",
       "    </tr>\n",
       "    <tr>\n",
       "      <th>683</th>\n",
       "      <td>684</td>\n",
       "      <td>128</td>\n",
       "      <td>3.953125</td>\n",
       "      <td>1</td>\n",
       "      <td>7</td>\n",
       "      <td>33</td>\n",
       "      <td>43</td>\n",
       "      <td>44</td>\n",
       "      <td>u_684</td>\n",
       "    </tr>\n",
       "  </tbody>\n",
       "</table>\n",
       "</div>"
      ],
      "text/plain": [
       "       user_id  ratings  average_rating  rating_1  rating_2  rating_3  \\\n",
       "19798    19799       76        4.842105         1         2         1   \n",
       "19999    20000      114        3.842105         2        11        26   \n",
       "20261    20262      109        4.247706         2         2         9   \n",
       "17242    17243      149        3.966443         4         5        23   \n",
       "683        684      128        3.953125         1         7        33   \n",
       "\n",
       "       rating_4  rating_5  node_id  \n",
       "19798         0        72  u_19799  \n",
       "19999        39        36  u_20000  \n",
       "20261        50        46  u_20262  \n",
       "17242        77        40  u_17243  \n",
       "683          43        44    u_684  "
      ]
     },
     "execution_count": 46,
     "metadata": {},
     "output_type": "execute_result"
    }
   ],
   "source": [
    "'''\n",
    "Step 1: Crosstab to get counts of each rating per user\n",
    "Step 2: Compute total ratings count and average rating per user\n",
    "Step 3: Merge the crosstab result with the user stats\n",
    "Step 4: Rename the rating columns\n",
    "Step 5: Fill NaN values with 0 for users who have no ratings in some categories\n",
    "'''\n",
    "\n",
    "rating_counts = pd.crosstab(ratings['user_id'], ratings['rating'])\n",
    "user_stats = ratings.groupby('user_id').agg(ratings=('book_id', 'count'),\n",
    "                                            average_rating=('rating', 'mean'))\n",
    "\n",
    "nodes_users = user_stats.merge(rating_counts, left_index=True, right_index=True, how='left')\n",
    "nodes_users.columns = ['ratings', 'average_rating', 'rating_1', 'rating_2', 'rating_3', 'rating_4', 'rating_5']\n",
    "nodes_users = nodes_users.fillna(0).reset_index()\n",
    "nodes_users['node_id'] = 'u_' + nodes_users['user_id'].astype(str)\n",
    "nodes_users.sample(5)\n"
   ]
  },
  {
   "cell_type": "code",
   "execution_count": 13,
   "metadata": {},
   "outputs": [
    {
     "name": "stdout",
     "output_type": "stream",
     "text": [
      "nodes_books.columns: Index(['book_id', 'goodreads_book_id', 'authors', 'original_publication_year',\n",
      "       'title', 'language_code', 'average_rating', 'ratings_count',\n",
      "       'node_type'],\n",
      "      dtype='object')\n",
      "nodes_users.columns: Index(['user_id', 'ratings', 'average_rating', 'rating_1', 'rating_2',\n",
      "       'rating_3', 'rating_4', 'rating_5', 'node_type'],\n",
      "      dtype='object')\n",
      "ratings.columns: Index(['user_id', 'book_id', 'rating'], dtype='object')\n"
     ]
    }
   ],
   "source": [
    "print('nodes_books.columns:', nodes_books.columns)\n",
    "print('nodes_users.columns:', nodes_users.columns)\n",
    "print('ratings.columns:', ratings.columns)"
   ]
  },
  {
   "cell_type": "markdown",
   "metadata": {},
   "source": [
    "# 2 Graph\n",
    "\n",
    "Using the ratings dataset of the Goodreads-10k dataset, we want to create a directed bipartite graph with two types of nodes: users and books. The edge between a user and a book represents a rating."
   ]
  },
  {
   "cell_type": "markdown",
   "metadata": {},
   "source": [
    "### 2.1 Construct the Graph"
   ]
  },
  {
   "cell_type": "markdown",
   "metadata": {},
   "source": [
    "Sample the dataset to work with a smaller graph:"
   ]
  },
  {
   "cell_type": "code",
   "execution_count": 67,
   "metadata": {},
   "outputs": [],
   "source": [
    "sample_nodes_books = nodes_books.sample(500)\n",
    "sample_nodes_users = nodes_users.sample(1000)\n",
    "sample_edges_ratings = ratings[(ratings.book_id.isin(sample_nodes_books.book_id)) & (ratings.user_id.isin(sample_nodes_users.user_id))]"
   ]
  },
  {
   "cell_type": "markdown",
   "metadata": {},
   "source": [
    "Construct a networkx graph:"
   ]
  },
  {
   "cell_type": "code",
   "execution_count": 68,
   "metadata": {},
   "outputs": [
    {
     "name": "stderr",
     "output_type": "stream",
     "text": [
      "Add book-nodes: 500it [00:00, 27612.27it/s]\n",
      "Add user-nodes: 1000it [00:00, 34036.94it/s]\n",
      "Add rating-edges: 5629it [00:00, 41168.17it/s]"
     ]
    },
    {
     "name": "stdout",
     "output_type": "stream",
     "text": [
      "Graph has 1500 nodes and 5629 edges.\n"
     ]
    },
    {
     "name": "stderr",
     "output_type": "stream",
     "text": [
      "\n"
     ]
    }
   ],
   "source": [
    "G = nx.DiGraph()\n",
    "# Add book nodes\n",
    "for _, row in tqdm(sample_nodes_books.iterrows(), desc='Add book-nodes'):\n",
    "    G.add_node(row['node_id'],\n",
    "               node_type='book')\n",
    "\n",
    "# Add user nodes\n",
    "for _, row in tqdm(sample_nodes_users.iterrows(), desc='Add user-nodes'):\n",
    "    G.add_node(row['node_id'], \n",
    "               node_type='user')\n",
    "    \n",
    "# Add edges (ratings)\n",
    "for _, row in tqdm(sample_edges_ratings.iterrows(), desc='Add rating-edges'):\n",
    "    G.add_edge(f\"u_{row['user_id']}\", f\"b_{row['book_id']}\", rating=row['rating'])\n",
    "\n",
    "print(f\"Graph has {G.number_of_nodes()} nodes and {G.number_of_edges()} edges.\")"
   ]
  },
  {
   "cell_type": "markdown",
   "metadata": {},
   "source": [
    "Remove isolated nodes:"
   ]
  },
  {
   "cell_type": "code",
   "execution_count": 70,
   "metadata": {},
   "outputs": [
    {
     "name": "stdout",
     "output_type": "stream",
     "text": [
      "Removed 33 isolated nodes.\n"
     ]
    }
   ],
   "source": [
    "isolated_nodes = list(nx.isolates(G))\n",
    "G.remove_nodes_from(isolated_nodes)\n",
    "print(f\"Removed {len(isolated_nodes)} isolated nodes.\")"
   ]
  },
  {
   "cell_type": "markdown",
   "metadata": {},
   "source": [
    "Verify that it is bipartite:"
   ]
  },
  {
   "cell_type": "code",
   "execution_count": 71,
   "metadata": {},
   "outputs": [
    {
     "name": "stdout",
     "output_type": "stream",
     "text": [
      "Graph is bipartite: True\n"
     ]
    }
   ],
   "source": [
    "from networkx.algorithms import bipartite\n",
    "is_bipartite = bipartite.is_bipartite(G)\n",
    "print(f\"Graph is bipartite: {is_bipartite}\")"
   ]
  },
  {
   "cell_type": "markdown",
   "metadata": {},
   "source": [
    "### 2.2 Convert Graph to Torch Geometric"
   ]
  },
  {
   "cell_type": "code",
   "execution_count": null,
   "metadata": {},
   "outputs": [],
   "source": [
    "from torch_geometric.utils import from_networkx\n",
    "\n",
    "data = from_networkx(G)"
   ]
  },
  {
   "cell_type": "markdown",
   "metadata": {},
   "source": [
    "# 3 Recommender System Architectures\n",
    "\n",
    "In this section, we will implement and apply different recommender system architectures to the Goodreads-10k dataset. \n",
    "\n",
    "The architectures we want to test are:\n",
    "1. Graph Convolutional Network (GCN)\n",
    "2. Graph Attention Network (GATv2)\n",
    "3.\n",
    "\n",
    "\n",
    "### Perplexity Recommedations:\n",
    "\n",
    "1. **Graph Convolutional Networks (GCNs):** are a type of GNN that operate directly on the graph structure, allowing information to propagate between nodes along the edges of the graph. They can effectively capture high-order relationships between users and items by aggregating information from neighbors. GCNs have been widely used in recommender systems to learn latent representations of users and items from the user-item interaction graph.\n",
    "2. **GraphSAGE (Graph Sample and AggregatE):** is a highly scalable GNN architecture that can generate node embeddings by sampling and aggregating features from a node's neighborhood. It uses an inductive learning approach, allowing it to generalize to unseen nodes, making it suitable for dynamic recommendation scenarios. GraphSAGE's sampling technique and aggregation function flexibility make it a popular choice for large-scale recommender systems.\n",
    "3. **Knowledge Graph Attention Network (KGAT):** is a GNN-based model that incorporates knowledge graphs to enhance item representations. It constructs a heterogeneous graph consisting of users, items, and item attributes as nodes. KGAT recursively propagates and aggregates embeddings from neighboring nodes using an attention mechanism, capturing the importance of different neighbors. This approach leverages both user-item interactions and item knowledge for improved recommendations.\n",
    "4. **Edge-Enhanced Graph Neural Networks (EGNNs):** also known as Edge GraphSAGE or Enhanced Graph Neural Networks, extend the GraphSAGE model by incorporating edge features in addition to node features. In recommender systems, EGNNs can capture the type and strength of connections between users and items, leading to more accurate and personalized recommendations by modeling both node-level and edge-level interactions."
   ]
  },
  {
   "cell_type": "code",
   "execution_count": null,
   "metadata": {},
   "outputs": [],
   "source": [
    "import torch\n",
    "import torch.nn as nn\n",
    "import torch.optim as optim\n",
    "from torch_geometric.data import Data\n",
    "from torch_geometric.nn import GCNConv\n",
    "\n",
    "class BaseRecommender(nn.Module):\n",
    "    def __init__(self):\n",
    "        super(BaseRecommender, self).__init__()\n",
    "\n",
    "    def forward(self, data):\n",
    "        raise NotImplementedError(\"This method needs to be implemented by subclasses.\")\n",
    "\n",
    "    def train_model(self, data, epochs, lr):\n",
    "        optimizer = optim.Adam(self.parameters(), lr=lr)\n",
    "        criterion = nn.MSELoss()\n",
    "        \n",
    "        for epoch in range(epochs):\n",
    "            self.train()\n",
    "            optimizer.zero_grad()\n",
    "            output = self(data)\n",
    "            loss = criterion(output[data.train_mask], data.y[data.train_mask])\n",
    "            loss.backward()\n",
    "            optimizer.step()\n",
    "            \n",
    "            print(f\"Epoch {epoch+1}/{epochs}, Loss: {loss.item()}\")\n",
    "\n",
    "    def evaluate(self, data):\n",
    "        self.eval()\n",
    "        with torch.no_grad():\n",
    "            output = self(data)\n",
    "            mse = ((output[data.test_mask] - data.y[data.test_mask]) ** 2).mean().item()\n",
    "        return mse\n",
    "\n"
   ]
  },
  {
   "cell_type": "markdown",
   "metadata": {},
   "source": [
    "## 3.1 Graph Convolutional Networks (GCN)"
   ]
  },
  {
   "cell_type": "code",
   "execution_count": null,
   "metadata": {},
   "outputs": [],
   "source": [
    "class GCNRecommender(BaseRecommender):\n",
    "    def __init__(self, input_dim, hidden_dim, output_dim):\n",
    "        super(GCNRecommender, self).__init__()\n",
    "        self.conv1 = GCNConv(input_dim, hidden_dim)\n",
    "        self.conv2 = GCNConv(hidden_dim, output_dim)\n",
    "        self.relu = nn.ReLU()\n",
    "\n",
    "    def forward(self, data):\n",
    "        x, edge_index = data.x, data.edge_index\n",
    "        x = self.relu(self.conv1(x, edge_index))\n",
    "        x = self.conv2(x, edge_index)\n",
    "        return x\n"
   ]
  },
  {
   "cell_type": "code",
   "execution_count": 50,
   "metadata": {},
   "outputs": [
    {
     "data": {
      "text/html": [
       "<div>\n",
       "<style scoped>\n",
       "    .dataframe tbody tr th:only-of-type {\n",
       "        vertical-align: middle;\n",
       "    }\n",
       "\n",
       "    .dataframe tbody tr th {\n",
       "        vertical-align: top;\n",
       "    }\n",
       "\n",
       "    .dataframe thead th {\n",
       "        text-align: right;\n",
       "    }\n",
       "</style>\n",
       "<table border=\"1\" class=\"dataframe\">\n",
       "  <thead>\n",
       "    <tr style=\"text-align: right;\">\n",
       "      <th></th>\n",
       "      <th>user_id</th>\n",
       "      <th>book_id</th>\n",
       "      <th>rating</th>\n",
       "    </tr>\n",
       "  </thead>\n",
       "  <tbody>\n",
       "    <tr>\n",
       "      <th>0</th>\n",
       "      <td>1</td>\n",
       "      <td>258</td>\n",
       "      <td>5</td>\n",
       "    </tr>\n",
       "    <tr>\n",
       "      <th>1</th>\n",
       "      <td>2</td>\n",
       "      <td>4081</td>\n",
       "      <td>4</td>\n",
       "    </tr>\n",
       "    <tr>\n",
       "      <th>2</th>\n",
       "      <td>2</td>\n",
       "      <td>260</td>\n",
       "      <td>5</td>\n",
       "    </tr>\n",
       "    <tr>\n",
       "      <th>3</th>\n",
       "      <td>2</td>\n",
       "      <td>9296</td>\n",
       "      <td>5</td>\n",
       "    </tr>\n",
       "    <tr>\n",
       "      <th>4</th>\n",
       "      <td>2</td>\n",
       "      <td>2318</td>\n",
       "      <td>3</td>\n",
       "    </tr>\n",
       "    <tr>\n",
       "      <th>...</th>\n",
       "      <td>...</td>\n",
       "      <td>...</td>\n",
       "      <td>...</td>\n",
       "    </tr>\n",
       "    <tr>\n",
       "      <th>5976474</th>\n",
       "      <td>49925</td>\n",
       "      <td>510</td>\n",
       "      <td>5</td>\n",
       "    </tr>\n",
       "    <tr>\n",
       "      <th>5976475</th>\n",
       "      <td>49925</td>\n",
       "      <td>528</td>\n",
       "      <td>4</td>\n",
       "    </tr>\n",
       "    <tr>\n",
       "      <th>5976476</th>\n",
       "      <td>49925</td>\n",
       "      <td>722</td>\n",
       "      <td>4</td>\n",
       "    </tr>\n",
       "    <tr>\n",
       "      <th>5976477</th>\n",
       "      <td>49925</td>\n",
       "      <td>949</td>\n",
       "      <td>5</td>\n",
       "    </tr>\n",
       "    <tr>\n",
       "      <th>5976478</th>\n",
       "      <td>49925</td>\n",
       "      <td>1023</td>\n",
       "      <td>4</td>\n",
       "    </tr>\n",
       "  </tbody>\n",
       "</table>\n",
       "<p>5976479 rows × 3 columns</p>\n",
       "</div>"
      ],
      "text/plain": [
       "         user_id  book_id  rating\n",
       "0              1      258       5\n",
       "1              2     4081       4\n",
       "2              2      260       5\n",
       "3              2     9296       5\n",
       "4              2     2318       3\n",
       "...          ...      ...     ...\n",
       "5976474    49925      510       5\n",
       "5976475    49925      528       4\n",
       "5976476    49925      722       4\n",
       "5976477    49925      949       5\n",
       "5976478    49925     1023       4\n",
       "\n",
       "[5976479 rows x 3 columns]"
      ]
     },
     "execution_count": 50,
     "metadata": {},
     "output_type": "execute_result"
    }
   ],
   "source": [
    "ratings"
   ]
  },
  {
   "cell_type": "code",
   "execution_count": null,
   "metadata": {},
   "outputs": [],
   "source": []
  }
 ],
 "metadata": {
  "kernelspec": {
   "display_name": "networkml",
   "language": "python",
   "name": "python3"
  },
  "language_info": {
   "codemirror_mode": {
    "name": "ipython",
    "version": 3
   },
   "file_extension": ".py",
   "mimetype": "text/x-python",
   "name": "python",
   "nbconvert_exporter": "python",
   "pygments_lexer": "ipython3",
   "version": "3.10.14"
  }
 },
 "nbformat": 4,
 "nbformat_minor": 2
}
