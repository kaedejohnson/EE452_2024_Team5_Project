{
  "cells": [
    {
      "cell_type": "code",
      "execution_count": 46,
      "metadata": {
        "colab": {
          "base_uri": "https://localhost:8080/"
        },
        "id": "EZ9ZmYdmQU6v",
        "outputId": "d6db7ab2-c9e8-4866-bc42-80af7712ffec"
      },
      "outputs": [],
      "source": [
        "try:\n",
        "    from google.colab import drive\n",
        "    drive.mount(\"/content/drive\", force_remount = True)\n",
        "except:\n",
        "    pass"
      ]
    },
    {
      "cell_type": "code",
      "execution_count": 47,
      "metadata": {
        "colab": {
          "base_uri": "https://localhost:8080/"
        },
        "id": "6-ew8rkxQU6w",
        "outputId": "6af0f2e2-359e-46a7-fb1b-9be86804953c"
      },
      "outputs": [],
      "source": [
        "import os\n",
        "try:\n",
        "    ROOT_PATH = \"/content/drive/MyDrive/EE452_2024_Team5_Project/\"  # Replace with your directory to A3 folder\n",
        "    print(os.listdir(ROOT_PATH)) # Check the content of the path\n",
        "    os.chdir(ROOT_PATH) # cd into directory\n",
        "    print(os.listdir(\".\")) # Check the content of current folder\n",
        "except:\n",
        "    pass"
      ]
    },
    {
      "cell_type": "code",
      "execution_count": 48,
      "metadata": {
        "id": "MaMZoR24QU6w"
      },
      "outputs": [],
      "source": [
        "from src.ngcf import NGCF\n",
        "import pandas as pd\n",
        "import torch\n",
        "import networkx as nx\n",
        "from sklearn.model_selection import train_test_split\n",
        "\n",
        "import json\n",
        "import os\n",
        "from time import time\n",
        "from datetime import datetime\n",
        "\n",
        "from src.ngcf_utils.load_data import Data\n",
        "from src.ngcf_utils.parser import parse_args\n",
        "from src.ngcf_utils.helper_functions import early_stopping,\\\n",
        "                                   train,\\\n",
        "                                   split_matrix,\\\n",
        "                                   compute_ndcg_k,\\\n",
        "                                   eval_model,\\\n",
        "                                   probability_matrix\n",
        "from src.ngcf import NGCF\n",
        "\n",
        "use_cuda = torch.cuda.is_available()\n",
        "device = torch.device(\"cuda\" if torch.cuda.is_available() else \"cpu\")"
      ]
    },
    {
      "cell_type": "markdown",
      "metadata": {
        "id": "tJXL-YYcQU6x"
      },
      "source": [
        "# 2 Positive Interaction Prediction (Neural Graph Collaborative Filtering)"
      ]
    },
    {
      "cell_type": "code",
      "execution_count": 49,
      "metadata": {
        "id": "kjAzXXQEQU6x"
      },
      "outputs": [],
      "source": [
        "ngcf_link_predictor_folder = \"data/ngcf_interaction_predictor/\""
      ]
    },
    {
      "cell_type": "code",
      "execution_count": 50,
      "metadata": {
        "colab": {
          "base_uri": "https://localhost:8080/"
        },
        "id": "8Rd57XF5QU6y",
        "outputId": "daf2091e-85a9-4f3e-c2cc-bf881148ce75"
      },
      "outputs": [
        {
          "name": "stdout",
          "output_type": "stream",
          "text": [
            "Requirement already satisfied: wandb in c:\\users\\hp\\anaconda3\\envs\\networkml\\lib\\site-packages (0.17.1)\n",
            "Requirement already satisfied: click!=8.0.0,>=7.1 in c:\\users\\hp\\anaconda3\\envs\\networkml\\lib\\site-packages (from wandb) (8.1.7)\n",
            "Requirement already satisfied: docker-pycreds>=0.4.0 in c:\\users\\hp\\anaconda3\\envs\\networkml\\lib\\site-packages (from wandb) (0.4.0)\n",
            "Requirement already satisfied: gitpython!=3.1.29,>=1.0.0 in c:\\users\\hp\\anaconda3\\envs\\networkml\\lib\\site-packages (from wandb) (3.1.43)\n",
            "Requirement already satisfied: platformdirs in c:\\users\\hp\\anaconda3\\envs\\networkml\\lib\\site-packages (from wandb) (4.2.2)\n",
            "Requirement already satisfied: protobuf!=4.21.0,<6,>=3.19.0 in c:\\users\\hp\\anaconda3\\envs\\networkml\\lib\\site-packages (from wandb) (5.27.1)\n",
            "Requirement already satisfied: psutil>=5.0.0 in c:\\users\\hp\\anaconda3\\envs\\networkml\\lib\\site-packages (from wandb) (5.9.0)\n",
            "Requirement already satisfied: pyyaml in c:\\users\\hp\\anaconda3\\envs\\networkml\\lib\\site-packages (from wandb) (6.0.1)\n",
            "Requirement already satisfied: requests<3,>=2.0.0 in c:\\users\\hp\\anaconda3\\envs\\networkml\\lib\\site-packages (from wandb) (2.31.0)\n",
            "Requirement already satisfied: sentry-sdk>=1.0.0 in c:\\users\\hp\\anaconda3\\envs\\networkml\\lib\\site-packages (from wandb) (2.5.0)\n",
            "Requirement already satisfied: setproctitle in c:\\users\\hp\\anaconda3\\envs\\networkml\\lib\\site-packages (from wandb) (1.3.3)\n",
            "Requirement already satisfied: setuptools in c:\\users\\hp\\anaconda3\\envs\\networkml\\lib\\site-packages (from wandb) (68.2.2)\n",
            "Requirement already satisfied: typing-extensions in c:\\users\\hp\\anaconda3\\envs\\networkml\\lib\\site-packages (from wandb) (4.11.0)\n",
            "Requirement already satisfied: colorama in c:\\users\\hp\\anaconda3\\envs\\networkml\\lib\\site-packages (from click!=8.0.0,>=7.1->wandb) (0.4.6)\n",
            "Requirement already satisfied: six>=1.4.0 in c:\\users\\hp\\anaconda3\\envs\\networkml\\lib\\site-packages (from docker-pycreds>=0.4.0->wandb) (1.16.0)\n",
            "Requirement already satisfied: gitdb<5,>=4.0.1 in c:\\users\\hp\\anaconda3\\envs\\networkml\\lib\\site-packages (from gitpython!=3.1.29,>=1.0.0->wandb) (4.0.11)\n",
            "Requirement already satisfied: charset-normalizer<4,>=2 in c:\\users\\hp\\anaconda3\\envs\\networkml\\lib\\site-packages (from requests<3,>=2.0.0->wandb) (3.3.2)\n",
            "Requirement already satisfied: idna<4,>=2.5 in c:\\users\\hp\\anaconda3\\envs\\networkml\\lib\\site-packages (from requests<3,>=2.0.0->wandb) (3.7)\n",
            "Requirement already satisfied: urllib3<3,>=1.21.1 in c:\\users\\hp\\anaconda3\\envs\\networkml\\lib\\site-packages (from requests<3,>=2.0.0->wandb) (2.2.1)\n",
            "Requirement already satisfied: certifi>=2017.4.17 in c:\\users\\hp\\anaconda3\\envs\\networkml\\lib\\site-packages (from requests<3,>=2.0.0->wandb) (2024.2.2)\n",
            "Requirement already satisfied: smmap<6,>=3.0.1 in c:\\users\\hp\\anaconda3\\envs\\networkml\\lib\\site-packages (from gitdb<5,>=4.0.1->gitpython!=3.1.29,>=1.0.0->wandb) (5.0.1)\n"
          ]
        }
      ],
      "source": [
        "!pip install --upgrade wandb"
      ]
    },
    {
      "cell_type": "code",
      "execution_count": 51,
      "metadata": {
        "colab": {
          "base_uri": "https://localhost:8080/"
        },
        "id": "PAbIcdWKQU6y",
        "outputId": "18b15c5d-5694-470e-d7c1-1c3bd04b519f"
      },
      "outputs": [
        {
          "name": "stderr",
          "output_type": "stream",
          "text": [
            "Failed to detect the name of this notebook, you can set it manually with the WANDB_NOTEBOOK_NAME environment variable to enable code saving.\n",
            "\u001b[34m\u001b[1mwandb\u001b[0m: Currently logged in as: \u001b[33mkaede-johnson\u001b[0m (\u001b[33mhans-kvaerum\u001b[0m). Use \u001b[1m`wandb login --relogin`\u001b[0m to force relogin\n"
          ]
        }
      ],
      "source": [
        "import wandb\n",
        "\n",
        "try:\n",
        "    from google.colab import userdata\n",
        "    wandbkey = userdata.get('WANDB_KEY')\n",
        "except:\n",
        "    pass\n",
        "\n",
        "try:\n",
        "    wandb.finish()\n",
        "except:\n",
        "    pass\n",
        "\n",
        "try:\n",
        "    wandb.login(key=wandbkey)\n",
        "except:\n",
        "    wandb.login()"
      ]
    },
    {
      "cell_type": "markdown",
      "metadata": {
        "id": "gB9LnjluQU6y"
      },
      "source": [
        "### 2a Define train functions"
      ]
    },
    {
      "cell_type": "code",
      "execution_count": 52,
      "metadata": {
        "id": "BSUzb0vPQU6z"
      },
      "outputs": [],
      "source": [
        "def prep_data(to_reads):\n",
        "    # load in graph\n",
        "    if to_reads == True:\n",
        "        train_graph = nx.read_graphml(\"data/bipartite_sample_train_wtr.graphml\")\n",
        "        test_graph = nx.read_graphml(\"data/bipartite_sample_test_wtr.graphml\")\n",
        "    else:\n",
        "        train_graph = nx.read_graphml(\"data/bipartite_sample_train.graphml\")\n",
        "        test_graph = nx.read_graphml(\"data/bipartite_sample_test.graphml\")\n",
        "\n",
        "    combined_graph = nx.compose(train_graph, test_graph)\n",
        "    # create node name to index mapping\n",
        "    ## based on codebase for NGCF, indices for both sets start at 0!\n",
        "    user_nodes = {node for node, node_type in combined_graph.nodes(data=True) if node_type['node_type'] == 'user'}\n",
        "    book_nodes = {book for book, node_type in combined_graph.nodes(data=True) if node_type['node_type'] == 'book'}\n",
        "    book_to_idx_map = {node: i for i, node in enumerate(book_nodes)}\n",
        "    user_to_idx_map = {node: i for i, node in enumerate(user_nodes)}\n",
        "    with open(ngcf_link_predictor_folder + 'book_to_idx_map.json', 'w') as json_file:\n",
        "        json.dump(book_to_idx_map, json_file, indent=4)\n",
        "    with open(ngcf_link_predictor_folder + 'user_to_idx_map.json', 'w') as json_file:\n",
        "        json.dump(user_to_idx_map, json_file, indent=4)\n",
        "    user_count = len(user_to_idx_map.keys()) # used in wandb naming below\n",
        "    book_count = len(book_to_idx_map.keys()) # used in wandb naming below\n",
        "\n",
        "    # save train and test in format suited for NGCF codebase\n",
        "    def save_graph_edges_to_txt(G, filename):\n",
        "        with open(filename, 'w') as file:\n",
        "            for node, data in G.nodes(data=True):\n",
        "                if data['node_type'] == 'user':\n",
        "                    user_node = node # just to make following commands clearer\n",
        "                    neighbors = list(G.neighbors(user_node))\n",
        "                    user_node_remapped = user_to_idx_map[user_node]\n",
        "                    line = f\"{user_node_remapped} \" + \" \".join(map(str, [book_to_idx_map[neighbor] for neighbor in neighbors]))\n",
        "                    file.write(line + '\\n')\n",
        "    save_graph_edges_to_txt(train_graph, ngcf_link_predictor_folder + \"ngcf_train.txt\")\n",
        "    save_graph_edges_to_txt(test_graph, ngcf_link_predictor_folder + \"ngcf_test.txt\")\n",
        "    return user_count, book_count, user_to_idx_map, book_to_idx_map"
      ]
    },
    {
      "cell_type": "code",
      "execution_count": 9,
      "metadata": {
        "id": "aAluur_QQU6z"
      },
      "outputs": [],
      "source": [
        "def init_wandb(loss, to_reads, prob_cutoff, pos_weight, batch_size, layers, emb_dim, lr, reg, mess_dropout, node_dropout, user_count, book_count, k, n_epochs):\n",
        "    # create model name\n",
        "    modelname =  \"LP_\" + \\\n",
        "        \"_loss_\" + str(loss) + \\\n",
        "        \"_tr_\" + str(to_reads) + \\\n",
        "        \"_pcutoff_\" + str(prob_cutoff) + \\\n",
        "        \"_poswght_\" + str(pos_weight) + \\\n",
        "        \"_bs_\" + str(batch_size) + \\\n",
        "        \"_layers_\" + str(layers) + \\\n",
        "        \"_nemb_\" + str(emb_dim) + \\\n",
        "        \"_lr_\"  + str(lr) + \\\n",
        "        \"_reg_\" + str(reg) + \\\n",
        "        \"_messdr_\" + str(mess_dropout) + \\\n",
        "        \"_nodedr_\" + str(node_dropout) + \\\n",
        "        \"_ucount_\" + str(user_count) + \\\n",
        "        \"_bcount_\" + str(book_count)\n",
        "\n",
        "    # set wandb init\n",
        "    wandb.init(\n",
        "\n",
        "        # set the wandb project where this run will be logged\n",
        "        project=\"nml_project\",\n",
        "\n",
        "        # name run\n",
        "        name=modelname,\n",
        "\n",
        "        # track hyperparameters and run metadata\n",
        "        config={\n",
        "        \"architecture\": \"NGCF\",\n",
        "        \"loss\": str(loss),\n",
        "        \"tr\": str(to_reads),\n",
        "        \"pcutoff\": str(prob_cutoff),\n",
        "        \"batch_size\": batch_size,\n",
        "        \"layers\": layers,\n",
        "        \"emb_dim\": emb_dim,\n",
        "        \"lr\": lr,\n",
        "        \"reg\": reg,\n",
        "        \"mess_dropout\": mess_dropout,\n",
        "        \"node_dropout\": node_dropout,\n",
        "        \"user_count\": user_count,\n",
        "        \"book_count\": book_count,\n",
        "        \"k\": k,\n",
        "        \"epochs\": n_epochs,\n",
        "        }\n",
        "    )\n",
        "\n",
        "    return modelname"
      ]
    },
    {
      "cell_type": "code",
      "execution_count": 13,
      "metadata": {
        "id": "6yOZY_vqQU6z"
      },
      "outputs": [],
      "source": [
        "def train_interaction_predictor(loss_name, prob_cutoff, pos_weight, batch_size, layers, emb_dim, lr, reg, mess_dropout, node_dropout, user_count, book_count, k, n_epochs, eval_N, save_results, modelname):\n",
        "\n",
        "    # generate the NGCF-adjacency matrix\n",
        "    data_generator = Data(path=ngcf_link_predictor_folder, batch_size=batch_size)\n",
        "    adj_mtx = data_generator.get_adj_mat()\n",
        "\n",
        "    # create NGCF model\n",
        "    model = NGCF(user_count,\n",
        "                    book_count,\n",
        "                    emb_dim,\n",
        "                    layers,\n",
        "                    reg,\n",
        "                    node_dropout,\n",
        "                    mess_dropout,\n",
        "                    adj_mtx,\n",
        "                    pos_weight,\n",
        "                    prob_cutoff,\n",
        "                    loss_name)\n",
        "    if use_cuda:\n",
        "        model = model.cuda()\n",
        "\n",
        "    # current best metric\n",
        "    cur_best_metric = 0\n",
        "\n",
        "    # Adam optimizer\n",
        "    optimizer = torch.optim.Adam(model.parameters(), lr=lr)\n",
        "\n",
        "    # Set values for early stopping\n",
        "    cur_best_loss, stopping_step, should_stop = 1e3, 0, False\n",
        "    today = datetime.now()\n",
        "    date = today.strftime(\"%d%m%Y_%H%M\")\n",
        "    results = {\"Epoch\": [],\n",
        "                \"Loss\": [],\n",
        "                \"Precision\": [],\n",
        "                \"Recall\": [],\n",
        "                \"NDCG\": [],\n",
        "                \"Training Time\": []}\n",
        "\n",
        "    for epoch in range(n_epochs):\n",
        "\n",
        "        t1 = time()\n",
        "        loss = train(model, data_generator, optimizer)\n",
        "        training_time = time()-t1\n",
        "        print(\"Epoch: {}, Training time: {:.2f}s, Loss: {:.4f}\".\n",
        "            format(epoch, training_time, loss))\n",
        "\n",
        "        wandb.log({\"training_loss\": loss})\n",
        "\n",
        "        # print test evaluation metrics every N epochs (provided by eval_N)\n",
        "        if epoch % eval_N  == (eval_N - 1):\n",
        "            with torch.no_grad():\n",
        "                t2 = time()\n",
        "                precision, recall, ndcg = eval_model(model.u_g_embeddings.detach().to(device),\n",
        "                                            model.i_g_embeddings.detach().to(device),\n",
        "                                            data_generator.R_train,\n",
        "                                            data_generator.R_test,\n",
        "                                            k,\n",
        "                                            device)\n",
        "            #print(\n",
        "            #    \"Evaluate current model:\\n\",\n",
        "            #    \"Epoch: {}, Validation time: {:.2f}s\".format(epoch, time()-t2),\"\\n\",\n",
        "            #    \"Loss: {:.4f}:\".format(loss), \"\\n\",\n",
        "            #    \"Recall@{}: {:.4f}\".format(k, recall), \"\\n\",\n",
        "            #    \"NDCG@{}: {:.4f}\".format(k, ndcg)\n",
        "            #    )\n",
        "\n",
        "            cur_best_metric, stopping_step, should_stop = \\\n",
        "            early_stopping(recall, cur_best_metric, stopping_step, flag_step=5)\n",
        "\n",
        "            # save results in dict\n",
        "            results['Epoch'].append(epoch)\n",
        "            results['Loss'].append(loss)\n",
        "            results['Precision'].append(precision.item())\n",
        "            results['Recall'].append(recall.item())\n",
        "            results['NDCG'].append(ndcg.item())\n",
        "            results['Training Time'].append(training_time)\n",
        "\n",
        "            p_mat, test_recall, test_precision, test_f1_score = probability_matrix(model.u_g_embeddings.detach().to(device),\n",
        "                                            model.i_g_embeddings.detach().to(device),\n",
        "                                            data_generator.R_train,\n",
        "                                            data_generator.R_test,\n",
        "                                            device)\n",
        "\n",
        "            wandb.log({f\"test_recall\": test_recall, f\"test_precision\": test_precision, f\"test_f1_score\": test_f1_score, f\"rec_{k}\": recall.item(), f\"ndcg_{k}\": ndcg.item()})\n",
        "\n",
        "            # save model as .pt file\n",
        "            if os.path.isdir(ngcf_link_predictor_folder + \"/models\"):\n",
        "                torch.save(model.state_dict(), ngcf_link_predictor_folder + \"/models/\" + str(date) + \"_\" + modelname + \"_epoch_\" + str(epoch) + \".pt\")\n",
        "            else:\n",
        "                os.mkdir(ngcf_link_predictor_folder + \"/models\")\n",
        "                torch.save(model.state_dict(), ngcf_link_predictor_folder + \"/models/\" + str(date) + \"_\" + modelname + \"_epoch_\" + str(epoch) + \".pt\")\n",
        "\n",
        "        else:\n",
        "            # save results in dict\n",
        "            results['Epoch'].append(epoch)\n",
        "            results['Loss'].append(loss)\n",
        "            results['Precision'].append(None)\n",
        "            results['Recall'].append(None)\n",
        "            results['NDCG'].append(None)\n",
        "            results['Training Time'].append(training_time)\n",
        "\n",
        "        if should_stop == True: break\n",
        "\n",
        "    wandb.finish()\n",
        "\n",
        "    # save\n",
        "    if save_results:\n",
        "        date = today.strftime(\"%d%m%Y_%H%M\")\n",
        "\n",
        "        # save model as .pt file\n",
        "        if os.path.isdir(ngcf_link_predictor_folder + \"/models\"):\n",
        "            torch.save(model.state_dict(), ngcf_link_predictor_folder + \"/models\" + str(date) + \"_\" + modelname + \".pt\")\n",
        "        else:\n",
        "            os.mkdir(ngcf_link_predictor_folder + \"/models\")\n",
        "            torch.save(model.state_dict(), ngcf_link_predictor_folder + \"/models\" + str(date) + \"_\" + modelname + \".pt\")\n",
        "\n",
        "        # save results as pandas dataframe\n",
        "        results_df = pd.DataFrame(results)\n",
        "        results_df.set_index('Epoch', inplace=True)\n",
        "        if os.path.isdir(ngcf_link_predictor_folder + \"/results\"):\n",
        "            results_df.to_csv(ngcf_link_predictor_folder + \"/results\" + str(date) + \"_\" + modelname + \".csv\")\n",
        "        else:\n",
        "            os.mkdir(ngcf_link_predictor_folder + \"/results\")\n",
        "            results_df.to_csv(ngcf_link_predictor_folder + \"/results\" + str(date) + \"_\" + modelname + \".csv\")\n",
        "        # plot loss\n",
        "        results_df['Loss'].plot(figsize=(12,8), title='Loss')"
      ]
    },
    {
      "cell_type": "markdown",
      "metadata": {
        "id": "RnyFwIvADj0F"
      },
      "source": [
        "### 2b) Train! Chosen model from 2c on full subset"
      ]
    },
    {
      "cell_type": "code",
      "execution_count": 53,
      "metadata": {
        "id": "8uaemsD6Dj0F"
      },
      "outputs": [],
      "source": [
        "# custom\n",
        "loss_name = 'bce' # 'bpr' or 'bce'\n",
        "to_reads = True # True or False\n",
        "prob_cutoff = .90 # threshold above which a positive interaction is predicted to occur\n",
        "pos_weight = 1 # weight for positive class in BCE loss (helps for imbalanced data). 1 = no reweighting\n",
        "\n",
        "# standard\n",
        "batch_size = 16\n",
        "layers = [16, 32]\n",
        "emb_dim = 52\n",
        "lr = 0.015\n",
        "reg = 0.005\n",
        "mess_dropout = 0.01\n",
        "node_dropout = 0.01\n",
        "k = 20\n",
        "n_epochs = 40\n",
        "save_results = True\n",
        "eval_N = 1 # how often to print eval results"
      ]
    },
    {
      "cell_type": "code",
      "execution_count": 17,
      "metadata": {
        "colab": {
          "base_uri": "https://localhost:8080/",
          "height": 1000,
          "referenced_widgets": [
            "22847f82877a47d389a46f65816db5f5",
            "d9715469e5c04e0b96a15d70577e0e1e",
            "0ba6ca598ece4419ba9e5d2fb815c5be",
            "763ce15c8c71428fbc8693c5e8c3f3ea",
            "797c312c2e544c7fa9e55d1a236d78a9",
            "002a12c8ab2440f3bcc0ec5e3409a103",
            "17ce203966d5477083b5a7bffde6c857",
            "ee12ebab6ff1479eb2e90a7a081df4a3",
            "3eb95b8386754b09bc918ee97202285b",
            "2a4275f9c53e44679aed7bff5501ef9d",
            "a8dba3b55ade4a3791267576c056ee59",
            "e45ca12439b84c60b6b869d0762e9a23",
            "25b60a8d7f9a4ff29c8748764ca5be3c",
            "9400d48a822c489a840559ffed48121a",
            "5839e5aff10c4935a4f68550aa964c2f",
            "91cb04eec1864a3180e9e72d0da9c588"
          ]
        },
        "id": "OvuOBTs5Dj0G",
        "outputId": "7ea64b2c-fbfd-4699-8529-fa7301afe09d"
      },
      "outputs": [
        {
          "data": {
            "text/html": [
              "Finishing last run (ID:9jjgdx2v) before initializing another..."
            ],
            "text/plain": [
              "<IPython.core.display.HTML object>"
            ]
          },
          "metadata": {},
          "output_type": "display_data"
        },
        {
          "data": {
            "application/vnd.jupyter.widget-view+json": {
              "model_id": "22847f82877a47d389a46f65816db5f5",
              "version_major": 2,
              "version_minor": 0
            },
            "text/plain": [
              "VBox(children=(Label(value='0.001 MB of 0.001 MB uploaded\\r'), FloatProgress(value=1.0, max=1.0)))"
            ]
          },
          "metadata": {},
          "output_type": "display_data"
        },
        {
          "data": {
            "text/html": [
              "<style>\n",
              "    table.wandb td:nth-child(1) { padding: 0 10px; text-align: left ; width: auto;} td:nth-child(2) {text-align: left ; width: 100%}\n",
              "    .wandb-row { display: flex; flex-direction: row; flex-wrap: wrap; justify-content: flex-start; width: 100% }\n",
              "    .wandb-col { display: flex; flex-direction: column; flex-basis: 100%; flex: 1; padding: 10px; }\n",
              "    </style>\n",
              "<div class=\"wandb-row\"><div class=\"wandb-col\"><h3>Run history:</h3><br/><table class=\"wandb\"><tr><td>ndcg_20</td><td>▁</td></tr><tr><td>rec_20</td><td>▁</td></tr><tr><td>test_f1_score</td><td>▁</td></tr><tr><td>test_precision</td><td>▁</td></tr><tr><td>test_recall</td><td>▁</td></tr><tr><td>training_loss</td><td>▁▆██</td></tr></table><br/></div><div class=\"wandb-col\"><h3>Run summary:</h3><br/><table class=\"wandb\"><tr><td>ndcg_20</td><td>0.34632</td></tr><tr><td>rec_20</td><td>0.07567</td></tr><tr><td>test_f1_score</td><td>0.09139</td></tr><tr><td>test_precision</td><td>0.05061</td></tr><tr><td>test_recall</td><td>0.47006</td></tr><tr><td>training_loss</td><td>10279.84007</td></tr></table><br/></div></div>"
            ],
            "text/plain": [
              "<IPython.core.display.HTML object>"
            ]
          },
          "metadata": {},
          "output_type": "display_data"
        },
        {
          "data": {
            "text/html": [
              " View run <strong style=\"color:#cdcd00\">LP__loss_bce_tr_True_pcutoff_0.9_poswght_1_bs_16_layers_[16, 32]_nemb_52_lr_0.015_reg_0.005_messdr_0.01_nodedr_0.01_ucount_3000_bcount_1500</strong> at: <a href='https://wandb.ai/hans-kvaerum/nml_project/runs/9jjgdx2v' target=\"_blank\">https://wandb.ai/hans-kvaerum/nml_project/runs/9jjgdx2v</a><br/> View project at: <a href='https://wandb.ai/hans-kvaerum/nml_project' target=\"_blank\">https://wandb.ai/hans-kvaerum/nml_project</a><br/>Synced 5 W&B file(s), 0 media file(s), 0 artifact file(s) and 0 other file(s)"
            ],
            "text/plain": [
              "<IPython.core.display.HTML object>"
            ]
          },
          "metadata": {},
          "output_type": "display_data"
        },
        {
          "data": {
            "text/html": [
              "Find logs at: <code>./wandb/run-20240610_121254-9jjgdx2v/logs</code>"
            ],
            "text/plain": [
              "<IPython.core.display.HTML object>"
            ]
          },
          "metadata": {},
          "output_type": "display_data"
        },
        {
          "data": {
            "text/html": [
              "Successfully finished last run (ID:9jjgdx2v). Initializing new run:<br/>"
            ],
            "text/plain": [
              "<IPython.core.display.HTML object>"
            ]
          },
          "metadata": {},
          "output_type": "display_data"
        },
        {
          "data": {
            "text/html": [
              "Tracking run with wandb version 0.17.1"
            ],
            "text/plain": [
              "<IPython.core.display.HTML object>"
            ]
          },
          "metadata": {},
          "output_type": "display_data"
        },
        {
          "data": {
            "text/html": [
              "Run data is saved locally in <code>/content/drive/MyDrive/EE452_2024_Team5_Project/wandb/run-20240610_123500-33b7zpzo</code>"
            ],
            "text/plain": [
              "<IPython.core.display.HTML object>"
            ]
          },
          "metadata": {},
          "output_type": "display_data"
        },
        {
          "data": {
            "text/html": [
              "Syncing run <strong><a href='https://wandb.ai/hans-kvaerum/nml_project/runs/33b7zpzo' target=\"_blank\">LP__loss_bce_tr_True_pcutoff_0.9_poswght_1_bs_16_layers_[16, 32]_nemb_52_lr_0.015_reg_0.005_messdr_0.01_nodedr_0.01_ucount_3000_bcount_1500</a></strong> to <a href='https://wandb.ai/hans-kvaerum/nml_project' target=\"_blank\">Weights & Biases</a> (<a href='https://wandb.me/run' target=\"_blank\">docs</a>)<br/>"
            ],
            "text/plain": [
              "<IPython.core.display.HTML object>"
            ]
          },
          "metadata": {},
          "output_type": "display_data"
        },
        {
          "data": {
            "text/html": [
              " View project at <a href='https://wandb.ai/hans-kvaerum/nml_project' target=\"_blank\">https://wandb.ai/hans-kvaerum/nml_project</a>"
            ],
            "text/plain": [
              "<IPython.core.display.HTML object>"
            ]
          },
          "metadata": {},
          "output_type": "display_data"
        },
        {
          "data": {
            "text/html": [
              " View run at <a href='https://wandb.ai/hans-kvaerum/nml_project/runs/33b7zpzo' target=\"_blank\">https://wandb.ai/hans-kvaerum/nml_project/runs/33b7zpzo</a>"
            ],
            "text/plain": [
              "<IPython.core.display.HTML object>"
            ]
          },
          "metadata": {},
          "output_type": "display_data"
        },
        {
          "name": "stdout",
          "output_type": "stream",
          "text": [
            "n_users=3000, n_items=1500\n",
            "n_interactions=218592\n",
            "n_train=151596, n_test=66996, sparsity=0.04858\n",
            "Creating interaction matrices R_train and R_test...\n",
            "Complete. Interaction matrices R_train and R_test created in 2.0182368755340576 sec\n",
            "Creating adjacency-matrix...\n",
            "Complete. Adjacency-matrix created in (4500, 4500) 0.6544749736785889 sec.\n",
            "Transforming adjacency-matrix to NGCF-adjacency matrix...\n",
            "Complete. Transformed adjacency-matrix to NGCF-adjacency matrix in 0.37917113304138184 sec.\n",
            "Initializing weights...\n",
            "Weights initialized.\n"
          ]
        },
        {
          "name": "stderr",
          "output_type": "stream",
          "text": [
            "100%|██████████| 9475/9475 [04:46<00:00, 33.12it/s]\n"
          ]
        },
        {
          "name": "stdout",
          "output_type": "stream",
          "text": [
            "Epoch: 0, Training time: 286.06s, Loss: 9393.2882\n",
            "Counter({1.0: 66996})\n",
            "635607 28473 66996 (3000, 1500) torch.Size([3000, 100]) torch.Size([1500, 100]) (3000, 1500)\n"
          ]
        },
        {
          "name": "stderr",
          "output_type": "stream",
          "text": [
            "100%|██████████| 9475/9475 [04:45<00:00, 33.23it/s]\n"
          ]
        },
        {
          "name": "stdout",
          "output_type": "stream",
          "text": [
            "Epoch: 1, Training time: 285.19s, Loss: 10282.8805\n",
            "Counter({1.0: 66996})\n",
            "669890 31742 66996 (3000, 1500) torch.Size([3000, 100]) torch.Size([1500, 100]) (3000, 1500)\n"
          ]
        },
        {
          "name": "stderr",
          "output_type": "stream",
          "text": [
            "100%|██████████| 9475/9475 [04:48<00:00, 32.87it/s]\n"
          ]
        },
        {
          "name": "stdout",
          "output_type": "stream",
          "text": [
            "Epoch: 2, Training time: 288.29s, Loss: 10552.2395\n",
            "Counter({1.0: 66996})\n",
            "650100 31615 66996 (3000, 1500) torch.Size([3000, 100]) torch.Size([1500, 100]) (3000, 1500)\n"
          ]
        },
        {
          "name": "stderr",
          "output_type": "stream",
          "text": [
            "100%|██████████| 9475/9475 [04:45<00:00, 33.13it/s]\n"
          ]
        },
        {
          "name": "stdout",
          "output_type": "stream",
          "text": [
            "Epoch: 3, Training time: 286.00s, Loss: 10523.0636\n",
            "Counter({1.0: 66996})\n",
            "644948 32196 66996 (3000, 1500) torch.Size([3000, 100]) torch.Size([1500, 100]) (3000, 1500)\n"
          ]
        },
        {
          "name": "stderr",
          "output_type": "stream",
          "text": [
            "100%|██████████| 9475/9475 [04:44<00:00, 33.25it/s]\n"
          ]
        },
        {
          "name": "stdout",
          "output_type": "stream",
          "text": [
            "Epoch: 4, Training time: 284.95s, Loss: 10451.3881\n",
            "Counter({1.0: 66996})\n",
            "637039 32526 66996 (3000, 1500) torch.Size([3000, 100]) torch.Size([1500, 100]) (3000, 1500)\n"
          ]
        },
        {
          "name": "stderr",
          "output_type": "stream",
          "text": [
            "100%|██████████| 9475/9475 [04:44<00:00, 33.32it/s]\n"
          ]
        },
        {
          "name": "stdout",
          "output_type": "stream",
          "text": [
            "Epoch: 5, Training time: 284.38s, Loss: 10297.8228\n",
            "Counter({1.0: 66996})\n",
            "642827 32559 66996 (3000, 1500) torch.Size([3000, 100]) torch.Size([1500, 100]) (3000, 1500)\n"
          ]
        },
        {
          "name": "stderr",
          "output_type": "stream",
          "text": [
            "100%|██████████| 9475/9475 [04:45<00:00, 33.20it/s]\n"
          ]
        },
        {
          "name": "stdout",
          "output_type": "stream",
          "text": [
            "Epoch: 6, Training time: 285.40s, Loss: 10246.1219\n",
            "Counter({1.0: 66996})\n",
            "635274 32714 66996 (3000, 1500) torch.Size([3000, 100]) torch.Size([1500, 100]) (3000, 1500)\n"
          ]
        },
        {
          "name": "stderr",
          "output_type": "stream",
          "text": [
            "100%|██████████| 9475/9475 [04:49<00:00, 32.74it/s]\n"
          ]
        },
        {
          "name": "stdout",
          "output_type": "stream",
          "text": [
            "Epoch: 7, Training time: 289.37s, Loss: 10264.7158\n",
            "Counter({1.0: 66996})\n",
            "605998 32113 66996 (3000, 1500) torch.Size([3000, 100]) torch.Size([1500, 100]) (3000, 1500)\n"
          ]
        },
        {
          "name": "stderr",
          "output_type": "stream",
          "text": [
            "100%|██████████| 9475/9475 [04:43<00:00, 33.37it/s]\n"
          ]
        },
        {
          "name": "stdout",
          "output_type": "stream",
          "text": [
            "Epoch: 8, Training time: 283.93s, Loss: 10163.5042\n",
            "Counter({1.0: 66996})\n",
            "618176 32658 66996 (3000, 1500) torch.Size([3000, 100]) torch.Size([1500, 100]) (3000, 1500)\n"
          ]
        },
        {
          "name": "stderr",
          "output_type": "stream",
          "text": [
            "100%|██████████| 9475/9475 [04:45<00:00, 33.20it/s]\n"
          ]
        },
        {
          "name": "stdout",
          "output_type": "stream",
          "text": [
            "Epoch: 9, Training time: 285.38s, Loss: 10155.6708\n",
            "Counter({1.0: 66996})\n",
            "602788 31871 66996 (3000, 1500) torch.Size([3000, 100]) torch.Size([1500, 100]) (3000, 1500)\n"
          ]
        },
        {
          "name": "stderr",
          "output_type": "stream",
          "text": [
            "100%|██████████| 9475/9475 [04:44<00:00, 33.27it/s]\n"
          ]
        },
        {
          "name": "stdout",
          "output_type": "stream",
          "text": [
            "Epoch: 10, Training time: 284.78s, Loss: 10092.7953\n",
            "Counter({1.0: 66996})\n",
            "602789 33125 66996 (3000, 1500) torch.Size([3000, 100]) torch.Size([1500, 100]) (3000, 1500)\n"
          ]
        },
        {
          "name": "stderr",
          "output_type": "stream",
          "text": [
            "100%|██████████| 9475/9475 [04:44<00:00, 33.34it/s]\n"
          ]
        },
        {
          "name": "stdout",
          "output_type": "stream",
          "text": [
            "Epoch: 11, Training time: 284.18s, Loss: 10076.8155\n",
            "Counter({1.0: 66996})\n",
            "596240 32018 66996 (3000, 1500) torch.Size([3000, 100]) torch.Size([1500, 100]) (3000, 1500)\n"
          ]
        },
        {
          "name": "stderr",
          "output_type": "stream",
          "text": [
            "100%|██████████| 9475/9475 [04:44<00:00, 33.29it/s]\n"
          ]
        },
        {
          "name": "stdout",
          "output_type": "stream",
          "text": [
            "Epoch: 12, Training time: 284.63s, Loss: 10027.9403\n",
            "Counter({1.0: 66996})\n",
            "597199 32564 66996 (3000, 1500) torch.Size([3000, 100]) torch.Size([1500, 100]) (3000, 1500)\n"
          ]
        },
        {
          "name": "stderr",
          "output_type": "stream",
          "text": [
            "100%|██████████| 9475/9475 [04:42<00:00, 33.50it/s]\n"
          ]
        },
        {
          "name": "stdout",
          "output_type": "stream",
          "text": [
            "Epoch: 13, Training time: 282.86s, Loss: 9968.6194\n",
            "Counter({1.0: 66996})\n",
            "577859 32432 66996 (3000, 1500) torch.Size([3000, 100]) torch.Size([1500, 100]) (3000, 1500)\n"
          ]
        },
        {
          "name": "stderr",
          "output_type": "stream",
          "text": [
            "100%|██████████| 9475/9475 [04:43<00:00, 33.47it/s]\n"
          ]
        },
        {
          "name": "stdout",
          "output_type": "stream",
          "text": [
            "Epoch: 14, Training time: 283.12s, Loss: 9997.6854\n",
            "Counter({1.0: 66996})\n",
            "587895 32206 66996 (3000, 1500) torch.Size([3000, 100]) torch.Size([1500, 100]) (3000, 1500)\n"
          ]
        },
        {
          "name": "stderr",
          "output_type": "stream",
          "text": [
            "100%|██████████| 9475/9475 [04:44<00:00, 33.36it/s]\n"
          ]
        },
        {
          "name": "stdout",
          "output_type": "stream",
          "text": [
            "Epoch: 15, Training time: 284.02s, Loss: 9949.1143\n",
            "Counter({1.0: 66996})\n",
            "597320 32851 66996 (3000, 1500) torch.Size([3000, 100]) torch.Size([1500, 100]) (3000, 1500)\n"
          ]
        },
        {
          "name": "stderr",
          "output_type": "stream",
          "text": [
            "100%|██████████| 9475/9475 [04:43<00:00, 33.43it/s]\n"
          ]
        },
        {
          "name": "stdout",
          "output_type": "stream",
          "text": [
            "Epoch: 16, Training time: 283.41s, Loss: 9920.4481\n",
            "Counter({1.0: 66996})\n",
            "593497 33287 66996 (3000, 1500) torch.Size([3000, 100]) torch.Size([1500, 100]) (3000, 1500)\n"
          ]
        },
        {
          "name": "stderr",
          "output_type": "stream",
          "text": [
            "100%|██████████| 9475/9475 [04:44<00:00, 33.32it/s]\n"
          ]
        },
        {
          "name": "stdout",
          "output_type": "stream",
          "text": [
            "Epoch: 17, Training time: 284.39s, Loss: 9960.5576\n",
            "Counter({1.0: 66996})\n",
            "596094 33284 66996 (3000, 1500) torch.Size([3000, 100]) torch.Size([1500, 100]) (3000, 1500)\n"
          ]
        },
        {
          "name": "stderr",
          "output_type": "stream",
          "text": [
            "100%|██████████| 9475/9475 [04:45<00:00, 33.23it/s]\n"
          ]
        },
        {
          "name": "stdout",
          "output_type": "stream",
          "text": [
            "Epoch: 18, Training time: 285.15s, Loss: 9916.0219\n",
            "Counter({1.0: 66996})\n",
            "579873 32646 66996 (3000, 1500) torch.Size([3000, 100]) torch.Size([1500, 100]) (3000, 1500)\n"
          ]
        },
        {
          "name": "stderr",
          "output_type": "stream",
          "text": [
            "100%|██████████| 9475/9475 [04:56<00:00, 31.92it/s]\n"
          ]
        },
        {
          "name": "stdout",
          "output_type": "stream",
          "text": [
            "Epoch: 19, Training time: 296.87s, Loss: 9883.0457\n",
            "Counter({1.0: 66996})\n",
            "568780 32156 66996 (3000, 1500) torch.Size([3000, 100]) torch.Size([1500, 100]) (3000, 1500)\n"
          ]
        },
        {
          "name": "stderr",
          "output_type": "stream",
          "text": [
            "100%|██████████| 9475/9475 [04:54<00:00, 32.20it/s]\n"
          ]
        },
        {
          "name": "stdout",
          "output_type": "stream",
          "text": [
            "Epoch: 20, Training time: 294.22s, Loss: 9816.4221\n",
            "Counter({1.0: 66996})\n",
            "591380 32778 66996 (3000, 1500) torch.Size([3000, 100]) torch.Size([1500, 100]) (3000, 1500)\n"
          ]
        },
        {
          "name": "stderr",
          "output_type": "stream",
          "text": [
            "100%|██████████| 9475/9475 [04:56<00:00, 31.99it/s]\n"
          ]
        },
        {
          "name": "stdout",
          "output_type": "stream",
          "text": [
            "Epoch: 21, Training time: 296.16s, Loss: 9868.9804\n",
            "Early stopping at step: 5 log:0.0803622230887413\n",
            "Counter({1.0: 66996})\n",
            "591533 32482 66996 (3000, 1500) torch.Size([3000, 100]) torch.Size([1500, 100]) (3000, 1500)\n"
          ]
        },
        {
          "data": {
            "application/vnd.jupyter.widget-view+json": {
              "model_id": "3eb95b8386754b09bc918ee97202285b",
              "version_major": 2,
              "version_minor": 0
            },
            "text/plain": [
              "VBox(children=(Label(value='0.001 MB of 0.001 MB uploaded\\r'), FloatProgress(value=1.0, max=1.0)))"
            ]
          },
          "metadata": {},
          "output_type": "display_data"
        },
        {
          "data": {
            "text/html": [
              "W&B sync reduced upload amount by 27.8%             "
            ],
            "text/plain": [
              "<IPython.core.display.HTML object>"
            ]
          },
          "metadata": {},
          "output_type": "display_data"
        },
        {
          "data": {
            "text/html": [
              "<style>\n",
              "    table.wandb td:nth-child(1) { padding: 0 10px; text-align: left ; width: auto;} td:nth-child(2) {text-align: left ; width: 100%}\n",
              "    .wandb-row { display: flex; flex-direction: row; flex-wrap: wrap; justify-content: flex-start; width: 100% }\n",
              "    .wandb-col { display: flex; flex-direction: column; flex-basis: 100%; flex: 1; padding: 10px; }\n",
              "    </style>\n",
              "<div class=\"wandb-row\"><div class=\"wandb-col\"><h3>Run history:</h3><br/><table class=\"wandb\"><tr><td>ndcg_20</td><td>▁▂▃▅▄▄▆▆▅▆▆▆▆█▆▆▇▇▇█▇▆</td></tr><tr><td>rec_20</td><td>▁▂▃▅▄▄▅▅▅▆▆▆▆▇▆▆█▇▇▇▇▆</td></tr><tr><td>test_f1_score</td><td>▁▃▃▄▅▅▅▆▆▆▇▆▇█▇▇████▇▇</td></tr><tr><td>test_precision</td><td>▁▃▃▄▅▄▅▆▆▆▇▆▇█▇▇████▇▇</td></tr><tr><td>test_recall</td><td>▁▆▆▆▇▇▇▆▇▆█▆▇▇▆▇██▇▆▇▇</td></tr><tr><td>training_loss</td><td>▁▆██▇▆▆▆▆▆▅▅▅▄▅▄▄▄▄▄▄▄</td></tr></table><br/></div><div class=\"wandb-col\"><h3>Run summary:</h3><br/><table class=\"wandb\"><tr><td>ndcg_20</td><td>0.36112</td></tr><tr><td>rec_20</td><td>0.08036</td></tr><tr><td>test_f1_score</td><td>0.09865</td></tr><tr><td>test_precision</td><td>0.05491</td></tr><tr><td>test_recall</td><td>0.48483</td></tr><tr><td>training_loss</td><td>9868.98036</td></tr></table><br/></div></div>"
            ],
            "text/plain": [
              "<IPython.core.display.HTML object>"
            ]
          },
          "metadata": {},
          "output_type": "display_data"
        },
        {
          "data": {
            "text/html": [
              " View run <strong style=\"color:#cdcd00\">LP__loss_bce_tr_True_pcutoff_0.9_poswght_1_bs_16_layers_[16, 32]_nemb_52_lr_0.015_reg_0.005_messdr_0.01_nodedr_0.01_ucount_3000_bcount_1500</strong> at: <a href='https://wandb.ai/hans-kvaerum/nml_project/runs/33b7zpzo' target=\"_blank\">https://wandb.ai/hans-kvaerum/nml_project/runs/33b7zpzo</a><br/> View project at: <a href='https://wandb.ai/hans-kvaerum/nml_project' target=\"_blank\">https://wandb.ai/hans-kvaerum/nml_project</a><br/>Synced 5 W&B file(s), 0 media file(s), 2 artifact file(s) and 0 other file(s)"
            ],
            "text/plain": [
              "<IPython.core.display.HTML object>"
            ]
          },
          "metadata": {},
          "output_type": "display_data"
        },
        {
          "data": {
            "text/html": [
              "Find logs at: <code>./wandb/run-20240610_123500-33b7zpzo/logs</code>"
            ],
            "text/plain": [
              "<IPython.core.display.HTML object>"
            ]
          },
          "metadata": {},
          "output_type": "display_data"
        },
        {
          "data": {
            "image/png": "[encoded data removed]",
            "text/plain": [
              "<Figure size 1200x800 with 1 Axes>"
            ]
          },
          "metadata": {},
          "output_type": "display_data"
        }
      ],
      "source": [
        "# create adjacency matrix from graph\n",
        "user_count, book_count, user_to_idx_map, book_to_idx_map = prep_data(to_reads)\n",
        "\n",
        "# start wandb run\n",
        "model_name = init_wandb(loss_name, to_reads, prob_cutoff, pos_weight, batch_size, layers, emb_dim, lr, reg, mess_dropout, node_dropout, user_count, book_count, k, n_epochs)\n",
        "\n",
        "# train the model and output results\n",
        "train_interaction_predictor(loss_name, prob_cutoff, pos_weight, batch_size, layers, emb_dim, lr, reg, mess_dropout, node_dropout, user_count, book_count, k, n_epochs, eval_N, save_results, model_name)"
      ]
    },
    {
      "cell_type": "code",
      "execution_count": 18,
      "metadata": {
        "id": "y_tLd6BBiM9d"
      },
      "outputs": [],
      "source": [
        "# custom\n",
        "loss_name = 'bce' # 'bpr' or 'bce'\n",
        "to_reads = True # True or False\n",
        "prob_cutoff = .90 # threshold above which a positive interaction is predicted to occur\n",
        "pos_weight = 1 # weight for positive class in BCE loss (helps for imbalanced data). 1 = no reweighting\n",
        "\n",
        "# standard\n",
        "batch_size = 16\n",
        "layers = [64, 64, 32, 32]\n",
        "emb_dim = 64\n",
        "lr = 0.02\n",
        "reg = 0.005\n",
        "mess_dropout = 0.01\n",
        "node_dropout = 0.01\n",
        "k = 20\n",
        "n_epochs = 40\n",
        "save_results = True\n",
        "eval_N = 1 # how often to print eval results"
      ]
    },
    {
      "cell_type": "code",
      "execution_count": null,
      "metadata": {
        "colab": {
          "base_uri": "https://localhost:8080/",
          "height": 937
        },
        "id": "StNdOF4WiMVL",
        "outputId": "8cbe372d-7e3a-47f5-82c8-a0b5adeb1e48"
      },
      "outputs": [
        {
          "data": {
            "text/html": [
              "Tracking run with wandb version 0.17.1"
            ],
            "text/plain": [
              "<IPython.core.display.HTML object>"
            ]
          },
          "metadata": {},
          "output_type": "display_data"
        },
        {
          "data": {
            "text/html": [
              "Run data is saved locally in <code>/content/drive/MyDrive/EE452_2024_Team5_Project/wandb/run-20240610_142508-be90bnpl</code>"
            ],
            "text/plain": [
              "<IPython.core.display.HTML object>"
            ]
          },
          "metadata": {},
          "output_type": "display_data"
        },
        {
          "data": {
            "text/html": [
              "Syncing run <strong><a href='https://wandb.ai/hans-kvaerum/nml_project/runs/be90bnpl' target=\"_blank\">LP__loss_bce_tr_True_pcutoff_0.9_poswght_1_bs_16_layers_[64, 64, 32, 32]_nemb_64_lr_0.02_reg_0.005_messdr_0.01_nodedr_0.01_ucount_3000_bcount_1500</a></strong> to <a href='https://wandb.ai/hans-kvaerum/nml_project' target=\"_blank\">Weights & Biases</a> (<a href='https://wandb.me/run' target=\"_blank\">docs</a>)<br/>"
            ],
            "text/plain": [
              "<IPython.core.display.HTML object>"
            ]
          },
          "metadata": {},
          "output_type": "display_data"
        },
        {
          "data": {
            "text/html": [
              " View project at <a href='https://wandb.ai/hans-kvaerum/nml_project' target=\"_blank\">https://wandb.ai/hans-kvaerum/nml_project</a>"
            ],
            "text/plain": [
              "<IPython.core.display.HTML object>"
            ]
          },
          "metadata": {},
          "output_type": "display_data"
        },
        {
          "data": {
            "text/html": [
              " View run at <a href='https://wandb.ai/hans-kvaerum/nml_project/runs/be90bnpl' target=\"_blank\">https://wandb.ai/hans-kvaerum/nml_project/runs/be90bnpl</a>"
            ],
            "text/plain": [
              "<IPython.core.display.HTML object>"
            ]
          },
          "metadata": {},
          "output_type": "display_data"
        },
        {
          "name": "stdout",
          "output_type": "stream",
          "text": [
            "n_users=3000, n_items=1500\n",
            "n_interactions=218592\n",
            "n_train=151596, n_test=66996, sparsity=0.04858\n",
            "Creating interaction matrices R_train and R_test...\n",
            "Complete. Interaction matrices R_train and R_test created in 2.142491102218628 sec\n",
            "Creating adjacency-matrix...\n",
            "Complete. Adjacency-matrix created in (4500, 4500) 0.6999733448028564 sec.\n",
            "Transforming adjacency-matrix to NGCF-adjacency matrix...\n",
            "Complete. Transformed adjacency-matrix to NGCF-adjacency matrix in 0.21280646324157715 sec.\n",
            "Initializing weights...\n",
            "Weights initialized.\n"
          ]
        },
        {
          "name": "stderr",
          "output_type": "stream",
          "text": [
            "100%|██████████| 9475/9475 [08:45<00:00, 18.04it/s]\n"
          ]
        },
        {
          "name": "stdout",
          "output_type": "stream",
          "text": [
            "Epoch: 0, Training time: 525.16s, Loss: 16325.1475\n",
            "Counter({1.0: 66996})\n",
            "985239 35098 66996 (3000, 1500) torch.Size([3000, 256]) torch.Size([1500, 256]) (3000, 1500)\n"
          ]
        },
        {
          "name": "stderr",
          "output_type": "stream",
          "text": [
            "100%|██████████| 9475/9475 [08:42<00:00, 18.13it/s]\n"
          ]
        },
        {
          "name": "stdout",
          "output_type": "stream",
          "text": [
            "Epoch: 1, Training time: 522.73s, Loss: 19426.4085\n",
            "Counter({1.0: 66996})\n",
            "942383 36151 66996 (3000, 1500) torch.Size([3000, 256]) torch.Size([1500, 256]) (3000, 1500)\n"
          ]
        },
        {
          "name": "stderr",
          "output_type": "stream",
          "text": [
            "100%|██████████| 9475/9475 [08:38<00:00, 18.27it/s]\n"
          ]
        },
        {
          "name": "stdout",
          "output_type": "stream",
          "text": [
            "Epoch: 2, Training time: 518.53s, Loss: 20325.6546\n",
            "Counter({1.0: 66996})\n",
            "913867 36870 66996 (3000, 1500) torch.Size([3000, 256]) torch.Size([1500, 256]) (3000, 1500)\n"
          ]
        },
        {
          "name": "stderr",
          "output_type": "stream",
          "text": [
            "100%|██████████| 9475/9475 [08:32<00:00, 18.48it/s]\n"
          ]
        },
        {
          "name": "stdout",
          "output_type": "stream",
          "text": [
            "Epoch: 3, Training time: 512.86s, Loss: 20712.8864\n",
            "Counter({1.0: 66996})\n",
            "899881 36867 66996 (3000, 1500) torch.Size([3000, 256]) torch.Size([1500, 256]) (3000, 1500)\n"
          ]
        },
        {
          "name": "stderr",
          "output_type": "stream",
          "text": [
            "100%|██████████| 9475/9475 [08:41<00:00, 18.18it/s]\n"
          ]
        },
        {
          "name": "stdout",
          "output_type": "stream",
          "text": [
            "Epoch: 4, Training time: 521.27s, Loss: 20790.7425\n",
            "Counter({1.0: 66996})\n",
            "896700 37454 66996 (3000, 1500) torch.Size([3000, 256]) torch.Size([1500, 256]) (3000, 1500)\n"
          ]
        },
        {
          "name": "stderr",
          "output_type": "stream",
          "text": [
            "100%|██████████| 9475/9475 [08:37<00:00, 18.30it/s]\n"
          ]
        },
        {
          "name": "stdout",
          "output_type": "stream",
          "text": [
            "Epoch: 5, Training time: 517.73s, Loss: 20767.2193\n",
            "Counter({1.0: 66996})\n",
            "873611 37219 66996 (3000, 1500) torch.Size([3000, 256]) torch.Size([1500, 256]) (3000, 1500)\n"
          ]
        },
        {
          "name": "stderr",
          "output_type": "stream",
          "text": [
            "100%|██████████| 9475/9475 [08:36<00:00, 18.35it/s]\n"
          ]
        },
        {
          "name": "stdout",
          "output_type": "stream",
          "text": [
            "Epoch: 6, Training time: 516.26s, Loss: 20698.9579\n",
            "Counter({1.0: 66996})\n",
            "870452 37225 66996 (3000, 1500) torch.Size([3000, 256]) torch.Size([1500, 256]) (3000, 1500)\n"
          ]
        },
        {
          "name": "stderr",
          "output_type": "stream",
          "text": [
            "100%|██████████| 9475/9475 [08:35<00:00, 18.40it/s]\n"
          ]
        },
        {
          "name": "stdout",
          "output_type": "stream",
          "text": [
            "Epoch: 7, Training time: 515.08s, Loss: 20580.5893\n",
            "Counter({1.0: 66996})\n",
            "863257 37597 66996 (3000, 1500) torch.Size([3000, 256]) torch.Size([1500, 256]) (3000, 1500)\n"
          ]
        },
        {
          "name": "stderr",
          "output_type": "stream",
          "text": [
            "100%|██████████| 9475/9475 [08:36<00:00, 18.36it/s]\n"
          ]
        },
        {
          "name": "stdout",
          "output_type": "stream",
          "text": [
            "Epoch: 8, Training time: 516.14s, Loss: 20642.4032\n",
            "Counter({1.0: 66996})\n",
            "831235 36809 66996 (3000, 1500) torch.Size([3000, 256]) torch.Size([1500, 256]) (3000, 1500)\n"
          ]
        },
        {
          "name": "stderr",
          "output_type": "stream",
          "text": [
            " 90%|█████████ | 8546/9475 [07:44<00:48, 19.01it/s]"
          ]
        }
      ],
      "source": [
        "# create adjacency matrix from graph\n",
        "user_count, book_count, user_to_idx_map, book_to_idx_map = prep_data(to_reads)\n",
        "\n",
        "# start wandb run\n",
        "model_name = init_wandb(loss_name, to_reads, prob_cutoff, pos_weight, batch_size, layers, emb_dim, lr, reg, mess_dropout, node_dropout, user_count, book_count, k, n_epochs)\n",
        "\n",
        "# train the model and output results\n",
        "train_interaction_predictor(loss_name, prob_cutoff, pos_weight, batch_size, layers, emb_dim, lr, reg, mess_dropout, node_dropout, user_count, book_count, k, n_epochs, eval_N, save_results, model_name)"
      ]
    },
    {
      "cell_type": "markdown",
      "metadata": {
        "id": "ORhQ1zwRQU60"
      },
      "source": [
        "### 2c) Train! Older trains that were done on a smaller subset (500 books, 1000 users) for model development"
      ]
    },
    {
      "cell_type": "markdown",
      "metadata": {
        "id": "1Oji6Ca9QU60"
      },
      "source": [
        "#### 2ci) BCE loss, to_reads"
      ]
    },
    {
      "cell_type": "code",
      "execution_count": null,
      "metadata": {
        "id": "XCawIG5LQU60"
      },
      "outputs": [],
      "source": [
        "# custom\n",
        "loss_name = 'bce' # 'bpr' or 'bce'\n",
        "to_reads = True # True or False\n",
        "prob_cutoff = .90 # threshold above which a positive interaction is predicted to occur\n",
        "pos_weight = 1 # weight for positive class in BCE loss (helps for imbalanced data). 1 = no reweighting\n",
        "\n",
        "# standard\n",
        "batch_size = 16\n",
        "layers = [16, 32]\n",
        "emb_dim = 52\n",
        "lr = 0.015\n",
        "reg = 0.005\n",
        "mess_dropout = 0.01\n",
        "node_dropout = 0.01\n",
        "k = 20\n",
        "n_epochs = 40\n",
        "save_results = True\n",
        "eval_N = 4 # how often to print eval results"
      ]
    },
    {
      "cell_type": "code",
      "execution_count": null,
      "metadata": {
        "id": "ZAyLZeo_QU60"
      },
      "outputs": [],
      "source": [
        "# create adjacency matrix from graph\n",
        "user_count, book_count, user_to_idx_map, book_to_idx_map = prep_data(to_reads)"
      ]
    },
    {
      "cell_type": "code",
      "execution_count": null,
      "metadata": {
        "colab": {
          "base_uri": "https://localhost:8080/",
          "height": 1000,
          "referenced_widgets": [
            "db90e6d3939b499290ea97c86b182bec",
            "0a91addf1a184aebbeaedc003bf1ad33",
            "1f224cbb889445cc98c1919b5c3a87a0",
            "5da98fc7ca004c57b58b87a576ab6e0d",
            "6ec3bd9900f8403cab605b9f0a8f36db",
            "6c03b32999b9470c8e45da086b94c7b7",
            "13eae99abdb740dfa261eb93480ea23d",
            "26489c5a24bc4f2ea03a48b9665f07a2"
          ]
        },
        "id": "jOlfmLEuQU60",
        "outputId": "fd8cbeb3-c1ab-44d5-bcdd-6fe073e1d006"
      },
      "outputs": [
        {
          "name": "stderr",
          "output_type": "stream",
          "text": [
            "\u001b[34m\u001b[1mwandb\u001b[0m: Currently logged in as: \u001b[33mkaede-johnson\u001b[0m (\u001b[33mhans-kvaerum\u001b[0m). Use \u001b[1m`wandb login --relogin`\u001b[0m to force relogin\n"
          ]
        },
        {
          "data": {
            "text/html": [
              "Tracking run with wandb version 0.17.1"
            ],
            "text/plain": [
              "<IPython.core.display.HTML object>"
            ]
          },
          "metadata": {},
          "output_type": "display_data"
        },
        {
          "data": {
            "text/html": [
              "Run data is saved locally in <code>/content/drive/MyDrive/EE452_2024_Team5_Project/wandb/run-20240609_230835-vadad5s9</code>"
            ],
            "text/plain": [
              "<IPython.core.display.HTML object>"
            ]
          },
          "metadata": {},
          "output_type": "display_data"
        },
        {
          "data": {
            "text/html": [
              "Syncing run <strong><a href='https://wandb.ai/hans-kvaerum/nml_project/runs/vadad5s9' target=\"_blank\">LP__loss_bce_tr_True_pcutoff_0.9_poswght_1_bs_16_layers_[16, 32]_nemb_52_lr_0.015_reg_0.005_messdr_0.01_nodedr_0.01_ucount_1000_bcount_500</a></strong> to <a href='https://wandb.ai/hans-kvaerum/nml_project' target=\"_blank\">Weights & Biases</a> (<a href='https://wandb.me/run' target=\"_blank\">docs</a>)<br/>"
            ],
            "text/plain": [
              "<IPython.core.display.HTML object>"
            ]
          },
          "metadata": {},
          "output_type": "display_data"
        },
        {
          "data": {
            "text/html": [
              " View project at <a href='https://wandb.ai/hans-kvaerum/nml_project' target=\"_blank\">https://wandb.ai/hans-kvaerum/nml_project</a>"
            ],
            "text/plain": [
              "<IPython.core.display.HTML object>"
            ]
          },
          "metadata": {},
          "output_type": "display_data"
        },
        {
          "data": {
            "text/html": [
              " View run at <a href='https://wandb.ai/hans-kvaerum/nml_project/runs/vadad5s9' target=\"_blank\">https://wandb.ai/hans-kvaerum/nml_project/runs/vadad5s9</a>"
            ],
            "text/plain": [
              "<IPython.core.display.HTML object>"
            ]
          },
          "metadata": {},
          "output_type": "display_data"
        },
        {
          "name": "stdout",
          "output_type": "stream",
          "text": [
            "n_users=1000, n_items=500\n",
            "n_interactions=33787\n",
            "n_train=23188, n_test=10599, sparsity=0.06757\n",
            "Creating interaction matrices R_train and R_test...\n",
            "Complete. Interaction matrices R_train and R_test created in 0.38110899925231934 sec\n",
            "Creating adjacency-matrix...\n",
            "Complete. Adjacency-matrix created in (1500, 1500) 0.09061741828918457 sec.\n",
            "Transforming adjacency-matrix to NGCF-adjacency matrix...\n"
          ]
        },
        {
          "name": "stderr",
          "output_type": "stream",
          "text": [
            "/content/drive/MyDrive/EE452_2024_Team5_Project/src/ngcf_utils/load_data.py:131: RuntimeWarning: divide by zero encountered in power\n",
            "  d_inv = np.power(rowsum, -.5).flatten()\n"
          ]
        },
        {
          "name": "stdout",
          "output_type": "stream",
          "text": [
            "Complete. Transformed adjacency-matrix to NGCF-adjacency matrix in 0.3132646083831787 sec.\n",
            "Initializing weights...\n",
            "Weights initialized.\n"
          ]
        },
        {
          "name": "stderr",
          "output_type": "stream",
          "text": [
            "100%|██████████| 1450/1450 [00:20<00:00, 70.57it/s]\n"
          ]
        },
        {
          "name": "stdout",
          "output_type": "stream",
          "text": [
            "Epoch: 0, Training time: 20.55s, Loss: 1015.2081\n"
          ]
        },
        {
          "name": "stderr",
          "output_type": "stream",
          "text": [
            "100%|██████████| 1450/1450 [00:19<00:00, 74.41it/s]\n"
          ]
        },
        {
          "name": "stdout",
          "output_type": "stream",
          "text": [
            "Epoch: 1, Training time: 19.50s, Loss: 866.0456\n"
          ]
        },
        {
          "name": "stderr",
          "output_type": "stream",
          "text": [
            "100%|██████████| 1450/1450 [00:18<00:00, 78.03it/s]\n"
          ]
        },
        {
          "name": "stdout",
          "output_type": "stream",
          "text": [
            "Epoch: 2, Training time: 18.59s, Loss: 826.3065\n"
          ]
        },
        {
          "name": "stderr",
          "output_type": "stream",
          "text": [
            "100%|██████████| 1450/1450 [00:17<00:00, 81.67it/s]\n"
          ]
        },
        {
          "name": "stdout",
          "output_type": "stream",
          "text": [
            "Epoch: 3, Training time: 17.76s, Loss: 811.2170\n",
            "Counter({1.0: 10599})\n",
            "31064 3185 10599 (1000, 500) torch.Size([1000, 100]) torch.Size([500, 100]) (1000, 500)\n"
          ]
        },
        {
          "name": "stderr",
          "output_type": "stream",
          "text": [
            "100%|██████████| 1450/1450 [00:18<00:00, 78.53it/s]\n"
          ]
        },
        {
          "name": "stdout",
          "output_type": "stream",
          "text": [
            "Epoch: 4, Training time: 18.49s, Loss: 813.8959\n"
          ]
        },
        {
          "name": "stderr",
          "output_type": "stream",
          "text": [
            "100%|██████████| 1450/1450 [00:17<00:00, 82.88it/s]\n"
          ]
        },
        {
          "name": "stdout",
          "output_type": "stream",
          "text": [
            "Epoch: 5, Training time: 17.50s, Loss: 803.3711\n"
          ]
        },
        {
          "name": "stderr",
          "output_type": "stream",
          "text": [
            "100%|██████████| 1450/1450 [00:17<00:00, 83.14it/s]\n"
          ]
        },
        {
          "name": "stdout",
          "output_type": "stream",
          "text": [
            "Epoch: 6, Training time: 17.45s, Loss: 798.7350\n"
          ]
        },
        {
          "name": "stderr",
          "output_type": "stream",
          "text": [
            "100%|██████████| 1450/1450 [00:18<00:00, 79.86it/s]\n"
          ]
        },
        {
          "name": "stdout",
          "output_type": "stream",
          "text": [
            "Epoch: 7, Training time: 18.17s, Loss: 802.7019\n",
            "Counter({1.0: 10599})\n",
            "27864 3067 10599 (1000, 500) torch.Size([1000, 100]) torch.Size([500, 100]) (1000, 500)\n"
          ]
        },
        {
          "name": "stderr",
          "output_type": "stream",
          "text": [
            "100%|██████████| 1450/1450 [00:19<00:00, 76.24it/s]\n"
          ]
        },
        {
          "name": "stdout",
          "output_type": "stream",
          "text": [
            "Epoch: 8, Training time: 19.03s, Loss: 801.2350\n"
          ]
        },
        {
          "name": "stderr",
          "output_type": "stream",
          "text": [
            "100%|██████████| 1450/1450 [00:17<00:00, 83.03it/s]\n"
          ]
        },
        {
          "name": "stdout",
          "output_type": "stream",
          "text": [
            "Epoch: 9, Training time: 17.47s, Loss: 814.4384\n"
          ]
        },
        {
          "name": "stderr",
          "output_type": "stream",
          "text": [
            "100%|██████████| 1450/1450 [00:18<00:00, 80.42it/s]\n"
          ]
        },
        {
          "name": "stdout",
          "output_type": "stream",
          "text": [
            "Epoch: 10, Training time: 18.04s, Loss: 801.3595\n"
          ]
        },
        {
          "name": "stderr",
          "output_type": "stream",
          "text": [
            "100%|██████████| 1450/1450 [00:18<00:00, 79.12it/s]\n"
          ]
        },
        {
          "name": "stdout",
          "output_type": "stream",
          "text": [
            "Epoch: 11, Training time: 18.34s, Loss: 795.8024\n",
            "Counter({1.0: 10599})\n",
            "29335 3287 10599 (1000, 500) torch.Size([1000, 100]) torch.Size([500, 100]) (1000, 500)\n"
          ]
        },
        {
          "name": "stderr",
          "output_type": "stream",
          "text": [
            "100%|██████████| 1450/1450 [00:17<00:00, 81.91it/s]\n"
          ]
        },
        {
          "name": "stdout",
          "output_type": "stream",
          "text": [
            "Epoch: 12, Training time: 17.71s, Loss: 801.9614\n"
          ]
        },
        {
          "name": "stderr",
          "output_type": "stream",
          "text": [
            "100%|██████████| 1450/1450 [00:17<00:00, 82.80it/s]\n"
          ]
        },
        {
          "name": "stdout",
          "output_type": "stream",
          "text": [
            "Epoch: 13, Training time: 17.52s, Loss: 812.8539\n"
          ]
        },
        {
          "name": "stderr",
          "output_type": "stream",
          "text": [
            "100%|██████████| 1450/1450 [00:18<00:00, 78.13it/s]\n"
          ]
        },
        {
          "name": "stdout",
          "output_type": "stream",
          "text": [
            "Epoch: 14, Training time: 18.57s, Loss: 799.1587\n"
          ]
        },
        {
          "name": "stderr",
          "output_type": "stream",
          "text": [
            "100%|██████████| 1450/1450 [00:17<00:00, 82.52it/s]\n"
          ]
        },
        {
          "name": "stdout",
          "output_type": "stream",
          "text": [
            "Epoch: 15, Training time: 17.58s, Loss: 778.1379\n",
            "Counter({1.0: 10599})\n",
            "28367 3131 10599 (1000, 500) torch.Size([1000, 100]) torch.Size([500, 100]) (1000, 500)\n"
          ]
        },
        {
          "name": "stderr",
          "output_type": "stream",
          "text": [
            "100%|██████████| 1450/1450 [00:18<00:00, 78.06it/s]\n"
          ]
        },
        {
          "name": "stdout",
          "output_type": "stream",
          "text": [
            "Epoch: 16, Training time: 18.58s, Loss: 787.2888\n"
          ]
        },
        {
          "name": "stderr",
          "output_type": "stream",
          "text": [
            "100%|██████████| 1450/1450 [00:18<00:00, 77.82it/s]\n"
          ]
        },
        {
          "name": "stdout",
          "output_type": "stream",
          "text": [
            "Epoch: 17, Training time: 18.64s, Loss: 791.5018\n"
          ]
        },
        {
          "name": "stderr",
          "output_type": "stream",
          "text": [
            "100%|██████████| 1450/1450 [00:17<00:00, 82.32it/s]\n"
          ]
        },
        {
          "name": "stdout",
          "output_type": "stream",
          "text": [
            "Epoch: 18, Training time: 17.62s, Loss: 791.2983\n"
          ]
        },
        {
          "name": "stderr",
          "output_type": "stream",
          "text": [
            "100%|██████████| 1450/1450 [00:17<00:00, 82.01it/s]\n"
          ]
        },
        {
          "name": "stdout",
          "output_type": "stream",
          "text": [
            "Epoch: 19, Training time: 17.69s, Loss: 774.7850\n",
            "Counter({1.0: 10599})\n",
            "26578 3269 10599 (1000, 500) torch.Size([1000, 100]) torch.Size([500, 100]) (1000, 500)\n"
          ]
        },
        {
          "name": "stderr",
          "output_type": "stream",
          "text": [
            "100%|██████████| 1450/1450 [00:18<00:00, 79.19it/s]\n"
          ]
        },
        {
          "name": "stdout",
          "output_type": "stream",
          "text": [
            "Epoch: 20, Training time: 18.32s, Loss: 776.2425\n"
          ]
        },
        {
          "name": "stderr",
          "output_type": "stream",
          "text": [
            "100%|██████████| 1450/1450 [00:18<00:00, 79.03it/s]\n"
          ]
        },
        {
          "name": "stdout",
          "output_type": "stream",
          "text": [
            "Epoch: 21, Training time: 18.36s, Loss: 776.0953\n"
          ]
        },
        {
          "name": "stderr",
          "output_type": "stream",
          "text": [
            "100%|██████████| 1450/1450 [00:17<00:00, 82.66it/s]\n"
          ]
        },
        {
          "name": "stdout",
          "output_type": "stream",
          "text": [
            "Epoch: 22, Training time: 17.55s, Loss: 767.0201\n"
          ]
        },
        {
          "name": "stderr",
          "output_type": "stream",
          "text": [
            "100%|██████████| 1450/1450 [00:19<00:00, 75.39it/s]\n"
          ]
        },
        {
          "name": "stdout",
          "output_type": "stream",
          "text": [
            "Epoch: 23, Training time: 19.24s, Loss: 779.7708\n",
            "Counter({1.0: 10599})\n",
            "25652 3145 10599 (1000, 500) torch.Size([1000, 100]) torch.Size([500, 100]) (1000, 500)\n"
          ]
        },
        {
          "name": "stderr",
          "output_type": "stream",
          "text": [
            "100%|██████████| 1450/1450 [00:18<00:00, 77.62it/s]\n"
          ]
        },
        {
          "name": "stdout",
          "output_type": "stream",
          "text": [
            "Epoch: 24, Training time: 18.69s, Loss: 767.7224\n"
          ]
        },
        {
          "name": "stderr",
          "output_type": "stream",
          "text": [
            "100%|██████████| 1450/1450 [00:17<00:00, 81.67it/s]\n"
          ]
        },
        {
          "name": "stdout",
          "output_type": "stream",
          "text": [
            "Epoch: 25, Training time: 17.76s, Loss: 771.6515\n"
          ]
        },
        {
          "name": "stderr",
          "output_type": "stream",
          "text": [
            "100%|██████████| 1450/1450 [00:17<00:00, 81.99it/s]\n"
          ]
        },
        {
          "name": "stdout",
          "output_type": "stream",
          "text": [
            "Epoch: 26, Training time: 17.69s, Loss: 769.1948\n"
          ]
        },
        {
          "name": "stderr",
          "output_type": "stream",
          "text": [
            "100%|██████████| 1450/1450 [00:18<00:00, 78.18it/s]\n"
          ]
        },
        {
          "name": "stdout",
          "output_type": "stream",
          "text": [
            "Epoch: 27, Training time: 18.56s, Loss: 771.3233\n",
            "Counter({1.0: 10599})\n",
            "25636 3248 10599 (1000, 500) torch.Size([1000, 100]) torch.Size([500, 100]) (1000, 500)\n"
          ]
        },
        {
          "name": "stderr",
          "output_type": "stream",
          "text": [
            "100%|██████████| 1450/1450 [00:17<00:00, 82.05it/s]\n"
          ]
        },
        {
          "name": "stdout",
          "output_type": "stream",
          "text": [
            "Epoch: 28, Training time: 17.69s, Loss: 749.3504\n"
          ]
        },
        {
          "name": "stderr",
          "output_type": "stream",
          "text": [
            "100%|██████████| 1450/1450 [00:17<00:00, 81.13it/s]\n"
          ]
        },
        {
          "name": "stdout",
          "output_type": "stream",
          "text": [
            "Epoch: 29, Training time: 17.88s, Loss: 744.4822\n"
          ]
        },
        {
          "name": "stderr",
          "output_type": "stream",
          "text": [
            "100%|██████████| 1450/1450 [00:19<00:00, 73.93it/s]\n"
          ]
        },
        {
          "name": "stdout",
          "output_type": "stream",
          "text": [
            "Epoch: 30, Training time: 19.62s, Loss: 754.0511\n"
          ]
        },
        {
          "name": "stderr",
          "output_type": "stream",
          "text": [
            "100%|██████████| 1450/1450 [00:17<00:00, 82.66it/s]\n"
          ]
        },
        {
          "name": "stdout",
          "output_type": "stream",
          "text": [
            "Epoch: 31, Training time: 17.55s, Loss: 751.0488\n",
            "Counter({1.0: 10599})\n",
            "24852 3149 10599 (1000, 500) torch.Size([1000, 100]) torch.Size([500, 100]) (1000, 500)\n"
          ]
        },
        {
          "name": "stderr",
          "output_type": "stream",
          "text": [
            "100%|██████████| 1450/1450 [00:17<00:00, 82.56it/s]\n"
          ]
        },
        {
          "name": "stdout",
          "output_type": "stream",
          "text": [
            "Epoch: 32, Training time: 17.57s, Loss: 762.8502\n"
          ]
        },
        {
          "name": "stderr",
          "output_type": "stream",
          "text": [
            "100%|██████████| 1450/1450 [00:17<00:00, 81.33it/s]\n"
          ]
        },
        {
          "name": "stdout",
          "output_type": "stream",
          "text": [
            "Epoch: 33, Training time: 17.84s, Loss: 763.2628\n"
          ]
        },
        {
          "name": "stderr",
          "output_type": "stream",
          "text": [
            "100%|██████████| 1450/1450 [00:18<00:00, 79.95it/s]\n"
          ]
        },
        {
          "name": "stdout",
          "output_type": "stream",
          "text": [
            "Epoch: 34, Training time: 18.15s, Loss: 737.7470\n"
          ]
        },
        {
          "name": "stderr",
          "output_type": "stream",
          "text": [
            "100%|██████████| 1450/1450 [00:17<00:00, 83.26it/s]\n"
          ]
        },
        {
          "name": "stdout",
          "output_type": "stream",
          "text": [
            "Epoch: 35, Training time: 17.42s, Loss: 749.8038\n",
            "Counter({1.0: 10599})\n",
            "23867 3070 10599 (1000, 500) torch.Size([1000, 100]) torch.Size([500, 100]) (1000, 500)\n"
          ]
        },
        {
          "name": "stderr",
          "output_type": "stream",
          "text": [
            "100%|██████████| 1450/1450 [00:17<00:00, 82.22it/s]\n"
          ]
        },
        {
          "name": "stdout",
          "output_type": "stream",
          "text": [
            "Epoch: 36, Training time: 17.64s, Loss: 754.4288\n"
          ]
        },
        {
          "name": "stderr",
          "output_type": "stream",
          "text": [
            "100%|██████████| 1450/1450 [00:18<00:00, 78.62it/s]\n"
          ]
        },
        {
          "name": "stdout",
          "output_type": "stream",
          "text": [
            "Epoch: 37, Training time: 18.45s, Loss: 762.7373\n"
          ]
        },
        {
          "name": "stderr",
          "output_type": "stream",
          "text": [
            "100%|██████████| 1450/1450 [00:18<00:00, 77.84it/s]\n"
          ]
        },
        {
          "name": "stdout",
          "output_type": "stream",
          "text": [
            "Epoch: 38, Training time: 18.64s, Loss: 749.5021\n"
          ]
        },
        {
          "name": "stderr",
          "output_type": "stream",
          "text": [
            "100%|██████████| 1450/1450 [00:17<00:00, 83.30it/s]\n"
          ]
        },
        {
          "name": "stdout",
          "output_type": "stream",
          "text": [
            "Epoch: 39, Training time: 17.42s, Loss: 746.8437\n",
            "Counter({1.0: 10599})\n",
            "23710 3032 10599 (1000, 500) torch.Size([1000, 100]) torch.Size([500, 100]) (1000, 500)\n"
          ]
        },
        {
          "data": {
            "application/vnd.jupyter.widget-view+json": {
              "model_id": "db90e6d3939b499290ea97c86b182bec",
              "version_major": 2,
              "version_minor": 0
            },
            "text/plain": [
              "VBox(children=(Label(value='0.001 MB of 0.001 MB uploaded\\r'), FloatProgress(value=1.0, max=1.0)))"
            ]
          },
          "metadata": {},
          "output_type": "display_data"
        },
        {
          "data": {
            "text/html": [
              "W&B sync reduced upload amount by 29.3%             "
            ],
            "text/plain": [
              "<IPython.core.display.HTML object>"
            ]
          },
          "metadata": {},
          "output_type": "display_data"
        },
        {
          "data": {
            "text/html": [
              "<style>\n",
              "    table.wandb td:nth-child(1) { padding: 0 10px; text-align: left ; width: auto;} td:nth-child(2) {text-align: left ; width: 100%}\n",
              "    .wandb-row { display: flex; flex-direction: row; flex-wrap: wrap; justify-content: flex-start; width: 100% }\n",
              "    .wandb-col { display: flex; flex-direction: column; flex-basis: 100%; flex: 1; padding: 10px; }\n",
              "    </style>\n",
              "<div class=\"wandb-row\"><div class=\"wandb-col\"><h3>Run history:</h3><br/><table class=\"wandb\"><tr><td>ndcg_20</td><td>▁▁▃▂▅▅█▆▆▇</td></tr><tr><td>rec_20</td><td>▁▁▃▂▇▆█▇▆▅</td></tr><tr><td>test_f1_score</td><td>▁▃▄▃▇▆███▇</td></tr><tr><td>test_precision</td><td>▁▃▄▃▆▆▇▇██</td></tr><tr><td>test_recall</td><td>▅▂█▄█▄▇▄▂▁</td></tr><tr><td>training_loss</td><td>█▄▃▃▃▃▃▃▃▃▃▂▃▃▃▂▂▂▂▂▂▂▂▂▂▂▂▂▁▁▁▁▂▂▁▁▁▂▁▁</td></tr></table><br/></div><div class=\"wandb-col\"><h3>Run summary:</h3><br/><table class=\"wandb\"><tr><td>ndcg_20</td><td>0.48166</td></tr><tr><td>rec_20</td><td>0.23887</td></tr><tr><td>test_f1_score</td><td>0.17675</td></tr><tr><td>test_precision</td><td>0.12788</td></tr><tr><td>test_recall</td><td>0.28606</td></tr><tr><td>training_loss</td><td>746.84369</td></tr></table><br/></div></div>"
            ],
            "text/plain": [
              "<IPython.core.display.HTML object>"
            ]
          },
          "metadata": {},
          "output_type": "display_data"
        },
        {
          "data": {
            "text/html": [
              " View run <strong style=\"color:#cdcd00\">LP__loss_bce_tr_True_pcutoff_0.9_poswght_1_bs_16_layers_[16, 32]_nemb_52_lr_0.015_reg_0.005_messdr_0.01_nodedr_0.01_ucount_1000_bcount_500</strong> at: <a href='https://wandb.ai/hans-kvaerum/nml_project/runs/vadad5s9' target=\"_blank\">https://wandb.ai/hans-kvaerum/nml_project/runs/vadad5s9</a><br/> View project at: <a href='https://wandb.ai/hans-kvaerum/nml_project' target=\"_blank\">https://wandb.ai/hans-kvaerum/nml_project</a><br/>Synced 5 W&B file(s), 0 media file(s), 2 artifact file(s) and 0 other file(s)"
            ],
            "text/plain": [
              "<IPython.core.display.HTML object>"
            ]
          },
          "metadata": {},
          "output_type": "display_data"
        },
        {
          "data": {
            "text/html": [
              "Find logs at: <code>./wandb/run-20240609_230835-vadad5s9/logs</code>"
            ],
            "text/plain": [
              "<IPython.core.display.HTML object>"
            ]
          },
          "metadata": {},
          "output_type": "display_data"
        },
        {
          "data": {
            "image/png": "[encoded data removed]",
            "text/plain": [
              "<Figure size 1200x800 with 1 Axes>"
            ]
          },
          "metadata": {},
          "output_type": "display_data"
        }
      ],
      "source": [
        "# start wandb run\n",
        "model_name = init_wandb(loss_name, to_reads, prob_cutoff, pos_weight, batch_size, layers, emb_dim, lr, reg, mess_dropout, node_dropout, user_count, book_count, k, n_epochs)\n",
        "\n",
        "# train the model and output results\n",
        "train_interaction_predictor(loss_name, prob_cutoff, pos_weight, batch_size, layers, emb_dim, lr, reg, mess_dropout, node_dropout, user_count, book_count, k, n_epochs, eval_N, save_results, model_name)"
      ]
    },
    {
      "cell_type": "markdown",
      "metadata": {
        "id": "k6VwF5VhQU60"
      },
      "source": [
        "#### 2cii) BPR loss, to_reads"
      ]
    },
    {
      "cell_type": "code",
      "execution_count": null,
      "metadata": {
        "colab": {
          "base_uri": "https://localhost:8080/",
          "height": 1000,
          "referenced_widgets": [
            "2ea86a15cb7e49e38827c5011b855e18",
            "874b51f8988d4c0882e73eef1a8466c7",
            "8273b4a7b5804c7da8685b3c98913e6b",
            "f6bd71d08eeb4b49a7409ec4e686fb95",
            "056b7e6fef004205a8fb94c76a2455ba",
            "216ce63fdb4a4dd6baeb9c912eb6a3dc",
            "b4b33543cd134453b249f60021d88d55",
            "8ac5cb0b3834465b979ac2a055626056"
          ]
        },
        "id": "I5Tl5GGqQU60",
        "outputId": "4c597809-7978-4c91-ab1a-447d39915f50"
      },
      "outputs": [
        {
          "data": {
            "text/html": [
              "Tracking run with wandb version 0.17.1"
            ],
            "text/plain": [
              "<IPython.core.display.HTML object>"
            ]
          },
          "metadata": {},
          "output_type": "display_data"
        },
        {
          "data": {
            "text/html": [
              "Run data is saved locally in <code>/content/drive/MyDrive/EE452_2024_Team5_Project/wandb/run-20240609_232123-t98dcw9b</code>"
            ],
            "text/plain": [
              "<IPython.core.display.HTML object>"
            ]
          },
          "metadata": {},
          "output_type": "display_data"
        },
        {
          "data": {
            "text/html": [
              "Syncing run <strong><a href='https://wandb.ai/hans-kvaerum/nml_project/runs/t98dcw9b' target=\"_blank\">LP__loss_bpr_tr_True_pcutoff_0.9_poswght_1_bs_16_layers_[16, 32]_nemb_52_lr_0.015_reg_0.005_messdr_0.01_nodedr_0.01_ucount_1000_bcount_500</a></strong> to <a href='https://wandb.ai/hans-kvaerum/nml_project' target=\"_blank\">Weights & Biases</a> (<a href='https://wandb.me/run' target=\"_blank\">docs</a>)<br/>"
            ],
            "text/plain": [
              "<IPython.core.display.HTML object>"
            ]
          },
          "metadata": {},
          "output_type": "display_data"
        },
        {
          "data": {
            "text/html": [
              " View project at <a href='https://wandb.ai/hans-kvaerum/nml_project' target=\"_blank\">https://wandb.ai/hans-kvaerum/nml_project</a>"
            ],
            "text/plain": [
              "<IPython.core.display.HTML object>"
            ]
          },
          "metadata": {},
          "output_type": "display_data"
        },
        {
          "data": {
            "text/html": [
              " View run at <a href='https://wandb.ai/hans-kvaerum/nml_project/runs/t98dcw9b' target=\"_blank\">https://wandb.ai/hans-kvaerum/nml_project/runs/t98dcw9b</a>"
            ],
            "text/plain": [
              "<IPython.core.display.HTML object>"
            ]
          },
          "metadata": {},
          "output_type": "display_data"
        },
        {
          "name": "stdout",
          "output_type": "stream",
          "text": [
            "n_users=1000, n_items=500\n",
            "n_interactions=33787\n",
            "n_train=23188, n_test=10599, sparsity=0.06757\n",
            "Creating interaction matrices R_train and R_test...\n",
            "Complete. Interaction matrices R_train and R_test created in 0.5857284069061279 sec\n",
            "Creating adjacency-matrix...\n",
            "Complete. Adjacency-matrix created in (1500, 1500) 0.14017510414123535 sec.\n",
            "Transforming adjacency-matrix to NGCF-adjacency matrix...\n"
          ]
        },
        {
          "name": "stderr",
          "output_type": "stream",
          "text": [
            "/content/drive/MyDrive/EE452_2024_Team5_Project/src/ngcf_utils/load_data.py:131: RuntimeWarning: divide by zero encountered in power\n",
            "  d_inv = np.power(rowsum, -.5).flatten()\n"
          ]
        },
        {
          "name": "stdout",
          "output_type": "stream",
          "text": [
            "Complete. Transformed adjacency-matrix to NGCF-adjacency matrix in 0.06469273567199707 sec.\n",
            "Initializing weights...\n",
            "Weights initialized.\n"
          ]
        },
        {
          "name": "stderr",
          "output_type": "stream",
          "text": [
            "100%|██████████| 1450/1450 [00:17<00:00, 82.25it/s]\n"
          ]
        },
        {
          "name": "stdout",
          "output_type": "stream",
          "text": [
            "Epoch: 0, Training time: 17.64s, Loss: 765.8626\n"
          ]
        },
        {
          "name": "stderr",
          "output_type": "stream",
          "text": [
            "100%|██████████| 1450/1450 [00:17<00:00, 83.23it/s]\n"
          ]
        },
        {
          "name": "stdout",
          "output_type": "stream",
          "text": [
            "Epoch: 1, Training time: 17.44s, Loss: 745.1461\n"
          ]
        },
        {
          "name": "stderr",
          "output_type": "stream",
          "text": [
            "100%|██████████| 1450/1450 [00:17<00:00, 83.12it/s]\n"
          ]
        },
        {
          "name": "stdout",
          "output_type": "stream",
          "text": [
            "Epoch: 2, Training time: 17.45s, Loss: 769.5161\n"
          ]
        },
        {
          "name": "stderr",
          "output_type": "stream",
          "text": [
            "100%|██████████| 1450/1450 [00:18<00:00, 79.39it/s]\n"
          ]
        },
        {
          "name": "stdout",
          "output_type": "stream",
          "text": [
            "Epoch: 3, Training time: 18.28s, Loss: 765.6932\n",
            "Counter({1.0: 10599})\n",
            "131386 7285 10599 (1000, 500) torch.Size([1000, 100]) torch.Size([500, 100]) (1000, 500)\n"
          ]
        },
        {
          "name": "stderr",
          "output_type": "stream",
          "text": [
            "100%|██████████| 1450/1450 [00:18<00:00, 77.19it/s]\n"
          ]
        },
        {
          "name": "stdout",
          "output_type": "stream",
          "text": [
            "Epoch: 4, Training time: 18.80s, Loss: 788.5918\n"
          ]
        },
        {
          "name": "stderr",
          "output_type": "stream",
          "text": [
            "100%|██████████| 1450/1450 [00:17<00:00, 83.17it/s]\n"
          ]
        },
        {
          "name": "stdout",
          "output_type": "stream",
          "text": [
            "Epoch: 5, Training time: 17.44s, Loss: 788.7698\n"
          ]
        },
        {
          "name": "stderr",
          "output_type": "stream",
          "text": [
            "100%|██████████| 1450/1450 [00:18<00:00, 78.69it/s]\n"
          ]
        },
        {
          "name": "stdout",
          "output_type": "stream",
          "text": [
            "Epoch: 6, Training time: 18.44s, Loss: 766.0799\n"
          ]
        },
        {
          "name": "stderr",
          "output_type": "stream",
          "text": [
            "100%|██████████| 1450/1450 [00:17<00:00, 83.71it/s]\n"
          ]
        },
        {
          "name": "stdout",
          "output_type": "stream",
          "text": [
            "Epoch: 7, Training time: 17.33s, Loss: 802.4394\n",
            "Counter({1.0: 10599})\n",
            "134400 7465 10599 (1000, 500) torch.Size([1000, 100]) torch.Size([500, 100]) (1000, 500)\n"
          ]
        },
        {
          "name": "stderr",
          "output_type": "stream",
          "text": [
            "100%|██████████| 1450/1450 [00:17<00:00, 84.23it/s]\n"
          ]
        },
        {
          "name": "stdout",
          "output_type": "stream",
          "text": [
            "Epoch: 8, Training time: 17.22s, Loss: 797.5229\n"
          ]
        },
        {
          "name": "stderr",
          "output_type": "stream",
          "text": [
            "100%|██████████| 1450/1450 [00:17<00:00, 82.90it/s]\n"
          ]
        },
        {
          "name": "stdout",
          "output_type": "stream",
          "text": [
            "Epoch: 9, Training time: 17.50s, Loss: 798.4627\n"
          ]
        },
        {
          "name": "stderr",
          "output_type": "stream",
          "text": [
            "100%|██████████| 1450/1450 [00:18<00:00, 79.85it/s]\n"
          ]
        },
        {
          "name": "stdout",
          "output_type": "stream",
          "text": [
            "Epoch: 10, Training time: 18.17s, Loss: 809.7054\n"
          ]
        },
        {
          "name": "stderr",
          "output_type": "stream",
          "text": [
            "100%|██████████| 1450/1450 [00:18<00:00, 76.85it/s]\n"
          ]
        },
        {
          "name": "stdout",
          "output_type": "stream",
          "text": [
            "Epoch: 11, Training time: 18.88s, Loss: 812.9138\n",
            "Counter({1.0: 10599})\n",
            "134442 7375 10599 (1000, 500) torch.Size([1000, 100]) torch.Size([500, 100]) (1000, 500)\n"
          ]
        },
        {
          "name": "stderr",
          "output_type": "stream",
          "text": [
            "100%|██████████| 1450/1450 [00:17<00:00, 84.18it/s]\n"
          ]
        },
        {
          "name": "stdout",
          "output_type": "stream",
          "text": [
            "Epoch: 12, Training time: 17.24s, Loss: 806.2782\n"
          ]
        },
        {
          "name": "stderr",
          "output_type": "stream",
          "text": [
            "100%|██████████| 1450/1450 [00:17<00:00, 82.68it/s]\n"
          ]
        },
        {
          "name": "stdout",
          "output_type": "stream",
          "text": [
            "Epoch: 13, Training time: 17.55s, Loss: 802.1696\n"
          ]
        },
        {
          "name": "stderr",
          "output_type": "stream",
          "text": [
            "100%|██████████| 1450/1450 [00:18<00:00, 79.89it/s]\n"
          ]
        },
        {
          "name": "stdout",
          "output_type": "stream",
          "text": [
            "Epoch: 14, Training time: 18.16s, Loss: 776.0330\n"
          ]
        },
        {
          "name": "stderr",
          "output_type": "stream",
          "text": [
            "100%|██████████| 1450/1450 [00:17<00:00, 83.19it/s]\n"
          ]
        },
        {
          "name": "stdout",
          "output_type": "stream",
          "text": [
            "Epoch: 15, Training time: 17.44s, Loss: 809.8856\n",
            "Counter({1.0: 10599})\n",
            "130791 7366 10599 (1000, 500) torch.Size([1000, 100]) torch.Size([500, 100]) (1000, 500)\n"
          ]
        },
        {
          "name": "stderr",
          "output_type": "stream",
          "text": [
            "100%|██████████| 1450/1450 [00:17<00:00, 82.28it/s]\n"
          ]
        },
        {
          "name": "stdout",
          "output_type": "stream",
          "text": [
            "Epoch: 16, Training time: 17.64s, Loss: 772.6483\n"
          ]
        },
        {
          "name": "stderr",
          "output_type": "stream",
          "text": [
            "100%|██████████| 1450/1450 [00:18<00:00, 79.74it/s]\n"
          ]
        },
        {
          "name": "stdout",
          "output_type": "stream",
          "text": [
            "Epoch: 17, Training time: 18.19s, Loss: 792.4476\n"
          ]
        },
        {
          "name": "stderr",
          "output_type": "stream",
          "text": [
            "100%|██████████| 1450/1450 [00:18<00:00, 79.95it/s]\n"
          ]
        },
        {
          "name": "stdout",
          "output_type": "stream",
          "text": [
            "Epoch: 18, Training time: 18.15s, Loss: 815.3569\n"
          ]
        },
        {
          "name": "stderr",
          "output_type": "stream",
          "text": [
            "100%|██████████| 1450/1450 [00:18<00:00, 77.87it/s]\n"
          ]
        },
        {
          "name": "stdout",
          "output_type": "stream",
          "text": [
            "Epoch: 19, Training time: 18.64s, Loss: 787.3895\n",
            "Counter({1.0: 10599})\n",
            "129049 7304 10599 (1000, 500) torch.Size([1000, 100]) torch.Size([500, 100]) (1000, 500)\n"
          ]
        },
        {
          "name": "stderr",
          "output_type": "stream",
          "text": [
            "100%|██████████| 1450/1450 [00:17<00:00, 82.28it/s]\n"
          ]
        },
        {
          "name": "stdout",
          "output_type": "stream",
          "text": [
            "Epoch: 20, Training time: 17.63s, Loss: 809.8976\n"
          ]
        },
        {
          "name": "stderr",
          "output_type": "stream",
          "text": [
            "100%|██████████| 1450/1450 [00:18<00:00, 79.43it/s]\n"
          ]
        },
        {
          "name": "stdout",
          "output_type": "stream",
          "text": [
            "Epoch: 21, Training time: 18.26s, Loss: 783.1214\n"
          ]
        },
        {
          "name": "stderr",
          "output_type": "stream",
          "text": [
            "100%|██████████| 1450/1450 [00:17<00:00, 83.09it/s]\n"
          ]
        },
        {
          "name": "stdout",
          "output_type": "stream",
          "text": [
            "Epoch: 22, Training time: 17.46s, Loss: 792.6291\n"
          ]
        },
        {
          "name": "stderr",
          "output_type": "stream",
          "text": [
            "100%|██████████| 1450/1450 [00:17<00:00, 83.53it/s]\n"
          ]
        },
        {
          "name": "stdout",
          "output_type": "stream",
          "text": [
            "Epoch: 23, Training time: 17.37s, Loss: 773.4163\n",
            "Counter({1.0: 10599})\n",
            "130766 7273 10599 (1000, 500) torch.Size([1000, 100]) torch.Size([500, 100]) (1000, 500)\n"
          ]
        },
        {
          "name": "stderr",
          "output_type": "stream",
          "text": [
            "100%|██████████| 1450/1450 [00:18<00:00, 79.80it/s]\n"
          ]
        },
        {
          "name": "stdout",
          "output_type": "stream",
          "text": [
            "Epoch: 24, Training time: 18.18s, Loss: 806.8856\n"
          ]
        },
        {
          "name": "stderr",
          "output_type": "stream",
          "text": [
            "100%|██████████| 1450/1450 [00:17<00:00, 82.57it/s]\n"
          ]
        },
        {
          "name": "stdout",
          "output_type": "stream",
          "text": [
            "Epoch: 25, Training time: 17.57s, Loss: 788.8416\n"
          ]
        },
        {
          "name": "stderr",
          "output_type": "stream",
          "text": [
            "100%|██████████| 1450/1450 [00:18<00:00, 77.57it/s]\n"
          ]
        },
        {
          "name": "stdout",
          "output_type": "stream",
          "text": [
            "Epoch: 26, Training time: 18.70s, Loss: 783.5219\n"
          ]
        },
        {
          "name": "stderr",
          "output_type": "stream",
          "text": [
            "100%|██████████| 1450/1450 [00:17<00:00, 83.31it/s]\n"
          ]
        },
        {
          "name": "stdout",
          "output_type": "stream",
          "text": [
            "Epoch: 27, Training time: 17.41s, Loss: 778.9768\n",
            "Counter({1.0: 10599})\n",
            "128736 7139 10599 (1000, 500) torch.Size([1000, 100]) torch.Size([500, 100]) (1000, 500)\n"
          ]
        },
        {
          "name": "stderr",
          "output_type": "stream",
          "text": [
            "100%|██████████| 1450/1450 [00:18<00:00, 78.44it/s]\n"
          ]
        },
        {
          "name": "stdout",
          "output_type": "stream",
          "text": [
            "Epoch: 28, Training time: 18.49s, Loss: 797.6464\n"
          ]
        },
        {
          "name": "stderr",
          "output_type": "stream",
          "text": [
            "100%|██████████| 1450/1450 [00:17<00:00, 83.58it/s]\n"
          ]
        },
        {
          "name": "stdout",
          "output_type": "stream",
          "text": [
            "Epoch: 29, Training time: 17.36s, Loss: 801.0894\n"
          ]
        },
        {
          "name": "stderr",
          "output_type": "stream",
          "text": [
            "100%|██████████| 1450/1450 [00:17<00:00, 83.56it/s]\n"
          ]
        },
        {
          "name": "stdout",
          "output_type": "stream",
          "text": [
            "Epoch: 30, Training time: 17.36s, Loss: 823.9558\n"
          ]
        },
        {
          "name": "stderr",
          "output_type": "stream",
          "text": [
            "100%|██████████| 1450/1450 [00:17<00:00, 80.95it/s]\n"
          ]
        },
        {
          "name": "stdout",
          "output_type": "stream",
          "text": [
            "Epoch: 31, Training time: 17.92s, Loss: 765.1386\n",
            "Counter({1.0: 10599})\n",
            "127255 7237 10599 (1000, 500) torch.Size([1000, 100]) torch.Size([500, 100]) (1000, 500)\n"
          ]
        },
        {
          "name": "stderr",
          "output_type": "stream",
          "text": [
            "100%|██████████| 1450/1450 [00:17<00:00, 82.10it/s]\n"
          ]
        },
        {
          "name": "stdout",
          "output_type": "stream",
          "text": [
            "Epoch: 32, Training time: 17.67s, Loss: 797.4362\n"
          ]
        },
        {
          "name": "stderr",
          "output_type": "stream",
          "text": [
            "100%|██████████| 1450/1450 [00:18<00:00, 78.48it/s]\n"
          ]
        },
        {
          "name": "stdout",
          "output_type": "stream",
          "text": [
            "Epoch: 33, Training time: 18.49s, Loss: 793.0027\n"
          ]
        },
        {
          "name": "stderr",
          "output_type": "stream",
          "text": [
            "100%|██████████| 1450/1450 [00:17<00:00, 81.88it/s]\n"
          ]
        },
        {
          "name": "stdout",
          "output_type": "stream",
          "text": [
            "Epoch: 34, Training time: 17.72s, Loss: 794.2541\n"
          ]
        },
        {
          "name": "stderr",
          "output_type": "stream",
          "text": [
            "100%|██████████| 1450/1450 [00:18<00:00, 79.95it/s]\n"
          ]
        },
        {
          "name": "stdout",
          "output_type": "stream",
          "text": [
            "Epoch: 35, Training time: 18.16s, Loss: 790.0586\n",
            "Counter({1.0: 10599})\n",
            "126733 7288 10599 (1000, 500) torch.Size([1000, 100]) torch.Size([500, 100]) (1000, 500)\n"
          ]
        },
        {
          "name": "stderr",
          "output_type": "stream",
          "text": [
            "100%|██████████| 1450/1450 [00:17<00:00, 83.58it/s]\n"
          ]
        },
        {
          "name": "stdout",
          "output_type": "stream",
          "text": [
            "Epoch: 36, Training time: 17.36s, Loss: 805.3616\n"
          ]
        },
        {
          "name": "stderr",
          "output_type": "stream",
          "text": [
            "100%|██████████| 1450/1450 [00:17<00:00, 83.44it/s]\n"
          ]
        },
        {
          "name": "stdout",
          "output_type": "stream",
          "text": [
            "Epoch: 37, Training time: 17.39s, Loss: 775.5205\n"
          ]
        },
        {
          "name": "stderr",
          "output_type": "stream",
          "text": [
            "100%|██████████| 1450/1450 [00:18<00:00, 79.09it/s]\n"
          ]
        },
        {
          "name": "stdout",
          "output_type": "stream",
          "text": [
            "Epoch: 38, Training time: 18.34s, Loss: 775.8421\n"
          ]
        },
        {
          "name": "stderr",
          "output_type": "stream",
          "text": [
            "100%|██████████| 1450/1450 [00:18<00:00, 78.68it/s]\n"
          ]
        },
        {
          "name": "stdout",
          "output_type": "stream",
          "text": [
            "Epoch: 39, Training time: 18.44s, Loss: 783.2289\n",
            "Counter({1.0: 10599})\n",
            "124556 7188 10599 (1000, 500) torch.Size([1000, 100]) torch.Size([500, 100]) (1000, 500)\n"
          ]
        },
        {
          "data": {
            "application/vnd.jupyter.widget-view+json": {
              "model_id": "2ea86a15cb7e49e38827c5011b855e18",
              "version_major": 2,
              "version_minor": 0
            },
            "text/plain": [
              "VBox(children=(Label(value='0.001 MB of 0.001 MB uploaded\\r'), FloatProgress(value=1.0, max=1.0)))"
            ]
          },
          "metadata": {},
          "output_type": "display_data"
        },
        {
          "data": {
            "text/html": [
              "<style>\n",
              "    table.wandb td:nth-child(1) { padding: 0 10px; text-align: left ; width: auto;} td:nth-child(2) {text-align: left ; width: 100%}\n",
              "    .wandb-row { display: flex; flex-direction: row; flex-wrap: wrap; justify-content: flex-start; width: 100% }\n",
              "    .wandb-col { display: flex; flex-direction: column; flex-basis: 100%; flex: 1; padding: 10px; }\n",
              "    </style>\n",
              "<div class=\"wandb-row\"><div class=\"wandb-col\"><h3>Run history:</h3><br/><table class=\"wandb\"><tr><td>ndcg_20</td><td>▁▆▆▄▆▅█▇█▆</td></tr><tr><td>rec_20</td><td>▁▅▅▆▅▅▆▆█▇</td></tr><tr><td>test_f1_score</td><td>▂▃▁▅▅▃▂▆██</td></tr><tr><td>test_precision</td><td>▂▃▁▅▅▃▂▆██</td></tr><tr><td>test_recall</td><td>▄█▆▆▅▄▁▃▄▂</td></tr><tr><td>training_loss</td><td>▃▁▃▃▅▅▃▆▆▆▇▇▆▆▄▇▃▅▇▅▇▄▅▄▆▅▄▄▆▆█▃▆▅▅▅▆▄▄▄</td></tr></table><br/></div><div class=\"wandb-col\"><h3>Run summary:</h3><br/><table class=\"wandb\"><tr><td>ndcg_20</td><td>0.46405</td></tr><tr><td>rec_20</td><td>0.23548</td></tr><tr><td>test_f1_score</td><td>0.10637</td></tr><tr><td>test_precision</td><td>0.05771</td></tr><tr><td>test_recall</td><td>0.67818</td></tr><tr><td>training_loss</td><td>783.22888</td></tr></table><br/></div></div>"
            ],
            "text/plain": [
              "<IPython.core.display.HTML object>"
            ]
          },
          "metadata": {},
          "output_type": "display_data"
        },
        {
          "data": {
            "text/html": [
              " View run <strong style=\"color:#cdcd00\">LP__loss_bpr_tr_True_pcutoff_0.9_poswght_1_bs_16_layers_[16, 32]_nemb_52_lr_0.015_reg_0.005_messdr_0.01_nodedr_0.01_ucount_1000_bcount_500</strong> at: <a href='https://wandb.ai/hans-kvaerum/nml_project/runs/t98dcw9b' target=\"_blank\">https://wandb.ai/hans-kvaerum/nml_project/runs/t98dcw9b</a><br/> View project at: <a href='https://wandb.ai/hans-kvaerum/nml_project' target=\"_blank\">https://wandb.ai/hans-kvaerum/nml_project</a><br/>Synced 5 W&B file(s), 0 media file(s), 0 artifact file(s) and 0 other file(s)"
            ],
            "text/plain": [
              "<IPython.core.display.HTML object>"
            ]
          },
          "metadata": {},
          "output_type": "display_data"
        },
        {
          "data": {
            "text/html": [
              "Find logs at: <code>./wandb/run-20240609_232123-t98dcw9b/logs</code>"
            ],
            "text/plain": [
              "<IPython.core.display.HTML object>"
            ]
          },
          "metadata": {},
          "output_type": "display_data"
        },
        {
          "data": {
            "image/png": "[encoded data removed]",
            "text/plain": [
              "<Figure size 1200x800 with 1 Axes>"
            ]
          },
          "metadata": {},
          "output_type": "display_data"
        }
      ],
      "source": [
        "loss_name = 'bpr'\n",
        "\n",
        "# start wandb run\n",
        "model_name = init_wandb(loss_name, to_reads, prob_cutoff, pos_weight, batch_size, layers, emb_dim, lr, reg, mess_dropout, node_dropout, user_count, book_count, k, n_epochs)\n",
        "\n",
        "# train the model and output results\n",
        "train_interaction_predictor(loss_name, prob_cutoff, pos_weight, batch_size, layers, emb_dim, lr, reg, mess_dropout, node_dropout, user_count, book_count, k, n_epochs, eval_N, save_results, model_name)"
      ]
    },
    {
      "cell_type": "markdown",
      "metadata": {
        "id": "enSaF3ifQU61"
      },
      "source": [
        "#### 2ciii) BCE loss, no to_reads"
      ]
    },
    {
      "cell_type": "code",
      "execution_count": null,
      "metadata": {
        "colab": {
          "base_uri": "https://localhost:8080/",
          "height": 1000,
          "referenced_widgets": [
            "9c05e2ffa07442debdb8f48e375a2f6a",
            "c2b8a31878b643c882be0ee508c1dbc1",
            "e811ca70b17f49939d4a77e57878b435",
            "9635d0b958fe4821bbf4a54e187ce11b",
            "5bc06252165c429b90944a55109db47c",
            "bca24d5ed14644c68d09acdb9a736b4c",
            "a75910c4fb164c6fbecbe2c9abf5b430",
            "7a7b2fba7f90403bbe435e8b493f438d"
          ]
        },
        "id": "1Vxmt7E9QU61",
        "outputId": "3c3dcf2d-3400-42c9-ce63-def5a2601b20"
      },
      "outputs": [
        {
          "data": {
            "text/html": [
              "Tracking run with wandb version 0.17.1"
            ],
            "text/plain": [
              "<IPython.core.display.HTML object>"
            ]
          },
          "metadata": {},
          "output_type": "display_data"
        },
        {
          "data": {
            "text/html": [
              "Run data is saved locally in <code>/content/drive/MyDrive/EE452_2024_Team5_Project/wandb/run-20240609_233346-gnrvrzxi</code>"
            ],
            "text/plain": [
              "<IPython.core.display.HTML object>"
            ]
          },
          "metadata": {},
          "output_type": "display_data"
        },
        {
          "data": {
            "text/html": [
              "Syncing run <strong><a href='https://wandb.ai/hans-kvaerum/nml_project/runs/gnrvrzxi' target=\"_blank\">LP__loss_bce_tr_False_pcutoff_0.9_poswght_1_bs_16_layers_[16, 32]_nemb_52_lr_0.015_reg_0.005_messdr_0.01_nodedr_0.01_ucount_1000_bcount_500</a></strong> to <a href='https://wandb.ai/hans-kvaerum/nml_project' target=\"_blank\">Weights & Biases</a> (<a href='https://wandb.me/run' target=\"_blank\">docs</a>)<br/>"
            ],
            "text/plain": [
              "<IPython.core.display.HTML object>"
            ]
          },
          "metadata": {},
          "output_type": "display_data"
        },
        {
          "data": {
            "text/html": [
              " View project at <a href='https://wandb.ai/hans-kvaerum/nml_project' target=\"_blank\">https://wandb.ai/hans-kvaerum/nml_project</a>"
            ],
            "text/plain": [
              "<IPython.core.display.HTML object>"
            ]
          },
          "metadata": {},
          "output_type": "display_data"
        },
        {
          "data": {
            "text/html": [
              " View run at <a href='https://wandb.ai/hans-kvaerum/nml_project/runs/gnrvrzxi' target=\"_blank\">https://wandb.ai/hans-kvaerum/nml_project/runs/gnrvrzxi</a>"
            ],
            "text/plain": [
              "<IPython.core.display.HTML object>"
            ]
          },
          "metadata": {},
          "output_type": "display_data"
        },
        {
          "name": "stdout",
          "output_type": "stream",
          "text": [
            "n_users=1000, n_items=500\n",
            "n_interactions=30979\n",
            "n_train=21220, n_test=9759, sparsity=0.06196\n",
            "Creating interaction matrices R_train and R_test...\n",
            "Complete. Interaction matrices R_train and R_test created in 0.522310733795166 sec\n",
            "Creating adjacency-matrix...\n",
            "Complete. Adjacency-matrix created in (1500, 1500) 0.12672638893127441 sec.\n",
            "Transforming adjacency-matrix to NGCF-adjacency matrix...\n",
            "Complete. Transformed adjacency-matrix to NGCF-adjacency matrix in 0.05885457992553711 sec.\n"
          ]
        },
        {
          "name": "stderr",
          "output_type": "stream",
          "text": [
            "/content/drive/MyDrive/EE452_2024_Team5_Project/src/ngcf_utils/load_data.py:131: RuntimeWarning: divide by zero encountered in power\n",
            "  d_inv = np.power(rowsum, -.5).flatten()\n"
          ]
        },
        {
          "name": "stdout",
          "output_type": "stream",
          "text": [
            "Initializing weights...\n",
            "Weights initialized.\n"
          ]
        },
        {
          "name": "stderr",
          "output_type": "stream",
          "text": [
            "100%|██████████| 1327/1327 [00:16<00:00, 78.86it/s]\n"
          ]
        },
        {
          "name": "stdout",
          "output_type": "stream",
          "text": [
            "Epoch: 0, Training time: 16.84s, Loss: 913.8515\n"
          ]
        },
        {
          "name": "stderr",
          "output_type": "stream",
          "text": [
            "100%|██████████| 1327/1327 [00:16<00:00, 82.92it/s]\n"
          ]
        },
        {
          "name": "stdout",
          "output_type": "stream",
          "text": [
            "Epoch: 1, Training time: 16.01s, Loss: 777.8154\n"
          ]
        },
        {
          "name": "stderr",
          "output_type": "stream",
          "text": [
            "100%|██████████| 1327/1327 [00:16<00:00, 82.75it/s]\n"
          ]
        },
        {
          "name": "stdout",
          "output_type": "stream",
          "text": [
            "Epoch: 2, Training time: 16.05s, Loss: 748.2602\n"
          ]
        },
        {
          "name": "stderr",
          "output_type": "stream",
          "text": [
            "100%|██████████| 1327/1327 [00:16<00:00, 82.67it/s]\n"
          ]
        },
        {
          "name": "stdout",
          "output_type": "stream",
          "text": [
            "Epoch: 3, Training time: 16.06s, Loss: 727.4134\n",
            "Counter({1.0: 9759})\n",
            "26359 2651 9759 (1000, 500) torch.Size([1000, 100]) torch.Size([500, 100]) (1000, 500)\n"
          ]
        },
        {
          "name": "stderr",
          "output_type": "stream",
          "text": [
            "100%|██████████| 1327/1327 [00:18<00:00, 73.36it/s]\n"
          ]
        },
        {
          "name": "stdout",
          "output_type": "stream",
          "text": [
            "Epoch: 4, Training time: 18.10s, Loss: 706.5835\n"
          ]
        },
        {
          "name": "stderr",
          "output_type": "stream",
          "text": [
            "100%|██████████| 1327/1327 [00:16<00:00, 79.86it/s]\n"
          ]
        },
        {
          "name": "stdout",
          "output_type": "stream",
          "text": [
            "Epoch: 5, Training time: 16.63s, Loss: 694.6266\n"
          ]
        },
        {
          "name": "stderr",
          "output_type": "stream",
          "text": [
            "100%|██████████| 1327/1327 [00:15<00:00, 83.05it/s]\n"
          ]
        },
        {
          "name": "stdout",
          "output_type": "stream",
          "text": [
            "Epoch: 6, Training time: 15.99s, Loss: 701.2932\n"
          ]
        },
        {
          "name": "stderr",
          "output_type": "stream",
          "text": [
            "100%|██████████| 1327/1327 [00:17<00:00, 75.01it/s]\n"
          ]
        },
        {
          "name": "stdout",
          "output_type": "stream",
          "text": [
            "Epoch: 7, Training time: 17.70s, Loss: 701.9724\n",
            "Counter({1.0: 9759})\n",
            "25530 2734 9759 (1000, 500) torch.Size([1000, 100]) torch.Size([500, 100]) (1000, 500)\n"
          ]
        },
        {
          "name": "stderr",
          "output_type": "stream",
          "text": [
            "100%|██████████| 1327/1327 [00:16<00:00, 82.89it/s]\n"
          ]
        },
        {
          "name": "stdout",
          "output_type": "stream",
          "text": [
            "Epoch: 8, Training time: 16.02s, Loss: 701.4301\n"
          ]
        },
        {
          "name": "stderr",
          "output_type": "stream",
          "text": [
            "100%|██████████| 1327/1327 [00:16<00:00, 82.44it/s]\n"
          ]
        },
        {
          "name": "stdout",
          "output_type": "stream",
          "text": [
            "Epoch: 9, Training time: 16.10s, Loss: 682.9320\n"
          ]
        },
        {
          "name": "stderr",
          "output_type": "stream",
          "text": [
            "100%|██████████| 1327/1327 [00:16<00:00, 81.09it/s]\n"
          ]
        },
        {
          "name": "stdout",
          "output_type": "stream",
          "text": [
            "Epoch: 10, Training time: 16.38s, Loss: 686.5657\n"
          ]
        },
        {
          "name": "stderr",
          "output_type": "stream",
          "text": [
            "100%|██████████| 1327/1327 [00:16<00:00, 79.76it/s]\n"
          ]
        },
        {
          "name": "stdout",
          "output_type": "stream",
          "text": [
            "Epoch: 11, Training time: 16.65s, Loss: 696.9556\n",
            "Counter({1.0: 9759})\n",
            "25147 2788 9759 (1000, 500) torch.Size([1000, 100]) torch.Size([500, 100]) (1000, 500)\n"
          ]
        },
        {
          "name": "stderr",
          "output_type": "stream",
          "text": [
            "100%|██████████| 1327/1327 [00:15<00:00, 82.96it/s]\n"
          ]
        },
        {
          "name": "stdout",
          "output_type": "stream",
          "text": [
            "Epoch: 12, Training time: 16.00s, Loss: 691.7469\n"
          ]
        },
        {
          "name": "stderr",
          "output_type": "stream",
          "text": [
            "100%|██████████| 1327/1327 [00:15<00:00, 83.44it/s]\n"
          ]
        },
        {
          "name": "stdout",
          "output_type": "stream",
          "text": [
            "Epoch: 13, Training time: 15.91s, Loss: 686.2089\n"
          ]
        },
        {
          "name": "stderr",
          "output_type": "stream",
          "text": [
            "100%|██████████| 1327/1327 [00:15<00:00, 83.38it/s]\n"
          ]
        },
        {
          "name": "stdout",
          "output_type": "stream",
          "text": [
            "Epoch: 14, Training time: 15.92s, Loss: 702.5632\n"
          ]
        },
        {
          "name": "stderr",
          "output_type": "stream",
          "text": [
            "100%|██████████| 1327/1327 [00:17<00:00, 76.53it/s]\n"
          ]
        },
        {
          "name": "stdout",
          "output_type": "stream",
          "text": [
            "Epoch: 15, Training time: 17.35s, Loss: 689.0126\n",
            "Counter({1.0: 9759})\n",
            "26875 2890 9759 (1000, 500) torch.Size([1000, 100]) torch.Size([500, 100]) (1000, 500)\n"
          ]
        },
        {
          "name": "stderr",
          "output_type": "stream",
          "text": [
            "100%|██████████| 1327/1327 [00:17<00:00, 77.69it/s]\n"
          ]
        },
        {
          "name": "stdout",
          "output_type": "stream",
          "text": [
            "Epoch: 16, Training time: 17.10s, Loss: 702.2839\n"
          ]
        },
        {
          "name": "stderr",
          "output_type": "stream",
          "text": [
            "100%|██████████| 1327/1327 [00:16<00:00, 82.78it/s]\n"
          ]
        },
        {
          "name": "stdout",
          "output_type": "stream",
          "text": [
            "Epoch: 17, Training time: 16.04s, Loss: 688.1131\n"
          ]
        },
        {
          "name": "stderr",
          "output_type": "stream",
          "text": [
            "100%|██████████| 1327/1327 [00:16<00:00, 82.87it/s]\n"
          ]
        },
        {
          "name": "stdout",
          "output_type": "stream",
          "text": [
            "Epoch: 18, Training time: 16.02s, Loss: 694.4736\n"
          ]
        },
        {
          "name": "stderr",
          "output_type": "stream",
          "text": [
            "100%|██████████| 1327/1327 [00:15<00:00, 83.30it/s]\n"
          ]
        },
        {
          "name": "stdout",
          "output_type": "stream",
          "text": [
            "Epoch: 19, Training time: 15.94s, Loss: 676.7221\n",
            "Counter({1.0: 9759})\n",
            "25022 2826 9759 (1000, 500) torch.Size([1000, 100]) torch.Size([500, 100]) (1000, 500)\n"
          ]
        },
        {
          "name": "stderr",
          "output_type": "stream",
          "text": [
            "100%|██████████| 1327/1327 [00:16<00:00, 82.88it/s]\n"
          ]
        },
        {
          "name": "stdout",
          "output_type": "stream",
          "text": [
            "Epoch: 20, Training time: 16.02s, Loss: 699.6120\n"
          ]
        },
        {
          "name": "stderr",
          "output_type": "stream",
          "text": [
            "100%|██████████| 1327/1327 [00:16<00:00, 80.56it/s]\n"
          ]
        },
        {
          "name": "stdout",
          "output_type": "stream",
          "text": [
            "Epoch: 21, Training time: 16.48s, Loss: 680.3536\n"
          ]
        },
        {
          "name": "stderr",
          "output_type": "stream",
          "text": [
            "100%|██████████| 1327/1327 [00:16<00:00, 79.93it/s]\n"
          ]
        },
        {
          "name": "stdout",
          "output_type": "stream",
          "text": [
            "Epoch: 22, Training time: 16.61s, Loss: 690.1252\n"
          ]
        },
        {
          "name": "stderr",
          "output_type": "stream",
          "text": [
            "100%|██████████| 1327/1327 [00:17<00:00, 77.17it/s]\n"
          ]
        },
        {
          "name": "stdout",
          "output_type": "stream",
          "text": [
            "Epoch: 23, Training time: 17.20s, Loss: 685.9716\n",
            "Counter({1.0: 9759})\n",
            "25664 2965 9759 (1000, 500) torch.Size([1000, 100]) torch.Size([500, 100]) (1000, 500)\n"
          ]
        },
        {
          "name": "stderr",
          "output_type": "stream",
          "text": [
            "100%|██████████| 1327/1327 [00:15<00:00, 83.15it/s]\n"
          ]
        },
        {
          "name": "stdout",
          "output_type": "stream",
          "text": [
            "Epoch: 24, Training time: 15.97s, Loss: 680.9492\n"
          ]
        },
        {
          "name": "stderr",
          "output_type": "stream",
          "text": [
            "100%|██████████| 1327/1327 [00:16<00:00, 82.90it/s]\n"
          ]
        },
        {
          "name": "stdout",
          "output_type": "stream",
          "text": [
            "Epoch: 25, Training time: 16.02s, Loss: 707.5541\n"
          ]
        },
        {
          "name": "stderr",
          "output_type": "stream",
          "text": [
            "100%|██████████| 1327/1327 [00:16<00:00, 81.50it/s]\n"
          ]
        },
        {
          "name": "stdout",
          "output_type": "stream",
          "text": [
            "Epoch: 26, Training time: 16.29s, Loss: 684.0981\n"
          ]
        },
        {
          "name": "stderr",
          "output_type": "stream",
          "text": [
            "100%|██████████| 1327/1327 [00:16<00:00, 79.83it/s]\n"
          ]
        },
        {
          "name": "stdout",
          "output_type": "stream",
          "text": [
            "Epoch: 27, Training time: 16.63s, Loss: 679.5740\n",
            "Counter({1.0: 9759})\n",
            "24111 2803 9759 (1000, 500) torch.Size([1000, 100]) torch.Size([500, 100]) (1000, 500)\n"
          ]
        },
        {
          "name": "stderr",
          "output_type": "stream",
          "text": [
            "100%|██████████| 1327/1327 [00:15<00:00, 83.11it/s]\n"
          ]
        },
        {
          "name": "stdout",
          "output_type": "stream",
          "text": [
            "Epoch: 28, Training time: 15.97s, Loss: 675.3534\n"
          ]
        },
        {
          "name": "stderr",
          "output_type": "stream",
          "text": [
            "100%|██████████| 1327/1327 [00:16<00:00, 82.76it/s]\n"
          ]
        },
        {
          "name": "stdout",
          "output_type": "stream",
          "text": [
            "Epoch: 29, Training time: 16.05s, Loss: 681.9798\n"
          ]
        },
        {
          "name": "stderr",
          "output_type": "stream",
          "text": [
            "100%|██████████| 1327/1327 [00:16<00:00, 82.47it/s]\n"
          ]
        },
        {
          "name": "stdout",
          "output_type": "stream",
          "text": [
            "Epoch: 30, Training time: 16.10s, Loss: 691.5556\n"
          ]
        },
        {
          "name": "stderr",
          "output_type": "stream",
          "text": [
            "100%|██████████| 1327/1327 [00:17<00:00, 76.19it/s]\n"
          ]
        },
        {
          "name": "stdout",
          "output_type": "stream",
          "text": [
            "Epoch: 31, Training time: 17.43s, Loss: 691.7995\n",
            "Counter({1.0: 9759})\n",
            "25372 2959 9759 (1000, 500) torch.Size([1000, 100]) torch.Size([500, 100]) (1000, 500)\n"
          ]
        },
        {
          "name": "stderr",
          "output_type": "stream",
          "text": [
            "100%|██████████| 1327/1327 [00:16<00:00, 78.68it/s]\n"
          ]
        },
        {
          "name": "stdout",
          "output_type": "stream",
          "text": [
            "Epoch: 32, Training time: 16.89s, Loss: 683.1801\n"
          ]
        },
        {
          "name": "stderr",
          "output_type": "stream",
          "text": [
            "100%|██████████| 1327/1327 [00:16<00:00, 82.35it/s]\n"
          ]
        },
        {
          "name": "stdout",
          "output_type": "stream",
          "text": [
            "Epoch: 33, Training time: 16.12s, Loss: 678.4560\n"
          ]
        },
        {
          "name": "stderr",
          "output_type": "stream",
          "text": [
            "100%|██████████| 1327/1327 [00:16<00:00, 82.65it/s]\n"
          ]
        },
        {
          "name": "stdout",
          "output_type": "stream",
          "text": [
            "Epoch: 34, Training time: 16.06s, Loss: 664.3767\n"
          ]
        },
        {
          "name": "stderr",
          "output_type": "stream",
          "text": [
            "100%|██████████| 1327/1327 [00:16<00:00, 81.73it/s]\n"
          ]
        },
        {
          "name": "stdout",
          "output_type": "stream",
          "text": [
            "Epoch: 35, Training time: 16.24s, Loss: 684.5684\n",
            "Counter({1.0: 9759})\n",
            "23955 2815 9759 (1000, 500) torch.Size([1000, 100]) torch.Size([500, 100]) (1000, 500)\n"
          ]
        },
        {
          "name": "stderr",
          "output_type": "stream",
          "text": [
            "100%|██████████| 1327/1327 [00:16<00:00, 82.42it/s]\n"
          ]
        },
        {
          "name": "stdout",
          "output_type": "stream",
          "text": [
            "Epoch: 36, Training time: 16.11s, Loss: 681.2163\n"
          ]
        },
        {
          "name": "stderr",
          "output_type": "stream",
          "text": [
            "100%|██████████| 1327/1327 [00:16<00:00, 80.13it/s]\n"
          ]
        },
        {
          "name": "stdout",
          "output_type": "stream",
          "text": [
            "Epoch: 37, Training time: 16.57s, Loss: 671.0445\n"
          ]
        },
        {
          "name": "stderr",
          "output_type": "stream",
          "text": [
            "100%|██████████| 1327/1327 [00:17<00:00, 73.80it/s]\n"
          ]
        },
        {
          "name": "stdout",
          "output_type": "stream",
          "text": [
            "Epoch: 38, Training time: 17.99s, Loss: 679.0938\n"
          ]
        },
        {
          "name": "stderr",
          "output_type": "stream",
          "text": [
            "100%|██████████| 1327/1327 [00:16<00:00, 81.21it/s]\n"
          ]
        },
        {
          "name": "stdout",
          "output_type": "stream",
          "text": [
            "Epoch: 39, Training time: 16.35s, Loss: 679.5405\n",
            "Counter({1.0: 9759})\n",
            "22842 2823 9759 (1000, 500) torch.Size([1000, 100]) torch.Size([500, 100]) (1000, 500)\n"
          ]
        },
        {
          "data": {
            "application/vnd.jupyter.widget-view+json": {
              "model_id": "9c05e2ffa07442debdb8f48e375a2f6a",
              "version_major": 2,
              "version_minor": 0
            },
            "text/plain": [
              "VBox(children=(Label(value='0.001 MB of 0.001 MB uploaded\\r'), FloatProgress(value=1.0, max=1.0)))"
            ]
          },
          "metadata": {},
          "output_type": "display_data"
        },
        {
          "data": {
            "text/html": [
              "<style>\n",
              "    table.wandb td:nth-child(1) { padding: 0 10px; text-align: left ; width: auto;} td:nth-child(2) {text-align: left ; width: 100%}\n",
              "    .wandb-row { display: flex; flex-direction: row; flex-wrap: wrap; justify-content: flex-start; width: 100% }\n",
              "    .wandb-col { display: flex; flex-direction: column; flex-basis: 100%; flex: 1; padding: 10px; }\n",
              "    </style>\n",
              "<div class=\"wandb-row\"><div class=\"wandb-col\"><h3>Run history:</h3><br/><table class=\"wandb\"><tr><td>ndcg_20</td><td>▁▄▄▄▅█▅▇▆▇</td></tr><tr><td>rec_20</td><td>▁▃▅▄▆█▆█▇█</td></tr><tr><td>test_f1_score</td><td>▁▃▄▄▅▆▆▇▆█</td></tr><tr><td>test_precision</td><td>▁▃▄▃▅▆▆▆▆█</td></tr><tr><td>test_recall</td><td>▁▃▄▆▅█▄█▅▅</td></tr><tr><td>training_loss</td><td>█▄▃▃▂▂▂▂▂▂▂▂▂▂▂▂▂▂▂▁▂▁▂▂▁▂▂▁▁▁▂▂▂▁▁▂▁▁▁▁</td></tr></table><br/></div><div class=\"wandb-col\"><h3>Run summary:</h3><br/><table class=\"wandb\"><tr><td>ndcg_20</td><td>0.46783</td></tr><tr><td>rec_20</td><td>0.25327</td></tr><tr><td>test_f1_score</td><td>0.17318</td></tr><tr><td>test_precision</td><td>0.12359</td></tr><tr><td>test_recall</td><td>0.28927</td></tr><tr><td>training_loss</td><td>679.54048</td></tr></table><br/></div></div>"
            ],
            "text/plain": [
              "<IPython.core.display.HTML object>"
            ]
          },
          "metadata": {},
          "output_type": "display_data"
        },
        {
          "data": {
            "text/html": [
              " View run <strong style=\"color:#cdcd00\">LP__loss_bce_tr_False_pcutoff_0.9_poswght_1_bs_16_layers_[16, 32]_nemb_52_lr_0.015_reg_0.005_messdr_0.01_nodedr_0.01_ucount_1000_bcount_500</strong> at: <a href='https://wandb.ai/hans-kvaerum/nml_project/runs/gnrvrzxi' target=\"_blank\">https://wandb.ai/hans-kvaerum/nml_project/runs/gnrvrzxi</a><br/> View project at: <a href='https://wandb.ai/hans-kvaerum/nml_project' target=\"_blank\">https://wandb.ai/hans-kvaerum/nml_project</a><br/>Synced 5 W&B file(s), 0 media file(s), 0 artifact file(s) and 0 other file(s)"
            ],
            "text/plain": [
              "<IPython.core.display.HTML object>"
            ]
          },
          "metadata": {},
          "output_type": "display_data"
        },
        {
          "data": {
            "text/html": [
              "Find logs at: <code>./wandb/run-20240609_233346-gnrvrzxi/logs</code>"
            ],
            "text/plain": [
              "<IPython.core.display.HTML object>"
            ]
          },
          "metadata": {},
          "output_type": "display_data"
        },
        {
          "data": {
            "image/png": "[encoded data removed]",
            "text/plain": [
              "<Figure size 1200x800 with 1 Axes>"
            ]
          },
          "metadata": {},
          "output_type": "display_data"
        }
      ],
      "source": [
        "loss_name = 'bce'\n",
        "to_reads = False\n",
        "\n",
        "# create adjacency matrix from graph\n",
        "user_count, book_count, user_to_idx_map, book_to_idx_map = prep_data(to_reads)\n",
        "\n",
        "# start wandb run\n",
        "model_name = init_wandb(loss_name, to_reads, prob_cutoff, pos_weight, batch_size, layers, emb_dim, lr, reg, mess_dropout, node_dropout, user_count, book_count, k, n_epochs)\n",
        "\n",
        "# train the model and output results\n",
        "train_interaction_predictor(loss_name, prob_cutoff, pos_weight, batch_size, layers, emb_dim, lr, reg, mess_dropout, node_dropout, user_count, book_count, k, n_epochs, eval_N, save_results, model_name)"
      ]
    },
    {
      "cell_type": "markdown",
      "metadata": {
        "id": "JQgOBJTcQU61"
      },
      "source": [
        "#### 2civ) BPR loss, no to_reads"
      ]
    },
    {
      "cell_type": "code",
      "execution_count": null,
      "metadata": {
        "colab": {
          "base_uri": "https://localhost:8080/",
          "height": 1000,
          "referenced_widgets": [
            "dfc3298c572248e1819591aac60756d1",
            "3aced9cc8d2d4fb3944124356543d537",
            "9e528c16218f4583af51cc555f31699d",
            "ea024c7fd0f0420badd1616b494d76e1",
            "92986227100a43e4aefa53742358783f",
            "595babdfaacd4fa5a31b98b31d0873c9",
            "cd01a4419cbd42f79fae2346d01856d3",
            "2aa082e360a74e08ac96d2cf6e0661bc"
          ]
        },
        "id": "5sqUN_OxQU61",
        "outputId": "1730c6e0-060f-42a1-82d7-a90a89e8d574"
      },
      "outputs": [
        {
          "data": {
            "text/html": [
              "Tracking run with wandb version 0.17.1"
            ],
            "text/plain": [
              "<IPython.core.display.HTML object>"
            ]
          },
          "metadata": {},
          "output_type": "display_data"
        },
        {
          "data": {
            "text/html": [
              "Run data is saved locally in <code>/content/drive/MyDrive/EE452_2024_Team5_Project/wandb/run-20240609_234509-nzfosd4x</code>"
            ],
            "text/plain": [
              "<IPython.core.display.HTML object>"
            ]
          },
          "metadata": {},
          "output_type": "display_data"
        },
        {
          "data": {
            "text/html": [
              "Syncing run <strong><a href='https://wandb.ai/hans-kvaerum/nml_project/runs/nzfosd4x' target=\"_blank\">LP__loss_bpr_tr_False_pcutoff_0.9_poswght_1_bs_16_layers_[16, 32]_nemb_52_lr_0.015_reg_0.005_messdr_0.01_nodedr_0.01_ucount_1000_bcount_500</a></strong> to <a href='https://wandb.ai/hans-kvaerum/nml_project' target=\"_blank\">Weights & Biases</a> (<a href='https://wandb.me/run' target=\"_blank\">docs</a>)<br/>"
            ],
            "text/plain": [
              "<IPython.core.display.HTML object>"
            ]
          },
          "metadata": {},
          "output_type": "display_data"
        },
        {
          "data": {
            "text/html": [
              " View project at <a href='https://wandb.ai/hans-kvaerum/nml_project' target=\"_blank\">https://wandb.ai/hans-kvaerum/nml_project</a>"
            ],
            "text/plain": [
              "<IPython.core.display.HTML object>"
            ]
          },
          "metadata": {},
          "output_type": "display_data"
        },
        {
          "data": {
            "text/html": [
              " View run at <a href='https://wandb.ai/hans-kvaerum/nml_project/runs/nzfosd4x' target=\"_blank\">https://wandb.ai/hans-kvaerum/nml_project/runs/nzfosd4x</a>"
            ],
            "text/plain": [
              "<IPython.core.display.HTML object>"
            ]
          },
          "metadata": {},
          "output_type": "display_data"
        },
        {
          "name": "stdout",
          "output_type": "stream",
          "text": [
            "n_users=1000, n_items=500\n",
            "n_interactions=30979\n",
            "n_train=21220, n_test=9759, sparsity=0.06196\n",
            "Creating interaction matrices R_train and R_test...\n"
          ]
        },
        {
          "name": "stderr",
          "output_type": "stream",
          "text": [
            "/content/drive/MyDrive/EE452_2024_Team5_Project/src/ngcf_utils/load_data.py:131: RuntimeWarning: divide by zero encountered in power\n",
            "  d_inv = np.power(rowsum, -.5).flatten()\n"
          ]
        },
        {
          "name": "stdout",
          "output_type": "stream",
          "text": [
            "Complete. Interaction matrices R_train and R_test created in 0.32341980934143066 sec\n",
            "Creating adjacency-matrix...\n",
            "Complete. Adjacency-matrix created in (1500, 1500) 0.07146286964416504 sec.\n",
            "Transforming adjacency-matrix to NGCF-adjacency matrix...\n",
            "Complete. Transformed adjacency-matrix to NGCF-adjacency matrix in 0.03860950469970703 sec.\n",
            "Initializing weights...\n",
            "Weights initialized.\n"
          ]
        },
        {
          "name": "stderr",
          "output_type": "stream",
          "text": [
            "100%|██████████| 1327/1327 [00:16<00:00, 81.81it/s]\n"
          ]
        },
        {
          "name": "stdout",
          "output_type": "stream",
          "text": [
            "Epoch: 0, Training time: 16.23s, Loss: 681.6321\n"
          ]
        },
        {
          "name": "stderr",
          "output_type": "stream",
          "text": [
            "100%|██████████| 1327/1327 [00:16<00:00, 82.91it/s]\n"
          ]
        },
        {
          "name": "stdout",
          "output_type": "stream",
          "text": [
            "Epoch: 1, Training time: 16.02s, Loss: 651.5705\n"
          ]
        },
        {
          "name": "stderr",
          "output_type": "stream",
          "text": [
            "100%|██████████| 1327/1327 [00:16<00:00, 79.42it/s]\n"
          ]
        },
        {
          "name": "stdout",
          "output_type": "stream",
          "text": [
            "Epoch: 2, Training time: 16.72s, Loss: 635.4447\n"
          ]
        },
        {
          "name": "stderr",
          "output_type": "stream",
          "text": [
            "100%|██████████| 1327/1327 [00:16<00:00, 80.29it/s]\n"
          ]
        },
        {
          "name": "stdout",
          "output_type": "stream",
          "text": [
            "Epoch: 3, Training time: 16.54s, Loss: 654.2938\n",
            "Counter({1.0: 9759})\n",
            "128658 6750 9759 (1000, 500) torch.Size([1000, 100]) torch.Size([500, 100]) (1000, 500)\n"
          ]
        },
        {
          "name": "stderr",
          "output_type": "stream",
          "text": [
            "100%|██████████| 1327/1327 [00:16<00:00, 82.76it/s]\n"
          ]
        },
        {
          "name": "stdout",
          "output_type": "stream",
          "text": [
            "Epoch: 4, Training time: 16.04s, Loss: 663.7246\n"
          ]
        },
        {
          "name": "stderr",
          "output_type": "stream",
          "text": [
            "100%|██████████| 1327/1327 [00:17<00:00, 76.51it/s]\n"
          ]
        },
        {
          "name": "stdout",
          "output_type": "stream",
          "text": [
            "Epoch: 5, Training time: 17.35s, Loss: 700.2246\n"
          ]
        },
        {
          "name": "stderr",
          "output_type": "stream",
          "text": [
            "100%|██████████| 1327/1327 [00:16<00:00, 82.22it/s]\n"
          ]
        },
        {
          "name": "stdout",
          "output_type": "stream",
          "text": [
            "Epoch: 6, Training time: 16.15s, Loss: 681.9866\n"
          ]
        },
        {
          "name": "stderr",
          "output_type": "stream",
          "text": [
            "100%|██████████| 1327/1327 [00:16<00:00, 82.66it/s]\n"
          ]
        },
        {
          "name": "stdout",
          "output_type": "stream",
          "text": [
            "Epoch: 7, Training time: 16.06s, Loss: 674.7748\n",
            "Counter({1.0: 9759})\n",
            "130139 6909 9759 (1000, 500) torch.Size([1000, 100]) torch.Size([500, 100]) (1000, 500)\n"
          ]
        },
        {
          "name": "stderr",
          "output_type": "stream",
          "text": [
            "100%|██████████| 1327/1327 [00:16<00:00, 79.54it/s]\n"
          ]
        },
        {
          "name": "stdout",
          "output_type": "stream",
          "text": [
            "Epoch: 8, Training time: 16.69s, Loss: 666.4017\n"
          ]
        },
        {
          "name": "stderr",
          "output_type": "stream",
          "text": [
            "100%|██████████| 1327/1327 [00:16<00:00, 82.60it/s]\n"
          ]
        },
        {
          "name": "stdout",
          "output_type": "stream",
          "text": [
            "Epoch: 9, Training time: 16.07s, Loss: 677.4363\n"
          ]
        },
        {
          "name": "stderr",
          "output_type": "stream",
          "text": [
            "100%|██████████| 1327/1327 [00:16<00:00, 82.55it/s]\n"
          ]
        },
        {
          "name": "stdout",
          "output_type": "stream",
          "text": [
            "Epoch: 10, Training time: 16.08s, Loss: 689.6674\n"
          ]
        },
        {
          "name": "stderr",
          "output_type": "stream",
          "text": [
            "100%|██████████| 1327/1327 [00:15<00:00, 83.40it/s]\n"
          ]
        },
        {
          "name": "stdout",
          "output_type": "stream",
          "text": [
            "Epoch: 11, Training time: 15.92s, Loss: 672.3998\n",
            "Counter({1.0: 9759})\n",
            "129748 6841 9759 (1000, 500) torch.Size([1000, 100]) torch.Size([500, 100]) (1000, 500)\n"
          ]
        },
        {
          "name": "stderr",
          "output_type": "stream",
          "text": [
            "100%|██████████| 1327/1327 [00:16<00:00, 82.44it/s]\n"
          ]
        },
        {
          "name": "stdout",
          "output_type": "stream",
          "text": [
            "Epoch: 12, Training time: 16.10s, Loss: 679.7668\n"
          ]
        },
        {
          "name": "stderr",
          "output_type": "stream",
          "text": [
            "100%|██████████| 1327/1327 [00:18<00:00, 73.01it/s]\n"
          ]
        },
        {
          "name": "stdout",
          "output_type": "stream",
          "text": [
            "Epoch: 13, Training time: 18.18s, Loss: 688.8834\n"
          ]
        },
        {
          "name": "stderr",
          "output_type": "stream",
          "text": [
            "100%|██████████| 1327/1327 [00:16<00:00, 81.99it/s]\n"
          ]
        },
        {
          "name": "stdout",
          "output_type": "stream",
          "text": [
            "Epoch: 14, Training time: 16.19s, Loss: 686.0479\n"
          ]
        },
        {
          "name": "stderr",
          "output_type": "stream",
          "text": [
            "100%|██████████| 1327/1327 [00:16<00:00, 82.47it/s]\n"
          ]
        },
        {
          "name": "stdout",
          "output_type": "stream",
          "text": [
            "Epoch: 15, Training time: 16.10s, Loss: 674.2750\n",
            "Counter({1.0: 9759})\n",
            "126732 6779 9759 (1000, 500) torch.Size([1000, 100]) torch.Size([500, 100]) (1000, 500)\n"
          ]
        },
        {
          "name": "stderr",
          "output_type": "stream",
          "text": [
            "100%|██████████| 1327/1327 [00:15<00:00, 83.40it/s]\n"
          ]
        },
        {
          "name": "stdout",
          "output_type": "stream",
          "text": [
            "Epoch: 16, Training time: 15.92s, Loss: 667.3117\n"
          ]
        },
        {
          "name": "stderr",
          "output_type": "stream",
          "text": [
            "100%|██████████| 1327/1327 [00:15<00:00, 83.08it/s]\n"
          ]
        },
        {
          "name": "stdout",
          "output_type": "stream",
          "text": [
            "Epoch: 17, Training time: 15.98s, Loss: 693.1074\n"
          ]
        },
        {
          "name": "stderr",
          "output_type": "stream",
          "text": [
            "100%|██████████| 1327/1327 [00:16<00:00, 81.66it/s]\n"
          ]
        },
        {
          "name": "stdout",
          "output_type": "stream",
          "text": [
            "Epoch: 18, Training time: 16.26s, Loss: 686.4580\n"
          ]
        },
        {
          "name": "stderr",
          "output_type": "stream",
          "text": [
            "100%|██████████| 1327/1327 [00:16<00:00, 78.69it/s]\n"
          ]
        },
        {
          "name": "stdout",
          "output_type": "stream",
          "text": [
            "Epoch: 19, Training time: 16.88s, Loss: 675.3270\n",
            "Counter({1.0: 9759})\n",
            "132160 6743 9759 (1000, 500) torch.Size([1000, 100]) torch.Size([500, 100]) (1000, 500)\n"
          ]
        },
        {
          "name": "stderr",
          "output_type": "stream",
          "text": [
            "100%|██████████| 1327/1327 [00:16<00:00, 81.99it/s]\n"
          ]
        },
        {
          "name": "stdout",
          "output_type": "stream",
          "text": [
            "Epoch: 20, Training time: 16.19s, Loss: 683.7461\n"
          ]
        },
        {
          "name": "stderr",
          "output_type": "stream",
          "text": [
            "100%|██████████| 1327/1327 [00:17<00:00, 76.88it/s]\n"
          ]
        },
        {
          "name": "stdout",
          "output_type": "stream",
          "text": [
            "Epoch: 21, Training time: 17.27s, Loss: 661.3582\n"
          ]
        },
        {
          "name": "stderr",
          "output_type": "stream",
          "text": [
            "100%|██████████| 1327/1327 [00:15<00:00, 83.17it/s]\n"
          ]
        },
        {
          "name": "stdout",
          "output_type": "stream",
          "text": [
            "Epoch: 22, Training time: 15.97s, Loss: 663.3750\n"
          ]
        },
        {
          "name": "stderr",
          "output_type": "stream",
          "text": [
            "100%|██████████| 1327/1327 [00:15<00:00, 83.13it/s]\n"
          ]
        },
        {
          "name": "stdout",
          "output_type": "stream",
          "text": [
            "Epoch: 23, Training time: 15.97s, Loss: 681.7215\n",
            "Counter({1.0: 9759})\n",
            "130981 6736 9759 (1000, 500) torch.Size([1000, 100]) torch.Size([500, 100]) (1000, 500)\n"
          ]
        },
        {
          "name": "stderr",
          "output_type": "stream",
          "text": [
            "100%|██████████| 1327/1327 [00:16<00:00, 80.32it/s]\n"
          ]
        },
        {
          "name": "stdout",
          "output_type": "stream",
          "text": [
            "Epoch: 24, Training time: 16.53s, Loss: 658.5814\n"
          ]
        },
        {
          "name": "stderr",
          "output_type": "stream",
          "text": [
            "100%|██████████| 1327/1327 [00:16<00:00, 81.62it/s]\n"
          ]
        },
        {
          "name": "stdout",
          "output_type": "stream",
          "text": [
            "Epoch: 25, Training time: 16.27s, Loss: 673.4314\n"
          ]
        },
        {
          "name": "stderr",
          "output_type": "stream",
          "text": [
            "100%|██████████| 1327/1327 [00:16<00:00, 82.59it/s]\n"
          ]
        },
        {
          "name": "stdout",
          "output_type": "stream",
          "text": [
            "Epoch: 26, Training time: 16.08s, Loss: 659.3846\n"
          ]
        },
        {
          "name": "stderr",
          "output_type": "stream",
          "text": [
            "100%|██████████| 1327/1327 [00:16<00:00, 82.10it/s]\n"
          ]
        },
        {
          "name": "stdout",
          "output_type": "stream",
          "text": [
            "Epoch: 27, Training time: 16.17s, Loss: 649.4727\n",
            "Counter({1.0: 9759})\n",
            "129909 6702 9759 (1000, 500) torch.Size([1000, 100]) torch.Size([500, 100]) (1000, 500)\n"
          ]
        },
        {
          "name": "stderr",
          "output_type": "stream",
          "text": [
            "100%|██████████| 1327/1327 [00:16<00:00, 78.81it/s]\n"
          ]
        },
        {
          "name": "stdout",
          "output_type": "stream",
          "text": [
            "Epoch: 28, Training time: 16.85s, Loss: 673.2509\n"
          ]
        },
        {
          "name": "stderr",
          "output_type": "stream",
          "text": [
            "100%|██████████| 1327/1327 [00:19<00:00, 69.18it/s]\n"
          ]
        },
        {
          "name": "stdout",
          "output_type": "stream",
          "text": [
            "Epoch: 29, Training time: 19.20s, Loss: 671.9574\n"
          ]
        },
        {
          "name": "stderr",
          "output_type": "stream",
          "text": [
            "100%|██████████| 1327/1327 [00:17<00:00, 75.33it/s]\n"
          ]
        },
        {
          "name": "stdout",
          "output_type": "stream",
          "text": [
            "Epoch: 30, Training time: 17.63s, Loss: 691.1893\n"
          ]
        },
        {
          "name": "stderr",
          "output_type": "stream",
          "text": [
            "100%|██████████| 1327/1327 [00:17<00:00, 76.52it/s]\n"
          ]
        },
        {
          "name": "stdout",
          "output_type": "stream",
          "text": [
            "Epoch: 31, Training time: 17.36s, Loss: 655.7076\n",
            "Counter({1.0: 9759})\n",
            "127909 6626 9759 (1000, 500) torch.Size([1000, 100]) torch.Size([500, 100]) (1000, 500)\n"
          ]
        },
        {
          "name": "stderr",
          "output_type": "stream",
          "text": [
            "100%|██████████| 1327/1327 [00:16<00:00, 80.13it/s]\n"
          ]
        },
        {
          "name": "stdout",
          "output_type": "stream",
          "text": [
            "Epoch: 32, Training time: 16.57s, Loss: 662.2425\n"
          ]
        },
        {
          "name": "stderr",
          "output_type": "stream",
          "text": [
            "100%|██████████| 1327/1327 [00:16<00:00, 79.73it/s]\n"
          ]
        },
        {
          "name": "stdout",
          "output_type": "stream",
          "text": [
            "Epoch: 33, Training time: 16.65s, Loss: 645.2008\n"
          ]
        },
        {
          "name": "stderr",
          "output_type": "stream",
          "text": [
            "100%|██████████| 1327/1327 [00:17<00:00, 77.74it/s]\n"
          ]
        },
        {
          "name": "stdout",
          "output_type": "stream",
          "text": [
            "Epoch: 34, Training time: 17.08s, Loss: 651.1781\n"
          ]
        },
        {
          "name": "stderr",
          "output_type": "stream",
          "text": [
            "100%|██████████| 1327/1327 [00:16<00:00, 78.56it/s]\n"
          ]
        },
        {
          "name": "stdout",
          "output_type": "stream",
          "text": [
            "Epoch: 35, Training time: 16.90s, Loss: 654.2433\n",
            "Early stopping at step: 5 log:0.23945699632167816\n",
            "Counter({1.0: 9759})\n",
            "127786 6724 9759 (1000, 500) torch.Size([1000, 100]) torch.Size([500, 100]) (1000, 500)\n"
          ]
        },
        {
          "data": {
            "application/vnd.jupyter.widget-view+json": {
              "model_id": "dfc3298c572248e1819591aac60756d1",
              "version_major": 2,
              "version_minor": 0
            },
            "text/plain": [
              "VBox(children=(Label(value='0.001 MB of 0.001 MB uploaded\\r'), FloatProgress(value=1.0, max=1.0)))"
            ]
          },
          "metadata": {},
          "output_type": "display_data"
        },
        {
          "data": {
            "text/html": [
              "<style>\n",
              "    table.wandb td:nth-child(1) { padding: 0 10px; text-align: left ; width: auto;} td:nth-child(2) {text-align: left ; width: 100%}\n",
              "    .wandb-row { display: flex; flex-direction: row; flex-wrap: wrap; justify-content: flex-start; width: 100% }\n",
              "    .wandb-col { display: flex; flex-direction: column; flex-basis: 100%; flex: 1; padding: 10px; }\n",
              "    </style>\n",
              "<div class=\"wandb-row\"><div class=\"wandb-col\"><h3>Run history:</h3><br/><table class=\"wandb\"><tr><td>ndcg_20</td><td>▁▃▆▆▂▄█▄▅</td></tr><tr><td>rec_20</td><td>▁▃▆█▃▅▆▅▇</td></tr><tr><td>test_f1_score</td><td>▅▇▆█▁▂▃▃▅</td></tr><tr><td>test_precision</td><td>▅▇▆█▁▂▃▃▆</td></tr><tr><td>test_recall</td><td>▄█▆▅▄▄▃▁▃</td></tr><tr><td>training_loss</td><td>▆▃▁▃▄█▆▅▄▆▇▅▆▇▆▅▄▇▇▅▆▄▄▆▄▅▄▃▅▅▇▃▄▂▃▃</td></tr></table><br/></div><div class=\"wandb-col\"><h3>Run summary:</h3><br/><table class=\"wandb\"><tr><td>ndcg_20</td><td>0.44693</td></tr><tr><td>rec_20</td><td>0.23946</td></tr><tr><td>test_f1_score</td><td>0.09777</td></tr><tr><td>test_precision</td><td>0.05262</td></tr><tr><td>test_recall</td><td>0.68901</td></tr><tr><td>training_loss</td><td>654.24329</td></tr></table><br/></div></div>"
            ],
            "text/plain": [
              "<IPython.core.display.HTML object>"
            ]
          },
          "metadata": {},
          "output_type": "display_data"
        },
        {
          "data": {
            "text/html": [
              " View run <strong style=\"color:#cdcd00\">LP__loss_bpr_tr_False_pcutoff_0.9_poswght_1_bs_16_layers_[16, 32]_nemb_52_lr_0.015_reg_0.005_messdr_0.01_nodedr_0.01_ucount_1000_bcount_500</strong> at: <a href='https://wandb.ai/hans-kvaerum/nml_project/runs/nzfosd4x' target=\"_blank\">https://wandb.ai/hans-kvaerum/nml_project/runs/nzfosd4x</a><br/> View project at: <a href='https://wandb.ai/hans-kvaerum/nml_project' target=\"_blank\">https://wandb.ai/hans-kvaerum/nml_project</a><br/>Synced 5 W&B file(s), 0 media file(s), 0 artifact file(s) and 0 other file(s)"
            ],
            "text/plain": [
              "<IPython.core.display.HTML object>"
            ]
          },
          "metadata": {},
          "output_type": "display_data"
        },
        {
          "data": {
            "text/html": [
              "Find logs at: <code>./wandb/run-20240609_234509-nzfosd4x/logs</code>"
            ],
            "text/plain": [
              "<IPython.core.display.HTML object>"
            ]
          },
          "metadata": {},
          "output_type": "display_data"
        },
        {
          "data": {
            "image/png": "[encoded data removed]",
            "text/plain": [
              "<Figure size 1200x800 with 1 Axes>"
            ]
          },
          "metadata": {},
          "output_type": "display_data"
        }
      ],
      "source": [
        "loss_name = 'bpr'\n",
        "\n",
        "# start wandb run\n",
        "model_name = init_wandb(loss_name, to_reads, prob_cutoff, pos_weight, batch_size, layers, emb_dim, lr, reg, mess_dropout, node_dropout, user_count, book_count, k, n_epochs)\n",
        "\n",
        "# train the model and output results\n",
        "train_interaction_predictor(loss_name, prob_cutoff, pos_weight, batch_size, layers, emb_dim, lr, reg, mess_dropout, node_dropout, user_count, book_count, k, n_epochs, eval_N, save_results, model_name)"
      ]
    },
    {
      "cell_type": "markdown",
      "metadata": {
        "id": "RlMpjJGPbrbW"
      },
      "source": [
        "#### 2cv) BCE loss, to_reads, pos_weight = 20"
      ]
    },
    {
      "cell_type": "code",
      "execution_count": null,
      "metadata": {
        "colab": {
          "base_uri": "https://localhost:8080/",
          "height": 1000,
          "referenced_widgets": [
            "21251ba9c3a4498b813f05e8dc19ba8a",
            "38eeb6a4cf63438587b6e34916cbc3d4",
            "2edf70b9d1f840c29ad94a82b98c9681",
            "bfd9540b0f69479c82f7f4d485ffd606",
            "f6413913c3be4a4896563d813964f291",
            "f044611fa71841348c0b2252c57770c2",
            "221d674ee2eb48d09492ee3048d507d0",
            "7eb851bfd722469bb043377a45d4977b"
          ]
        },
        "id": "NZbMJ8Y1bfSh",
        "outputId": "a7868578-06b4-4157-d952-c98072756100"
      },
      "outputs": [
        {
          "data": {
            "text/html": [
              "Tracking run with wandb version 0.17.1"
            ],
            "text/plain": [
              "<IPython.core.display.HTML object>"
            ]
          },
          "metadata": {},
          "output_type": "display_data"
        },
        {
          "data": {
            "text/html": [
              "Run data is saved locally in <code>/content/drive/MyDrive/EE452_2024_Team5_Project/wandb/run-20240610_000033-lemiu2dg</code>"
            ],
            "text/plain": [
              "<IPython.core.display.HTML object>"
            ]
          },
          "metadata": {},
          "output_type": "display_data"
        },
        {
          "data": {
            "text/html": [
              "Syncing run <strong><a href='https://wandb.ai/hans-kvaerum/nml_project/runs/lemiu2dg' target=\"_blank\">LP__loss_bce_tr_True_pcutoff_0.9_poswght_20_bs_16_layers_[16, 32]_nemb_52_lr_0.015_reg_0.005_messdr_0.01_nodedr_0.01_ucount_1000_bcount_500</a></strong> to <a href='https://wandb.ai/hans-kvaerum/nml_project' target=\"_blank\">Weights & Biases</a> (<a href='https://wandb.me/run' target=\"_blank\">docs</a>)<br/>"
            ],
            "text/plain": [
              "<IPython.core.display.HTML object>"
            ]
          },
          "metadata": {},
          "output_type": "display_data"
        },
        {
          "data": {
            "text/html": [
              " View project at <a href='https://wandb.ai/hans-kvaerum/nml_project' target=\"_blank\">https://wandb.ai/hans-kvaerum/nml_project</a>"
            ],
            "text/plain": [
              "<IPython.core.display.HTML object>"
            ]
          },
          "metadata": {},
          "output_type": "display_data"
        },
        {
          "data": {
            "text/html": [
              " View run at <a href='https://wandb.ai/hans-kvaerum/nml_project/runs/lemiu2dg' target=\"_blank\">https://wandb.ai/hans-kvaerum/nml_project/runs/lemiu2dg</a>"
            ],
            "text/plain": [
              "<IPython.core.display.HTML object>"
            ]
          },
          "metadata": {},
          "output_type": "display_data"
        },
        {
          "name": "stdout",
          "output_type": "stream",
          "text": [
            "n_users=1000, n_items=500\n",
            "n_interactions=33787\n",
            "n_train=23188, n_test=10599, sparsity=0.06757\n",
            "Creating interaction matrices R_train and R_test...\n",
            "Complete. Interaction matrices R_train and R_test created in 0.853257417678833 sec\n",
            "Creating adjacency-matrix...\n",
            "Complete. Adjacency-matrix created in (1500, 1500) 0.24718832969665527 sec.\n",
            "Transforming adjacency-matrix to NGCF-adjacency matrix...\n",
            "Complete. Transformed adjacency-matrix to NGCF-adjacency matrix in 0.09249711036682129 sec.\n",
            "Initializing weights...\n"
          ]
        },
        {
          "name": "stderr",
          "output_type": "stream",
          "text": [
            "/content/drive/MyDrive/EE452_2024_Team5_Project/src/ngcf_utils/load_data.py:131: RuntimeWarning: divide by zero encountered in power\n",
            "  d_inv = np.power(rowsum, -.5).flatten()\n"
          ]
        },
        {
          "name": "stdout",
          "output_type": "stream",
          "text": [
            "Weights initialized.\n"
          ]
        },
        {
          "name": "stderr",
          "output_type": "stream",
          "text": [
            "100%|██████████| 1450/1450 [00:30<00:00, 46.88it/s]\n"
          ]
        },
        {
          "name": "stdout",
          "output_type": "stream",
          "text": [
            "Epoch: 0, Training time: 30.94s, Loss: 2907.3624\n"
          ]
        },
        {
          "name": "stderr",
          "output_type": "stream",
          "text": [
            "100%|██████████| 1450/1450 [00:19<00:00, 76.25it/s]\n"
          ]
        },
        {
          "name": "stdout",
          "output_type": "stream",
          "text": [
            "Epoch: 1, Training time: 19.03s, Loss: 2657.3015\n"
          ]
        },
        {
          "name": "stderr",
          "output_type": "stream",
          "text": [
            "100%|██████████| 1450/1450 [00:18<00:00, 80.21it/s]\n"
          ]
        },
        {
          "name": "stdout",
          "output_type": "stream",
          "text": [
            "Epoch: 2, Training time: 18.09s, Loss: 2440.0192\n"
          ]
        },
        {
          "name": "stderr",
          "output_type": "stream",
          "text": [
            "100%|██████████| 1450/1450 [00:19<00:00, 75.74it/s]\n"
          ]
        },
        {
          "name": "stdout",
          "output_type": "stream",
          "text": [
            "Epoch: 3, Training time: 19.16s, Loss: 2428.4179\n",
            "Counter({1.0: 10599})\n",
            "140215 7722 10599 (1000, 500) torch.Size([1000, 100]) torch.Size([500, 100]) (1000, 500)\n"
          ]
        },
        {
          "name": "stderr",
          "output_type": "stream",
          "text": [
            "100%|██████████| 1450/1450 [00:21<00:00, 67.36it/s]\n"
          ]
        },
        {
          "name": "stdout",
          "output_type": "stream",
          "text": [
            "Epoch: 4, Training time: 21.53s, Loss: 2278.1911\n"
          ]
        },
        {
          "name": "stderr",
          "output_type": "stream",
          "text": [
            "100%|██████████| 1450/1450 [00:18<00:00, 76.97it/s]\n"
          ]
        },
        {
          "name": "stdout",
          "output_type": "stream",
          "text": [
            "Epoch: 5, Training time: 18.85s, Loss: 2282.2686\n"
          ]
        },
        {
          "name": "stderr",
          "output_type": "stream",
          "text": [
            "100%|██████████| 1450/1450 [00:22<00:00, 65.11it/s]\n"
          ]
        },
        {
          "name": "stdout",
          "output_type": "stream",
          "text": [
            "Epoch: 6, Training time: 22.28s, Loss: 2187.6518\n"
          ]
        },
        {
          "name": "stderr",
          "output_type": "stream",
          "text": [
            "100%|██████████| 1450/1450 [00:20<00:00, 72.01it/s]\n"
          ]
        },
        {
          "name": "stdout",
          "output_type": "stream",
          "text": [
            "Epoch: 7, Training time: 20.14s, Loss: 2203.8579\n",
            "Counter({1.0: 10599})\n",
            "113668 7308 10599 (1000, 500) torch.Size([1000, 100]) torch.Size([500, 100]) (1000, 500)\n"
          ]
        },
        {
          "name": "stderr",
          "output_type": "stream",
          "text": [
            "100%|██████████| 1450/1450 [00:17<00:00, 81.35it/s]\n"
          ]
        },
        {
          "name": "stdout",
          "output_type": "stream",
          "text": [
            "Epoch: 8, Training time: 17.83s, Loss: 2177.1016\n"
          ]
        },
        {
          "name": "stderr",
          "output_type": "stream",
          "text": [
            "100%|██████████| 1450/1450 [00:18<00:00, 78.68it/s]\n"
          ]
        },
        {
          "name": "stdout",
          "output_type": "stream",
          "text": [
            "Epoch: 9, Training time: 18.45s, Loss: 2194.9755\n"
          ]
        },
        {
          "name": "stderr",
          "output_type": "stream",
          "text": [
            "100%|██████████| 1450/1450 [00:19<00:00, 74.98it/s]\n"
          ]
        },
        {
          "name": "stdout",
          "output_type": "stream",
          "text": [
            "Epoch: 10, Training time: 19.35s, Loss: 2212.9932\n"
          ]
        },
        {
          "name": "stderr",
          "output_type": "stream",
          "text": [
            "100%|██████████| 1450/1450 [00:17<00:00, 81.92it/s]\n"
          ]
        },
        {
          "name": "stdout",
          "output_type": "stream",
          "text": [
            "Epoch: 11, Training time: 17.71s, Loss: 2167.3355\n",
            "Counter({1.0: 10599})\n",
            "103009 7107 10599 (1000, 500) torch.Size([1000, 100]) torch.Size([500, 100]) (1000, 500)\n"
          ]
        },
        {
          "name": "stderr",
          "output_type": "stream",
          "text": [
            "100%|██████████| 1450/1450 [00:18<00:00, 77.27it/s]\n"
          ]
        },
        {
          "name": "stdout",
          "output_type": "stream",
          "text": [
            "Epoch: 12, Training time: 18.78s, Loss: 2223.9586\n"
          ]
        },
        {
          "name": "stderr",
          "output_type": "stream",
          "text": [
            "100%|██████████| 1450/1450 [00:17<00:00, 82.25it/s]\n"
          ]
        },
        {
          "name": "stdout",
          "output_type": "stream",
          "text": [
            "Epoch: 13, Training time: 17.64s, Loss: 2134.1040\n"
          ]
        },
        {
          "name": "stderr",
          "output_type": "stream",
          "text": [
            "100%|██████████| 1450/1450 [00:17<00:00, 82.60it/s]\n"
          ]
        },
        {
          "name": "stdout",
          "output_type": "stream",
          "text": [
            "Epoch: 14, Training time: 17.57s, Loss: 2160.8619\n"
          ]
        },
        {
          "name": "stderr",
          "output_type": "stream",
          "text": [
            "100%|██████████| 1450/1450 [00:18<00:00, 80.09it/s]\n"
          ]
        },
        {
          "name": "stdout",
          "output_type": "stream",
          "text": [
            "Epoch: 15, Training time: 18.12s, Loss: 2206.8126\n",
            "Counter({1.0: 10599})\n",
            "96358 6956 10599 (1000, 500) torch.Size([1000, 100]) torch.Size([500, 100]) (1000, 500)\n"
          ]
        },
        {
          "name": "stderr",
          "output_type": "stream",
          "text": [
            "100%|██████████| 1450/1450 [00:18<00:00, 78.90it/s]\n"
          ]
        },
        {
          "name": "stdout",
          "output_type": "stream",
          "text": [
            "Epoch: 16, Training time: 18.39s, Loss: 2152.6825\n"
          ]
        },
        {
          "name": "stderr",
          "output_type": "stream",
          "text": [
            "100%|██████████| 1450/1450 [00:18<00:00, 76.52it/s]\n"
          ]
        },
        {
          "name": "stdout",
          "output_type": "stream",
          "text": [
            "Epoch: 17, Training time: 18.96s, Loss: 2335.5550\n"
          ]
        },
        {
          "name": "stderr",
          "output_type": "stream",
          "text": [
            "100%|██████████| 1450/1450 [00:18<00:00, 79.25it/s]\n"
          ]
        },
        {
          "name": "stdout",
          "output_type": "stream",
          "text": [
            "Epoch: 18, Training time: 18.30s, Loss: 2203.7451\n"
          ]
        },
        {
          "name": "stderr",
          "output_type": "stream",
          "text": [
            "100%|██████████| 1450/1450 [00:18<00:00, 78.98it/s]\n"
          ]
        },
        {
          "name": "stdout",
          "output_type": "stream",
          "text": [
            "Epoch: 19, Training time: 18.37s, Loss: 2178.4391\n",
            "Counter({1.0: 10599})\n",
            "95661 6902 10599 (1000, 500) torch.Size([1000, 100]) torch.Size([500, 100]) (1000, 500)\n"
          ]
        },
        {
          "name": "stderr",
          "output_type": "stream",
          "text": [
            "100%|██████████| 1450/1450 [00:17<00:00, 81.80it/s]\n"
          ]
        },
        {
          "name": "stdout",
          "output_type": "stream",
          "text": [
            "Epoch: 20, Training time: 17.73s, Loss: 2175.3282\n"
          ]
        },
        {
          "name": "stderr",
          "output_type": "stream",
          "text": [
            "100%|██████████| 1450/1450 [00:17<00:00, 81.71it/s]\n"
          ]
        },
        {
          "name": "stdout",
          "output_type": "stream",
          "text": [
            "Epoch: 21, Training time: 17.76s, Loss: 2278.2498\n"
          ]
        },
        {
          "name": "stderr",
          "output_type": "stream",
          "text": [
            "100%|██████████| 1450/1450 [00:18<00:00, 78.12it/s]\n"
          ]
        },
        {
          "name": "stdout",
          "output_type": "stream",
          "text": [
            "Epoch: 22, Training time: 18.57s, Loss: 2171.2363\n"
          ]
        },
        {
          "name": "stderr",
          "output_type": "stream",
          "text": [
            "100%|██████████| 1450/1450 [00:17<00:00, 81.99it/s]\n"
          ]
        },
        {
          "name": "stdout",
          "output_type": "stream",
          "text": [
            "Epoch: 23, Training time: 17.70s, Loss: 2152.9095\n",
            "Counter({1.0: 10599})\n",
            "89576 6745 10599 (1000, 500) torch.Size([1000, 100]) torch.Size([500, 100]) (1000, 500)\n"
          ]
        },
        {
          "name": "stderr",
          "output_type": "stream",
          "text": [
            "100%|██████████| 1450/1450 [00:18<00:00, 78.39it/s]\n"
          ]
        },
        {
          "name": "stdout",
          "output_type": "stream",
          "text": [
            "Epoch: 24, Training time: 18.51s, Loss: 2154.0177\n"
          ]
        },
        {
          "name": "stderr",
          "output_type": "stream",
          "text": [
            "100%|██████████| 1450/1450 [00:19<00:00, 76.17it/s]\n"
          ]
        },
        {
          "name": "stdout",
          "output_type": "stream",
          "text": [
            "Epoch: 25, Training time: 19.05s, Loss: 2150.6922\n"
          ]
        },
        {
          "name": "stderr",
          "output_type": "stream",
          "text": [
            "100%|██████████| 1450/1450 [00:17<00:00, 82.70it/s]\n"
          ]
        },
        {
          "name": "stdout",
          "output_type": "stream",
          "text": [
            "Epoch: 26, Training time: 17.54s, Loss: 2222.7970\n"
          ]
        },
        {
          "name": "stderr",
          "output_type": "stream",
          "text": [
            "100%|██████████| 1450/1450 [00:17<00:00, 81.61it/s]\n"
          ]
        },
        {
          "name": "stdout",
          "output_type": "stream",
          "text": [
            "Epoch: 27, Training time: 17.79s, Loss: 2224.8468\n",
            "Counter({1.0: 10599})\n",
            "90807 6782 10599 (1000, 500) torch.Size([1000, 100]) torch.Size([500, 100]) (1000, 500)\n"
          ]
        },
        {
          "name": "stderr",
          "output_type": "stream",
          "text": [
            "100%|██████████| 1450/1450 [00:18<00:00, 78.62it/s]\n"
          ]
        },
        {
          "name": "stdout",
          "output_type": "stream",
          "text": [
            "Epoch: 28, Training time: 18.46s, Loss: 2197.8048\n"
          ]
        },
        {
          "name": "stderr",
          "output_type": "stream",
          "text": [
            "100%|██████████| 1450/1450 [00:17<00:00, 81.54it/s]\n"
          ]
        },
        {
          "name": "stdout",
          "output_type": "stream",
          "text": [
            "Epoch: 29, Training time: 17.79s, Loss: 2138.3702\n"
          ]
        },
        {
          "name": "stderr",
          "output_type": "stream",
          "text": [
            "100%|██████████| 1450/1450 [00:17<00:00, 82.50it/s]\n"
          ]
        },
        {
          "name": "stdout",
          "output_type": "stream",
          "text": [
            "Epoch: 30, Training time: 17.58s, Loss: 2258.8207\n"
          ]
        },
        {
          "name": "stderr",
          "output_type": "stream",
          "text": [
            "100%|██████████| 1450/1450 [00:17<00:00, 81.13it/s]\n"
          ]
        },
        {
          "name": "stdout",
          "output_type": "stream",
          "text": [
            "Epoch: 31, Training time: 17.88s, Loss: 2154.6202\n",
            "Counter({1.0: 10599})\n",
            "88432 6726 10599 (1000, 500) torch.Size([1000, 100]) torch.Size([500, 100]) (1000, 500)\n"
          ]
        },
        {
          "name": "stderr",
          "output_type": "stream",
          "text": [
            "100%|██████████| 1450/1450 [00:19<00:00, 75.31it/s]\n"
          ]
        },
        {
          "name": "stdout",
          "output_type": "stream",
          "text": [
            "Epoch: 32, Training time: 19.27s, Loss: 2116.1199\n"
          ]
        },
        {
          "name": "stderr",
          "output_type": "stream",
          "text": [
            "100%|██████████| 1450/1450 [00:17<00:00, 82.12it/s]\n"
          ]
        },
        {
          "name": "stdout",
          "output_type": "stream",
          "text": [
            "Epoch: 33, Training time: 17.66s, Loss: 2179.8813\n"
          ]
        },
        {
          "name": "stderr",
          "output_type": "stream",
          "text": [
            "100%|██████████| 1450/1450 [00:17<00:00, 80.67it/s]\n"
          ]
        },
        {
          "name": "stdout",
          "output_type": "stream",
          "text": [
            "Epoch: 34, Training time: 17.98s, Loss: 2239.4952\n"
          ]
        },
        {
          "name": "stderr",
          "output_type": "stream",
          "text": [
            "100%|██████████| 1450/1450 [00:18<00:00, 78.95it/s]\n"
          ]
        },
        {
          "name": "stdout",
          "output_type": "stream",
          "text": [
            "Epoch: 35, Training time: 18.37s, Loss: 2180.2509\n",
            "Counter({1.0: 10599})\n",
            "85170 6574 10599 (1000, 500) torch.Size([1000, 100]) torch.Size([500, 100]) (1000, 500)\n"
          ]
        },
        {
          "name": "stderr",
          "output_type": "stream",
          "text": [
            "100%|██████████| 1450/1450 [00:17<00:00, 82.18it/s]\n"
          ]
        },
        {
          "name": "stdout",
          "output_type": "stream",
          "text": [
            "Epoch: 36, Training time: 17.65s, Loss: 2139.9008\n"
          ]
        },
        {
          "name": "stderr",
          "output_type": "stream",
          "text": [
            "100%|██████████| 1450/1450 [00:17<00:00, 82.84it/s]\n"
          ]
        },
        {
          "name": "stdout",
          "output_type": "stream",
          "text": [
            "Epoch: 37, Training time: 17.52s, Loss: 2152.1440\n"
          ]
        },
        {
          "name": "stderr",
          "output_type": "stream",
          "text": [
            "100%|██████████| 1450/1450 [00:18<00:00, 77.48it/s]\n"
          ]
        },
        {
          "name": "stdout",
          "output_type": "stream",
          "text": [
            "Epoch: 38, Training time: 18.73s, Loss: 2233.5421\n"
          ]
        },
        {
          "name": "stderr",
          "output_type": "stream",
          "text": [
            "100%|██████████| 1450/1450 [00:19<00:00, 75.33it/s]\n"
          ]
        },
        {
          "name": "stdout",
          "output_type": "stream",
          "text": [
            "Epoch: 39, Training time: 19.26s, Loss: 2283.1330\n",
            "Counter({1.0: 10599})\n",
            "88296 6736 10599 (1000, 500) torch.Size([1000, 100]) torch.Size([500, 100]) (1000, 500)\n"
          ]
        },
        {
          "data": {
            "application/vnd.jupyter.widget-view+json": {
              "model_id": "21251ba9c3a4498b813f05e8dc19ba8a",
              "version_major": 2,
              "version_minor": 0
            },
            "text/plain": [
              "VBox(children=(Label(value='0.001 MB of 0.001 MB uploaded\\r'), FloatProgress(value=1.0, max=1.0)))"
            ]
          },
          "metadata": {},
          "output_type": "display_data"
        },
        {
          "data": {
            "text/html": [
              "<style>\n",
              "    table.wandb td:nth-child(1) { padding: 0 10px; text-align: left ; width: auto;} td:nth-child(2) {text-align: left ; width: 100%}\n",
              "    .wandb-row { display: flex; flex-direction: row; flex-wrap: wrap; justify-content: flex-start; width: 100% }\n",
              "    .wandb-col { display: flex; flex-direction: column; flex-basis: 100%; flex: 1; padding: 10px; }\n",
              "    </style>\n",
              "<div class=\"wandb-row\"><div class=\"wandb-col\"><h3>Run history:</h3><br/><table class=\"wandb\"><tr><td>ndcg_20</td><td>▁▂▆▅▄▅▆▅▆█</td></tr><tr><td>rec_20</td><td>▁▄▇▇▆▇▇▇██</td></tr><tr><td>test_f1_score</td><td>▁▄▆▇▇▇▇███</td></tr><tr><td>test_precision</td><td>▁▄▅▆▆▇▇███</td></tr><tr><td>test_recall</td><td>█▅▄▃▃▂▂▂▁▂</td></tr><tr><td>training_loss</td><td>█▆▄▄▂▂▂▂▂▂▂▁▂▁▁▂▁▃▂▂▂▂▁▁▁▁▂▂▂▁▂▁▁▂▂▂▁▁▂▂</td></tr></table><br/></div><div class=\"wandb-col\"><h3>Run summary:</h3><br/><table class=\"wandb\"><tr><td>ndcg_20</td><td>0.44383</td></tr><tr><td>rec_20</td><td>0.22946</td></tr><tr><td>test_f1_score</td><td>0.13623</td></tr><tr><td>test_precision</td><td>0.07629</td></tr><tr><td>test_recall</td><td>0.63553</td></tr><tr><td>training_loss</td><td>2283.13301</td></tr></table><br/></div></div>"
            ],
            "text/plain": [
              "<IPython.core.display.HTML object>"
            ]
          },
          "metadata": {},
          "output_type": "display_data"
        },
        {
          "data": {
            "text/html": [
              " View run <strong style=\"color:#cdcd00\">LP__loss_bce_tr_True_pcutoff_0.9_poswght_20_bs_16_layers_[16, 32]_nemb_52_lr_0.015_reg_0.005_messdr_0.01_nodedr_0.01_ucount_1000_bcount_500</strong> at: <a href='https://wandb.ai/hans-kvaerum/nml_project/runs/lemiu2dg' target=\"_blank\">https://wandb.ai/hans-kvaerum/nml_project/runs/lemiu2dg</a><br/> View project at: <a href='https://wandb.ai/hans-kvaerum/nml_project' target=\"_blank\">https://wandb.ai/hans-kvaerum/nml_project</a><br/>Synced 5 W&B file(s), 0 media file(s), 0 artifact file(s) and 0 other file(s)"
            ],
            "text/plain": [
              "<IPython.core.display.HTML object>"
            ]
          },
          "metadata": {},
          "output_type": "display_data"
        },
        {
          "data": {
            "text/html": [
              "Find logs at: <code>./wandb/run-20240610_000033-lemiu2dg/logs</code>"
            ],
            "text/plain": [
              "<IPython.core.display.HTML object>"
            ]
          },
          "metadata": {},
          "output_type": "display_data"
        },
        {
          "data": {
            "image/png": "[encoded data removed]",
            "text/plain": [
              "<Figure size 1200x800 with 1 Axes>"
            ]
          },
          "metadata": {},
          "output_type": "display_data"
        }
      ],
      "source": [
        "loss_name = 'bce'\n",
        "to_reads = True\n",
        "pos_weight = 20\n",
        "\n",
        "# create adjacency matrix from graph\n",
        "user_count, book_count, user_to_idx_map, book_to_idx_map = prep_data(to_reads)\n",
        "\n",
        "# start wandb run\n",
        "model_name = init_wandb(loss_name, to_reads, prob_cutoff, pos_weight, batch_size, layers, emb_dim, lr, reg, mess_dropout, node_dropout, user_count, book_count, k, n_epochs)\n",
        "\n",
        "# train the model and output results\n",
        "train_interaction_predictor(loss_name, prob_cutoff, pos_weight, batch_size, layers, emb_dim, lr, reg, mess_dropout, node_dropout, user_count, book_count, k, n_epochs, eval_N, save_results, model_name)"
      ]
    },
    {
      "cell_type": "markdown",
      "metadata": {
        "id": "4Xud884edD57"
      },
      "source": [
        "#### 2cvi) BCE loss, to_reads, layers = [64, 32, 32, 32]"
      ]
    },
    {
      "cell_type": "code",
      "execution_count": null,
      "metadata": {
        "colab": {
          "base_uri": "https://localhost:8080/",
          "height": 1000,
          "referenced_widgets": [
            "7557de1b20324746add78337ef218b13",
            "c7a9a317993e4ffa846d19b9699f62a5",
            "c9ed4c864f3242a28c6d60fb4c9d82a1",
            "15aa214e6e4144a6954fa281e1e23d5a",
            "525b571b02684f4ab0a2dfe8b9415335",
            "9af9ec3adf684284851b0192591be497",
            "d45c10de131540e38a9fcca66e409bc1",
            "fc7c5c6e21ff4849b08268b060271963"
          ]
        },
        "id": "ruNrYu6KbuIr",
        "outputId": "ca9d52f3-932c-4665-98d3-ad49addab3a0"
      },
      "outputs": [
        {
          "data": {
            "text/html": [
              "Tracking run with wandb version 0.17.1"
            ],
            "text/plain": [
              "<IPython.core.display.HTML object>"
            ]
          },
          "metadata": {},
          "output_type": "display_data"
        },
        {
          "data": {
            "text/html": [
              "Run data is saved locally in <code>/content/drive/MyDrive/EE452_2024_Team5_Project/wandb/run-20240610_001437-q9679bsv</code>"
            ],
            "text/plain": [
              "<IPython.core.display.HTML object>"
            ]
          },
          "metadata": {},
          "output_type": "display_data"
        },
        {
          "data": {
            "text/html": [
              "Syncing run <strong><a href='https://wandb.ai/hans-kvaerum/nml_project/runs/q9679bsv' target=\"_blank\">LP__loss_bce_tr_True_pcutoff_0.9_poswght_1_bs_16_layers_[64, 32, 32, 32]_nemb_52_lr_0.015_reg_0.005_messdr_0.01_nodedr_0.01_ucount_1000_bcount_500</a></strong> to <a href='https://wandb.ai/hans-kvaerum/nml_project' target=\"_blank\">Weights & Biases</a> (<a href='https://wandb.me/run' target=\"_blank\">docs</a>)<br/>"
            ],
            "text/plain": [
              "<IPython.core.display.HTML object>"
            ]
          },
          "metadata": {},
          "output_type": "display_data"
        },
        {
          "data": {
            "text/html": [
              " View project at <a href='https://wandb.ai/hans-kvaerum/nml_project' target=\"_blank\">https://wandb.ai/hans-kvaerum/nml_project</a>"
            ],
            "text/plain": [
              "<IPython.core.display.HTML object>"
            ]
          },
          "metadata": {},
          "output_type": "display_data"
        },
        {
          "data": {
            "text/html": [
              " View run at <a href='https://wandb.ai/hans-kvaerum/nml_project/runs/q9679bsv' target=\"_blank\">https://wandb.ai/hans-kvaerum/nml_project/runs/q9679bsv</a>"
            ],
            "text/plain": [
              "<IPython.core.display.HTML object>"
            ]
          },
          "metadata": {},
          "output_type": "display_data"
        },
        {
          "name": "stdout",
          "output_type": "stream",
          "text": [
            "n_users=1000, n_items=500\n",
            "n_interactions=33787\n",
            "n_train=23188, n_test=10599, sparsity=0.06757\n",
            "Creating interaction matrices R_train and R_test...\n",
            "Complete. Interaction matrices R_train and R_test created in 0.34628963470458984 sec\n",
            "Creating adjacency-matrix...\n",
            "Complete. Adjacency-matrix created in (1500, 1500) 0.07952189445495605 sec.\n",
            "Transforming adjacency-matrix to NGCF-adjacency matrix...\n",
            "Complete. Transformed adjacency-matrix to NGCF-adjacency matrix in 0.04631972312927246 sec.\n",
            "Initializing weights...\n",
            "Weights initialized.\n"
          ]
        },
        {
          "name": "stderr",
          "output_type": "stream",
          "text": [
            "/content/drive/MyDrive/EE452_2024_Team5_Project/src/ngcf_utils/load_data.py:131: RuntimeWarning: divide by zero encountered in power\n",
            "  d_inv = np.power(rowsum, -.5).flatten()\n",
            "100%|██████████| 1450/1450 [00:26<00:00, 54.59it/s]\n"
          ]
        },
        {
          "name": "stdout",
          "output_type": "stream",
          "text": [
            "Epoch: 0, Training time: 26.57s, Loss: 1162.6653\n"
          ]
        },
        {
          "name": "stderr",
          "output_type": "stream",
          "text": [
            "100%|██████████| 1450/1450 [00:28<00:00, 51.69it/s]\n"
          ]
        },
        {
          "name": "stdout",
          "output_type": "stream",
          "text": [
            "Epoch: 1, Training time: 28.07s, Loss: 950.3640\n"
          ]
        },
        {
          "name": "stderr",
          "output_type": "stream",
          "text": [
            "100%|██████████| 1450/1450 [00:26<00:00, 55.54it/s]\n"
          ]
        },
        {
          "name": "stdout",
          "output_type": "stream",
          "text": [
            "Epoch: 2, Training time: 26.12s, Loss: 869.0996\n"
          ]
        },
        {
          "name": "stderr",
          "output_type": "stream",
          "text": [
            "100%|██████████| 1450/1450 [00:26<00:00, 55.29it/s]\n"
          ]
        },
        {
          "name": "stdout",
          "output_type": "stream",
          "text": [
            "Epoch: 3, Training time: 26.23s, Loss: 850.5763\n",
            "Counter({1.0: 10599})\n",
            "28806 3027 10599 (1000, 500) torch.Size([1000, 212]) torch.Size([500, 212]) (1000, 500)\n"
          ]
        },
        {
          "name": "stderr",
          "output_type": "stream",
          "text": [
            "100%|██████████| 1450/1450 [00:26<00:00, 55.31it/s]\n"
          ]
        },
        {
          "name": "stdout",
          "output_type": "stream",
          "text": [
            "Epoch: 4, Training time: 26.23s, Loss: 838.7014\n"
          ]
        },
        {
          "name": "stderr",
          "output_type": "stream",
          "text": [
            "100%|██████████| 1450/1450 [00:26<00:00, 55.32it/s]\n"
          ]
        },
        {
          "name": "stdout",
          "output_type": "stream",
          "text": [
            "Epoch: 5, Training time: 26.23s, Loss: 844.8554\n"
          ]
        },
        {
          "name": "stderr",
          "output_type": "stream",
          "text": [
            "100%|██████████| 1450/1450 [00:27<00:00, 53.16it/s]\n"
          ]
        },
        {
          "name": "stdout",
          "output_type": "stream",
          "text": [
            "Epoch: 6, Training time: 27.28s, Loss: 821.4761\n"
          ]
        },
        {
          "name": "stderr",
          "output_type": "stream",
          "text": [
            "100%|██████████| 1450/1450 [00:25<00:00, 56.20it/s]\n"
          ]
        },
        {
          "name": "stdout",
          "output_type": "stream",
          "text": [
            "Epoch: 7, Training time: 25.81s, Loss: 830.0133\n",
            "Counter({1.0: 10599})\n",
            "29428 3129 10599 (1000, 500) torch.Size([1000, 212]) torch.Size([500, 212]) (1000, 500)\n"
          ]
        },
        {
          "name": "stderr",
          "output_type": "stream",
          "text": [
            "100%|██████████| 1450/1450 [00:25<00:00, 56.57it/s]\n"
          ]
        },
        {
          "name": "stdout",
          "output_type": "stream",
          "text": [
            "Epoch: 8, Training time: 25.64s, Loss: 821.0148\n"
          ]
        },
        {
          "name": "stderr",
          "output_type": "stream",
          "text": [
            "100%|██████████| 1450/1450 [00:25<00:00, 56.20it/s]\n"
          ]
        },
        {
          "name": "stdout",
          "output_type": "stream",
          "text": [
            "Epoch: 9, Training time: 25.82s, Loss: 818.2911\n"
          ]
        },
        {
          "name": "stderr",
          "output_type": "stream",
          "text": [
            "100%|██████████| 1450/1450 [00:26<00:00, 55.70it/s]\n"
          ]
        },
        {
          "name": "stdout",
          "output_type": "stream",
          "text": [
            "Epoch: 10, Training time: 26.05s, Loss: 816.0829\n"
          ]
        },
        {
          "name": "stderr",
          "output_type": "stream",
          "text": [
            "100%|██████████| 1450/1450 [00:27<00:00, 52.16it/s]\n"
          ]
        },
        {
          "name": "stdout",
          "output_type": "stream",
          "text": [
            "Epoch: 11, Training time: 27.81s, Loss: 798.9621\n",
            "Counter({1.0: 10599})\n",
            "29324 3413 10599 (1000, 500) torch.Size([1000, 212]) torch.Size([500, 212]) (1000, 500)\n"
          ]
        },
        {
          "name": "stderr",
          "output_type": "stream",
          "text": [
            "100%|██████████| 1450/1450 [00:26<00:00, 55.43it/s]\n"
          ]
        },
        {
          "name": "stdout",
          "output_type": "stream",
          "text": [
            "Epoch: 12, Training time: 26.16s, Loss: 806.6242\n"
          ]
        },
        {
          "name": "stderr",
          "output_type": "stream",
          "text": [
            "100%|██████████| 1450/1450 [00:26<00:00, 55.45it/s]\n"
          ]
        },
        {
          "name": "stdout",
          "output_type": "stream",
          "text": [
            "Epoch: 13, Training time: 26.16s, Loss: 810.6035\n"
          ]
        },
        {
          "name": "stderr",
          "output_type": "stream",
          "text": [
            "100%|██████████| 1450/1450 [00:26<00:00, 55.53it/s]\n"
          ]
        },
        {
          "name": "stdout",
          "output_type": "stream",
          "text": [
            "Epoch: 14, Training time: 26.12s, Loss: 823.7290\n"
          ]
        },
        {
          "name": "stderr",
          "output_type": "stream",
          "text": [
            "100%|██████████| 1450/1450 [00:26<00:00, 55.47it/s]\n"
          ]
        },
        {
          "name": "stdout",
          "output_type": "stream",
          "text": [
            "Epoch: 15, Training time: 26.15s, Loss: 803.2080\n",
            "Counter({1.0: 10599})\n",
            "28820 3409 10599 (1000, 500) torch.Size([1000, 212]) torch.Size([500, 212]) (1000, 500)\n"
          ]
        },
        {
          "name": "stderr",
          "output_type": "stream",
          "text": [
            "100%|██████████| 1450/1450 [00:26<00:00, 54.83it/s]\n"
          ]
        },
        {
          "name": "stdout",
          "output_type": "stream",
          "text": [
            "Epoch: 16, Training time: 26.45s, Loss: 806.7466\n"
          ]
        },
        {
          "name": "stderr",
          "output_type": "stream",
          "text": [
            "100%|██████████| 1450/1450 [00:26<00:00, 54.60it/s]\n"
          ]
        },
        {
          "name": "stdout",
          "output_type": "stream",
          "text": [
            "Epoch: 17, Training time: 26.57s, Loss: 804.0835\n"
          ]
        },
        {
          "name": "stderr",
          "output_type": "stream",
          "text": [
            "100%|██████████| 1450/1450 [00:25<00:00, 55.83it/s]\n"
          ]
        },
        {
          "name": "stdout",
          "output_type": "stream",
          "text": [
            "Epoch: 18, Training time: 25.99s, Loss: 792.2792\n"
          ]
        },
        {
          "name": "stderr",
          "output_type": "stream",
          "text": [
            "100%|██████████| 1450/1450 [00:26<00:00, 55.40it/s]\n"
          ]
        },
        {
          "name": "stdout",
          "output_type": "stream",
          "text": [
            "Epoch: 19, Training time: 26.19s, Loss: 808.1368\n",
            "Counter({1.0: 10599})\n",
            "27015 3056 10599 (1000, 500) torch.Size([1000, 212]) torch.Size([500, 212]) (1000, 500)\n"
          ]
        },
        {
          "name": "stderr",
          "output_type": "stream",
          "text": [
            "100%|██████████| 1450/1450 [00:26<00:00, 55.18it/s]\n"
          ]
        },
        {
          "name": "stdout",
          "output_type": "stream",
          "text": [
            "Epoch: 20, Training time: 26.29s, Loss: 793.8952\n"
          ]
        },
        {
          "name": "stderr",
          "output_type": "stream",
          "text": [
            "100%|██████████| 1450/1450 [00:26<00:00, 55.36it/s]\n"
          ]
        },
        {
          "name": "stdout",
          "output_type": "stream",
          "text": [
            "Epoch: 21, Training time: 26.20s, Loss: 790.4464\n"
          ]
        },
        {
          "name": "stderr",
          "output_type": "stream",
          "text": [
            "100%|██████████| 1450/1450 [00:27<00:00, 52.29it/s]\n"
          ]
        },
        {
          "name": "stdout",
          "output_type": "stream",
          "text": [
            "Epoch: 22, Training time: 27.74s, Loss: 784.7415\n"
          ]
        },
        {
          "name": "stderr",
          "output_type": "stream",
          "text": [
            "100%|██████████| 1450/1450 [00:26<00:00, 54.79it/s]\n"
          ]
        },
        {
          "name": "stdout",
          "output_type": "stream",
          "text": [
            "Epoch: 23, Training time: 26.47s, Loss: 785.5394\n",
            "Counter({1.0: 10599})\n",
            "26343 3157 10599 (1000, 500) torch.Size([1000, 212]) torch.Size([500, 212]) (1000, 500)\n"
          ]
        },
        {
          "name": "stderr",
          "output_type": "stream",
          "text": [
            "100%|██████████| 1450/1450 [00:26<00:00, 55.41it/s]\n"
          ]
        },
        {
          "name": "stdout",
          "output_type": "stream",
          "text": [
            "Epoch: 24, Training time: 26.17s, Loss: 791.5746\n"
          ]
        },
        {
          "name": "stderr",
          "output_type": "stream",
          "text": [
            "100%|██████████| 1450/1450 [00:25<00:00, 55.84it/s]\n"
          ]
        },
        {
          "name": "stdout",
          "output_type": "stream",
          "text": [
            "Epoch: 25, Training time: 25.98s, Loss: 795.3641\n"
          ]
        },
        {
          "name": "stderr",
          "output_type": "stream",
          "text": [
            "100%|██████████| 1450/1450 [00:25<00:00, 56.55it/s]\n"
          ]
        },
        {
          "name": "stdout",
          "output_type": "stream",
          "text": [
            "Epoch: 26, Training time: 25.65s, Loss: 784.1448\n"
          ]
        },
        {
          "name": "stderr",
          "output_type": "stream",
          "text": [
            "100%|██████████| 1450/1450 [00:27<00:00, 53.54it/s]\n"
          ]
        },
        {
          "name": "stdout",
          "output_type": "stream",
          "text": [
            "Epoch: 27, Training time: 27.09s, Loss: 789.4223\n",
            "Counter({1.0: 10599})\n",
            "25204 3064 10599 (1000, 500) torch.Size([1000, 212]) torch.Size([500, 212]) (1000, 500)\n"
          ]
        },
        {
          "name": "stderr",
          "output_type": "stream",
          "text": [
            "100%|██████████| 1450/1450 [00:26<00:00, 55.71it/s]\n"
          ]
        },
        {
          "name": "stdout",
          "output_type": "stream",
          "text": [
            "Epoch: 28, Training time: 26.04s, Loss: 803.7919\n"
          ]
        },
        {
          "name": "stderr",
          "output_type": "stream",
          "text": [
            "100%|██████████| 1450/1450 [00:26<00:00, 55.23it/s]\n"
          ]
        },
        {
          "name": "stdout",
          "output_type": "stream",
          "text": [
            "Epoch: 29, Training time: 26.26s, Loss: 786.3826\n"
          ]
        },
        {
          "name": "stderr",
          "output_type": "stream",
          "text": [
            "100%|██████████| 1450/1450 [00:26<00:00, 55.38it/s]\n"
          ]
        },
        {
          "name": "stdout",
          "output_type": "stream",
          "text": [
            "Epoch: 30, Training time: 26.19s, Loss: 789.8422\n"
          ]
        },
        {
          "name": "stderr",
          "output_type": "stream",
          "text": [
            "100%|██████████| 1450/1450 [00:26<00:00, 55.29it/s]\n"
          ]
        },
        {
          "name": "stdout",
          "output_type": "stream",
          "text": [
            "Epoch: 31, Training time: 26.24s, Loss: 786.8656\n",
            "Counter({1.0: 10599})\n",
            "26095 3128 10599 (1000, 500) torch.Size([1000, 212]) torch.Size([500, 212]) (1000, 500)\n"
          ]
        },
        {
          "name": "stderr",
          "output_type": "stream",
          "text": [
            "100%|██████████| 1450/1450 [00:27<00:00, 53.21it/s]\n"
          ]
        },
        {
          "name": "stdout",
          "output_type": "stream",
          "text": [
            "Epoch: 32, Training time: 27.26s, Loss: 770.5630\n"
          ]
        },
        {
          "name": "stderr",
          "output_type": "stream",
          "text": [
            "100%|██████████| 1450/1450 [00:26<00:00, 55.48it/s]\n"
          ]
        },
        {
          "name": "stdout",
          "output_type": "stream",
          "text": [
            "Epoch: 33, Training time: 26.15s, Loss: 774.6976\n"
          ]
        },
        {
          "name": "stderr",
          "output_type": "stream",
          "text": [
            "100%|██████████| 1450/1450 [00:26<00:00, 55.12it/s]\n"
          ]
        },
        {
          "name": "stdout",
          "output_type": "stream",
          "text": [
            "Epoch: 34, Training time: 26.32s, Loss: 791.6449\n"
          ]
        },
        {
          "name": "stderr",
          "output_type": "stream",
          "text": [
            "100%|██████████| 1450/1450 [00:26<00:00, 55.15it/s]\n"
          ]
        },
        {
          "name": "stdout",
          "output_type": "stream",
          "text": [
            "Epoch: 35, Training time: 26.30s, Loss: 784.0661\n",
            "Early stopping at step: 5 log:0.24077674746513367\n",
            "Counter({1.0: 10599})\n",
            "25621 3141 10599 (1000, 500) torch.Size([1000, 212]) torch.Size([500, 212]) (1000, 500)\n"
          ]
        },
        {
          "data": {
            "application/vnd.jupyter.widget-view+json": {
              "model_id": "7557de1b20324746add78337ef218b13",
              "version_major": 2,
              "version_minor": 0
            },
            "text/plain": [
              "VBox(children=(Label(value='0.001 MB of 0.001 MB uploaded\\r'), FloatProgress(value=1.0, max=1.0)))"
            ]
          },
          "metadata": {},
          "output_type": "display_data"
        },
        {
          "data": {
            "text/html": [
              "W&B sync reduced upload amount by 29.6%             "
            ],
            "text/plain": [
              "<IPython.core.display.HTML object>"
            ]
          },
          "metadata": {},
          "output_type": "display_data"
        },
        {
          "data": {
            "text/html": [
              "<style>\n",
              "    table.wandb td:nth-child(1) { padding: 0 10px; text-align: left ; width: auto;} td:nth-child(2) {text-align: left ; width: 100%}\n",
              "    .wandb-row { display: flex; flex-direction: row; flex-wrap: wrap; justify-content: flex-start; width: 100% }\n",
              "    .wandb-col { display: flex; flex-direction: column; flex-basis: 100%; flex: 1; padding: 10px; }\n",
              "    </style>\n",
              "<div class=\"wandb-row\"><div class=\"wandb-col\"><h3>Run history:</h3><br/><table class=\"wandb\"><tr><td>ndcg_20</td><td>▁▄▆▇▂▇█▇▇</td></tr><tr><td>rec_20</td><td>▃▁▆█▂▆█▅▆</td></tr><tr><td>test_f1_score</td><td>▁▂▇█▄▇▇▇█</td></tr><tr><td>test_precision</td><td>▁▁▆▆▄▇█▇█</td></tr><tr><td>test_recall</td><td>▁▃██▂▃▂▃▃</td></tr><tr><td>training_loss</td><td>█▄▃▂▂▂▂▂▂▂▂▂▂▂▂▂▂▂▁▂▁▁▁▁▁▁▁▁▂▁▁▁▁▁▁▁</td></tr></table><br/></div><div class=\"wandb-col\"><h3>Run summary:</h3><br/><table class=\"wandb\"><tr><td>ndcg_20</td><td>0.4705</td></tr><tr><td>rec_20</td><td>0.24078</td></tr><tr><td>test_f1_score</td><td>0.17344</td></tr><tr><td>test_precision</td><td>0.12259</td></tr><tr><td>test_recall</td><td>0.29635</td></tr><tr><td>training_loss</td><td>784.06608</td></tr></table><br/></div></div>"
            ],
            "text/plain": [
              "<IPython.core.display.HTML object>"
            ]
          },
          "metadata": {},
          "output_type": "display_data"
        },
        {
          "data": {
            "text/html": [
              " View run <strong style=\"color:#cdcd00\">LP__loss_bce_tr_True_pcutoff_0.9_poswght_1_bs_16_layers_[64, 32, 32, 32]_nemb_52_lr_0.015_reg_0.005_messdr_0.01_nodedr_0.01_ucount_1000_bcount_500</strong> at: <a href='https://wandb.ai/hans-kvaerum/nml_project/runs/q9679bsv' target=\"_blank\">https://wandb.ai/hans-kvaerum/nml_project/runs/q9679bsv</a><br/> View project at: <a href='https://wandb.ai/hans-kvaerum/nml_project' target=\"_blank\">https://wandb.ai/hans-kvaerum/nml_project</a><br/>Synced 5 W&B file(s), 0 media file(s), 2 artifact file(s) and 0 other file(s)"
            ],
            "text/plain": [
              "<IPython.core.display.HTML object>"
            ]
          },
          "metadata": {},
          "output_type": "display_data"
        },
        {
          "data": {
            "text/html": [
              "Find logs at: <code>./wandb/run-20240610_001437-q9679bsv/logs</code>"
            ],
            "text/plain": [
              "<IPython.core.display.HTML object>"
            ]
          },
          "metadata": {},
          "output_type": "display_data"
        },
        {
          "data": {
            "image/png": "[encoded data removed]",
            "text/plain": [
              "<Figure size 1200x800 with 1 Axes>"
            ]
          },
          "metadata": {},
          "output_type": "display_data"
        }
      ],
      "source": [
        "loss_name = 'bce'\n",
        "to_reads = True\n",
        "pos_weight = 1\n",
        "layers = [64, 32, 32, 32]\n",
        "\n",
        "# create adjacency matrix from graph\n",
        "user_count, book_count, user_to_idx_map, book_to_idx_map = prep_data(to_reads)\n",
        "\n",
        "# start wandb run\n",
        "model_name = init_wandb(loss_name, to_reads, prob_cutoff, pos_weight, batch_size, layers, emb_dim, lr, reg, mess_dropout, node_dropout, user_count, book_count, k, n_epochs)\n",
        "\n",
        "# train the model and output results\n",
        "train_interaction_predictor(loss_name, prob_cutoff, pos_weight, batch_size, layers, emb_dim, lr, reg, mess_dropout, node_dropout, user_count, book_count, k, n_epochs, eval_N, save_results, model_name)"
      ]
    },
    {
      "cell_type": "markdown",
      "metadata": {
        "id": "V47n8lzQfxah"
      },
      "source": [
        "# 2.5 Positive Interaction Prediction (SVD)"
      ]
    },
    {
      "cell_type": "code",
      "execution_count": 27,
      "metadata": {},
      "outputs": [],
      "source": [
        "import networkx as nx\n",
        "import numpy as np\n",
        "import lightfm\n",
        "from lightfm import LightFM\n",
        "from lightfm.data import Dataset\n",
        "from lightfm.evaluation import precision_at_k, recall_at_k"
      ]
    },
    {
      "cell_type": "code",
      "execution_count": 18,
      "metadata": {},
      "outputs": [],
      "source": [
        "to_reads = True\n",
        "if to_reads == True:\n",
        "    train_graph = nx.read_graphml(\"data/bipartite_sample_train_wtr.graphml\")\n",
        "    test_graph = nx.read_graphml(\"data/bipartite_sample_test_wtr.graphml\")\n",
        "else:\n",
        "    train_graph = nx.read_graphml(\"data/bipartite_sample_train.graphml\")\n",
        "    test_graph = nx.read_graphml(\"data/bipartite_sample_test.graphml\")\n",
        "\n",
        "user_nodes = [node for node, data in train_graph.nodes(data=True) if data.get('node_type') == 'user']\n",
        "book_nodes = [node for node, data in train_graph.nodes(data=True) if data.get('node_type') == 'book']\n",
        "\n",
        "dataset = Dataset()\n",
        "dataset.fit(user_nodes, items=book_nodes)\n",
        "(interactions, weights) = dataset.build_interactions((edge[0], edge[1]) for edge in train_graph.edges())\n",
        "\n",
        "model = LightFM(loss='logistic')\n",
        "model.fit(interactions, epochs=5)"
      ]
    },
    {
      "cell_type": "code",
      "execution_count": 43,
      "metadata": {},
      "outputs": [],
      "source": [
        "def ndcg_at_k(model, test_interactions, k=20):\n",
        "    ndcg_values = []\n",
        "    for user_id, row in enumerate(test_interactions.toarray()):\n",
        "        if not np.any(row):\n",
        "            continue\n",
        "        \n",
        "        scores = model.predict(user_id, np.arange(len(row)))\n",
        "        top_indices = np.argsort(-scores)[:k]\n",
        "        true_interactions = np.where(row)[0]\n",
        "\n",
        "        dcg = 0\n",
        "        for rank, index in enumerate(top_indices, 1):\n",
        "            if index in true_interactions:\n",
        "                dcg += 1 / np.log2(rank + 1)\n",
        "\n",
        "        idcg = sum(1 / np.log2(rank + 1) for rank in range(1, min(k, len(true_interactions)) + 1))\n",
        "        ndcg = dcg / idcg if idcg > 0 else 0\n",
        "        ndcg_values.append(ndcg)\n",
        "\n",
        "    return np.mean(ndcg_values)"
      ]
    },
    {
      "cell_type": "code",
      "execution_count": 44,
      "metadata": {},
      "outputs": [
        {
          "name": "stdout",
          "output_type": "stream",
          "text": [
            "0.25978333 0.09934581935634833 0.2736972876628051\n",
            "0.105349995 0.09203873030731219 0.1163437143226705\n"
          ]
        }
      ],
      "source": [
        "print(precision_at_k(model, interactions, k=20).mean(), recall_at_k(model, interactions, k=20).mean(), ndcg_at_k(model, interactions))\n",
        "\n",
        "test_interactions, _ = dataset.build_interactions((edge[0], edge[1]) for edge in test_graph.edges())\n",
        "print(precision_at_k(model, test_interactions, k=20).mean(), recall_at_k(model, test_interactions, k=20).mean(), ndcg_at_k(model, test_interactions))"
      ]
    }
  ],
  "metadata": {
    "accelerator": "GPU",
    "colab": {
      "gpuType": "T4",
      "provenance": []
    },
    "kernelspec": {
      "display_name": "Python 3",
      "name": "python3"
    },
    "language_info": {
      "codemirror_mode": {
        "name": "ipython",
        "version": 3
      },
      "file_extension": ".py",
      "mimetype": "text/x-python",
      "name": "python",
      "nbconvert_exporter": "python",
      "pygments_lexer": "ipython3",
      "version": "3.9.19"
    },
    "widgets": {
      "application/vnd.jupyter.widget-state+json": {
        "002a12c8ab2440f3bcc0ec5e3409a103": {
          "model_module": "@jupyter-widgets/controls",
          "model_module_version": "1.5.0",
          "model_name": "DescriptionStyleModel",
          "state": {
            "_model_module": "@jupyter-widgets/controls",
            "_model_module_version": "1.5.0",
            "_model_name": "DescriptionStyleModel",
            "_view_count": null,
            "_view_module": "@jupyter-widgets/base",
            "_view_module_version": "1.2.0",
            "_view_name": "StyleView",
            "description_width": ""
          }
        },
        "056b7e6fef004205a8fb94c76a2455ba": {
          "model_module": "@jupyter-widgets/base",
          "model_module_version": "1.2.0",
          "model_name": "LayoutModel",
          "state": {
            "_model_module": "@jupyter-widgets/base",
            "_model_module_version": "1.2.0",
            "_model_name": "LayoutModel",
            "_view_count": null,
            "_view_module": "@jupyter-widgets/base",
            "_view_module_version": "1.2.0",
            "_view_name": "LayoutView",
            "align_content": null,
            "align_items": null,
            "align_self": null,
            "border": null,
            "bottom": null,
            "display": null,
            "flex": null,
            "flex_flow": null,
            "grid_area": null,
            "grid_auto_columns": null,
            "grid_auto_flow": null,
            "grid_auto_rows": null,
            "grid_column": null,
            "grid_gap": null,
            "grid_row": null,
            "grid_template_areas": null,
            "grid_template_columns": null,
            "grid_template_rows": null,
            "height": null,
            "justify_content": null,
            "justify_items": null,
            "left": null,
            "margin": null,
            "max_height": null,
            "max_width": null,
            "min_height": null,
            "min_width": null,
            "object_fit": null,
            "object_position": null,
            "order": null,
            "overflow": null,
            "overflow_x": null,
            "overflow_y": null,
            "padding": null,
            "right": null,
            "top": null,
            "visibility": null,
            "width": null
          }
        },
        "0a91addf1a184aebbeaedc003bf1ad33": {
          "model_module": "@jupyter-widgets/controls",
          "model_module_version": "1.5.0",
          "model_name": "LabelModel",
          "state": {
            "_dom_classes": [],
            "_model_module": "@jupyter-widgets/controls",
            "_model_module_version": "1.5.0",
            "_model_name": "LabelModel",
            "_view_count": null,
            "_view_module": "@jupyter-widgets/controls",
            "_view_module_version": "1.5.0",
            "_view_name": "LabelView",
            "description": "",
            "description_tooltip": null,
            "layout": "IPY_MODEL_6ec3bd9900f8403cab605b9f0a8f36db",
            "placeholder": "​",
            "style": "IPY_MODEL_6c03b32999b9470c8e45da086b94c7b7",
            "value": "0.030 MB of 0.030 MB uploaded (0.009 MB deduped)\r"
          }
        },
        "0ba6ca598ece4419ba9e5d2fb815c5be": {
          "model_module": "@jupyter-widgets/controls",
          "model_module_version": "1.5.0",
          "model_name": "FloatProgressModel",
          "state": {
            "_dom_classes": [],
            "_model_module": "@jupyter-widgets/controls",
            "_model_module_version": "1.5.0",
            "_model_name": "FloatProgressModel",
            "_view_count": null,
            "_view_module": "@jupyter-widgets/controls",
            "_view_module_version": "1.5.0",
            "_view_name": "ProgressView",
            "bar_style": "",
            "description": "",
            "description_tooltip": null,
            "layout": "IPY_MODEL_17ce203966d5477083b5a7bffde6c857",
            "max": 1,
            "min": 0,
            "orientation": "horizontal",
            "style": "IPY_MODEL_ee12ebab6ff1479eb2e90a7a081df4a3",
            "value": 0.1104968356732378
          }
        },
        "13eae99abdb740dfa261eb93480ea23d": {
          "model_module": "@jupyter-widgets/base",
          "model_module_version": "1.2.0",
          "model_name": "LayoutModel",
          "state": {
            "_model_module": "@jupyter-widgets/base",
            "_model_module_version": "1.2.0",
            "_model_name": "LayoutModel",
            "_view_count": null,
            "_view_module": "@jupyter-widgets/base",
            "_view_module_version": "1.2.0",
            "_view_name": "LayoutView",
            "align_content": null,
            "align_items": null,
            "align_self": null,
            "border": null,
            "bottom": null,
            "display": null,
            "flex": null,
            "flex_flow": null,
            "grid_area": null,
            "grid_auto_columns": null,
            "grid_auto_flow": null,
            "grid_auto_rows": null,
            "grid_column": null,
            "grid_gap": null,
            "grid_row": null,
            "grid_template_areas": null,
            "grid_template_columns": null,
            "grid_template_rows": null,
            "height": null,
            "justify_content": null,
            "justify_items": null,
            "left": null,
            "margin": null,
            "max_height": null,
            "max_width": null,
            "min_height": null,
            "min_width": null,
            "object_fit": null,
            "object_position": null,
            "order": null,
            "overflow": null,
            "overflow_x": null,
            "overflow_y": null,
            "padding": null,
            "right": null,
            "top": null,
            "visibility": null,
            "width": null
          }
        },
        "15aa214e6e4144a6954fa281e1e23d5a": {
          "model_module": "@jupyter-widgets/base",
          "model_module_version": "1.2.0",
          "model_name": "LayoutModel",
          "state": {
            "_model_module": "@jupyter-widgets/base",
            "_model_module_version": "1.2.0",
            "_model_name": "LayoutModel",
            "_view_count": null,
            "_view_module": "@jupyter-widgets/base",
            "_view_module_version": "1.2.0",
            "_view_name": "LayoutView",
            "align_content": null,
            "align_items": null,
            "align_self": null,
            "border": null,
            "bottom": null,
            "display": null,
            "flex": null,
            "flex_flow": null,
            "grid_area": null,
            "grid_auto_columns": null,
            "grid_auto_flow": null,
            "grid_auto_rows": null,
            "grid_column": null,
            "grid_gap": null,
            "grid_row": null,
            "grid_template_areas": null,
            "grid_template_columns": null,
            "grid_template_rows": null,
            "height": null,
            "justify_content": null,
            "justify_items": null,
            "left": null,
            "margin": null,
            "max_height": null,
            "max_width": null,
            "min_height": null,
            "min_width": null,
            "object_fit": null,
            "object_position": null,
            "order": null,
            "overflow": null,
            "overflow_x": null,
            "overflow_y": null,
            "padding": null,
            "right": null,
            "top": null,
            "visibility": null,
            "width": null
          }
        },
        "17ce203966d5477083b5a7bffde6c857": {
          "model_module": "@jupyter-widgets/base",
          "model_module_version": "1.2.0",
          "model_name": "LayoutModel",
          "state": {
            "_model_module": "@jupyter-widgets/base",
            "_model_module_version": "1.2.0",
            "_model_name": "LayoutModel",
            "_view_count": null,
            "_view_module": "@jupyter-widgets/base",
            "_view_module_version": "1.2.0",
            "_view_name": "LayoutView",
            "align_content": null,
            "align_items": null,
            "align_self": null,
            "border": null,
            "bottom": null,
            "display": null,
            "flex": null,
            "flex_flow": null,
            "grid_area": null,
            "grid_auto_columns": null,
            "grid_auto_flow": null,
            "grid_auto_rows": null,
            "grid_column": null,
            "grid_gap": null,
            "grid_row": null,
            "grid_template_areas": null,
            "grid_template_columns": null,
            "grid_template_rows": null,
            "height": null,
            "justify_content": null,
            "justify_items": null,
            "left": null,
            "margin": null,
            "max_height": null,
            "max_width": null,
            "min_height": null,
            "min_width": null,
            "object_fit": null,
            "object_position": null,
            "order": null,
            "overflow": null,
            "overflow_x": null,
            "overflow_y": null,
            "padding": null,
            "right": null,
            "top": null,
            "visibility": null,
            "width": null
          }
        },
        "1f224cbb889445cc98c1919b5c3a87a0": {
          "model_module": "@jupyter-widgets/controls",
          "model_module_version": "1.5.0",
          "model_name": "FloatProgressModel",
          "state": {
            "_dom_classes": [],
            "_model_module": "@jupyter-widgets/controls",
            "_model_module_version": "1.5.0",
            "_model_name": "FloatProgressModel",
            "_view_count": null,
            "_view_module": "@jupyter-widgets/controls",
            "_view_module_version": "1.5.0",
            "_view_name": "ProgressView",
            "bar_style": "",
            "description": "",
            "description_tooltip": null,
            "layout": "IPY_MODEL_13eae99abdb740dfa261eb93480ea23d",
            "max": 1,
            "min": 0,
            "orientation": "horizontal",
            "style": "IPY_MODEL_26489c5a24bc4f2ea03a48b9665f07a2",
            "value": 1
          }
        },
        "21251ba9c3a4498b813f05e8dc19ba8a": {
          "model_module": "@jupyter-widgets/controls",
          "model_module_version": "1.5.0",
          "model_name": "VBoxModel",
          "state": {
            "_dom_classes": [],
            "_model_module": "@jupyter-widgets/controls",
            "_model_module_version": "1.5.0",
            "_model_name": "VBoxModel",
            "_view_count": null,
            "_view_module": "@jupyter-widgets/controls",
            "_view_module_version": "1.5.0",
            "_view_name": "VBoxView",
            "box_style": "",
            "children": [
              "IPY_MODEL_38eeb6a4cf63438587b6e34916cbc3d4",
              "IPY_MODEL_2edf70b9d1f840c29ad94a82b98c9681"
            ],
            "layout": "IPY_MODEL_bfd9540b0f69479c82f7f4d485ffd606"
          }
        },
        "216ce63fdb4a4dd6baeb9c912eb6a3dc": {
          "model_module": "@jupyter-widgets/controls",
          "model_module_version": "1.5.0",
          "model_name": "DescriptionStyleModel",
          "state": {
            "_model_module": "@jupyter-widgets/controls",
            "_model_module_version": "1.5.0",
            "_model_name": "DescriptionStyleModel",
            "_view_count": null,
            "_view_module": "@jupyter-widgets/base",
            "_view_module_version": "1.2.0",
            "_view_name": "StyleView",
            "description_width": ""
          }
        },
        "221d674ee2eb48d09492ee3048d507d0": {
          "model_module": "@jupyter-widgets/base",
          "model_module_version": "1.2.0",
          "model_name": "LayoutModel",
          "state": {
            "_model_module": "@jupyter-widgets/base",
            "_model_module_version": "1.2.0",
            "_model_name": "LayoutModel",
            "_view_count": null,
            "_view_module": "@jupyter-widgets/base",
            "_view_module_version": "1.2.0",
            "_view_name": "LayoutView",
            "align_content": null,
            "align_items": null,
            "align_self": null,
            "border": null,
            "bottom": null,
            "display": null,
            "flex": null,
            "flex_flow": null,
            "grid_area": null,
            "grid_auto_columns": null,
            "grid_auto_flow": null,
            "grid_auto_rows": null,
            "grid_column": null,
            "grid_gap": null,
            "grid_row": null,
            "grid_template_areas": null,
            "grid_template_columns": null,
            "grid_template_rows": null,
            "height": null,
            "justify_content": null,
            "justify_items": null,
            "left": null,
            "margin": null,
            "max_height": null,
            "max_width": null,
            "min_height": null,
            "min_width": null,
            "object_fit": null,
            "object_position": null,
            "order": null,
            "overflow": null,
            "overflow_x": null,
            "overflow_y": null,
            "padding": null,
            "right": null,
            "top": null,
            "visibility": null,
            "width": null
          }
        },
        "22847f82877a47d389a46f65816db5f5": {
          "model_module": "@jupyter-widgets/controls",
          "model_module_version": "1.5.0",
          "model_name": "VBoxModel",
          "state": {
            "_dom_classes": [],
            "_model_module": "@jupyter-widgets/controls",
            "_model_module_version": "1.5.0",
            "_model_name": "VBoxModel",
            "_view_count": null,
            "_view_module": "@jupyter-widgets/controls",
            "_view_module_version": "1.5.0",
            "_view_name": "VBoxView",
            "box_style": "",
            "children": [
              "IPY_MODEL_d9715469e5c04e0b96a15d70577e0e1e",
              "IPY_MODEL_0ba6ca598ece4419ba9e5d2fb815c5be"
            ],
            "layout": "IPY_MODEL_763ce15c8c71428fbc8693c5e8c3f3ea"
          }
        },
        "25b60a8d7f9a4ff29c8748764ca5be3c": {
          "model_module": "@jupyter-widgets/base",
          "model_module_version": "1.2.0",
          "model_name": "LayoutModel",
          "state": {
            "_model_module": "@jupyter-widgets/base",
            "_model_module_version": "1.2.0",
            "_model_name": "LayoutModel",
            "_view_count": null,
            "_view_module": "@jupyter-widgets/base",
            "_view_module_version": "1.2.0",
            "_view_name": "LayoutView",
            "align_content": null,
            "align_items": null,
            "align_self": null,
            "border": null,
            "bottom": null,
            "display": null,
            "flex": null,
            "flex_flow": null,
            "grid_area": null,
            "grid_auto_columns": null,
            "grid_auto_flow": null,
            "grid_auto_rows": null,
            "grid_column": null,
            "grid_gap": null,
            "grid_row": null,
            "grid_template_areas": null,
            "grid_template_columns": null,
            "grid_template_rows": null,
            "height": null,
            "justify_content": null,
            "justify_items": null,
            "left": null,
            "margin": null,
            "max_height": null,
            "max_width": null,
            "min_height": null,
            "min_width": null,
            "object_fit": null,
            "object_position": null,
            "order": null,
            "overflow": null,
            "overflow_x": null,
            "overflow_y": null,
            "padding": null,
            "right": null,
            "top": null,
            "visibility": null,
            "width": null
          }
        },
        "26489c5a24bc4f2ea03a48b9665f07a2": {
          "model_module": "@jupyter-widgets/controls",
          "model_module_version": "1.5.0",
          "model_name": "ProgressStyleModel",
          "state": {
            "_model_module": "@jupyter-widgets/controls",
            "_model_module_version": "1.5.0",
            "_model_name": "ProgressStyleModel",
            "_view_count": null,
            "_view_module": "@jupyter-widgets/base",
            "_view_module_version": "1.2.0",
            "_view_name": "StyleView",
            "bar_color": null,
            "description_width": ""
          }
        },
        "2a4275f9c53e44679aed7bff5501ef9d": {
          "model_module": "@jupyter-widgets/controls",
          "model_module_version": "1.5.0",
          "model_name": "LabelModel",
          "state": {
            "_dom_classes": [],
            "_model_module": "@jupyter-widgets/controls",
            "_model_module_version": "1.5.0",
            "_model_name": "LabelModel",
            "_view_count": null,
            "_view_module": "@jupyter-widgets/controls",
            "_view_module_version": "1.5.0",
            "_view_name": "LabelView",
            "description": "",
            "description_tooltip": null,
            "layout": "IPY_MODEL_25b60a8d7f9a4ff29c8748764ca5be3c",
            "placeholder": "​",
            "style": "IPY_MODEL_9400d48a822c489a840559ffed48121a",
            "value": "0.031 MB of 0.031 MB uploaded (0.009 MB deduped)\r"
          }
        },
        "2aa082e360a74e08ac96d2cf6e0661bc": {
          "model_module": "@jupyter-widgets/controls",
          "model_module_version": "1.5.0",
          "model_name": "ProgressStyleModel",
          "state": {
            "_model_module": "@jupyter-widgets/controls",
            "_model_module_version": "1.5.0",
            "_model_name": "ProgressStyleModel",
            "_view_count": null,
            "_view_module": "@jupyter-widgets/base",
            "_view_module_version": "1.2.0",
            "_view_name": "StyleView",
            "bar_color": null,
            "description_width": ""
          }
        },
        "2ea86a15cb7e49e38827c5011b855e18": {
          "model_module": "@jupyter-widgets/controls",
          "model_module_version": "1.5.0",
          "model_name": "VBoxModel",
          "state": {
            "_dom_classes": [],
            "_model_module": "@jupyter-widgets/controls",
            "_model_module_version": "1.5.0",
            "_model_name": "VBoxModel",
            "_view_count": null,
            "_view_module": "@jupyter-widgets/controls",
            "_view_module_version": "1.5.0",
            "_view_name": "VBoxView",
            "box_style": "",
            "children": [
              "IPY_MODEL_874b51f8988d4c0882e73eef1a8466c7",
              "IPY_MODEL_8273b4a7b5804c7da8685b3c98913e6b"
            ],
            "layout": "IPY_MODEL_f6bd71d08eeb4b49a7409ec4e686fb95"
          }
        },
        "2edf70b9d1f840c29ad94a82b98c9681": {
          "model_module": "@jupyter-widgets/controls",
          "model_module_version": "1.5.0",
          "model_name": "FloatProgressModel",
          "state": {
            "_dom_classes": [],
            "_model_module": "@jupyter-widgets/controls",
            "_model_module_version": "1.5.0",
            "_model_name": "FloatProgressModel",
            "_view_count": null,
            "_view_module": "@jupyter-widgets/controls",
            "_view_module_version": "1.5.0",
            "_view_name": "ProgressView",
            "bar_style": "",
            "description": "",
            "description_tooltip": null,
            "layout": "IPY_MODEL_221d674ee2eb48d09492ee3048d507d0",
            "max": 1,
            "min": 0,
            "orientation": "horizontal",
            "style": "IPY_MODEL_7eb851bfd722469bb043377a45d4977b",
            "value": 1
          }
        },
        "38eeb6a4cf63438587b6e34916cbc3d4": {
          "model_module": "@jupyter-widgets/controls",
          "model_module_version": "1.5.0",
          "model_name": "LabelModel",
          "state": {
            "_dom_classes": [],
            "_model_module": "@jupyter-widgets/controls",
            "_model_module_version": "1.5.0",
            "_model_name": "LabelModel",
            "_view_count": null,
            "_view_module": "@jupyter-widgets/controls",
            "_view_module_version": "1.5.0",
            "_view_name": "LabelView",
            "description": "",
            "description_tooltip": null,
            "layout": "IPY_MODEL_f6413913c3be4a4896563d813964f291",
            "placeholder": "​",
            "style": "IPY_MODEL_f044611fa71841348c0b2252c57770c2",
            "value": "0.018 MB of 0.018 MB uploaded\r"
          }
        },
        "3aced9cc8d2d4fb3944124356543d537": {
          "model_module": "@jupyter-widgets/controls",
          "model_module_version": "1.5.0",
          "model_name": "LabelModel",
          "state": {
            "_dom_classes": [],
            "_model_module": "@jupyter-widgets/controls",
            "_model_module_version": "1.5.0",
            "_model_name": "LabelModel",
            "_view_count": null,
            "_view_module": "@jupyter-widgets/controls",
            "_view_module_version": "1.5.0",
            "_view_name": "LabelView",
            "description": "",
            "description_tooltip": null,
            "layout": "IPY_MODEL_92986227100a43e4aefa53742358783f",
            "placeholder": "​",
            "style": "IPY_MODEL_595babdfaacd4fa5a31b98b31d0873c9",
            "value": "0.018 MB of 0.018 MB uploaded\r"
          }
        },
        "3eb95b8386754b09bc918ee97202285b": {
          "model_module": "@jupyter-widgets/controls",
          "model_module_version": "1.5.0",
          "model_name": "VBoxModel",
          "state": {
            "_dom_classes": [],
            "_model_module": "@jupyter-widgets/controls",
            "_model_module_version": "1.5.0",
            "_model_name": "VBoxModel",
            "_view_count": null,
            "_view_module": "@jupyter-widgets/controls",
            "_view_module_version": "1.5.0",
            "_view_name": "VBoxView",
            "box_style": "",
            "children": [
              "IPY_MODEL_2a4275f9c53e44679aed7bff5501ef9d",
              "IPY_MODEL_a8dba3b55ade4a3791267576c056ee59"
            ],
            "layout": "IPY_MODEL_e45ca12439b84c60b6b869d0762e9a23"
          }
        },
        "525b571b02684f4ab0a2dfe8b9415335": {
          "model_module": "@jupyter-widgets/base",
          "model_module_version": "1.2.0",
          "model_name": "LayoutModel",
          "state": {
            "_model_module": "@jupyter-widgets/base",
            "_model_module_version": "1.2.0",
            "_model_name": "LayoutModel",
            "_view_count": null,
            "_view_module": "@jupyter-widgets/base",
            "_view_module_version": "1.2.0",
            "_view_name": "LayoutView",
            "align_content": null,
            "align_items": null,
            "align_self": null,
            "border": null,
            "bottom": null,
            "display": null,
            "flex": null,
            "flex_flow": null,
            "grid_area": null,
            "grid_auto_columns": null,
            "grid_auto_flow": null,
            "grid_auto_rows": null,
            "grid_column": null,
            "grid_gap": null,
            "grid_row": null,
            "grid_template_areas": null,
            "grid_template_columns": null,
            "grid_template_rows": null,
            "height": null,
            "justify_content": null,
            "justify_items": null,
            "left": null,
            "margin": null,
            "max_height": null,
            "max_width": null,
            "min_height": null,
            "min_width": null,
            "object_fit": null,
            "object_position": null,
            "order": null,
            "overflow": null,
            "overflow_x": null,
            "overflow_y": null,
            "padding": null,
            "right": null,
            "top": null,
            "visibility": null,
            "width": null
          }
        },
        "5839e5aff10c4935a4f68550aa964c2f": {
          "model_module": "@jupyter-widgets/base",
          "model_module_version": "1.2.0",
          "model_name": "LayoutModel",
          "state": {
            "_model_module": "@jupyter-widgets/base",
            "_model_module_version": "1.2.0",
            "_model_name": "LayoutModel",
            "_view_count": null,
            "_view_module": "@jupyter-widgets/base",
            "_view_module_version": "1.2.0",
            "_view_name": "LayoutView",
            "align_content": null,
            "align_items": null,
            "align_self": null,
            "border": null,
            "bottom": null,
            "display": null,
            "flex": null,
            "flex_flow": null,
            "grid_area": null,
            "grid_auto_columns": null,
            "grid_auto_flow": null,
            "grid_auto_rows": null,
            "grid_column": null,
            "grid_gap": null,
            "grid_row": null,
            "grid_template_areas": null,
            "grid_template_columns": null,
            "grid_template_rows": null,
            "height": null,
            "justify_content": null,
            "justify_items": null,
            "left": null,
            "margin": null,
            "max_height": null,
            "max_width": null,
            "min_height": null,
            "min_width": null,
            "object_fit": null,
            "object_position": null,
            "order": null,
            "overflow": null,
            "overflow_x": null,
            "overflow_y": null,
            "padding": null,
            "right": null,
            "top": null,
            "visibility": null,
            "width": null
          }
        },
        "595babdfaacd4fa5a31b98b31d0873c9": {
          "model_module": "@jupyter-widgets/controls",
          "model_module_version": "1.5.0",
          "model_name": "DescriptionStyleModel",
          "state": {
            "_model_module": "@jupyter-widgets/controls",
            "_model_module_version": "1.5.0",
            "_model_name": "DescriptionStyleModel",
            "_view_count": null,
            "_view_module": "@jupyter-widgets/base",
            "_view_module_version": "1.2.0",
            "_view_name": "StyleView",
            "description_width": ""
          }
        },
        "5bc06252165c429b90944a55109db47c": {
          "model_module": "@jupyter-widgets/base",
          "model_module_version": "1.2.0",
          "model_name": "LayoutModel",
          "state": {
            "_model_module": "@jupyter-widgets/base",
            "_model_module_version": "1.2.0",
            "_model_name": "LayoutModel",
            "_view_count": null,
            "_view_module": "@jupyter-widgets/base",
            "_view_module_version": "1.2.0",
            "_view_name": "LayoutView",
            "align_content": null,
            "align_items": null,
            "align_self": null,
            "border": null,
            "bottom": null,
            "display": null,
            "flex": null,
            "flex_flow": null,
            "grid_area": null,
            "grid_auto_columns": null,
            "grid_auto_flow": null,
            "grid_auto_rows": null,
            "grid_column": null,
            "grid_gap": null,
            "grid_row": null,
            "grid_template_areas": null,
            "grid_template_columns": null,
            "grid_template_rows": null,
            "height": null,
            "justify_content": null,
            "justify_items": null,
            "left": null,
            "margin": null,
            "max_height": null,
            "max_width": null,
            "min_height": null,
            "min_width": null,
            "object_fit": null,
            "object_position": null,
            "order": null,
            "overflow": null,
            "overflow_x": null,
            "overflow_y": null,
            "padding": null,
            "right": null,
            "top": null,
            "visibility": null,
            "width": null
          }
        },
        "5da98fc7ca004c57b58b87a576ab6e0d": {
          "model_module": "@jupyter-widgets/base",
          "model_module_version": "1.2.0",
          "model_name": "LayoutModel",
          "state": {
            "_model_module": "@jupyter-widgets/base",
            "_model_module_version": "1.2.0",
            "_model_name": "LayoutModel",
            "_view_count": null,
            "_view_module": "@jupyter-widgets/base",
            "_view_module_version": "1.2.0",
            "_view_name": "LayoutView",
            "align_content": null,
            "align_items": null,
            "align_self": null,
            "border": null,
            "bottom": null,
            "display": null,
            "flex": null,
            "flex_flow": null,
            "grid_area": null,
            "grid_auto_columns": null,
            "grid_auto_flow": null,
            "grid_auto_rows": null,
            "grid_column": null,
            "grid_gap": null,
            "grid_row": null,
            "grid_template_areas": null,
            "grid_template_columns": null,
            "grid_template_rows": null,
            "height": null,
            "justify_content": null,
            "justify_items": null,
            "left": null,
            "margin": null,
            "max_height": null,
            "max_width": null,
            "min_height": null,
            "min_width": null,
            "object_fit": null,
            "object_position": null,
            "order": null,
            "overflow": null,
            "overflow_x": null,
            "overflow_y": null,
            "padding": null,
            "right": null,
            "top": null,
            "visibility": null,
            "width": null
          }
        },
        "6c03b32999b9470c8e45da086b94c7b7": {
          "model_module": "@jupyter-widgets/controls",
          "model_module_version": "1.5.0",
          "model_name": "DescriptionStyleModel",
          "state": {
            "_model_module": "@jupyter-widgets/controls",
            "_model_module_version": "1.5.0",
            "_model_name": "DescriptionStyleModel",
            "_view_count": null,
            "_view_module": "@jupyter-widgets/base",
            "_view_module_version": "1.2.0",
            "_view_name": "StyleView",
            "description_width": ""
          }
        },
        "6ec3bd9900f8403cab605b9f0a8f36db": {
          "model_module": "@jupyter-widgets/base",
          "model_module_version": "1.2.0",
          "model_name": "LayoutModel",
          "state": {
            "_model_module": "@jupyter-widgets/base",
            "_model_module_version": "1.2.0",
            "_model_name": "LayoutModel",
            "_view_count": null,
            "_view_module": "@jupyter-widgets/base",
            "_view_module_version": "1.2.0",
            "_view_name": "LayoutView",
            "align_content": null,
            "align_items": null,
            "align_self": null,
            "border": null,
            "bottom": null,
            "display": null,
            "flex": null,
            "flex_flow": null,
            "grid_area": null,
            "grid_auto_columns": null,
            "grid_auto_flow": null,
            "grid_auto_rows": null,
            "grid_column": null,
            "grid_gap": null,
            "grid_row": null,
            "grid_template_areas": null,
            "grid_template_columns": null,
            "grid_template_rows": null,
            "height": null,
            "justify_content": null,
            "justify_items": null,
            "left": null,
            "margin": null,
            "max_height": null,
            "max_width": null,
            "min_height": null,
            "min_width": null,
            "object_fit": null,
            "object_position": null,
            "order": null,
            "overflow": null,
            "overflow_x": null,
            "overflow_y": null,
            "padding": null,
            "right": null,
            "top": null,
            "visibility": null,
            "width": null
          }
        },
        "7557de1b20324746add78337ef218b13": {
          "model_module": "@jupyter-widgets/controls",
          "model_module_version": "1.5.0",
          "model_name": "VBoxModel",
          "state": {
            "_dom_classes": [],
            "_model_module": "@jupyter-widgets/controls",
            "_model_module_version": "1.5.0",
            "_model_name": "VBoxModel",
            "_view_count": null,
            "_view_module": "@jupyter-widgets/controls",
            "_view_module_version": "1.5.0",
            "_view_name": "VBoxView",
            "box_style": "",
            "children": [
              "IPY_MODEL_c7a9a317993e4ffa846d19b9699f62a5",
              "IPY_MODEL_c9ed4c864f3242a28c6d60fb4c9d82a1"
            ],
            "layout": "IPY_MODEL_15aa214e6e4144a6954fa281e1e23d5a"
          }
        },
        "763ce15c8c71428fbc8693c5e8c3f3ea": {
          "model_module": "@jupyter-widgets/base",
          "model_module_version": "1.2.0",
          "model_name": "LayoutModel",
          "state": {
            "_model_module": "@jupyter-widgets/base",
            "_model_module_version": "1.2.0",
            "_model_name": "LayoutModel",
            "_view_count": null,
            "_view_module": "@jupyter-widgets/base",
            "_view_module_version": "1.2.0",
            "_view_name": "LayoutView",
            "align_content": null,
            "align_items": null,
            "align_self": null,
            "border": null,
            "bottom": null,
            "display": null,
            "flex": null,
            "flex_flow": null,
            "grid_area": null,
            "grid_auto_columns": null,
            "grid_auto_flow": null,
            "grid_auto_rows": null,
            "grid_column": null,
            "grid_gap": null,
            "grid_row": null,
            "grid_template_areas": null,
            "grid_template_columns": null,
            "grid_template_rows": null,
            "height": null,
            "justify_content": null,
            "justify_items": null,
            "left": null,
            "margin": null,
            "max_height": null,
            "max_width": null,
            "min_height": null,
            "min_width": null,
            "object_fit": null,
            "object_position": null,
            "order": null,
            "overflow": null,
            "overflow_x": null,
            "overflow_y": null,
            "padding": null,
            "right": null,
            "top": null,
            "visibility": null,
            "width": null
          }
        },
        "797c312c2e544c7fa9e55d1a236d78a9": {
          "model_module": "@jupyter-widgets/base",
          "model_module_version": "1.2.0",
          "model_name": "LayoutModel",
          "state": {
            "_model_module": "@jupyter-widgets/base",
            "_model_module_version": "1.2.0",
            "_model_name": "LayoutModel",
            "_view_count": null,
            "_view_module": "@jupyter-widgets/base",
            "_view_module_version": "1.2.0",
            "_view_name": "LayoutView",
            "align_content": null,
            "align_items": null,
            "align_self": null,
            "border": null,
            "bottom": null,
            "display": null,
            "flex": null,
            "flex_flow": null,
            "grid_area": null,
            "grid_auto_columns": null,
            "grid_auto_flow": null,
            "grid_auto_rows": null,
            "grid_column": null,
            "grid_gap": null,
            "grid_row": null,
            "grid_template_areas": null,
            "grid_template_columns": null,
            "grid_template_rows": null,
            "height": null,
            "justify_content": null,
            "justify_items": null,
            "left": null,
            "margin": null,
            "max_height": null,
            "max_width": null,
            "min_height": null,
            "min_width": null,
            "object_fit": null,
            "object_position": null,
            "order": null,
            "overflow": null,
            "overflow_x": null,
            "overflow_y": null,
            "padding": null,
            "right": null,
            "top": null,
            "visibility": null,
            "width": null
          }
        },
        "7a7b2fba7f90403bbe435e8b493f438d": {
          "model_module": "@jupyter-widgets/controls",
          "model_module_version": "1.5.0",
          "model_name": "ProgressStyleModel",
          "state": {
            "_model_module": "@jupyter-widgets/controls",
            "_model_module_version": "1.5.0",
            "_model_name": "ProgressStyleModel",
            "_view_count": null,
            "_view_module": "@jupyter-widgets/base",
            "_view_module_version": "1.2.0",
            "_view_name": "StyleView",
            "bar_color": null,
            "description_width": ""
          }
        },
        "7eb851bfd722469bb043377a45d4977b": {
          "model_module": "@jupyter-widgets/controls",
          "model_module_version": "1.5.0",
          "model_name": "ProgressStyleModel",
          "state": {
            "_model_module": "@jupyter-widgets/controls",
            "_model_module_version": "1.5.0",
            "_model_name": "ProgressStyleModel",
            "_view_count": null,
            "_view_module": "@jupyter-widgets/base",
            "_view_module_version": "1.2.0",
            "_view_name": "StyleView",
            "bar_color": null,
            "description_width": ""
          }
        },
        "8273b4a7b5804c7da8685b3c98913e6b": {
          "model_module": "@jupyter-widgets/controls",
          "model_module_version": "1.5.0",
          "model_name": "FloatProgressModel",
          "state": {
            "_dom_classes": [],
            "_model_module": "@jupyter-widgets/controls",
            "_model_module_version": "1.5.0",
            "_model_name": "FloatProgressModel",
            "_view_count": null,
            "_view_module": "@jupyter-widgets/controls",
            "_view_module_version": "1.5.0",
            "_view_name": "ProgressView",
            "bar_style": "",
            "description": "",
            "description_tooltip": null,
            "layout": "IPY_MODEL_b4b33543cd134453b249f60021d88d55",
            "max": 1,
            "min": 0,
            "orientation": "horizontal",
            "style": "IPY_MODEL_8ac5cb0b3834465b979ac2a055626056",
            "value": 1
          }
        },
        "874b51f8988d4c0882e73eef1a8466c7": {
          "model_module": "@jupyter-widgets/controls",
          "model_module_version": "1.5.0",
          "model_name": "LabelModel",
          "state": {
            "_dom_classes": [],
            "_model_module": "@jupyter-widgets/controls",
            "_model_module_version": "1.5.0",
            "_model_name": "LabelModel",
            "_view_count": null,
            "_view_module": "@jupyter-widgets/controls",
            "_view_module_version": "1.5.0",
            "_view_name": "LabelView",
            "description": "",
            "description_tooltip": null,
            "layout": "IPY_MODEL_056b7e6fef004205a8fb94c76a2455ba",
            "placeholder": "​",
            "style": "IPY_MODEL_216ce63fdb4a4dd6baeb9c912eb6a3dc",
            "value": "0.018 MB of 0.018 MB uploaded\r"
          }
        },
        "8ac5cb0b3834465b979ac2a055626056": {
          "model_module": "@jupyter-widgets/controls",
          "model_module_version": "1.5.0",
          "model_name": "ProgressStyleModel",
          "state": {
            "_model_module": "@jupyter-widgets/controls",
            "_model_module_version": "1.5.0",
            "_model_name": "ProgressStyleModel",
            "_view_count": null,
            "_view_module": "@jupyter-widgets/base",
            "_view_module_version": "1.2.0",
            "_view_name": "StyleView",
            "bar_color": null,
            "description_width": ""
          }
        },
        "91cb04eec1864a3180e9e72d0da9c588": {
          "model_module": "@jupyter-widgets/controls",
          "model_module_version": "1.5.0",
          "model_name": "ProgressStyleModel",
          "state": {
            "_model_module": "@jupyter-widgets/controls",
            "_model_module_version": "1.5.0",
            "_model_name": "ProgressStyleModel",
            "_view_count": null,
            "_view_module": "@jupyter-widgets/base",
            "_view_module_version": "1.2.0",
            "_view_name": "StyleView",
            "bar_color": null,
            "description_width": ""
          }
        },
        "92986227100a43e4aefa53742358783f": {
          "model_module": "@jupyter-widgets/base",
          "model_module_version": "1.2.0",
          "model_name": "LayoutModel",
          "state": {
            "_model_module": "@jupyter-widgets/base",
            "_model_module_version": "1.2.0",
            "_model_name": "LayoutModel",
            "_view_count": null,
            "_view_module": "@jupyter-widgets/base",
            "_view_module_version": "1.2.0",
            "_view_name": "LayoutView",
            "align_content": null,
            "align_items": null,
            "align_self": null,
            "border": null,
            "bottom": null,
            "display": null,
            "flex": null,
            "flex_flow": null,
            "grid_area": null,
            "grid_auto_columns": null,
            "grid_auto_flow": null,
            "grid_auto_rows": null,
            "grid_column": null,
            "grid_gap": null,
            "grid_row": null,
            "grid_template_areas": null,
            "grid_template_columns": null,
            "grid_template_rows": null,
            "height": null,
            "justify_content": null,
            "justify_items": null,
            "left": null,
            "margin": null,
            "max_height": null,
            "max_width": null,
            "min_height": null,
            "min_width": null,
            "object_fit": null,
            "object_position": null,
            "order": null,
            "overflow": null,
            "overflow_x": null,
            "overflow_y": null,
            "padding": null,
            "right": null,
            "top": null,
            "visibility": null,
            "width": null
          }
        },
        "9400d48a822c489a840559ffed48121a": {
          "model_module": "@jupyter-widgets/controls",
          "model_module_version": "1.5.0",
          "model_name": "DescriptionStyleModel",
          "state": {
            "_model_module": "@jupyter-widgets/controls",
            "_model_module_version": "1.5.0",
            "_model_name": "DescriptionStyleModel",
            "_view_count": null,
            "_view_module": "@jupyter-widgets/base",
            "_view_module_version": "1.2.0",
            "_view_name": "StyleView",
            "description_width": ""
          }
        },
        "9635d0b958fe4821bbf4a54e187ce11b": {
          "model_module": "@jupyter-widgets/base",
          "model_module_version": "1.2.0",
          "model_name": "LayoutModel",
          "state": {
            "_model_module": "@jupyter-widgets/base",
            "_model_module_version": "1.2.0",
            "_model_name": "LayoutModel",
            "_view_count": null,
            "_view_module": "@jupyter-widgets/base",
            "_view_module_version": "1.2.0",
            "_view_name": "LayoutView",
            "align_content": null,
            "align_items": null,
            "align_self": null,
            "border": null,
            "bottom": null,
            "display": null,
            "flex": null,
            "flex_flow": null,
            "grid_area": null,
            "grid_auto_columns": null,
            "grid_auto_flow": null,
            "grid_auto_rows": null,
            "grid_column": null,
            "grid_gap": null,
            "grid_row": null,
            "grid_template_areas": null,
            "grid_template_columns": null,
            "grid_template_rows": null,
            "height": null,
            "justify_content": null,
            "justify_items": null,
            "left": null,
            "margin": null,
            "max_height": null,
            "max_width": null,
            "min_height": null,
            "min_width": null,
            "object_fit": null,
            "object_position": null,
            "order": null,
            "overflow": null,
            "overflow_x": null,
            "overflow_y": null,
            "padding": null,
            "right": null,
            "top": null,
            "visibility": null,
            "width": null
          }
        },
        "9af9ec3adf684284851b0192591be497": {
          "model_module": "@jupyter-widgets/controls",
          "model_module_version": "1.5.0",
          "model_name": "DescriptionStyleModel",
          "state": {
            "_model_module": "@jupyter-widgets/controls",
            "_model_module_version": "1.5.0",
            "_model_name": "DescriptionStyleModel",
            "_view_count": null,
            "_view_module": "@jupyter-widgets/base",
            "_view_module_version": "1.2.0",
            "_view_name": "StyleView",
            "description_width": ""
          }
        },
        "9c05e2ffa07442debdb8f48e375a2f6a": {
          "model_module": "@jupyter-widgets/controls",
          "model_module_version": "1.5.0",
          "model_name": "VBoxModel",
          "state": {
            "_dom_classes": [],
            "_model_module": "@jupyter-widgets/controls",
            "_model_module_version": "1.5.0",
            "_model_name": "VBoxModel",
            "_view_count": null,
            "_view_module": "@jupyter-widgets/controls",
            "_view_module_version": "1.5.0",
            "_view_name": "VBoxView",
            "box_style": "",
            "children": [
              "IPY_MODEL_c2b8a31878b643c882be0ee508c1dbc1",
              "IPY_MODEL_e811ca70b17f49939d4a77e57878b435"
            ],
            "layout": "IPY_MODEL_9635d0b958fe4821bbf4a54e187ce11b"
          }
        },
        "9e528c16218f4583af51cc555f31699d": {
          "model_module": "@jupyter-widgets/controls",
          "model_module_version": "1.5.0",
          "model_name": "FloatProgressModel",
          "state": {
            "_dom_classes": [],
            "_model_module": "@jupyter-widgets/controls",
            "_model_module_version": "1.5.0",
            "_model_name": "FloatProgressModel",
            "_view_count": null,
            "_view_module": "@jupyter-widgets/controls",
            "_view_module_version": "1.5.0",
            "_view_name": "ProgressView",
            "bar_style": "",
            "description": "",
            "description_tooltip": null,
            "layout": "IPY_MODEL_cd01a4419cbd42f79fae2346d01856d3",
            "max": 1,
            "min": 0,
            "orientation": "horizontal",
            "style": "IPY_MODEL_2aa082e360a74e08ac96d2cf6e0661bc",
            "value": 1
          }
        },
        "a75910c4fb164c6fbecbe2c9abf5b430": {
          "model_module": "@jupyter-widgets/base",
          "model_module_version": "1.2.0",
          "model_name": "LayoutModel",
          "state": {
            "_model_module": "@jupyter-widgets/base",
            "_model_module_version": "1.2.0",
            "_model_name": "LayoutModel",
            "_view_count": null,
            "_view_module": "@jupyter-widgets/base",
            "_view_module_version": "1.2.0",
            "_view_name": "LayoutView",
            "align_content": null,
            "align_items": null,
            "align_self": null,
            "border": null,
            "bottom": null,
            "display": null,
            "flex": null,
            "flex_flow": null,
            "grid_area": null,
            "grid_auto_columns": null,
            "grid_auto_flow": null,
            "grid_auto_rows": null,
            "grid_column": null,
            "grid_gap": null,
            "grid_row": null,
            "grid_template_areas": null,
            "grid_template_columns": null,
            "grid_template_rows": null,
            "height": null,
            "justify_content": null,
            "justify_items": null,
            "left": null,
            "margin": null,
            "max_height": null,
            "max_width": null,
            "min_height": null,
            "min_width": null,
            "object_fit": null,
            "object_position": null,
            "order": null,
            "overflow": null,
            "overflow_x": null,
            "overflow_y": null,
            "padding": null,
            "right": null,
            "top": null,
            "visibility": null,
            "width": null
          }
        },
        "a8dba3b55ade4a3791267576c056ee59": {
          "model_module": "@jupyter-widgets/controls",
          "model_module_version": "1.5.0",
          "model_name": "FloatProgressModel",
          "state": {
            "_dom_classes": [],
            "_model_module": "@jupyter-widgets/controls",
            "_model_module_version": "1.5.0",
            "_model_name": "FloatProgressModel",
            "_view_count": null,
            "_view_module": "@jupyter-widgets/controls",
            "_view_module_version": "1.5.0",
            "_view_name": "ProgressView",
            "bar_style": "",
            "description": "",
            "description_tooltip": null,
            "layout": "IPY_MODEL_5839e5aff10c4935a4f68550aa964c2f",
            "max": 1,
            "min": 0,
            "orientation": "horizontal",
            "style": "IPY_MODEL_91cb04eec1864a3180e9e72d0da9c588",
            "value": 1
          }
        },
        "b4b33543cd134453b249f60021d88d55": {
          "model_module": "@jupyter-widgets/base",
          "model_module_version": "1.2.0",
          "model_name": "LayoutModel",
          "state": {
            "_model_module": "@jupyter-widgets/base",
            "_model_module_version": "1.2.0",
            "_model_name": "LayoutModel",
            "_view_count": null,
            "_view_module": "@jupyter-widgets/base",
            "_view_module_version": "1.2.0",
            "_view_name": "LayoutView",
            "align_content": null,
            "align_items": null,
            "align_self": null,
            "border": null,
            "bottom": null,
            "display": null,
            "flex": null,
            "flex_flow": null,
            "grid_area": null,
            "grid_auto_columns": null,
            "grid_auto_flow": null,
            "grid_auto_rows": null,
            "grid_column": null,
            "grid_gap": null,
            "grid_row": null,
            "grid_template_areas": null,
            "grid_template_columns": null,
            "grid_template_rows": null,
            "height": null,
            "justify_content": null,
            "justify_items": null,
            "left": null,
            "margin": null,
            "max_height": null,
            "max_width": null,
            "min_height": null,
            "min_width": null,
            "object_fit": null,
            "object_position": null,
            "order": null,
            "overflow": null,
            "overflow_x": null,
            "overflow_y": null,
            "padding": null,
            "right": null,
            "top": null,
            "visibility": null,
            "width": null
          }
        },
        "bca24d5ed14644c68d09acdb9a736b4c": {
          "model_module": "@jupyter-widgets/controls",
          "model_module_version": "1.5.0",
          "model_name": "DescriptionStyleModel",
          "state": {
            "_model_module": "@jupyter-widgets/controls",
            "_model_module_version": "1.5.0",
            "_model_name": "DescriptionStyleModel",
            "_view_count": null,
            "_view_module": "@jupyter-widgets/base",
            "_view_module_version": "1.2.0",
            "_view_name": "StyleView",
            "description_width": ""
          }
        },
        "bfd9540b0f69479c82f7f4d485ffd606": {
          "model_module": "@jupyter-widgets/base",
          "model_module_version": "1.2.0",
          "model_name": "LayoutModel",
          "state": {
            "_model_module": "@jupyter-widgets/base",
            "_model_module_version": "1.2.0",
            "_model_name": "LayoutModel",
            "_view_count": null,
            "_view_module": "@jupyter-widgets/base",
            "_view_module_version": "1.2.0",
            "_view_name": "LayoutView",
            "align_content": null,
            "align_items": null,
            "align_self": null,
            "border": null,
            "bottom": null,
            "display": null,
            "flex": null,
            "flex_flow": null,
            "grid_area": null,
            "grid_auto_columns": null,
            "grid_auto_flow": null,
            "grid_auto_rows": null,
            "grid_column": null,
            "grid_gap": null,
            "grid_row": null,
            "grid_template_areas": null,
            "grid_template_columns": null,
            "grid_template_rows": null,
            "height": null,
            "justify_content": null,
            "justify_items": null,
            "left": null,
            "margin": null,
            "max_height": null,
            "max_width": null,
            "min_height": null,
            "min_width": null,
            "object_fit": null,
            "object_position": null,
            "order": null,
            "overflow": null,
            "overflow_x": null,
            "overflow_y": null,
            "padding": null,
            "right": null,
            "top": null,
            "visibility": null,
            "width": null
          }
        },
        "c2b8a31878b643c882be0ee508c1dbc1": {
          "model_module": "@jupyter-widgets/controls",
          "model_module_version": "1.5.0",
          "model_name": "LabelModel",
          "state": {
            "_dom_classes": [],
            "_model_module": "@jupyter-widgets/controls",
            "_model_module_version": "1.5.0",
            "_model_name": "LabelModel",
            "_view_count": null,
            "_view_module": "@jupyter-widgets/controls",
            "_view_module_version": "1.5.0",
            "_view_name": "LabelView",
            "description": "",
            "description_tooltip": null,
            "layout": "IPY_MODEL_5bc06252165c429b90944a55109db47c",
            "placeholder": "​",
            "style": "IPY_MODEL_bca24d5ed14644c68d09acdb9a736b4c",
            "value": "0.019 MB of 0.019 MB uploaded\r"
          }
        },
        "c7a9a317993e4ffa846d19b9699f62a5": {
          "model_module": "@jupyter-widgets/controls",
          "model_module_version": "1.5.0",
          "model_name": "LabelModel",
          "state": {
            "_dom_classes": [],
            "_model_module": "@jupyter-widgets/controls",
            "_model_module_version": "1.5.0",
            "_model_name": "LabelModel",
            "_view_count": null,
            "_view_module": "@jupyter-widgets/controls",
            "_view_module_version": "1.5.0",
            "_view_name": "LabelView",
            "description": "",
            "description_tooltip": null,
            "layout": "IPY_MODEL_525b571b02684f4ab0a2dfe8b9415335",
            "placeholder": "​",
            "style": "IPY_MODEL_9af9ec3adf684284851b0192591be497",
            "value": "0.030 MB of 0.030 MB uploaded (0.009 MB deduped)\r"
          }
        },
        "c9ed4c864f3242a28c6d60fb4c9d82a1": {
          "model_module": "@jupyter-widgets/controls",
          "model_module_version": "1.5.0",
          "model_name": "FloatProgressModel",
          "state": {
            "_dom_classes": [],
            "_model_module": "@jupyter-widgets/controls",
            "_model_module_version": "1.5.0",
            "_model_name": "FloatProgressModel",
            "_view_count": null,
            "_view_module": "@jupyter-widgets/controls",
            "_view_module_version": "1.5.0",
            "_view_name": "ProgressView",
            "bar_style": "",
            "description": "",
            "description_tooltip": null,
            "layout": "IPY_MODEL_d45c10de131540e38a9fcca66e409bc1",
            "max": 1,
            "min": 0,
            "orientation": "horizontal",
            "style": "IPY_MODEL_fc7c5c6e21ff4849b08268b060271963",
            "value": 1
          }
        },
        "cd01a4419cbd42f79fae2346d01856d3": {
          "model_module": "@jupyter-widgets/base",
          "model_module_version": "1.2.0",
          "model_name": "LayoutModel",
          "state": {
            "_model_module": "@jupyter-widgets/base",
            "_model_module_version": "1.2.0",
            "_model_name": "LayoutModel",
            "_view_count": null,
            "_view_module": "@jupyter-widgets/base",
            "_view_module_version": "1.2.0",
            "_view_name": "LayoutView",
            "align_content": null,
            "align_items": null,
            "align_self": null,
            "border": null,
            "bottom": null,
            "display": null,
            "flex": null,
            "flex_flow": null,
            "grid_area": null,
            "grid_auto_columns": null,
            "grid_auto_flow": null,
            "grid_auto_rows": null,
            "grid_column": null,
            "grid_gap": null,
            "grid_row": null,
            "grid_template_areas": null,
            "grid_template_columns": null,
            "grid_template_rows": null,
            "height": null,
            "justify_content": null,
            "justify_items": null,
            "left": null,
            "margin": null,
            "max_height": null,
            "max_width": null,
            "min_height": null,
            "min_width": null,
            "object_fit": null,
            "object_position": null,
            "order": null,
            "overflow": null,
            "overflow_x": null,
            "overflow_y": null,
            "padding": null,
            "right": null,
            "top": null,
            "visibility": null,
            "width": null
          }
        },
        "d45c10de131540e38a9fcca66e409bc1": {
          "model_module": "@jupyter-widgets/base",
          "model_module_version": "1.2.0",
          "model_name": "LayoutModel",
          "state": {
            "_model_module": "@jupyter-widgets/base",
            "_model_module_version": "1.2.0",
            "_model_name": "LayoutModel",
            "_view_count": null,
            "_view_module": "@jupyter-widgets/base",
            "_view_module_version": "1.2.0",
            "_view_name": "LayoutView",
            "align_content": null,
            "align_items": null,
            "align_self": null,
            "border": null,
            "bottom": null,
            "display": null,
            "flex": null,
            "flex_flow": null,
            "grid_area": null,
            "grid_auto_columns": null,
            "grid_auto_flow": null,
            "grid_auto_rows": null,
            "grid_column": null,
            "grid_gap": null,
            "grid_row": null,
            "grid_template_areas": null,
            "grid_template_columns": null,
            "grid_template_rows": null,
            "height": null,
            "justify_content": null,
            "justify_items": null,
            "left": null,
            "margin": null,
            "max_height": null,
            "max_width": null,
            "min_height": null,
            "min_width": null,
            "object_fit": null,
            "object_position": null,
            "order": null,
            "overflow": null,
            "overflow_x": null,
            "overflow_y": null,
            "padding": null,
            "right": null,
            "top": null,
            "visibility": null,
            "width": null
          }
        },
        "d9715469e5c04e0b96a15d70577e0e1e": {
          "model_module": "@jupyter-widgets/controls",
          "model_module_version": "1.5.0",
          "model_name": "LabelModel",
          "state": {
            "_dom_classes": [],
            "_model_module": "@jupyter-widgets/controls",
            "_model_module_version": "1.5.0",
            "_model_name": "LabelModel",
            "_view_count": null,
            "_view_module": "@jupyter-widgets/controls",
            "_view_module_version": "1.5.0",
            "_view_name": "LabelView",
            "description": "",
            "description_tooltip": null,
            "layout": "IPY_MODEL_797c312c2e544c7fa9e55d1a236d78a9",
            "placeholder": "​",
            "style": "IPY_MODEL_002a12c8ab2440f3bcc0ec5e3409a103",
            "value": "0.001 MB of 0.013 MB uploaded\r"
          }
        },
        "db90e6d3939b499290ea97c86b182bec": {
          "model_module": "@jupyter-widgets/controls",
          "model_module_version": "1.5.0",
          "model_name": "VBoxModel",
          "state": {
            "_dom_classes": [],
            "_model_module": "@jupyter-widgets/controls",
            "_model_module_version": "1.5.0",
            "_model_name": "VBoxModel",
            "_view_count": null,
            "_view_module": "@jupyter-widgets/controls",
            "_view_module_version": "1.5.0",
            "_view_name": "VBoxView",
            "box_style": "",
            "children": [
              "IPY_MODEL_0a91addf1a184aebbeaedc003bf1ad33",
              "IPY_MODEL_1f224cbb889445cc98c1919b5c3a87a0"
            ],
            "layout": "IPY_MODEL_5da98fc7ca004c57b58b87a576ab6e0d"
          }
        },
        "dfc3298c572248e1819591aac60756d1": {
          "model_module": "@jupyter-widgets/controls",
          "model_module_version": "1.5.0",
          "model_name": "VBoxModel",
          "state": {
            "_dom_classes": [],
            "_model_module": "@jupyter-widgets/controls",
            "_model_module_version": "1.5.0",
            "_model_name": "VBoxModel",
            "_view_count": null,
            "_view_module": "@jupyter-widgets/controls",
            "_view_module_version": "1.5.0",
            "_view_name": "VBoxView",
            "box_style": "",
            "children": [
              "IPY_MODEL_3aced9cc8d2d4fb3944124356543d537",
              "IPY_MODEL_9e528c16218f4583af51cc555f31699d"
            ],
            "layout": "IPY_MODEL_ea024c7fd0f0420badd1616b494d76e1"
          }
        },
        "e45ca12439b84c60b6b869d0762e9a23": {
          "model_module": "@jupyter-widgets/base",
          "model_module_version": "1.2.0",
          "model_name": "LayoutModel",
          "state": {
            "_model_module": "@jupyter-widgets/base",
            "_model_module_version": "1.2.0",
            "_model_name": "LayoutModel",
            "_view_count": null,
            "_view_module": "@jupyter-widgets/base",
            "_view_module_version": "1.2.0",
            "_view_name": "LayoutView",
            "align_content": null,
            "align_items": null,
            "align_self": null,
            "border": null,
            "bottom": null,
            "display": null,
            "flex": null,
            "flex_flow": null,
            "grid_area": null,
            "grid_auto_columns": null,
            "grid_auto_flow": null,
            "grid_auto_rows": null,
            "grid_column": null,
            "grid_gap": null,
            "grid_row": null,
            "grid_template_areas": null,
            "grid_template_columns": null,
            "grid_template_rows": null,
            "height": null,
            "justify_content": null,
            "justify_items": null,
            "left": null,
            "margin": null,
            "max_height": null,
            "max_width": null,
            "min_height": null,
            "min_width": null,
            "object_fit": null,
            "object_position": null,
            "order": null,
            "overflow": null,
            "overflow_x": null,
            "overflow_y": null,
            "padding": null,
            "right": null,
            "top": null,
            "visibility": null,
            "width": null
          }
        },
        "e811ca70b17f49939d4a77e57878b435": {
          "model_module": "@jupyter-widgets/controls",
          "model_module_version": "1.5.0",
          "model_name": "FloatProgressModel",
          "state": {
            "_dom_classes": [],
            "_model_module": "@jupyter-widgets/controls",
            "_model_module_version": "1.5.0",
            "_model_name": "FloatProgressModel",
            "_view_count": null,
            "_view_module": "@jupyter-widgets/controls",
            "_view_module_version": "1.5.0",
            "_view_name": "ProgressView",
            "bar_style": "",
            "description": "",
            "description_tooltip": null,
            "layout": "IPY_MODEL_a75910c4fb164c6fbecbe2c9abf5b430",
            "max": 1,
            "min": 0,
            "orientation": "horizontal",
            "style": "IPY_MODEL_7a7b2fba7f90403bbe435e8b493f438d",
            "value": 1
          }
        },
        "ea024c7fd0f0420badd1616b494d76e1": {
          "model_module": "@jupyter-widgets/base",
          "model_module_version": "1.2.0",
          "model_name": "LayoutModel",
          "state": {
            "_model_module": "@jupyter-widgets/base",
            "_model_module_version": "1.2.0",
            "_model_name": "LayoutModel",
            "_view_count": null,
            "_view_module": "@jupyter-widgets/base",
            "_view_module_version": "1.2.0",
            "_view_name": "LayoutView",
            "align_content": null,
            "align_items": null,
            "align_self": null,
            "border": null,
            "bottom": null,
            "display": null,
            "flex": null,
            "flex_flow": null,
            "grid_area": null,
            "grid_auto_columns": null,
            "grid_auto_flow": null,
            "grid_auto_rows": null,
            "grid_column": null,
            "grid_gap": null,
            "grid_row": null,
            "grid_template_areas": null,
            "grid_template_columns": null,
            "grid_template_rows": null,
            "height": null,
            "justify_content": null,
            "justify_items": null,
            "left": null,
            "margin": null,
            "max_height": null,
            "max_width": null,
            "min_height": null,
            "min_width": null,
            "object_fit": null,
            "object_position": null,
            "order": null,
            "overflow": null,
            "overflow_x": null,
            "overflow_y": null,
            "padding": null,
            "right": null,
            "top": null,
            "visibility": null,
            "width": null
          }
        },
        "ee12ebab6ff1479eb2e90a7a081df4a3": {
          "model_module": "@jupyter-widgets/controls",
          "model_module_version": "1.5.0",
          "model_name": "ProgressStyleModel",
          "state": {
            "_model_module": "@jupyter-widgets/controls",
            "_model_module_version": "1.5.0",
            "_model_name": "ProgressStyleModel",
            "_view_count": null,
            "_view_module": "@jupyter-widgets/base",
            "_view_module_version": "1.2.0",
            "_view_name": "StyleView",
            "bar_color": null,
            "description_width": ""
          }
        },
        "f044611fa71841348c0b2252c57770c2": {
          "model_module": "@jupyter-widgets/controls",
          "model_module_version": "1.5.0",
          "model_name": "DescriptionStyleModel",
          "state": {
            "_model_module": "@jupyter-widgets/controls",
            "_model_module_version": "1.5.0",
            "_model_name": "DescriptionStyleModel",
            "_view_count": null,
            "_view_module": "@jupyter-widgets/base",
            "_view_module_version": "1.2.0",
            "_view_name": "StyleView",
            "description_width": ""
          }
        },
        "f6413913c3be4a4896563d813964f291": {
          "model_module": "@jupyter-widgets/base",
          "model_module_version": "1.2.0",
          "model_name": "LayoutModel",
          "state": {
            "_model_module": "@jupyter-widgets/base",
            "_model_module_version": "1.2.0",
            "_model_name": "LayoutModel",
            "_view_count": null,
            "_view_module": "@jupyter-widgets/base",
            "_view_module_version": "1.2.0",
            "_view_name": "LayoutView",
            "align_content": null,
            "align_items": null,
            "align_self": null,
            "border": null,
            "bottom": null,
            "display": null,
            "flex": null,
            "flex_flow": null,
            "grid_area": null,
            "grid_auto_columns": null,
            "grid_auto_flow": null,
            "grid_auto_rows": null,
            "grid_column": null,
            "grid_gap": null,
            "grid_row": null,
            "grid_template_areas": null,
            "grid_template_columns": null,
            "grid_template_rows": null,
            "height": null,
            "justify_content": null,
            "justify_items": null,
            "left": null,
            "margin": null,
            "max_height": null,
            "max_width": null,
            "min_height": null,
            "min_width": null,
            "object_fit": null,
            "object_position": null,
            "order": null,
            "overflow": null,
            "overflow_x": null,
            "overflow_y": null,
            "padding": null,
            "right": null,
            "top": null,
            "visibility": null,
            "width": null
          }
        },
        "f6bd71d08eeb4b49a7409ec4e686fb95": {
          "model_module": "@jupyter-widgets/base",
          "model_module_version": "1.2.0",
          "model_name": "LayoutModel",
          "state": {
            "_model_module": "@jupyter-widgets/base",
            "_model_module_version": "1.2.0",
            "_model_name": "LayoutModel",
            "_view_count": null,
            "_view_module": "@jupyter-widgets/base",
            "_view_module_version": "1.2.0",
            "_view_name": "LayoutView",
            "align_content": null,
            "align_items": null,
            "align_self": null,
            "border": null,
            "bottom": null,
            "display": null,
            "flex": null,
            "flex_flow": null,
            "grid_area": null,
            "grid_auto_columns": null,
            "grid_auto_flow": null,
            "grid_auto_rows": null,
            "grid_column": null,
            "grid_gap": null,
            "grid_row": null,
            "grid_template_areas": null,
            "grid_template_columns": null,
            "grid_template_rows": null,
            "height": null,
            "justify_content": null,
            "justify_items": null,
            "left": null,
            "margin": null,
            "max_height": null,
            "max_width": null,
            "min_height": null,
            "min_width": null,
            "object_fit": null,
            "object_position": null,
            "order": null,
            "overflow": null,
            "overflow_x": null,
            "overflow_y": null,
            "padding": null,
            "right": null,
            "top": null,
            "visibility": null,
            "width": null
          }
        },
        "fc7c5c6e21ff4849b08268b060271963": {
          "model_module": "@jupyter-widgets/controls",
          "model_module_version": "1.5.0",
          "model_name": "ProgressStyleModel",
          "state": {
            "_model_module": "@jupyter-widgets/controls",
            "_model_module_version": "1.5.0",
            "_model_name": "ProgressStyleModel",
            "_view_count": null,
            "_view_module": "@jupyter-widgets/base",
            "_view_module_version": "1.2.0",
            "_view_name": "StyleView",
            "bar_color": null,
            "description_width": ""
          }
        }
      }
    }
  },
  "nbformat": 4,
  "nbformat_minor": 0
}
