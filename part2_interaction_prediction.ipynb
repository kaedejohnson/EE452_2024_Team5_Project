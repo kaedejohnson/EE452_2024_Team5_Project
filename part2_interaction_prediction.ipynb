{
 "cells": [
  {
   "cell_type": "code",
   "execution_count": 16,
   "metadata": {},
   "outputs": [],
   "source": [
    "try:\n",
    "    from google.colab import drive\n",
    "    drive.mount(\"/content/drive\", force_remount = True)\n",
    "except:\n",
    "    pass"
   ]
  },
  {
   "cell_type": "code",
   "execution_count": 17,
   "metadata": {},
   "outputs": [],
   "source": [
    "import os\n",
    "try:\n",
    "    ROOT_PATH = \"/content/drive/MyDrive/EE452_2024_Team5_Project/\"  # Replace with your directory to A3 folder\n",
    "    print(os.listdir(ROOT_PATH)) # Check the content of the path\n",
    "    os.chdir(ROOT_PATH) # cd into directory\n",
    "    print(os.listdir(\".\")) # Check the content of current folder\n",
    "except:\n",
    "    pass"
   ]
  },
  {
   "cell_type": "code",
   "execution_count": 18,
   "metadata": {},
   "outputs": [],
   "source": [
    "from src.ngcf import NGCF\n",
    "import pandas as pd\n",
    "import torch\n",
    "import networkx as nx\n",
    "from sklearn.model_selection import train_test_split\n",
    "\n",
    "import json\n",
    "import os\n",
    "from time import time\n",
    "from datetime import datetime\n",
    "\n",
    "from src.ngcf_utils.load_data import Data\n",
    "from src.ngcf_utils.parser import parse_args\n",
    "from src.ngcf_utils.helper_functions import early_stopping,\\\n",
    "                                   train,\\\n",
    "                                   split_matrix,\\\n",
    "                                   compute_ndcg_k,\\\n",
    "                                   eval_model,\\\n",
    "                                   probability_matrix\n",
    "from src.ngcf import NGCF\n",
    "\n",
    "use_cuda = torch.cuda.is_available()\n",
    "device = torch.device(\"cuda\" if torch.cuda.is_available() else \"cpu\")"
   ]
  },
  {
   "cell_type": "markdown",
   "metadata": {},
   "source": [
    "# 2 Positive Interaction Prediction (Neural Graph Collaborative Filtering)"
   ]
  },
  {
   "cell_type": "code",
   "execution_count": 19,
   "metadata": {},
   "outputs": [],
   "source": [
    "ngcf_link_predictor_folder = \"data/ngcf_interaction_predictor/\""
   ]
  },
  {
   "cell_type": "code",
   "execution_count": 20,
   "metadata": {},
   "outputs": [
    {
     "name": "stdout",
     "output_type": "stream",
     "text": [
      "Requirement already satisfied: wandb in c:\\users\\hp\\anaconda3\\envs\\networkml\\lib\\site-packages (0.17.1)\n",
      "Requirement already satisfied: click!=8.0.0,>=7.1 in c:\\users\\hp\\anaconda3\\envs\\networkml\\lib\\site-packages (from wandb) (8.1.7)\n",
      "Requirement already satisfied: docker-pycreds>=0.4.0 in c:\\users\\hp\\anaconda3\\envs\\networkml\\lib\\site-packages (from wandb) (0.4.0)\n",
      "Requirement already satisfied: gitpython!=3.1.29,>=1.0.0 in c:\\users\\hp\\anaconda3\\envs\\networkml\\lib\\site-packages (from wandb) (3.1.43)\n",
      "Requirement already satisfied: platformdirs in c:\\users\\hp\\anaconda3\\envs\\networkml\\lib\\site-packages (from wandb) (4.2.2)\n",
      "Requirement already satisfied: protobuf!=4.21.0,<6,>=3.19.0 in c:\\users\\hp\\anaconda3\\envs\\networkml\\lib\\site-packages (from wandb) (5.27.1)\n",
      "Requirement already satisfied: psutil>=5.0.0 in c:\\users\\hp\\anaconda3\\envs\\networkml\\lib\\site-packages (from wandb) (5.9.0)\n",
      "Requirement already satisfied: pyyaml in c:\\users\\hp\\anaconda3\\envs\\networkml\\lib\\site-packages (from wandb) (6.0.1)\n",
      "Requirement already satisfied: requests<3,>=2.0.0 in c:\\users\\hp\\anaconda3\\envs\\networkml\\lib\\site-packages (from wandb) (2.31.0)\n",
      "Requirement already satisfied: sentry-sdk>=1.0.0 in c:\\users\\hp\\anaconda3\\envs\\networkml\\lib\\site-packages (from wandb) (2.5.0)\n",
      "Requirement already satisfied: setproctitle in c:\\users\\hp\\anaconda3\\envs\\networkml\\lib\\site-packages (from wandb) (1.3.3)\n",
      "Requirement already satisfied: setuptools in c:\\users\\hp\\anaconda3\\envs\\networkml\\lib\\site-packages (from wandb) (68.2.2)\n",
      "Requirement already satisfied: typing-extensions in c:\\users\\hp\\anaconda3\\envs\\networkml\\lib\\site-packages (from wandb) (4.11.0)\n",
      "Requirement already satisfied: colorama in c:\\users\\hp\\anaconda3\\envs\\networkml\\lib\\site-packages (from click!=8.0.0,>=7.1->wandb) (0.4.6)\n",
      "Requirement already satisfied: six>=1.4.0 in c:\\users\\hp\\anaconda3\\envs\\networkml\\lib\\site-packages (from docker-pycreds>=0.4.0->wandb) (1.16.0)\n",
      "Requirement already satisfied: gitdb<5,>=4.0.1 in c:\\users\\hp\\anaconda3\\envs\\networkml\\lib\\site-packages (from gitpython!=3.1.29,>=1.0.0->wandb) (4.0.11)\n",
      "Requirement already satisfied: charset-normalizer<4,>=2 in c:\\users\\hp\\anaconda3\\envs\\networkml\\lib\\site-packages (from requests<3,>=2.0.0->wandb) (3.3.2)\n",
      "Requirement already satisfied: idna<4,>=2.5 in c:\\users\\hp\\anaconda3\\envs\\networkml\\lib\\site-packages (from requests<3,>=2.0.0->wandb) (3.7)\n",
      "Requirement already satisfied: urllib3<3,>=1.21.1 in c:\\users\\hp\\anaconda3\\envs\\networkml\\lib\\site-packages (from requests<3,>=2.0.0->wandb) (2.2.1)\n",
      "Requirement already satisfied: certifi>=2017.4.17 in c:\\users\\hp\\anaconda3\\envs\\networkml\\lib\\site-packages (from requests<3,>=2.0.0->wandb) (2024.2.2)\n",
      "Requirement already satisfied: smmap<6,>=3.0.1 in c:\\users\\hp\\anaconda3\\envs\\networkml\\lib\\site-packages (from gitdb<5,>=4.0.1->gitpython!=3.1.29,>=1.0.0->wandb) (5.0.1)\n"
     ]
    }
   ],
   "source": [
    "!pip install --upgrade wandb"
   ]
  },
  {
   "cell_type": "code",
   "execution_count": 21,
   "metadata": {},
   "outputs": [],
   "source": [
    "import wandb\n",
    "\n",
    "try:\n",
    "    from google.colab import userdata\n",
    "    wandbkey = userdata.get('WANDB_KEY')\n",
    "except:\n",
    "    pass\n",
    "\n",
    "try:\n",
    "    wandb.finish()\n",
    "except:\n",
    "    pass\n",
    "\n",
    "try:\n",
    "    wandb.login(key=wandbkey)\n",
    "except:\n",
    "    wandb.login()"
   ]
  },
  {
   "cell_type": "markdown",
   "metadata": {},
   "source": [
    "### 2a Define train functions"
   ]
  },
  {
   "cell_type": "code",
   "execution_count": 22,
   "metadata": {},
   "outputs": [],
   "source": [
    "def prep_data(to_reads):\n",
    "    # load in graph\n",
    "    if to_reads == True:\n",
    "        train_graph = nx.read_graphml(\"data/bipartite_sample_train_wtr.graphml\")\n",
    "        test_graph = nx.read_graphml(\"data/bipartite_sample_test_wtr.graphml\")\n",
    "    else:\n",
    "        train_graph = nx.read_graphml(\"data/bipartite_sample_train.graphml\")\n",
    "        test_graph = nx.read_graphml(\"data/bipartite_sample_test.graphml\")\n",
    "\n",
    "    combined_graph = nx.compose(train_graph, test_graph)\n",
    "    # create node name to index mapping\n",
    "    ## based on codebase for NGCF, indices for both sets start at 0!\n",
    "    user_nodes = {node for node, node_type in combined_graph.nodes(data=True) if node_type['node_type'] == 'user'}\n",
    "    book_nodes = {book for book, node_type in combined_graph.nodes(data=True) if node_type['node_type'] == 'book'}\n",
    "    book_to_idx_map = {node: i for i, node in enumerate(book_nodes)}\n",
    "    user_to_idx_map = {node: i for i, node in enumerate(user_nodes)}\n",
    "    with open(ngcf_link_predictor_folder + 'book_to_idx_map.json', 'w') as json_file:\n",
    "        json.dump(book_to_idx_map, json_file, indent=4)\n",
    "    with open(ngcf_link_predictor_folder + 'user_to_idx_map.json', 'w') as json_file:\n",
    "        json.dump(user_to_idx_map, json_file, indent=4)\n",
    "    user_count = len(user_to_idx_map.keys()) # used in wandb naming below\n",
    "    book_count = len(book_to_idx_map.keys()) # used in wandb naming below\n",
    "\n",
    "    # save train and test in format suited for NGCF codebase\n",
    "    def save_graph_edges_to_txt(G, filename):\n",
    "        with open(filename, 'w') as file:\n",
    "            for node, data in G.nodes(data=True):\n",
    "                if data['node_type'] == 'user':\n",
    "                    user_node = node # just to make following commands clearer\n",
    "                    neighbors = list(G.neighbors(user_node))\n",
    "                    user_node_remapped = user_to_idx_map[user_node]\n",
    "                    line = f\"{user_node_remapped} \" + \" \".join(map(str, [book_to_idx_map[neighbor] for neighbor in neighbors]))\n",
    "                    file.write(line + '\\n')\n",
    "    save_graph_edges_to_txt(train_graph, ngcf_link_predictor_folder + \"ngcf_train.txt\")\n",
    "    save_graph_edges_to_txt(test_graph, ngcf_link_predictor_folder + \"ngcf_test.txt\")\n",
    "    return user_count, book_count, user_to_idx_map, book_to_idx_map"
   ]
  },
  {
   "cell_type": "code",
   "execution_count": 23,
   "metadata": {},
   "outputs": [],
   "source": [
    "def init_wandb(loss, to_reads, prob_cutoff, pos_weight, batch_size, layers, emb_dim, lr, reg, mess_dropout, node_dropout, user_count, book_count, k, n_epochs):\n",
    "    # create model name\n",
    "    modelname =  \"LP_\" + \\\n",
    "        \"_loss_\" + str(loss) + \\\n",
    "        \"_tr_\" + str(to_reads) + \\\n",
    "        \"_pcutoff_\" + str(prob_cutoff) + \\\n",
    "        \"_poswght_\" + str(pos_weight) + \\\n",
    "        \"_bs_\" + str(batch_size) + \\\n",
    "        \"_layers_\" + str(layers) + \\\n",
    "        \"_nemb_\" + str(emb_dim) + \\\n",
    "        \"_lr_\"  + str(lr) + \\\n",
    "        \"_reg_\" + str(reg) + \\\n",
    "        \"_messdr_\" + str(mess_dropout) + \\\n",
    "        \"_nodedr_\" + str(node_dropout) + \\\n",
    "        \"_ucount_\" + str(user_count) + \\\n",
    "        \"_bcount_\" + str(book_count)\n",
    "\n",
    "    # set wandb init\n",
    "    wandb.init(\n",
    "        \n",
    "        # set the wandb project where this run will be logged\n",
    "        project=\"nml_project\",\n",
    "\n",
    "        # name run\n",
    "        name=modelname,\n",
    "        \n",
    "        # track hyperparameters and run metadata\n",
    "        config={\n",
    "        \"architecture\": \"NGCF\",\n",
    "        \"loss\": str(loss),\n",
    "        \"tr\": str(to_reads),\n",
    "        \"pcutoff\": str(prob_cutoff),\n",
    "        \"batch_size\": batch_size,\n",
    "        \"layers\": layers,\n",
    "        \"emb_dim\": emb_dim,\n",
    "        \"lr\": lr,\n",
    "        \"reg\": reg,\n",
    "        \"mess_dropout\": mess_dropout,\n",
    "        \"node_dropout\": node_dropout,\n",
    "        \"user_count\": user_count,\n",
    "        \"book_count\": book_count,\n",
    "        \"k\": k,\n",
    "        \"epochs\": n_epochs,\n",
    "        }\n",
    "    )\n",
    "\n",
    "    return modelname"
   ]
  },
  {
   "cell_type": "code",
   "execution_count": 24,
   "metadata": {},
   "outputs": [],
   "source": [
    "def train_interaction_predictor(loss_name, prob_cutoff, pos_weight, batch_size, layers, emb_dim, lr, reg, mess_dropout, node_dropout, user_count, book_count, k, n_epochs, eval_N, save_results, modelname):\n",
    "    \n",
    "    # generate the NGCF-adjacency matrix\n",
    "    data_generator = Data(path=ngcf_link_predictor_folder, batch_size=batch_size)\n",
    "    adj_mtx = data_generator.get_adj_mat()\n",
    "\n",
    "    # create NGCF model\n",
    "    model = NGCF(user_count, \n",
    "                    book_count,\n",
    "                    emb_dim,\n",
    "                    layers,\n",
    "                    reg,\n",
    "                    node_dropout,\n",
    "                    mess_dropout,\n",
    "                    adj_mtx,\n",
    "                    pos_weight,\n",
    "                    prob_cutoff,\n",
    "                    loss_name)\n",
    "    if use_cuda:\n",
    "        model = model.cuda()\n",
    "\n",
    "    # current best metric\n",
    "    cur_best_metric = 0\n",
    "\n",
    "    # Adam optimizer\n",
    "    optimizer = torch.optim.Adam(model.parameters(), lr=lr)\n",
    "\n",
    "    # Set values for early stopping\n",
    "    cur_best_loss, stopping_step, should_stop = 1e3, 0, False\n",
    "    today = datetime.now()\n",
    "\n",
    "    results = {\"Epoch\": [],\n",
    "                \"Loss\": [],\n",
    "                \"Recall\": [],\n",
    "                \"NDCG\": [],\n",
    "                \"Training Time\": []}\n",
    "\n",
    "    for epoch in range(n_epochs):\n",
    "\n",
    "        t1 = time()\n",
    "        loss = train(model, data_generator, optimizer)\n",
    "        training_time = time()-t1\n",
    "        print(\"Epoch: {}, Training time: {:.2f}s, Loss: {:.4f}\".\n",
    "            format(epoch, training_time, loss))\n",
    "\n",
    "        wandb.log({\"training_loss\": loss})\n",
    "        \n",
    "        # print test evaluation metrics every N epochs (provided by eval_N)\n",
    "        if epoch % eval_N  == (eval_N - 1):\n",
    "            with torch.no_grad():\n",
    "                t2 = time()\n",
    "                recall, ndcg = eval_model(model.u_g_embeddings.detach().to(device),\n",
    "                                            model.i_g_embeddings.detach().to(device),\n",
    "                                            data_generator.R_train,\n",
    "                                            data_generator.R_test,\n",
    "                                            k,\n",
    "                                            device)\n",
    "            #print(\n",
    "            #    \"Evaluate current model:\\n\",\n",
    "            #    \"Epoch: {}, Validation time: {:.2f}s\".format(epoch, time()-t2),\"\\n\",\n",
    "            #    \"Loss: {:.4f}:\".format(loss), \"\\n\",\n",
    "            #    \"Recall@{}: {:.4f}\".format(k, recall), \"\\n\",\n",
    "            #    \"NDCG@{}: {:.4f}\".format(k, ndcg)\n",
    "            #    )\n",
    "\n",
    "            cur_best_metric, stopping_step, should_stop = \\\n",
    "            early_stopping(recall, cur_best_metric, stopping_step, flag_step=5)\n",
    "\n",
    "            # save results in dict\n",
    "            results['Epoch'].append(epoch)\n",
    "            results['Loss'].append(loss)\n",
    "            results['Recall'].append(recall.item())\n",
    "            results['NDCG'].append(ndcg.item())\n",
    "            results['Training Time'].append(training_time)\n",
    "\n",
    "            p_mat, test_recall, test_precision, test_f1_score = probability_matrix(model.u_g_embeddings.detach().to(device),\n",
    "                                            model.i_g_embeddings.detach().to(device),\n",
    "                                            data_generator.R_train,\n",
    "                                            data_generator.R_test,\n",
    "                                            device)\n",
    "            \n",
    "            wandb.log({f\"test_recall\": test_recall, f\"test_precision\": test_precision, f\"test_f1_score\": test_f1_score, f\"rec_{k}\": recall.item(), f\"ndcg_{k}\": ndcg.item()})       \n",
    "\n",
    "        else:\n",
    "            # save results in dict\n",
    "            results['Epoch'].append(epoch)\n",
    "            results['Loss'].append(loss)\n",
    "            results['Recall'].append(None)\n",
    "            results['NDCG'].append(None)\n",
    "            results['Training Time'].append(training_time)\n",
    "\n",
    "        if should_stop == True: break\n",
    "\n",
    "    wandb.finish()\n",
    "\n",
    "    # save\n",
    "    if save_results:\n",
    "        date = today.strftime(\"%d%m%Y_%H%M\")\n",
    "\n",
    "        # save model as .pt file\n",
    "        if os.path.isdir(ngcf_link_predictor_folder + \"/models\"):\n",
    "            torch.save(model.state_dict(), ngcf_link_predictor_folder + \"/models\" + str(date) + \"_\" + modelname + \".pt\")\n",
    "        else:\n",
    "            os.mkdir(ngcf_link_predictor_folder + \"/models\")\n",
    "            torch.save(model.state_dict(), ngcf_link_predictor_folder + \"/models\" + str(date) + \"_\" + modelname + \".pt\")\n",
    "\n",
    "        # save results as pandas dataframe\n",
    "        results_df = pd.DataFrame(results)\n",
    "        results_df.set_index('Epoch', inplace=True)\n",
    "        if os.path.isdir(ngcf_link_predictor_folder + \"/results\"):\n",
    "            results_df.to_csv(ngcf_link_predictor_folder + \"/results\" + str(date) + \"_\" + modelname + \".csv\")\n",
    "        else:\n",
    "            os.mkdir(ngcf_link_predictor_folder + \"/results\")\n",
    "            results_df.to_csv(ngcf_link_predictor_folder + \"/results\" + str(date) + \"_\" + modelname + \".csv\")\n",
    "        # plot loss\n",
    "        results_df['Loss'].plot(figsize=(12,8), title='Loss')"
   ]
  },
  {
   "cell_type": "markdown",
   "metadata": {},
   "source": [
    "### 2b) Train!"
   ]
  },
  {
   "cell_type": "markdown",
   "metadata": {},
   "source": [
    "#### 2bi) BCE loss, to_reads"
   ]
  },
  {
   "cell_type": "code",
   "execution_count": 25,
   "metadata": {},
   "outputs": [],
   "source": [
    "# custom\n",
    "loss_name = 'bce' # 'bpr' or 'bce'\n",
    "to_reads = True # True or False\n",
    "prob_cutoff = .90 # threshold above which a positive interaction is predicted to occur\n",
    "pos_weight = 1 # weight for positive class in BCE loss (helps for imbalanced data). 1 = no reweighting\n",
    "\n",
    "# standard\n",
    "batch_size = 16\n",
    "layers = [16, 32]\n",
    "emb_dim = 52\n",
    "lr = 0.015\n",
    "reg = 0.005\n",
    "mess_dropout = 0.01\n",
    "node_dropout = 0.01\n",
    "k = 20\n",
    "n_epochs = 40\n",
    "save_results = True\n",
    "eval_N = 4 # how often to print eval results"
   ]
  },
  {
   "cell_type": "code",
   "execution_count": 26,
   "metadata": {},
   "outputs": [],
   "source": [
    "# create adjacency matrix from graph\n",
    "user_count, book_count, user_to_idx_map, book_to_idx_map = prep_data(to_reads)"
   ]
  },
  {
   "cell_type": "code",
   "execution_count": 28,
   "metadata": {},
   "outputs": [
    {
     "data": {
      "text/html": [
       "Tracking run with wandb version 0.17.1"
      ],
      "text/plain": [
       "<IPython.core.display.HTML object>"
      ]
     },
     "metadata": {},
     "output_type": "display_data"
    },
    {
     "data": {
      "text/html": [
       "Run data is saved locally in <code>c:\\Users\\HP\\Documents\\GitHub\\EE452_2024_Team5_Project\\wandb\\run-20240610_003719-yohjtpq9</code>"
      ],
      "text/plain": [
       "<IPython.core.display.HTML object>"
      ]
     },
     "metadata": {},
     "output_type": "display_data"
    },
    {
     "data": {
      "text/html": [
       "Syncing run <strong><a href='https://wandb.ai/hans-kvaerum/nml_project/runs/yohjtpq9' target=\"_blank\">LP__loss_bce_tr_True_pcutoff_0.9_poswght_1_bs_16_layers_[16, 32]_nemb_52_lr_0.015_reg_0.005_messdr_0.01_nodedr_0.01_ucount_1000_bcount_500</a></strong> to <a href='https://wandb.ai/hans-kvaerum/nml_project' target=\"_blank\">Weights & Biases</a> (<a href='https://wandb.me/run' target=\"_blank\">docs</a>)<br/>"
      ],
      "text/plain": [
       "<IPython.core.display.HTML object>"
      ]
     },
     "metadata": {},
     "output_type": "display_data"
    },
    {
     "data": {
      "text/html": [
       " View project at <a href='https://wandb.ai/hans-kvaerum/nml_project' target=\"_blank\">https://wandb.ai/hans-kvaerum/nml_project</a>"
      ],
      "text/plain": [
       "<IPython.core.display.HTML object>"
      ]
     },
     "metadata": {},
     "output_type": "display_data"
    },
    {
     "data": {
      "text/html": [
       " View run at <a href='https://wandb.ai/hans-kvaerum/nml_project/runs/yohjtpq9' target=\"_blank\">https://wandb.ai/hans-kvaerum/nml_project/runs/yohjtpq9</a>"
      ],
      "text/plain": [
       "<IPython.core.display.HTML object>"
      ]
     },
     "metadata": {},
     "output_type": "display_data"
    },
    {
     "name": "stdout",
     "output_type": "stream",
     "text": [
      "n_users=1000, n_items=500\n",
      "n_interactions=33787\n",
      "n_train=23188, n_test=10599, sparsity=0.06757\n",
      "Creating interaction matrices R_train and R_test...\n",
      "Complete. Interaction matrices R_train and R_test created in 0.4469785690307617 sec\n",
      "Creating adjacency-matrix...\n",
      "Complete. Adjacency-matrix created in (1500, 1500) 0.1782395839691162 sec.\n",
      "Transforming adjacency-matrix to NGCF-adjacency matrix...\n"
     ]
    },
    {
     "name": "stderr",
     "output_type": "stream",
     "text": [
      "c:\\Users\\HP\\Documents\\GitHub\\EE452_2024_Team5_Project\\src\\ngcf_utils\\load_data.py:131: RuntimeWarning: divide by zero encountered in power\n",
      "  d_inv = np.power(rowsum, -.5).flatten()\n"
     ]
    },
    {
     "name": "stdout",
     "output_type": "stream",
     "text": [
      "Complete. Transformed adjacency-matrix to NGCF-adjacency matrix in 0.043617963790893555 sec.\n",
      "Initializing weights...\n",
      "Weights initialized.\n"
     ]
    },
    {
     "name": "stderr",
     "output_type": "stream",
     "text": [
      "100%|██████████| 1450/1450 [02:38<00:00,  9.12it/s]\n"
     ]
    },
    {
     "name": "stdout",
     "output_type": "stream",
     "text": [
      "Epoch: 0, Training time: 159.00s, Loss: 1006.8404\n",
      "Counter({1.0: 10599})\n",
      "30744 2723 10599 (1000, 500) torch.Size([1000, 100]) torch.Size([500, 100]) (1000, 500)\n"
     ]
    },
    {
     "name": "stderr",
     "output_type": "stream",
     "text": [
      "100%|██████████| 1450/1450 [03:05<00:00,  7.82it/s]\n"
     ]
    },
    {
     "name": "stdout",
     "output_type": "stream",
     "text": [
      "Epoch: 1, Training time: 185.33s, Loss: 874.6456\n",
      "Counter({1.0: 10599})\n",
      "32040 3124 10599 (1000, 500) torch.Size([1000, 100]) torch.Size([500, 100]) (1000, 500)\n"
     ]
    },
    {
     "name": "stderr",
     "output_type": "stream",
     "text": [
      "100%|██████████| 1450/1450 [03:00<00:00,  8.01it/s]\n"
     ]
    },
    {
     "name": "stdout",
     "output_type": "stream",
     "text": [
      "Epoch: 2, Training time: 180.93s, Loss: 835.7643\n",
      "Counter({1.0: 10599})\n",
      "28714 2956 10599 (1000, 500) torch.Size([1000, 100]) torch.Size([500, 100]) (1000, 500)\n"
     ]
    },
    {
     "name": "stderr",
     "output_type": "stream",
     "text": [
      "100%|██████████| 1450/1450 [03:17<00:00,  7.34it/s]\n"
     ]
    },
    {
     "name": "stdout",
     "output_type": "stream",
     "text": [
      "Epoch: 3, Training time: 197.46s, Loss: 827.8410\n",
      "Counter({1.0: 10599})\n",
      "29580 3112 10599 (1000, 500) torch.Size([1000, 100]) torch.Size([500, 100]) (1000, 500)\n"
     ]
    },
    {
     "name": "stderr",
     "output_type": "stream",
     "text": [
      "100%|██████████| 1450/1450 [03:05<00:00,  7.83it/s]\n"
     ]
    },
    {
     "name": "stdout",
     "output_type": "stream",
     "text": [
      "Epoch: 4, Training time: 185.12s, Loss: 801.5474\n",
      "Counter({1.0: 10599})\n",
      "29548 3233 10599 (1000, 500) torch.Size([1000, 100]) torch.Size([500, 100]) (1000, 500)\n"
     ]
    },
    {
     "data": {
      "text/html": [
       "<style>\n",
       "    table.wandb td:nth-child(1) { padding: 0 10px; text-align: left ; width: auto;} td:nth-child(2) {text-align: left ; width: 100%}\n",
       "    .wandb-row { display: flex; flex-direction: row; flex-wrap: wrap; justify-content: flex-start; width: 100% }\n",
       "    .wandb-col { display: flex; flex-direction: column; flex-basis: 100%; flex: 1; padding: 10px; }\n",
       "    </style>\n",
       "<div class=\"wandb-row\"><div class=\"wandb-col\"><h3>Run history:</h3><br/><table class=\"wandb\"><tr><td>ndcg_20</td><td>▁▅▇▇█</td></tr><tr><td>rec_20</td><td>▁▅▆▇█</td></tr><tr><td>test_f1_score</td><td>▁▅▅▇█</td></tr><tr><td>test_precision</td><td>▁▄▆▇█</td></tr><tr><td>test_recall</td><td>▁▇▄▆█</td></tr><tr><td>training_loss</td><td>█▃▂▂▁</td></tr></table><br/></div><div class=\"wandb-col\"><h3>Run summary:</h3><br/><table class=\"wandb\"><tr><td>ndcg_20</td><td>0.45055</td></tr><tr><td>rec_20</td><td>0.2312</td></tr><tr><td>test_f1_score</td><td>0.16106</td></tr><tr><td>test_precision</td><td>0.10942</td></tr><tr><td>test_recall</td><td>0.30503</td></tr><tr><td>training_loss</td><td>801.54736</td></tr></table><br/></div></div>"
      ],
      "text/plain": [
       "<IPython.core.display.HTML object>"
      ]
     },
     "metadata": {},
     "output_type": "display_data"
    },
    {
     "data": {
      "text/html": [
       " View run <strong style=\"color:#cdcd00\">LP__loss_bce_tr_True_pcutoff_0.9_poswght_1_bs_16_layers_[16, 32]_nemb_52_lr_0.015_reg_0.005_messdr_0.01_nodedr_0.01_ucount_1000_bcount_500</strong> at: <a href='https://wandb.ai/hans-kvaerum/nml_project/runs/yohjtpq9' target=\"_blank\">https://wandb.ai/hans-kvaerum/nml_project/runs/yohjtpq9</a><br/> View project at: <a href='https://wandb.ai/hans-kvaerum/nml_project' target=\"_blank\">https://wandb.ai/hans-kvaerum/nml_project</a><br/>Synced 5 W&B file(s), 0 media file(s), 0 artifact file(s) and 0 other file(s)"
      ],
      "text/plain": [
       "<IPython.core.display.HTML object>"
      ]
     },
     "metadata": {},
     "output_type": "display_data"
    },
    {
     "data": {
      "text/html": [
       "Find logs at: <code>.\\wandb\\run-20240610_003719-yohjtpq9\\logs</code>"
      ],
      "text/plain": [
       "<IPython.core.display.HTML object>"
      ]
     },
     "metadata": {},
     "output_type": "display_data"
    },
    {
     "data": {
      "image/png": "[encoded data removed]",
      "text/plain": [
       "<Figure size 1200x800 with 1 Axes>"
      ]
     },
     "metadata": {},
     "output_type": "display_data"
    }
   ],
   "source": [
    "# start wandb run\n",
    "model_name = init_wandb(loss_name, to_reads, prob_cutoff, pos_weight, batch_size, layers, emb_dim, lr, reg, mess_dropout, node_dropout, user_count, book_count, k, n_epochs)\n",
    "\n",
    "# train the model and output results\n",
    "train_interaction_predictor(loss_name, prob_cutoff, pos_weight, batch_size, layers, emb_dim, lr, reg, mess_dropout, node_dropout, user_count, book_count, k, n_epochs, eval_N, save_results, model_name)"
   ]
  },
  {
   "cell_type": "markdown",
   "metadata": {},
   "source": [
    "#### 2bii) BPR loss, to_reads"
   ]
  },
  {
   "cell_type": "code",
   "execution_count": null,
   "metadata": {},
   "outputs": [],
   "source": [
    "loss_name = 'bpr'\n",
    "\n",
    "# start wandb run\n",
    "model_name = init_wandb(loss_name, to_reads, prob_cutoff, pos_weight, batch_size, layers, emb_dim, lr, reg, mess_dropout, node_dropout, user_count, book_count, k, n_epochs)\n",
    "\n",
    "# train the model and output results\n",
    "train_interaction_predictor(loss_name, prob_cutoff, pos_weight, batch_size, layers, emb_dim, lr, reg, mess_dropout, node_dropout, user_count, book_count, k, n_epochs, eval_N, save_results, model_name)"
   ]
  },
  {
   "cell_type": "markdown",
   "metadata": {},
   "source": [
    "#### 2biii) BCE loss, no to_reads"
   ]
  },
  {
   "cell_type": "code",
   "execution_count": null,
   "metadata": {},
   "outputs": [],
   "source": [
    "loss_name = 'bce'\n",
    "to_reads = False\n",
    "\n",
    "# create adjacency matrix from graph\n",
    "user_count, book_count, user_to_idx_map, book_to_idx_map = prep_data(to_reads)\n",
    "\n",
    "# start wandb run\n",
    "model_name = init_wandb(loss_name, to_reads, prob_cutoff, pos_weight, batch_size, layers, emb_dim, lr, reg, mess_dropout, node_dropout, user_count, book_count, k, n_epochs)\n",
    "\n",
    "# train the model and output results\n",
    "train_interaction_predictor(loss_name, prob_cutoff, pos_weight, batch_size, layers, emb_dim, lr, reg, mess_dropout, node_dropout, user_count, book_count, k, n_epochs, eval_N, save_results, model_name)"
   ]
  },
  {
   "cell_type": "markdown",
   "metadata": {},
   "source": [
    "#### 2biv) BPR loss, no to_reads"
   ]
  },
  {
   "cell_type": "code",
   "execution_count": null,
   "metadata": {},
   "outputs": [],
   "source": [
    "loss_name = 'bpr'\n",
    "\n",
    "# start wandb run\n",
    "model_name = init_wandb(loss_name, to_reads, prob_cutoff, pos_weight, batch_size, layers, emb_dim, lr, reg, mess_dropout, node_dropout, user_count, book_count, k, n_epochs)\n",
    "\n",
    "# train the model and output results\n",
    "train_interaction_predictor(loss_name, prob_cutoff, pos_weight, batch_size, layers, emb_dim, lr, reg, mess_dropout, node_dropout, user_count, book_count, k, n_epochs, eval_N, save_results, model_name)"
   ]
  }
 ],
 "metadata": {
  "kernelspec": {
   "display_name": "networkml",
   "language": "python",
   "name": "python3"
  },
  "language_info": {
   "codemirror_mode": {
    "name": "ipython",
    "version": 3
   },
   "file_extension": ".py",
   "mimetype": "text/x-python",
   "name": "python",
   "nbconvert_exporter": "python",
   "pygments_lexer": "ipython3",
   "version": "3.9.19"
  }
 },
 "nbformat": 4,
 "nbformat_minor": 2
}
