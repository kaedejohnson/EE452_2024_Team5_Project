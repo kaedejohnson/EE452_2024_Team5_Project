{
 "cells": [
  {
   "cell_type": "code",
   "execution_count": 16,
   "metadata": {},
   "outputs": [],
   "source": [
    "import torch\n",
    "use_cuda = torch.cuda.is_available()\n",
    "device = torch.device(\"cuda\" if torch.cuda.is_available() else \"cpu\")"
   ]
  },
  {
   "cell_type": "markdown",
   "metadata": {},
   "source": [
    "Select user"
   ]
  },
  {
   "cell_type": "code",
   "execution_count": 17,
   "metadata": {},
   "outputs": [],
   "source": [
    "user_id = 'u_47468' # options are 'u_' + any node number in the sample graph\n",
    "num_suggestions = 20"
   ]
  },
  {
   "cell_type": "markdown",
   "metadata": {},
   "source": [
    "Select final models"
   ]
  },
  {
   "cell_type": "code",
   "execution_count": 18,
   "metadata": {},
   "outputs": [],
   "source": [
    "int_pred_model = 'models/models09062024_2308_LP__loss_bce_tr_True_pcutoff_0.9_poswght_1_bs_16_layers_[16, 32]_nemb_52_lr_0.015_reg_0.005_messdr_0.01_nodedr_0.01_ucount_1000_bcount_500.pt'\n",
    "scor_class_mdoel = ''"
   ]
  },
  {
   "cell_type": "markdown",
   "metadata": {},
   "source": [
    "Interaction Prediction"
   ]
  },
  {
   "cell_type": "code",
   "execution_count": 19,
   "metadata": {},
   "outputs": [],
   "source": [
    "from src.ngcf import NGCF\n",
    "from src.ngcf_utils.load_data import Data\n",
    "import networkx as nx\n",
    "import json\n",
    "import tqdm\n",
    "ngcf_link_predictor_folder = \"data/ngcf_interaction_predictor/\""
   ]
  },
  {
   "cell_type": "code",
   "execution_count": 20,
   "metadata": {},
   "outputs": [
    {
     "name": "stdout",
     "output_type": "stream",
     "text": [
      "n_users=1000, n_items=500\n",
      "n_interactions=33787\n",
      "n_train=23188, n_test=10599, sparsity=0.06757\n",
      "Creating interaction matrices R_train and R_test...\n",
      "Complete. Interaction matrices R_train and R_test created in 0.4000983238220215 sec\n",
      "Creating adjacency-matrix...\n",
      "Complete. Adjacency-matrix created in (1500, 1500) 0.0695035457611084 sec.\n",
      "Transforming adjacency-matrix to NGCF-adjacency matrix...\n",
      "Complete. Transformed adjacency-matrix to NGCF-adjacency matrix in 0.03026270866394043 sec.\n"
     ]
    },
    {
     "name": "stderr",
     "output_type": "stream",
     "text": [
      "c:\\Users\\HP\\Documents\\GitHub\\EE452_2024_Team5_Project\\src\\ngcf_utils\\load_data.py:131: RuntimeWarning: divide by zero encountered in power\n",
      "  d_inv = np.power(rowsum, -.5).flatten()\n"
     ]
    },
    {
     "name": "stdout",
     "output_type": "stream",
     "text": [
      "Initializing weights...\n",
      "Weights initialized.\n"
     ]
    },
    {
     "name": "stderr",
     "output_type": "stream",
     "text": [
      "100%|██████████| 500/500 [00:25<00:00, 19.77it/s]\n"
     ]
    }
   ],
   "source": [
    "# hyperparams from chosen model\n",
    "loss_name = 'inference'\n",
    "to_reads = True\n",
    "prob_cutoff = .90\n",
    "pos_weight = 1 \n",
    "batch_size = 16\n",
    "layers = [16, 32]\n",
    "emb_dim = 52\n",
    "reg = 0.005\n",
    "mess_dropout = 0.01\n",
    "node_dropout = 0.01\n",
    "\n",
    "# generate the NGCF-adjacency matrix\n",
    "data_generator = Data(path=ngcf_link_predictor_folder, batch_size=batch_size)\n",
    "adj_mtx = data_generator.get_adj_mat()\n",
    "\n",
    "# pull in idx dictionaries and user + book counts\n",
    "if to_reads == True:\n",
    "    train_graph = nx.read_graphml(\"data/bipartite_sample_train_wtr.graphml\")\n",
    "    test_graph = nx.read_graphml(\"data/bipartite_sample_test_wtr.graphml\")\n",
    "else:\n",
    "    train_graph = nx.read_graphml(\"data/bipartite_sample_train.graphml\")\n",
    "    test_graph = nx.read_graphml(\"data/bipartite_sample_test.graphml\")\n",
    "with open(ngcf_link_predictor_folder + 'book_to_idx_map.json', \"r\") as json_file:\n",
    "    book_to_idx_map = json.load(json_file)\n",
    "with open(ngcf_link_predictor_folder + 'user_to_idx_map.json', \"r\") as json_file:\n",
    "    user_to_idx_map = json.load(json_file)\n",
    "user_count = len(user_to_idx_map.keys())\n",
    "book_count = len(book_to_idx_map.keys())\n",
    "idx_to_book_map = {idx: book_id for book_id, idx in book_to_idx_map.items()}\n",
    "\n",
    "# Load NGCF model and pretrained embeddings\n",
    "ngcf_model = NGCF(user_count, book_count, emb_dim, layers, reg, node_dropout, mess_dropout,\n",
    "                  adj_mtx, pos_weight, prob_cutoff, loss_name)\n",
    "checkpoint_path = ngcf_link_predictor_folder + int_pred_model\n",
    "checkpoint = torch.load(checkpoint_path, map_location=torch.device(device))\n",
    "ngcf_model.load_state_dict(checkpoint, strict=False)\n",
    "ngcf_model.eval()\n",
    "\n",
    "# perform inference for a given user\n",
    "u_idx = user_to_idx_map[user_id]\n",
    "u_idx = torch.LongTensor([u_idx]).to(device)\n",
    "\n",
    "interaction_prediction_dict = {}\n",
    "for i_idx in tqdm.tqdm(range(book_count)):\n",
    "    i_idx = torch.LongTensor([i_idx]) #.to(device)\n",
    "    # Forward pass through the model\n",
    "    with torch.no_grad():\n",
    "        score = ngcf_model(u_idx, i_idx, i_idx)\n",
    "    # Convert score to probability (if needed)\n",
    "    prob = torch.sigmoid(score)\n",
    "    interaction_prediction_dict[idx_to_book_map[i_idx.item()]] = prob.item()\n"
   ]
  },
  {
   "cell_type": "markdown",
   "metadata": {},
   "source": [
    "Rating classification"
   ]
  },
  {
   "cell_type": "markdown",
   "metadata": {},
   "source": [
    "result should be 'rating_classification_dict' = a dictionary with b_### as keys and star rating as values "
   ]
  },
  {
   "cell_type": "markdown",
   "metadata": {},
   "source": [
    "Combination"
   ]
  },
  {
   "cell_type": "code",
   "execution_count": null,
   "metadata": {},
   "outputs": [],
   "source": [
    "final_score_dict = {}\n",
    "for book_id in interaction_prediction_dict:\n",
    "    final_score_dict[book_id] = interaction_prediction_dict[book_id] * rating_classification_dict[book_id]"
   ]
  },
  {
   "cell_type": "markdown",
   "metadata": {},
   "source": [
    "Extraction"
   ]
  },
  {
   "cell_type": "code",
   "execution_count": null,
   "metadata": {},
   "outputs": [],
   "source": [
    "sorted_items = sorted(rating_classification_dict.items(), key=lambda x: x[1], reverse=True)\n",
    "top_20_keys = [item[0] for item in sorted_items[:20]]\n",
    "top_20_keys"
   ]
  }
 ],
 "metadata": {
  "kernelspec": {
   "display_name": "networkml",
   "language": "python",
   "name": "python3"
  },
  "language_info": {
   "codemirror_mode": {
    "name": "ipython",
    "version": 3
   },
   "file_extension": ".py",
   "mimetype": "text/x-python",
   "name": "python",
   "nbconvert_exporter": "python",
   "pygments_lexer": "ipython3",
   "version": "3.9.19"
  }
 },
 "nbformat": 4,
 "nbformat_minor": 2
}
